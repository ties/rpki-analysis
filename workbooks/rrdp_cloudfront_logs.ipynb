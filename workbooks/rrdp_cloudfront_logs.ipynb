{
 "cells": [
  {
   "cell_type": "markdown",
   "id": "8740d796-5146-4bda-99e3-3001e7c1730c",
   "metadata": {},
   "source": [
    "# Parse CloudFront logs and create RP statistics\n",
    "\n",
    "This workbook provides a sample for working with CloudFront logs from a RRDP repository.\n",
    "\n",
    "The directory containing the logs should be in the `LOG_PATH` environment variable.\n",
    "```\n",
    "$ LOG_PATH=.../logs pipenv run jupyter lab\n",
    "```"
   ]
  },
  {
   "cell_type": "code",
   "execution_count": 1,
   "id": "0dd93a3f-ecf1-4775-97d3-b92b6d673cc4",
   "metadata": {},
   "outputs": [],
   "source": [
    "# Add parent dir to path\n",
    "import os,sys\n",
    "\n",
    "sys.path.insert(0,os.environ['PWD'])"
   ]
  },
  {
   "cell_type": "code",
   "execution_count": 2,
   "id": "7c15b1ae-7c96-4685-b825-c606b9ef6e45",
   "metadata": {},
   "outputs": [
    {
     "data": {
      "text/plain": [
       "RendererRegistry.enable('default')"
      ]
     },
     "execution_count": 2,
     "metadata": {},
     "output_type": "execute_result"
    }
   ],
   "source": [
    "from rpki_analysis.cloudfrontlogs import *\n",
    "from rpki_analysis.rpsoftware import *\n",
    "\n",
    "import altair as alt\n",
    "import numpy as np\n",
    "\n",
    "import datetime\n",
    "\n",
    "import altair_saver\n",
    "alt.renderers.set_embed_options(scaleFactor=2)"
   ]
  },
  {
   "cell_type": "code",
   "execution_count": 3,
   "id": "c19b8da0-56d7-41c8-835d-c7616e2074cb",
   "metadata": {},
   "outputs": [],
   "source": [
    "LOG_PATH = os.environ['LOG_PATH']"
   ]
  },
  {
   "cell_type": "code",
   "execution_count": 4,
   "id": "b656c3b0-e8a8-48f0-bc1c-d5b54a39fdc4",
   "metadata": {},
   "outputs": [],
   "source": [
    "FIELDS = ['datetime', 'c-ip', 'rp_software', 'rp_software_version']\n",
    "\n",
    "def notification_xml_client(df):\n",
    "    df_not = df[df['cs-uri-stem'] == '/notification.xml'].copy()\n",
    "        \n",
    "    df_not['rp_software'] = df_not['cs(User-Agent)'].map(group_clients)\n",
    "    df_not['rp_software_version'] = df_not['cs(User-Agent)'].map(detailed_group_clients)\n",
    "    \n",
    "    return df_not[FIELDS + ['cs-uri-stem']]\\\n",
    "        .groupby([pd.Grouper(key=\"datetime\", freq=\"24h\"), \"c-ip\", \"rp_software\", \"rp_software_version\"])\\\n",
    "        .count()\\\n",
    "        .rename(columns={'cs-uri-stem': 'count'})\\\n",
    "        .reset_index()\n",
    "\n",
    "\n",
    "def second_group(df):\n",
    "    return df.groupby(['datetime', 'c-ip', 'rp_software', 'rp_software_version']).sum().reset_index()"
   ]
  },
  {
   "cell_type": "markdown",
   "id": "1d14946f-b6b6-4867-a504-2620983d5498",
   "metadata": {},
   "source": [
    "Load all logsfiles and summarize their data. This process _will_ take a long time when processing a large amount of logfiles.\n",
    "\n",
    "Data is summarized by grouping twice:\n",
    "  * once per file that is read\n",
    "  * and once when joining files.\n",
    "  \n",
    "This reduces memory usage a lot."
   ]
  },
  {
   "cell_type": "code",
   "execution_count": 5,
   "id": "5b4dce6d-3892-4228-a3a9-bc840eef1907",
   "metadata": {},
   "outputs": [
    {
     "name": "stderr",
     "output_type": "stream",
     "text": [
      "INFO:rpki_analysis.cloudfrontlogs:Read 336/336 files\n",
      "INFO:rpki_analysis.cloudfrontlogs:rows: 229731, columns: 5\n",
      "INFO:rpki_analysis.cloudfrontlogs:Index                     128\n",
      "datetime                17976\n",
      "c-ip                   166159\n",
      "rp_software            149337\n",
      "rp_software_version    148312\n",
      "count                   17976\n",
      "dtype: int64\n",
      "INFO:rpki_analysis.cloudfrontlogs:datetime               datetime64[ns]\n",
      "c-ip                           object\n",
      "rp_software                    object\n",
      "rp_software_version            object\n",
      "count                           int64\n",
      "dtype: object\n"
     ]
    }
   ],
   "source": [
    "df_full = read_from_glob(\n",
    "    [f\"{LOG_PATH}/*/E12X42CFS5M88P.2021-08-01*.gz\"],\n",
    "    ['date', 'time', 'c-ip', 'cs(User-Agent)', 'cs-uri-stem'],\n",
    "    notification_xml_client,\n",
    "    second_group\n",
    ")"
   ]
  },
  {
   "cell_type": "code",
   "execution_count": 6,
   "id": "1fe791c5-82c5-4ad4-86e7-bdb4c8f8c009",
   "metadata": {},
   "outputs": [
    {
     "data": {
      "text/html": [
       "<div>\n",
       "<style scoped>\n",
       "    .dataframe tbody tr th:only-of-type {\n",
       "        vertical-align: middle;\n",
       "    }\n",
       "\n",
       "    .dataframe tbody tr th {\n",
       "        vertical-align: top;\n",
       "    }\n",
       "\n",
       "    .dataframe thead th {\n",
       "        text-align: right;\n",
       "    }\n",
       "</style>\n",
       "<table border=\"1\" class=\"dataframe\">\n",
       "  <thead>\n",
       "    <tr style=\"text-align: right;\">\n",
       "      <th></th>\n",
       "      <th>rp_software</th>\n",
       "      <th>rp_software_version</th>\n",
       "      <th>datetime</th>\n",
       "    </tr>\n",
       "  </thead>\n",
       "  <tbody>\n",
       "    <tr>\n",
       "      <th>0</th>\n",
       "      <td>blackbox-exporter</td>\n",
       "      <td>2.0</td>\n",
       "      <td>1</td>\n",
       "    </tr>\n",
       "    <tr>\n",
       "      <th>1</th>\n",
       "      <td>fort</td>\n",
       "      <td>1.2.0</td>\n",
       "      <td>26</td>\n",
       "    </tr>\n",
       "    <tr>\n",
       "      <th>2</th>\n",
       "      <td>fort</td>\n",
       "      <td>1.2.1</td>\n",
       "      <td>20</td>\n",
       "    </tr>\n",
       "    <tr>\n",
       "      <th>3</th>\n",
       "      <td>fort</td>\n",
       "      <td>1.3.0</td>\n",
       "      <td>5</td>\n",
       "    </tr>\n",
       "    <tr>\n",
       "      <th>4</th>\n",
       "      <td>fort</td>\n",
       "      <td>1.4.0</td>\n",
       "      <td>4</td>\n",
       "    </tr>\n",
       "    <tr>\n",
       "      <th>...</th>\n",
       "      <td>...</td>\n",
       "      <td>...</td>\n",
       "      <td>...</td>\n",
       "    </tr>\n",
       "    <tr>\n",
       "      <th>63</th>\n",
       "      <td>validator3</td>\n",
       "      <td>3.2-2021.03.01.14.58.34</td>\n",
       "      <td>1</td>\n",
       "    </tr>\n",
       "    <tr>\n",
       "      <th>64</th>\n",
       "      <td>validator3</td>\n",
       "      <td>3.2-2021.03.02.15.08</td>\n",
       "      <td>7</td>\n",
       "    </tr>\n",
       "    <tr>\n",
       "      <th>65</th>\n",
       "      <td>validator3</td>\n",
       "      <td>3.2-2021.04.07.12.55</td>\n",
       "      <td>66</td>\n",
       "    </tr>\n",
       "    <tr>\n",
       "      <th>66</th>\n",
       "      <td>validator3</td>\n",
       "      <td>3.2-2021.06.15.05.49.38</td>\n",
       "      <td>1</td>\n",
       "    </tr>\n",
       "    <tr>\n",
       "      <th>67</th>\n",
       "      <td>validator3</td>\n",
       "      <td>unknown</td>\n",
       "      <td>6</td>\n",
       "    </tr>\n",
       "  </tbody>\n",
       "</table>\n",
       "<p>68 rows × 3 columns</p>\n",
       "</div>"
      ],
      "text/plain": [
       "          rp_software      rp_software_version  datetime\n",
       "0   blackbox-exporter                      2.0         1\n",
       "1                fort                    1.2.0        26\n",
       "2                fort                    1.2.1        20\n",
       "3                fort                    1.3.0         5\n",
       "4                fort                    1.4.0         4\n",
       "..                ...                      ...       ...\n",
       "63         validator3  3.2-2021.03.01.14.58.34         1\n",
       "64         validator3     3.2-2021.03.02.15.08         7\n",
       "65         validator3     3.2-2021.04.07.12.55        66\n",
       "66         validator3  3.2-2021.06.15.05.49.38         1\n",
       "67         validator3                  unknown         6\n",
       "\n",
       "[68 rows x 3 columns]"
      ]
     },
     "execution_count": 6,
     "metadata": {},
     "output_type": "execute_result"
    }
   ],
   "source": [
    "# Select one additional column an sacrifice it to be able to `.count()`\n",
    "df_full[['rp_software', 'rp_software_version', 'datetime']]\\\n",
    "    .groupby(['rp_software', 'rp_software_version'])\\\n",
    "    .count()\\\n",
    "    .reset_index()"
   ]
  },
  {
   "cell_type": "markdown",
   "id": "9c5e9362-21f9-4545-8027-4d17d6a12a74",
   "metadata": {},
   "source": [
    "The following code needs a lot of data (for all days in your chart) to work but may get you started with a similar analysis as shared in discord:"
   ]
  },
  {
   "cell_type": "code",
   "execution_count": 7,
   "id": "41d8f494-78cb-480d-bd8e-5605378897d7",
   "metadata": {},
   "outputs": [],
   "source": [
    "def build_charts(df, base_name=None, prefix=\"\", color_range=None):\n",
    "    assert base_name\n",
    "        \n",
    "    for period in [None, 180, 365]:\n",
    "        if period:\n",
    "            then = datetime.datetime.now() - datetime.timedelta(days=period)\n",
    "            period_data = df[df.datetime >= then]\n",
    "            period_title = f\", {period} days\"\n",
    "            period_file_postfix = f\"{period}d\"\n",
    "        else:\n",
    "            period_data  = df\n",
    "            period_title = \"\"\n",
    "            period_file_postfix = \"\"\n",
    "            \n",
    "        overall = alt.Chart(period_data).transform_joinaggregate(\n",
    "            order='sum(c-ip)',\n",
    "            groupby=['rp_software']\n",
    "        ).mark_line().encode(\n",
    "            x=alt.X('datetime:T', axis=alt.Axis(title='Time')),\n",
    "            y=alt.Y(\"c-ip:Q\",\n",
    "              scale=alt.Scale(domain=(0, 1.1*df['c-ip'].max())),\n",
    "              axis=alt.Axis(title='Number of clients')\n",
    "            ),    \n",
    "            color=alt.Color('rp_software:N',\n",
    "              scale=alt.Scale(domain=color_range),\n",
    "              legend=alt.Legend(title='Relying Party implementation')\n",
    "            ),\n",
    "            order=alt.Order('order:Q', sort='descending')\n",
    "        ).properties(\n",
    "            title=f'Number of unique IPs by RP software ({prefix}{period_title})'\n",
    "        )\n",
    "\n",
    "        overall.save(f'outputs/{base_name}-ip-by-rp-{prefix}{period_file_postfix}.png',\n",
    "                     scale_factor=2.0)\n",
    "        overall.save(f'outputs/{base_name}-ip-by-rp-{prefix}{period_file_postfix}.svg')\n",
    "        display(overall)\n",
    "        \n",
    "        # Calculate max/min for area:\n",
    "        df_summed = df.groupby(['datetime']).sum().reset_index()\n",
    "\n",
    "        overall_area = alt.Chart(period_data).transform_joinaggregate(\n",
    "            order='sum(c-ip)',\n",
    "            groupby=['rp_software']\n",
    "        ).mark_area().encode(\n",
    "            x=alt.X('datetime:T', axis=alt.Axis(title='Time')),\n",
    "            y=alt.Y(\"c-ip:Q\",\n",
    "              scale=alt.Scale(domain=(0, 1.1*df_summed['c-ip'].max())),\n",
    "              axis=alt.Axis(title='Number of clients')\n",
    "            ),    \n",
    "            color=alt.Color('rp_software:N',\n",
    "              scale=alt.Scale(domain=color_range),\n",
    "              legend=alt.Legend(title='Relying Party implementation')\n",
    "            ),\n",
    "            order=alt.Order('order:Q', sort='descending')\n",
    "        ).properties(\n",
    "            title=f'Number of unique IPs by RP software ({prefix}{period_title})'\n",
    "        )\n",
    "\n",
    "        overall_area.save(f'outputs/{base_name}-ip-by-rp-area-{prefix}{period_file_postfix}.png',\n",
    "                          scale_factor=2.0)\n",
    "        overall_area.save(f'outputs/{base_name}-ip-by-rp-area-{prefix}{period_file_postfix}.svg')\n",
    "        display(overall_area)"
   ]
  },
  {
   "cell_type": "code",
   "execution_count": 8,
   "id": "024dc259-0015-48f7-9152-07698483ec94",
   "metadata": {},
   "outputs": [
    {
     "data": {
      "text/plain": [
       "['routinator',\n",
       " 'validator3',\n",
       " 'octorpki',\n",
       " 'fort',\n",
       " 'rpki-client',\n",
       " 'unknown',\n",
       " 'rpki-prover',\n",
       " 'rpstir2',\n",
       " 'blackbox-exporter',\n",
       " 'rpki-monitoring',\n",
       " 'validator2']"
      ]
     },
     "metadata": {},
     "output_type": "display_data"
    }
   ],
   "source": [
    "def calc_color_range(df, field='rp_software', last_n_days=90):\n",
    "    if last_n_days is not None and last_n_days > 0:\n",
    "        rel_data = df[df.datetime > datetime.datetime.now() - datetime.timedelta(days=last_n_days)]\n",
    "    else:\n",
    "        LOG.info(\"color range: selecting all data\")\n",
    "        rel_data = df\n",
    "    by_rp = rel_data[[field, 'c-ip', 'datetime']].drop_duplicates().groupby([field]).count().rename(columns={'c-ip': 'count'})\n",
    "\n",
    "    return list(\n",
    "        by_rp.sort_values('count', ascending=False).index\n",
    "    )\n",
    "\n",
    "color_range = calc_color_range(df_full.reset_index(), last_n_days=180)\n",
    "display(color_range)"
   ]
  },
  {
   "cell_type": "code",
   "execution_count": null,
   "id": "03976201-db77-4d51-9d2f-05a6996258d1",
   "metadata": {},
   "outputs": [],
   "source": []
  }
 ],
 "metadata": {
  "kernelspec": {
   "display_name": "Python 3 (ipykernel)",
   "language": "python",
   "name": "python3"
  },
  "language_info": {
   "codemirror_mode": {
    "name": "ipython",
    "version": 3
   },
   "file_extension": ".py",
   "mimetype": "text/x-python",
   "name": "python",
   "nbconvert_exporter": "python",
   "pygments_lexer": "ipython3",
   "version": "3.9.4"
  }
 },
 "nbformat": 4,
 "nbformat_minor": 5
}
