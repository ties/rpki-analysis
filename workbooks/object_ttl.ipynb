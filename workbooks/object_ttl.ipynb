{
 "cells": [
  {
   "cell_type": "markdown",
   "id": "533a5055-bec9-4f67-8e8f-14a361af47ea",
   "metadata": {},
   "source": [
    "Analyse the time to live of RPKI objects by extension"
   ]
  },
  {
   "cell_type": "code",
   "execution_count": 1,
   "id": "4cfcac64-d40c-41d9-882a-2ccec79c407b",
   "metadata": {},
   "outputs": [],
   "source": [
    "from sqlalchemy import create_engine, text\n",
    "\n",
    "import pandas as pd\n",
    "\n",
    "engine = create_engine('postgresql://localhost:5432/delta')\n",
    "\n",
    "with engine.connect() as conn:\n",
    "    df = pd.read_sql_query(text(\"\"\"select split_part(uri, '.', -1) as extension, (disappearedon - visibleon) as lifetime_ms from objects where disappearedon is not null and disappearedon < 1000*EXTRACT(EPOCH FROM NOW());\"\"\"), conn)"
   ]
  },
  {
   "cell_type": "code",
   "execution_count": 40,
   "id": "6a217e95-802d-4ce6-97aa-c80288254b21",
   "metadata": {},
   "outputs": [],
   "source": [
    "df['duration'] = pd.to_timedelta(df.lifetime_ms, unit='ms')\n",
    "filtered = (df.extension != 'tal')\n",
    "df_duration_days = df[filtered].groupby(['extension', pd.Grouper(key='duration', freq=\"1h\")]).count()"
   ]
  },
  {
   "cell_type": "code",
   "execution_count": 72,
   "id": "6693a029-e587-4390-a589-b3385ad964b1",
   "metadata": {},
   "outputs": [],
   "source": [
    "import altair as alt\n",
    "\n",
    "df_viz = df_duration_days.reset_index()\n",
    "df_viz['hours'] = df_viz.duration.dt.total_seconds() / 3600\n",
    "df_viz = df_viz[df_viz.hours < 50]"
   ]
  },
  {
   "cell_type": "code",
   "execution_count": 73,
   "id": "d92715a6-6ce2-421c-b70c-d4d36ebb550f",
   "metadata": {},
   "outputs": [
    {
     "data": {
      "text/html": [
       "\n",
       "<div id=\"altair-viz-42b0b031fb2549fba46b79997c0e7628\"></div>\n",
       "<script type=\"text/javascript\">\n",
       "  var VEGA_DEBUG = (typeof VEGA_DEBUG == \"undefined\") ? {} : VEGA_DEBUG;\n",
       "  (function(spec, embedOpt){\n",
       "    let outputDiv = document.currentScript.previousElementSibling;\n",
       "    if (outputDiv.id !== \"altair-viz-42b0b031fb2549fba46b79997c0e7628\") {\n",
       "      outputDiv = document.getElementById(\"altair-viz-42b0b031fb2549fba46b79997c0e7628\");\n",
       "    }\n",
       "    const paths = {\n",
       "      \"vega\": \"https://cdn.jsdelivr.net/npm//vega@5?noext\",\n",
       "      \"vega-lib\": \"https://cdn.jsdelivr.net/npm//vega-lib?noext\",\n",
       "      \"vega-lite\": \"https://cdn.jsdelivr.net/npm//vega-lite@4.17.0?noext\",\n",
       "      \"vega-embed\": \"https://cdn.jsdelivr.net/npm//vega-embed@6?noext\",\n",
       "    };\n",
       "\n",
       "    function maybeLoadScript(lib, version) {\n",
       "      var key = `${lib.replace(\"-\", \"\")}_version`;\n",
       "      return (VEGA_DEBUG[key] == version) ?\n",
       "        Promise.resolve(paths[lib]) :\n",
       "        new Promise(function(resolve, reject) {\n",
       "          var s = document.createElement('script');\n",
       "          document.getElementsByTagName(\"head\")[0].appendChild(s);\n",
       "          s.async = true;\n",
       "          s.onload = () => {\n",
       "            VEGA_DEBUG[key] = version;\n",
       "            return resolve(paths[lib]);\n",
       "          };\n",
       "          s.onerror = () => reject(`Error loading script: ${paths[lib]}`);\n",
       "          s.src = paths[lib];\n",
       "        });\n",
       "    }\n",
       "\n",
       "    function showError(err) {\n",
       "      outputDiv.innerHTML = `<div class=\"error\" style=\"color:red;\">${err}</div>`;\n",
       "      throw err;\n",
       "    }\n",
       "\n",
       "    function displayChart(vegaEmbed) {\n",
       "      vegaEmbed(outputDiv, spec, embedOpt)\n",
       "        .catch(err => showError(`Javascript Error: ${err.message}<br>This usually means there's a typo in your chart specification. See the javascript console for the full traceback.`));\n",
       "    }\n",
       "\n",
       "    if(typeof define === \"function\" && define.amd) {\n",
       "      requirejs.config({paths});\n",
       "      require([\"vega-embed\"], displayChart, err => showError(`Error loading script: ${err.message}`));\n",
       "    } else {\n",
       "      maybeLoadScript(\"vega\", \"5\")\n",
       "        .then(() => maybeLoadScript(\"vega-lite\", \"4.17.0\"))\n",
       "        .then(() => maybeLoadScript(\"vega-embed\", \"6\"))\n",
       "        .catch(showError)\n",
       "        .then(() => displayChart(vegaEmbed));\n",
       "    }\n",
       "  })({\"config\": {\"view\": {\"continuousWidth\": 400, \"continuousHeight\": 300}}, \"data\": {\"name\": \"data-9e285be1a6051fbc041eb12c0f52b4b2\"}, \"mark\": \"bar\", \"encoding\": {\"color\": {\"field\": \"extension\", \"type\": \"nominal\"}, \"x\": {\"field\": \"hours\", \"type\": \"ordinal\"}, \"y\": {\"field\": \"lifetime_ms\", \"type\": \"quantitative\"}}, \"$schema\": \"https://vega.github.io/schema/vega-lite/v4.17.0.json\", \"datasets\": {\"data-9e285be1a6051fbc041eb12c0f52b4b2\": [{\"hours\": 0.0, \"lifetime_ms\": 248, \"extension\": \"asa\"}, {\"hours\": 1.0, \"lifetime_ms\": 10, \"extension\": \"asa\"}, {\"hours\": 2.0, \"lifetime_ms\": 34, \"extension\": \"asa\"}, {\"hours\": 6.0, \"lifetime_ms\": 1, \"extension\": \"asa\"}, {\"hours\": 7.0, \"lifetime_ms\": 1, \"extension\": \"asa\"}, {\"hours\": 10.0, \"lifetime_ms\": 1, \"extension\": \"asa\"}, {\"hours\": 17.0, \"lifetime_ms\": 1, \"extension\": \"asa\"}, {\"hours\": 23.0, \"lifetime_ms\": 1, \"extension\": \"asa\"}, {\"hours\": 24.0, \"lifetime_ms\": 1, \"extension\": \"asa\"}, {\"hours\": 36.0, \"lifetime_ms\": 1, \"extension\": \"asa\"}, {\"hours\": 40.0, \"lifetime_ms\": 1, \"extension\": \"asa\"}, {\"hours\": 43.0, \"lifetime_ms\": 1, \"extension\": \"asa\"}, {\"hours\": 45.0, \"lifetime_ms\": 1, \"extension\": \"asa\"}, {\"hours\": 0.0, \"lifetime_ms\": 203626, \"extension\": \"cer\"}, {\"hours\": 1.0, \"lifetime_ms\": 7540, \"extension\": \"cer\"}, {\"hours\": 2.0, \"lifetime_ms\": 91, \"extension\": \"cer\"}, {\"hours\": 3.0, \"lifetime_ms\": 4061, \"extension\": \"cer\"}, {\"hours\": 4.0, \"lifetime_ms\": 4119, \"extension\": \"cer\"}, {\"hours\": 5.0, \"lifetime_ms\": 25, \"extension\": \"cer\"}, {\"hours\": 6.0, \"lifetime_ms\": 23, \"extension\": \"cer\"}, {\"hours\": 7.0, \"lifetime_ms\": 23, \"extension\": \"cer\"}, {\"hours\": 8.0, \"lifetime_ms\": 15, \"extension\": \"cer\"}, {\"hours\": 9.0, \"lifetime_ms\": 11, \"extension\": \"cer\"}, {\"hours\": 10.0, \"lifetime_ms\": 18, \"extension\": \"cer\"}, {\"hours\": 11.0, \"lifetime_ms\": 10, \"extension\": \"cer\"}, {\"hours\": 12.0, \"lifetime_ms\": 20, \"extension\": \"cer\"}, {\"hours\": 13.0, \"lifetime_ms\": 4026, \"extension\": \"cer\"}, {\"hours\": 14.0, \"lifetime_ms\": 22, \"extension\": \"cer\"}, {\"hours\": 15.0, \"lifetime_ms\": 13, \"extension\": \"cer\"}, {\"hours\": 16.0, \"lifetime_ms\": 26, \"extension\": \"cer\"}, {\"hours\": 17.0, \"lifetime_ms\": 4158, \"extension\": \"cer\"}, {\"hours\": 18.0, \"lifetime_ms\": 24, \"extension\": \"cer\"}, {\"hours\": 19.0, \"lifetime_ms\": 18, \"extension\": \"cer\"}, {\"hours\": 20.0, \"lifetime_ms\": 4182, \"extension\": \"cer\"}, {\"hours\": 21.0, \"lifetime_ms\": 4158, \"extension\": \"cer\"}, {\"hours\": 22.0, \"lifetime_ms\": 29, \"extension\": \"cer\"}, {\"hours\": 23.0, \"lifetime_ms\": 53, \"extension\": \"cer\"}, {\"hours\": 24.0, \"lifetime_ms\": 4178, \"extension\": \"cer\"}, {\"hours\": 25.0, \"lifetime_ms\": 66, \"extension\": \"cer\"}, {\"hours\": 26.0, \"lifetime_ms\": 31, \"extension\": \"cer\"}, {\"hours\": 27.0, \"lifetime_ms\": 35, \"extension\": \"cer\"}, {\"hours\": 28.0, \"lifetime_ms\": 31, \"extension\": \"cer\"}, {\"hours\": 29.0, \"lifetime_ms\": 15, \"extension\": \"cer\"}, {\"hours\": 30.0, \"lifetime_ms\": 12, \"extension\": \"cer\"}, {\"hours\": 31.0, \"lifetime_ms\": 11, \"extension\": \"cer\"}, {\"hours\": 32.0, \"lifetime_ms\": 16, \"extension\": \"cer\"}, {\"hours\": 33.0, \"lifetime_ms\": 4148, \"extension\": \"cer\"}, {\"hours\": 34.0, \"lifetime_ms\": 8, \"extension\": \"cer\"}, {\"hours\": 35.0, \"lifetime_ms\": 4, \"extension\": \"cer\"}, {\"hours\": 36.0, \"lifetime_ms\": 10, \"extension\": \"cer\"}, {\"hours\": 37.0, \"lifetime_ms\": 6, \"extension\": \"cer\"}, {\"hours\": 38.0, \"lifetime_ms\": 11, \"extension\": \"cer\"}, {\"hours\": 39.0, \"lifetime_ms\": 8, \"extension\": \"cer\"}, {\"hours\": 40.0, \"lifetime_ms\": 6, \"extension\": \"cer\"}, {\"hours\": 41.0, \"lifetime_ms\": 8, \"extension\": \"cer\"}, {\"hours\": 42.0, \"lifetime_ms\": 20, \"extension\": \"cer\"}, {\"hours\": 43.0, \"lifetime_ms\": 4130, \"extension\": \"cer\"}, {\"hours\": 44.0, \"lifetime_ms\": 15, \"extension\": \"cer\"}, {\"hours\": 45.0, \"lifetime_ms\": 13, \"extension\": \"cer\"}, {\"hours\": 46.0, \"lifetime_ms\": 17, \"extension\": \"cer\"}, {\"hours\": 47.0, \"lifetime_ms\": 44, \"extension\": \"cer\"}, {\"hours\": 48.0, \"lifetime_ms\": 34, \"extension\": \"cer\"}, {\"hours\": 49.0, \"lifetime_ms\": 22, \"extension\": \"cer\"}, {\"hours\": 0.0, \"lifetime_ms\": 288627, \"extension\": \"crl\"}, {\"hours\": 1.0, \"lifetime_ms\": 32865, \"extension\": \"crl\"}, {\"hours\": 2.0, \"lifetime_ms\": 29185, \"extension\": \"crl\"}, {\"hours\": 3.0, \"lifetime_ms\": 25776, \"extension\": \"crl\"}, {\"hours\": 4.0, \"lifetime_ms\": 40756, \"extension\": \"crl\"}, {\"hours\": 5.0, \"lifetime_ms\": 27522, \"extension\": \"crl\"}, {\"hours\": 6.0, \"lifetime_ms\": 30915, \"extension\": \"crl\"}, {\"hours\": 7.0, \"lifetime_ms\": 22321, \"extension\": \"crl\"}, {\"hours\": 8.0, \"lifetime_ms\": 1239215, \"extension\": \"crl\"}, {\"hours\": 9.0, \"lifetime_ms\": 1285774, \"extension\": \"crl\"}, {\"hours\": 10.0, \"lifetime_ms\": 130833, \"extension\": \"crl\"}, {\"hours\": 11.0, \"lifetime_ms\": 69950, \"extension\": \"crl\"}, {\"hours\": 12.0, \"lifetime_ms\": 5687, \"extension\": \"crl\"}, {\"hours\": 13.0, \"lifetime_ms\": 5291, \"extension\": \"crl\"}, {\"hours\": 14.0, \"lifetime_ms\": 3891, \"extension\": \"crl\"}, {\"hours\": 15.0, \"lifetime_ms\": 11105, \"extension\": \"crl\"}, {\"hours\": 16.0, \"lifetime_ms\": 49331, \"extension\": \"crl\"}, {\"hours\": 17.0, \"lifetime_ms\": 36625, \"extension\": \"crl\"}, {\"hours\": 18.0, \"lifetime_ms\": 35116, \"extension\": \"crl\"}, {\"hours\": 19.0, \"lifetime_ms\": 34662, \"extension\": \"crl\"}, {\"hours\": 20.0, \"lifetime_ms\": 2700, \"extension\": \"crl\"}, {\"hours\": 21.0, \"lifetime_ms\": 1349, \"extension\": \"crl\"}, {\"hours\": 22.0, \"lifetime_ms\": 1565, \"extension\": \"crl\"}, {\"hours\": 23.0, \"lifetime_ms\": 117066, \"extension\": \"crl\"}, {\"hours\": 24.0, \"lifetime_ms\": 126643, \"extension\": \"crl\"}, {\"hours\": 25.0, \"lifetime_ms\": 271, \"extension\": \"crl\"}, {\"hours\": 26.0, \"lifetime_ms\": 286, \"extension\": \"crl\"}, {\"hours\": 27.0, \"lifetime_ms\": 554, \"extension\": \"crl\"}, {\"hours\": 28.0, \"lifetime_ms\": 676, \"extension\": \"crl\"}, {\"hours\": 29.0, \"lifetime_ms\": 732, \"extension\": \"crl\"}, {\"hours\": 30.0, \"lifetime_ms\": 1482, \"extension\": \"crl\"}, {\"hours\": 31.0, \"lifetime_ms\": 592, \"extension\": \"crl\"}, {\"hours\": 32.0, \"lifetime_ms\": 736, \"extension\": \"crl\"}, {\"hours\": 33.0, \"lifetime_ms\": 541, \"extension\": \"crl\"}, {\"hours\": 34.0, \"lifetime_ms\": 774, \"extension\": \"crl\"}, {\"hours\": 35.0, \"lifetime_ms\": 2723, \"extension\": \"crl\"}, {\"hours\": 36.0, \"lifetime_ms\": 7160, \"extension\": \"crl\"}, {\"hours\": 37.0, \"lifetime_ms\": 561, \"extension\": \"crl\"}, {\"hours\": 38.0, \"lifetime_ms\": 540, \"extension\": \"crl\"}, {\"hours\": 39.0, \"lifetime_ms\": 519, \"extension\": \"crl\"}, {\"hours\": 40.0, \"lifetime_ms\": 536, \"extension\": \"crl\"}, {\"hours\": 41.0, \"lifetime_ms\": 543, \"extension\": \"crl\"}, {\"hours\": 42.0, \"lifetime_ms\": 514, \"extension\": \"crl\"}, {\"hours\": 43.0, \"lifetime_ms\": 515, \"extension\": \"crl\"}, {\"hours\": 44.0, \"lifetime_ms\": 405, \"extension\": \"crl\"}, {\"hours\": 45.0, \"lifetime_ms\": 139, \"extension\": \"crl\"}, {\"hours\": 46.0, \"lifetime_ms\": 131, \"extension\": \"crl\"}, {\"hours\": 47.0, \"lifetime_ms\": 76424, \"extension\": \"crl\"}, {\"hours\": 48.0, \"lifetime_ms\": 70823, \"extension\": \"crl\"}, {\"hours\": 49.0, \"lifetime_ms\": 2183, \"extension\": \"crl\"}, {\"hours\": 0.0, \"lifetime_ms\": 28, \"extension\": \"gbr\"}, {\"hours\": 1.0, \"lifetime_ms\": 3, \"extension\": \"gbr\"}, {\"hours\": 0.0, \"lifetime_ms\": 310983, \"extension\": \"mft\"}, {\"hours\": 1.0, \"lifetime_ms\": 32851, \"extension\": \"mft\"}, {\"hours\": 2.0, \"lifetime_ms\": 29186, \"extension\": \"mft\"}, {\"hours\": 3.0, \"lifetime_ms\": 25783, \"extension\": \"mft\"}, {\"hours\": 4.0, \"lifetime_ms\": 40764, \"extension\": \"mft\"}, {\"hours\": 5.0, \"lifetime_ms\": 27529, \"extension\": \"mft\"}, {\"hours\": 6.0, \"lifetime_ms\": 30918, \"extension\": \"mft\"}, {\"hours\": 7.0, \"lifetime_ms\": 22320, \"extension\": \"mft\"}, {\"hours\": 8.0, \"lifetime_ms\": 1239215, \"extension\": \"mft\"}, {\"hours\": 9.0, \"lifetime_ms\": 1285775, \"extension\": \"mft\"}, {\"hours\": 10.0, \"lifetime_ms\": 130834, \"extension\": \"mft\"}, {\"hours\": 11.0, \"lifetime_ms\": 69951, \"extension\": \"mft\"}, {\"hours\": 12.0, \"lifetime_ms\": 5687, \"extension\": \"mft\"}, {\"hours\": 13.0, \"lifetime_ms\": 5292, \"extension\": \"mft\"}, {\"hours\": 14.0, \"lifetime_ms\": 3891, \"extension\": \"mft\"}, {\"hours\": 15.0, \"lifetime_ms\": 11105, \"extension\": \"mft\"}, {\"hours\": 16.0, \"lifetime_ms\": 49335, \"extension\": \"mft\"}, {\"hours\": 17.0, \"lifetime_ms\": 36626, \"extension\": \"mft\"}, {\"hours\": 18.0, \"lifetime_ms\": 35122, \"extension\": \"mft\"}, {\"hours\": 19.0, \"lifetime_ms\": 34662, \"extension\": \"mft\"}, {\"hours\": 20.0, \"lifetime_ms\": 2704, \"extension\": \"mft\"}, {\"hours\": 21.0, \"lifetime_ms\": 1349, \"extension\": \"mft\"}, {\"hours\": 22.0, \"lifetime_ms\": 1565, \"extension\": \"mft\"}, {\"hours\": 23.0, \"lifetime_ms\": 117059, \"extension\": \"mft\"}, {\"hours\": 24.0, \"lifetime_ms\": 126634, \"extension\": \"mft\"}, {\"hours\": 25.0, \"lifetime_ms\": 271, \"extension\": \"mft\"}, {\"hours\": 26.0, \"lifetime_ms\": 286, \"extension\": \"mft\"}, {\"hours\": 27.0, \"lifetime_ms\": 554, \"extension\": \"mft\"}, {\"hours\": 28.0, \"lifetime_ms\": 676, \"extension\": \"mft\"}, {\"hours\": 29.0, \"lifetime_ms\": 734, \"extension\": \"mft\"}, {\"hours\": 30.0, \"lifetime_ms\": 1482, \"extension\": \"mft\"}, {\"hours\": 31.0, \"lifetime_ms\": 592, \"extension\": \"mft\"}, {\"hours\": 32.0, \"lifetime_ms\": 736, \"extension\": \"mft\"}, {\"hours\": 33.0, \"lifetime_ms\": 541, \"extension\": \"mft\"}, {\"hours\": 34.0, \"lifetime_ms\": 774, \"extension\": \"mft\"}, {\"hours\": 35.0, \"lifetime_ms\": 2723, \"extension\": \"mft\"}, {\"hours\": 36.0, \"lifetime_ms\": 7160, \"extension\": \"mft\"}, {\"hours\": 37.0, \"lifetime_ms\": 561, \"extension\": \"mft\"}, {\"hours\": 38.0, \"lifetime_ms\": 540, \"extension\": \"mft\"}, {\"hours\": 39.0, \"lifetime_ms\": 519, \"extension\": \"mft\"}, {\"hours\": 40.0, \"lifetime_ms\": 536, \"extension\": \"mft\"}, {\"hours\": 41.0, \"lifetime_ms\": 543, \"extension\": \"mft\"}, {\"hours\": 42.0, \"lifetime_ms\": 514, \"extension\": \"mft\"}, {\"hours\": 43.0, \"lifetime_ms\": 515, \"extension\": \"mft\"}, {\"hours\": 44.0, \"lifetime_ms\": 406, \"extension\": \"mft\"}, {\"hours\": 45.0, \"lifetime_ms\": 139, \"extension\": \"mft\"}, {\"hours\": 46.0, \"lifetime_ms\": 131, \"extension\": \"mft\"}, {\"hours\": 47.0, \"lifetime_ms\": 76424, \"extension\": \"mft\"}, {\"hours\": 48.0, \"lifetime_ms\": 70823, \"extension\": \"mft\"}, {\"hours\": 49.0, \"lifetime_ms\": 2183, \"extension\": \"mft\"}, {\"hours\": 0.0, \"lifetime_ms\": 795664, \"extension\": \"roa\"}, {\"hours\": 1.0, \"lifetime_ms\": 58712, \"extension\": \"roa\"}, {\"hours\": 2.0, \"lifetime_ms\": 4859, \"extension\": \"roa\"}, {\"hours\": 3.0, \"lifetime_ms\": 6362, \"extension\": \"roa\"}, {\"hours\": 4.0, \"lifetime_ms\": 6591, \"extension\": \"roa\"}, {\"hours\": 5.0, \"lifetime_ms\": 320, \"extension\": \"roa\"}, {\"hours\": 6.0, \"lifetime_ms\": 298, \"extension\": \"roa\"}, {\"hours\": 7.0, \"lifetime_ms\": 348, \"extension\": \"roa\"}, {\"hours\": 8.0, \"lifetime_ms\": 227, \"extension\": \"roa\"}, {\"hours\": 9.0, \"lifetime_ms\": 288, \"extension\": \"roa\"}, {\"hours\": 10.0, \"lifetime_ms\": 271, \"extension\": \"roa\"}, {\"hours\": 11.0, \"lifetime_ms\": 198, \"extension\": \"roa\"}, {\"hours\": 12.0, \"lifetime_ms\": 5643, \"extension\": \"roa\"}, {\"hours\": 13.0, \"lifetime_ms\": 6537, \"extension\": \"roa\"}, {\"hours\": 14.0, \"lifetime_ms\": 229, \"extension\": \"roa\"}, {\"hours\": 15.0, \"lifetime_ms\": 384, \"extension\": \"roa\"}, {\"hours\": 16.0, \"lifetime_ms\": 339, \"extension\": \"roa\"}, {\"hours\": 17.0, \"lifetime_ms\": 6374, \"extension\": \"roa\"}, {\"hours\": 18.0, \"lifetime_ms\": 245, \"extension\": \"roa\"}, {\"hours\": 19.0, \"lifetime_ms\": 116, \"extension\": \"roa\"}, {\"hours\": 20.0, \"lifetime_ms\": 6375, \"extension\": \"roa\"}, {\"hours\": 21.0, \"lifetime_ms\": 6303, \"extension\": \"roa\"}, {\"hours\": 22.0, \"lifetime_ms\": 115, \"extension\": \"roa\"}, {\"hours\": 23.0, \"lifetime_ms\": 140, \"extension\": \"roa\"}, {\"hours\": 24.0, \"lifetime_ms\": 6701, \"extension\": \"roa\"}, {\"hours\": 25.0, \"lifetime_ms\": 158, \"extension\": \"roa\"}, {\"hours\": 26.0, \"lifetime_ms\": 302, \"extension\": \"roa\"}, {\"hours\": 27.0, \"lifetime_ms\": 173, \"extension\": \"roa\"}, {\"hours\": 28.0, \"lifetime_ms\": 116, \"extension\": \"roa\"}, {\"hours\": 29.0, \"lifetime_ms\": 74, \"extension\": \"roa\"}, {\"hours\": 30.0, \"lifetime_ms\": 71, \"extension\": \"roa\"}, {\"hours\": 31.0, \"lifetime_ms\": 79, \"extension\": \"roa\"}, {\"hours\": 32.0, \"lifetime_ms\": 101, \"extension\": \"roa\"}, {\"hours\": 33.0, \"lifetime_ms\": 6278, \"extension\": \"roa\"}, {\"hours\": 34.0, \"lifetime_ms\": 339, \"extension\": \"roa\"}, {\"hours\": 35.0, \"lifetime_ms\": 37, \"extension\": \"roa\"}, {\"hours\": 36.0, \"lifetime_ms\": 146, \"extension\": \"roa\"}, {\"hours\": 37.0, \"lifetime_ms\": 491, \"extension\": \"roa\"}, {\"hours\": 38.0, \"lifetime_ms\": 181, \"extension\": \"roa\"}, {\"hours\": 39.0, \"lifetime_ms\": 41, \"extension\": \"roa\"}, {\"hours\": 40.0, \"lifetime_ms\": 27, \"extension\": \"roa\"}, {\"hours\": 41.0, \"lifetime_ms\": 59, \"extension\": \"roa\"}, {\"hours\": 42.0, \"lifetime_ms\": 43, \"extension\": \"roa\"}, {\"hours\": 43.0, \"lifetime_ms\": 6220, \"extension\": \"roa\"}, {\"hours\": 44.0, \"lifetime_ms\": 42, \"extension\": \"roa\"}, {\"hours\": 45.0, \"lifetime_ms\": 67, \"extension\": \"roa\"}, {\"hours\": 46.0, \"lifetime_ms\": 49, \"extension\": \"roa\"}, {\"hours\": 47.0, \"lifetime_ms\": 78, \"extension\": \"roa\"}, {\"hours\": 48.0, \"lifetime_ms\": 362, \"extension\": \"roa\"}, {\"hours\": 49.0, \"lifetime_ms\": 118, \"extension\": \"roa\"}, {\"hours\": 0.0, \"lifetime_ms\": 3, \"extension\": \"spl\"}]}}, {\"mode\": \"vega-lite\"});\n",
       "</script>"
      ],
      "text/plain": [
       "alt.Chart(...)"
      ]
     },
     "execution_count": 73,
     "metadata": {},
     "output_type": "execute_result"
    }
   ],
   "source": [
    "\n",
    "\n",
    "alt.Chart(df_viz[['hours', 'lifetime_ms', 'extension']]).mark_bar().encode(\n",
    "    x=alt.X('hours:O'),\n",
    "    y=alt.Y('lifetime_ms:Q'),\n",
    "    color='extension:N',\n",
    ")"
   ]
  },
  {
   "cell_type": "code",
   "execution_count": 34,
   "id": "f2527da1-9dee-488c-8f54-c1437c0a0c87",
   "metadata": {},
   "outputs": [],
   "source": [
    "s =alt.Y('lifetime_ms')\n"
   ]
  },
  {
   "cell_type": "code",
   "execution_count": 36,
   "id": "5d790dab-1cef-4e4e-8122-4172c6e3d0cf",
   "metadata": {},
   "outputs": [
    {
     "data": {
      "text/plain": [
       "Undefined"
      ]
     },
     "execution_count": 36,
     "metadata": {},
     "output_type": "execute_result"
    }
   ],
   "source": []
  },
  {
   "cell_type": "code",
   "execution_count": null,
   "id": "59175295-31b7-4c9d-bb2e-8d6f7dbf5592",
   "metadata": {},
   "outputs": [],
   "source": []
  }
 ],
 "metadata": {
  "kernelspec": {
   "display_name": "Python 3 (ipykernel)",
   "language": "python",
   "name": "python3"
  },
  "language_info": {
   "codemirror_mode": {
    "name": "ipython",
    "version": 3
   },
   "file_extension": ".py",
   "mimetype": "text/x-python",
   "name": "python",
   "nbconvert_exporter": "python",
   "pygments_lexer": "ipython3",
   "version": "3.12.3"
  }
 },
 "nbformat": 4,
 "nbformat_minor": 5
}
