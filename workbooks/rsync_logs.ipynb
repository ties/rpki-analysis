{
 "cells": [
  {
   "cell_type": "code",
   "execution_count": 1,
   "id": "e8dd9aa9",
   "metadata": {},
   "outputs": [],
   "source": [
    "from pathlib import Path\n",
    "\n",
    "import pandas as pd\n",
    "import altair as alt\n",
    "\n",
    "import netaddr"
   ]
  },
  {
   "cell_type": "code",
   "execution_count": 2,
   "id": "b253c2e0",
   "metadata": {},
   "outputs": [],
   "source": [
    "from os import access, R_OK\n",
    "from os.path import isfile\n",
    "from io import StringIO\n",
    "import geohash2\n",
    "import logging\n",
    "from geolite2 import geolite2\n",
    "import re\n",
    "from typing import List, Dict, Union\n",
    "from hashlib import sha256\n",
    "from base64 import b64encode\n",
    "\n",
    "import datetime\n",
    "\n",
    "Event = Dict[str,Union[str, Dict]]\n",
    "\n",
    "LOG = logging.getLogger('rsyncstats')\n",
    "LOG.setLevel(logging.INFO)\n",
    "# create console handler and set level to debug\n",
    "ch = logging.StreamHandler()\n",
    "ch.setLevel(logging.INFO)\n",
    "\n",
    "# create formatter\n",
    "formatter = logging.Formatter('%(asctime)s - %(name)s - %(levelname)s - %(message)s')\n",
    "\n",
    "# add formatter to ch\n",
    "ch.setFormatter(formatter)\n",
    "\n",
    "# add ch to logger\n",
    "LOG.addHandler(ch)"
   ]
  },
  {
   "cell_type": "code",
   "execution_count": 3,
   "id": "abe38cee",
   "metadata": {},
   "outputs": [],
   "source": [
    "\"\"\"\n",
    "Derived from the rsyncstats package [0], whose regex did not work with our rsync logs.\n",
    "\n",
    "[0]: https://gitlab.com/resif/rsyncstats/-/tree/master\n",
    "\"\"\"\n",
    "def iterable_log(data: str):\n",
    "    \"\"\"\n",
    "    Generator to iterate over lines in file or in string.\n",
    "    Very nice.\n",
    "    \"\"\"\n",
    "    if isfile(data) and access(data, R_OK):\n",
    "        with open(data,'r') as loglines:\n",
    "            for logline in loglines:\n",
    "                yield logline.strip()\n",
    "    else:\n",
    "       # Consider data is the log lines to analyse\n",
    "       for logline in data.split(\"\\n\"):\n",
    "           yield logline\n",
    "\n",
    "GLOBAL_PATTERN = re.compile(r'(?P<timestamp>20[0-9][0-9]/[0-9/]+ [012][0-9]:[0-5][0-9]:[0-5][0-9]) \\[(?P<pid>[0-9]+)\\] (?P<logtype>(rsync (to|on)|sent)) ((?P<sentbytes>[0-9]+) bytes\\s+received (?P<receivedbytes>[0-9]+) bytes\\s+total size (?P<totalbytes>[0-9]+)|(?P<module>[-\\w_]+)(?P<directory>\\/\\S*) from (?P<hostname>\\S+) \\((?P<clientip>\\S+)\\))')\n",
    "        \n",
    "        \n",
    "def parse_log(lines: str) -> List[Event]:\n",
    "    \"\"\"\n",
    "    Read a rsync log file and parses information.\n",
    "    Returns a list of events (dictionary)\n",
    "    \"\"\"\n",
    "    fail_count = 0\n",
    "    georeader = geolite2.reader()\n",
    "    events = []\n",
    "    events_buffer = {} # dict of events started but not ended. Key is the PID\n",
    "    linecount = 0\n",
    "\n",
    "    for log in lines:\n",
    "        linecount +=1\n",
    "        event = GLOBAL_PATTERN.search(log)\n",
    "        if event == None:\n",
    "            fail_count += 1\n",
    "            LOG.debug(\"Ignoring log at %d : %s\"%(linecount, log))\n",
    "            if LOG.isEnabledFor(logging.DEBUG) and fail_count > 10:\n",
    "                LOG.error(\"Aborting due to failed lines.\")\n",
    "                return\n",
    "            continue\n",
    "        event_data = event.groupdict()\n",
    "        # store time as epoch\n",
    "        event_data['timestamp'] = datetime.datetime.strptime(re.sub(' +', ' ', event_data['timestamp']), '%Y/%m/%d %H:%M:%S').strftime('%Y-%m-%d %H:%M:%S')\n",
    "        # 2 possible logs are captured by the pattern : connection log and transfer log.\n",
    "        if event_data['logtype'] == 'rsync to' or event_data['logtype'] == 'rsync on':\n",
    "            location = georeader.get(event_data['clientip'])\n",
    "            # hash location and get the city name\n",
    "            if location != None and 'location' in location:\n",
    "                event_data['geohash'] = geohash2.encode(location['location']['latitude'], location['location']['longitude'])\n",
    "                try:\n",
    "                    event_data['city'] = location['city']['names']['en']\n",
    "                except KeyError:\n",
    "                    event_data['city'] = ''\n",
    "            else:\n",
    "                event_data['geohash'] = 'u0h0fpnzj9ft'\n",
    "                event_data['city'] = 'Grenoble'\n",
    "            # hash hostname\n",
    "            event_data['hosthash'] = b64encode(sha256(event_data['hostname'].encode()).digest())[:12].decode('utf-8') # overcomplicated oneliner to hash the hostname\n",
    "            LOG.debug(\"Storing event in buffer (pid %s)\"%(event_data['pid']))\n",
    "            event_data = {k:event_data[k] for k in event_data if event_data[k] != None}\n",
    "            events_buffer[event_data['pid']] = event_data\n",
    "            LOG.debug(event_data)\n",
    "        elif event_data['logtype'] == 'sent':\n",
    "            event_data['endtime'] = event_data['timestamp']\n",
    "            # get the data from the events_buffer and merge with what we have\n",
    "            try:\n",
    "                previous_data = events_buffer.pop(event_data['pid'])\n",
    "                events.append({ **event_data, **previous_data })\n",
    "            except KeyError as e:\n",
    "                LOG.debug(\"Event will not be accounted : \"+str(event_data))\n",
    "    return(events)\n",
    "\n"
   ]
  },
  {
   "cell_type": "code",
   "execution_count": 4,
   "id": "4908f421",
   "metadata": {},
   "outputs": [],
   "source": [
    "rsync_logs = list(Path('../logs/rsync').glob(\"*/rsync*\"))"
   ]
  },
  {
   "cell_type": "code",
   "execution_count": 5,
   "id": "338b8d82",
   "metadata": {},
   "outputs": [],
   "source": [
    "# Do not print logs in a public workbook\n",
    "#rsync_logs[0].open().readlines()[0:10]"
   ]
  },
  {
   "cell_type": "code",
   "execution_count": 6,
   "id": "7188c392",
   "metadata": {},
   "outputs": [],
   "source": [
    "def blind_mask(ip) -> str:\n",
    "    addr = netaddr.IPAddress(ip)\n",
    "    if addr.version == 4:\n",
    "        return addr & netaddr.IPAddress('255.255.255.0')\n",
    "    if addr.version == 6:\n",
    "        return addr & netaddr.IPAddress('FFFF:FFFF:FFFF:FFFF::')\n",
    "\n",
    "def parse_all_logs():\n",
    "    rsync_logs = list(Path('../logs/rsync').glob(\"*/rsync*\"))\n",
    "    \n",
    "    dfs = []\n",
    "    for file in rsync_logs:\n",
    "        LOG.info(\"Reading %s\", file)\n",
    "        dfs.append(pd.DataFrame(parse_log(file.open().readlines())))\n",
    "        \n",
    "    df = pd.concat(dfs)\n",
    "    df.timestamp = pd.to_datetime(df.timestamp)\n",
    "    df.totalbytes = df.totalbytes.astype(int)\n",
    "    df.sentbytes = df.sentbytes.astype(int)\n",
    "    df.receivedbytes = df.receivedbytes.astype(int)\n",
    "    \n",
    "    df['date'] = df.timestamp.dt.date\n",
    "    df['masked_clientip'] = df.clientip.map(blind_mask)\n",
    "    return df"
   ]
  },
  {
   "cell_type": "code",
   "execution_count": null,
   "id": "9187bcf1",
   "metadata": {},
   "outputs": [],
   "source": []
  },
  {
   "cell_type": "code",
   "execution_count": 7,
   "id": "f0cad49b",
   "metadata": {},
   "outputs": [
    {
     "name": "stderr",
     "output_type": "stream",
     "text": [
      "2021-04-14 15:27:22,814 - rsyncstats - INFO - Reading ../logs/rsync/rsync-1/rsyncd.log\n"
     ]
    }
   ],
   "source": [
    "df = parse_all_logs()"
   ]
  },
  {
   "cell_type": "code",
   "execution_count": 8,
   "id": "6b6c6c3e",
   "metadata": {},
   "outputs": [
    {
     "data": {
      "text/plain": [
       "(11248, 16)"
      ]
     },
     "execution_count": 8,
     "metadata": {},
     "output_type": "execute_result"
    }
   ],
   "source": [
    "df.shape"
   ]
  },
  {
   "cell_type": "markdown",
   "id": "2b797513-dd2e-4a15-bb5d-94b41abc7793",
   "metadata": {},
   "source": [
    "# Note that this assumes logfiles are available for the dates in the code!\n",
    "\n",
    "Furthermore: You likely want to group by a longer period than 1h."
   ]
  },
  {
   "cell_type": "code",
   "execution_count": 9,
   "id": "6b21808d",
   "metadata": {},
   "outputs": [],
   "source": [
    "by_ip = df[['timestamp', 'module', 'clientip']].drop_duplicates().groupby([pd.Grouper(key=\"timestamp\", freq=\"1H\"), 'module']).count().rename(columns={'clientip': 'unique_ips'})\n",
    "\n",
    "by_mask = df[['timestamp', 'module', 'masked_clientip']].drop_duplicates().groupby([pd.Grouper(key=\"timestamp\", freq=\"1H\"), 'module']).count().rename(columns={'masked_clientip': 'per_24_or_64'})\n",
    "\n",
    "ips_by_date = pd.concat([by_ip, by_mask], axis=1).reset_index()"
   ]
  },
  {
   "cell_type": "code",
   "execution_count": 10,
   "id": "901ccb6f",
   "metadata": {},
   "outputs": [],
   "source": [
    "def stats_by_week(df):\n",
    "    LOG.info(\"This may be broken because it's mid-refactor between date and timestamp\")\n",
    "    first_week = ((df.timestamp >= datetime.datetime(year=2021, month=3, day=26)) & (df.timestamp < datetime.datetime(year=2021, month=4, day=2)))\n",
    "    last_week = ((df.timestamp >= datetime.datetime(year=2021, month=4, day=2)) & (df.timestamp < datetime.datetime(year=2021, month=4, day=9)))\n",
    "    \n",
    "    display(df[first_week].groupby(['module']).mean())\n",
    "    display(df[last_week].groupby(['module']).mean())"
   ]
  },
  {
   "cell_type": "code",
   "execution_count": 11,
   "id": "da643391",
   "metadata": {},
   "outputs": [
    {
     "name": "stderr",
     "output_type": "stream",
     "text": [
      "2021-04-14 15:27:27,185 - rsyncstats - INFO - This may be broken because it's mid-refactor between date and timestamp\n"
     ]
    },
    {
     "data": {
      "text/html": [
       "<div>\n",
       "<style scoped>\n",
       "    .dataframe tbody tr th:only-of-type {\n",
       "        vertical-align: middle;\n",
       "    }\n",
       "\n",
       "    .dataframe tbody tr th {\n",
       "        vertical-align: top;\n",
       "    }\n",
       "\n",
       "    .dataframe thead th {\n",
       "        text-align: right;\n",
       "    }\n",
       "</style>\n",
       "<table border=\"1\" class=\"dataframe\">\n",
       "  <thead>\n",
       "    <tr style=\"text-align: right;\">\n",
       "      <th></th>\n",
       "      <th>unique_ips</th>\n",
       "      <th>per_24_or_64</th>\n",
       "    </tr>\n",
       "    <tr>\n",
       "      <th>module</th>\n",
       "      <th></th>\n",
       "      <th></th>\n",
       "    </tr>\n",
       "  </thead>\n",
       "  <tbody>\n",
       "  </tbody>\n",
       "</table>\n",
       "</div>"
      ],
      "text/plain": [
       "Empty DataFrame\n",
       "Columns: [unique_ips, per_24_or_64]\n",
       "Index: []"
      ]
     },
     "metadata": {},
     "output_type": "display_data"
    },
    {
     "data": {
      "text/html": [
       "<div>\n",
       "<style scoped>\n",
       "    .dataframe tbody tr th:only-of-type {\n",
       "        vertical-align: middle;\n",
       "    }\n",
       "\n",
       "    .dataframe tbody tr th {\n",
       "        vertical-align: top;\n",
       "    }\n",
       "\n",
       "    .dataframe thead th {\n",
       "        text-align: right;\n",
       "    }\n",
       "</style>\n",
       "<table border=\"1\" class=\"dataframe\">\n",
       "  <thead>\n",
       "    <tr style=\"text-align: right;\">\n",
       "      <th></th>\n",
       "      <th>unique_ips</th>\n",
       "      <th>per_24_or_64</th>\n",
       "    </tr>\n",
       "    <tr>\n",
       "      <th>module</th>\n",
       "      <th></th>\n",
       "      <th></th>\n",
       "    </tr>\n",
       "  </thead>\n",
       "  <tbody>\n",
       "  </tbody>\n",
       "</table>\n",
       "</div>"
      ],
      "text/plain": [
       "Empty DataFrame\n",
       "Columns: [unique_ips, per_24_or_64]\n",
       "Index: []"
      ]
     },
     "metadata": {},
     "output_type": "display_data"
    }
   ],
   "source": [
    "stats_by_week(ips_by_date)"
   ]
  },
  {
   "cell_type": "markdown",
   "id": "5be95dbf",
   "metadata": {},
   "source": [
    "Because of the structure of our repository we can split out clients connecting over rsync to retrieve the trust anchor from those connecting to the main repository.\n",
    "\n",
    "We do see a change on the 2nd of April so I'm providing data both for the week before and after this date.\n",
    "\n",
    "In the week leading up to the 2nd of april, on average per dag we see:\n",
    "  * 192 unique IPs (from 182 /24's/64's) creating 8636 connections to /repository\n",
    "  * 911 unique IPs (from 721 /24's/64's) creating 81855 connections to /ta\n",
    "In the week starting on the 2nd of april on average per day we see:\n",
    "  * 598 unique IPs (from 582 /24's/64's) creating 17594 connections to /repository\n",
    "  * 1301 unique IPs (from 1114 /24's/64's) creating 89675 connections to /ta\n",
    "  \n",
    "We see ~1086 unique IPs accessing the TA certificate over HTTPS per day."
   ]
  },
  {
   "cell_type": "code",
   "execution_count": 12,
   "id": "02ce25e3",
   "metadata": {},
   "outputs": [
    {
     "name": "stderr",
     "output_type": "stream",
     "text": [
      "2021-04-14 15:27:27,215 - rsyncstats - INFO - This may be broken because it's mid-refactor between date and timestamp\n"
     ]
    },
    {
     "data": {
      "text/html": [
       "<div>\n",
       "<style scoped>\n",
       "    .dataframe tbody tr th:only-of-type {\n",
       "        vertical-align: middle;\n",
       "    }\n",
       "\n",
       "    .dataframe tbody tr th {\n",
       "        vertical-align: top;\n",
       "    }\n",
       "\n",
       "    .dataframe thead th {\n",
       "        text-align: right;\n",
       "    }\n",
       "</style>\n",
       "<table border=\"1\" class=\"dataframe\">\n",
       "  <thead>\n",
       "    <tr style=\"text-align: right;\">\n",
       "      <th></th>\n",
       "      <th>clientip</th>\n",
       "    </tr>\n",
       "    <tr>\n",
       "      <th>module</th>\n",
       "      <th></th>\n",
       "    </tr>\n",
       "  </thead>\n",
       "  <tbody>\n",
       "  </tbody>\n",
       "</table>\n",
       "</div>"
      ],
      "text/plain": [
       "Empty DataFrame\n",
       "Columns: [clientip]\n",
       "Index: []"
      ]
     },
     "metadata": {},
     "output_type": "display_data"
    },
    {
     "data": {
      "text/html": [
       "<div>\n",
       "<style scoped>\n",
       "    .dataframe tbody tr th:only-of-type {\n",
       "        vertical-align: middle;\n",
       "    }\n",
       "\n",
       "    .dataframe tbody tr th {\n",
       "        vertical-align: top;\n",
       "    }\n",
       "\n",
       "    .dataframe thead th {\n",
       "        text-align: right;\n",
       "    }\n",
       "</style>\n",
       "<table border=\"1\" class=\"dataframe\">\n",
       "  <thead>\n",
       "    <tr style=\"text-align: right;\">\n",
       "      <th></th>\n",
       "      <th>clientip</th>\n",
       "    </tr>\n",
       "    <tr>\n",
       "      <th>module</th>\n",
       "      <th></th>\n",
       "    </tr>\n",
       "  </thead>\n",
       "  <tbody>\n",
       "  </tbody>\n",
       "</table>\n",
       "</div>"
      ],
      "text/plain": [
       "Empty DataFrame\n",
       "Columns: [clientip]\n",
       "Index: []"
      ]
     },
     "metadata": {},
     "output_type": "display_data"
    }
   ],
   "source": [
    "stats_by_week(df[['timestamp', 'module', 'clientip']].groupby([pd.Grouper(key='timestamp', freq='1d'), 'module']).count().reset_index())"
   ]
  },
  {
   "cell_type": "code",
   "execution_count": 13,
   "id": "a5ed73d0",
   "metadata": {},
   "outputs": [
    {
     "data": {
      "text/plain": [
       "193843954376"
      ]
     },
     "execution_count": 13,
     "metadata": {},
     "output_type": "execute_result"
    }
   ],
   "source": [
    "df.totalbytes.astype(int).sum()"
   ]
  },
  {
   "cell_type": "code",
   "execution_count": 14,
   "id": "546221b9",
   "metadata": {},
   "outputs": [],
   "source": [
    "traffic_by_day = df[['timestamp', 'receivedbytes', 'sentbytes', 'totalbytes']].groupby([pd.Grouper(key=\"timestamp\", freq=\"1H\")]).sum().reset_index()\n",
    "#traffic_by_day = traffic_by_day[traffic_by_day.timestamp <= datetime.datetime(year=2021, month=4, day=13)]"
   ]
  },
  {
   "cell_type": "code",
   "execution_count": 15,
   "id": "8fe5312f",
   "metadata": {},
   "outputs": [
    {
     "data": {
      "text/html": [
       "<div>\n",
       "<style scoped>\n",
       "    .dataframe tbody tr th:only-of-type {\n",
       "        vertical-align: middle;\n",
       "    }\n",
       "\n",
       "    .dataframe tbody tr th {\n",
       "        vertical-align: top;\n",
       "    }\n",
       "\n",
       "    .dataframe thead th {\n",
       "        text-align: right;\n",
       "    }\n",
       "</style>\n",
       "<table border=\"1\" class=\"dataframe\">\n",
       "  <thead>\n",
       "    <tr style=\"text-align: right;\">\n",
       "      <th></th>\n",
       "      <th>timestamp</th>\n",
       "      <th>receivedbytes</th>\n",
       "      <th>sentbytes</th>\n",
       "      <th>totalbytes</th>\n",
       "    </tr>\n",
       "  </thead>\n",
       "  <tbody>\n",
       "    <tr>\n",
       "      <th>0</th>\n",
       "      <td>2021-04-13 03:00:00</td>\n",
       "      <td>41852391</td>\n",
       "      <td>3024807905</td>\n",
       "      <td>24834670607</td>\n",
       "    </tr>\n",
       "    <tr>\n",
       "      <th>1</th>\n",
       "      <td>2021-04-13 04:00:00</td>\n",
       "      <td>72711583</td>\n",
       "      <td>5155832596</td>\n",
       "      <td>38463783325</td>\n",
       "    </tr>\n",
       "    <tr>\n",
       "      <th>2</th>\n",
       "      <td>2021-04-13 05:00:00</td>\n",
       "      <td>80582002</td>\n",
       "      <td>5546847460</td>\n",
       "      <td>37758319240</td>\n",
       "    </tr>\n",
       "    <tr>\n",
       "      <th>3</th>\n",
       "      <td>2021-04-13 06:00:00</td>\n",
       "      <td>92554050</td>\n",
       "      <td>5663683154</td>\n",
       "      <td>37558148919</td>\n",
       "    </tr>\n",
       "    <tr>\n",
       "      <th>4</th>\n",
       "      <td>2021-04-13 07:00:00</td>\n",
       "      <td>99780262</td>\n",
       "      <td>6291286466</td>\n",
       "      <td>36953889882</td>\n",
       "    </tr>\n",
       "    <tr>\n",
       "      <th>5</th>\n",
       "      <td>2021-04-13 08:00:00</td>\n",
       "      <td>56510804</td>\n",
       "      <td>3046209071</td>\n",
       "      <td>18275142403</td>\n",
       "    </tr>\n",
       "  </tbody>\n",
       "</table>\n",
       "</div>"
      ],
      "text/plain": [
       "            timestamp  receivedbytes   sentbytes   totalbytes\n",
       "0 2021-04-13 03:00:00       41852391  3024807905  24834670607\n",
       "1 2021-04-13 04:00:00       72711583  5155832596  38463783325\n",
       "2 2021-04-13 05:00:00       80582002  5546847460  37758319240\n",
       "3 2021-04-13 06:00:00       92554050  5663683154  37558148919\n",
       "4 2021-04-13 07:00:00       99780262  6291286466  36953889882\n",
       "5 2021-04-13 08:00:00       56510804  3046209071  18275142403"
      ]
     },
     "execution_count": 15,
     "metadata": {},
     "output_type": "execute_result"
    }
   ],
   "source": [
    "traffic_by_day"
   ]
  },
  {
   "cell_type": "code",
   "execution_count": 16,
   "id": "79f00a69",
   "metadata": {},
   "outputs": [
    {
     "data": {
      "text/html": [
       "\n",
       "<div id=\"altair-viz-bdfe2e5c5e104ee19b2c1412485dbb3e\"></div>\n",
       "<script type=\"text/javascript\">\n",
       "  (function(spec, embedOpt){\n",
       "    let outputDiv = document.currentScript.previousElementSibling;\n",
       "    if (outputDiv.id !== \"altair-viz-bdfe2e5c5e104ee19b2c1412485dbb3e\") {\n",
       "      outputDiv = document.getElementById(\"altair-viz-bdfe2e5c5e104ee19b2c1412485dbb3e\");\n",
       "    }\n",
       "    const paths = {\n",
       "      \"vega\": \"https://cdn.jsdelivr.net/npm//vega@5?noext\",\n",
       "      \"vega-lib\": \"https://cdn.jsdelivr.net/npm//vega-lib?noext\",\n",
       "      \"vega-lite\": \"https://cdn.jsdelivr.net/npm//vega-lite@4.8.1?noext\",\n",
       "      \"vega-embed\": \"https://cdn.jsdelivr.net/npm//vega-embed@6?noext\",\n",
       "    };\n",
       "\n",
       "    function loadScript(lib) {\n",
       "      return new Promise(function(resolve, reject) {\n",
       "        var s = document.createElement('script');\n",
       "        s.src = paths[lib];\n",
       "        s.async = true;\n",
       "        s.onload = () => resolve(paths[lib]);\n",
       "        s.onerror = () => reject(`Error loading script: ${paths[lib]}`);\n",
       "        document.getElementsByTagName(\"head\")[0].appendChild(s);\n",
       "      });\n",
       "    }\n",
       "\n",
       "    function showError(err) {\n",
       "      outputDiv.innerHTML = `<div class=\"error\" style=\"color:red;\">${err}</div>`;\n",
       "      throw err;\n",
       "    }\n",
       "\n",
       "    function displayChart(vegaEmbed) {\n",
       "      vegaEmbed(outputDiv, spec, embedOpt)\n",
       "        .catch(err => showError(`Javascript Error: ${err.message}<br>This usually means there's a typo in your chart specification. See the javascript console for the full traceback.`));\n",
       "    }\n",
       "\n",
       "    if(typeof define === \"function\" && define.amd) {\n",
       "      requirejs.config({paths});\n",
       "      require([\"vega-embed\"], displayChart, err => showError(`Error loading script: ${err.message}`));\n",
       "    } else if (typeof vegaEmbed === \"function\") {\n",
       "      displayChart(vegaEmbed);\n",
       "    } else {\n",
       "      loadScript(\"vega\")\n",
       "        .then(() => loadScript(\"vega-lite\"))\n",
       "        .then(() => loadScript(\"vega-embed\"))\n",
       "        .catch(showError)\n",
       "        .then(() => displayChart(vegaEmbed));\n",
       "    }\n",
       "  })({\"config\": {\"view\": {\"continuousWidth\": 400, \"continuousHeight\": 300}}, \"data\": {\"name\": \"data-099108baef65749cfd8df61d3242de8c\"}, \"mark\": \"line\", \"encoding\": {\"color\": {\"type\": \"nominal\", \"field\": \"traffic\"}, \"x\": {\"type\": \"temporal\", \"field\": \"timestamp\"}, \"y\": {\"type\": \"quantitative\", \"field\": \"value\"}}, \"$schema\": \"https://vega.github.io/schema/vega-lite/v4.8.1.json\", \"datasets\": {\"data-099108baef65749cfd8df61d3242de8c\": [{\"timestamp\": \"2021-04-13T03:00:00\", \"traffic\": \"receivedbytes\", \"value\": 41852391}, {\"timestamp\": \"2021-04-13T04:00:00\", \"traffic\": \"receivedbytes\", \"value\": 72711583}, {\"timestamp\": \"2021-04-13T05:00:00\", \"traffic\": \"receivedbytes\", \"value\": 80582002}, {\"timestamp\": \"2021-04-13T06:00:00\", \"traffic\": \"receivedbytes\", \"value\": 92554050}, {\"timestamp\": \"2021-04-13T07:00:00\", \"traffic\": \"receivedbytes\", \"value\": 99780262}, {\"timestamp\": \"2021-04-13T08:00:00\", \"traffic\": \"receivedbytes\", \"value\": 56510804}, {\"timestamp\": \"2021-04-13T03:00:00\", \"traffic\": \"sentbytes\", \"value\": 3024807905}, {\"timestamp\": \"2021-04-13T04:00:00\", \"traffic\": \"sentbytes\", \"value\": 5155832596}, {\"timestamp\": \"2021-04-13T05:00:00\", \"traffic\": \"sentbytes\", \"value\": 5546847460}, {\"timestamp\": \"2021-04-13T06:00:00\", \"traffic\": \"sentbytes\", \"value\": 5663683154}, {\"timestamp\": \"2021-04-13T07:00:00\", \"traffic\": \"sentbytes\", \"value\": 6291286466}, {\"timestamp\": \"2021-04-13T08:00:00\", \"traffic\": \"sentbytes\", \"value\": 3046209071}, {\"timestamp\": \"2021-04-13T03:00:00\", \"traffic\": \"totalbytes\", \"value\": 24834670607}, {\"timestamp\": \"2021-04-13T04:00:00\", \"traffic\": \"totalbytes\", \"value\": 38463783325}, {\"timestamp\": \"2021-04-13T05:00:00\", \"traffic\": \"totalbytes\", \"value\": 37758319240}, {\"timestamp\": \"2021-04-13T06:00:00\", \"traffic\": \"totalbytes\", \"value\": 37558148919}, {\"timestamp\": \"2021-04-13T07:00:00\", \"traffic\": \"totalbytes\", \"value\": 36953889882}, {\"timestamp\": \"2021-04-13T08:00:00\", \"traffic\": \"totalbytes\", \"value\": 18275142403}]}}, {\"mode\": \"vega-lite\"});\n",
       "</script>"
      ],
      "text/plain": [
       "alt.Chart(...)"
      ]
     },
     "execution_count": 16,
     "metadata": {},
     "output_type": "execute_result"
    }
   ],
   "source": [
    "traffic_by_day_long = pd.melt(traffic_by_day, id_vars='timestamp', value_vars=['receivedbytes', 'sentbytes', 'totalbytes'], var_name='traffic')\n",
    "\n",
    "alt.Chart(traffic_by_day_long).mark_line().encode(\n",
    "    x='timestamp:T',\n",
    "    y='value:Q',\n",
    "    color='traffic:N'\n",
    ")"
   ]
  },
  {
   "cell_type": "markdown",
   "id": "85fc4d83-1ba1-4a62-bcaa-f1746578d9a5",
   "metadata": {},
   "source": [
    "# Start of some code that works with riswhois\n",
    "## TODO: extract into library!"
   ]
  },
  {
   "cell_type": "code",
   "execution_count": 17,
   "id": "7703840c",
   "metadata": {},
   "outputs": [],
   "source": [
    "import bz2\n",
    "import json\n",
    "import io\n",
    "import ipaddress\n",
    "import logging\n",
    "\n",
    "import altair as alt\n",
    "import pandas as pd\n",
    "import pytricia\n",
    "import requests\n",
    "\n",
    "from typing import Generator, NamedTuple, Optional, Set\n",
    "\n",
    "from pandas.api.types import CategoricalDtype\n",
    "from pandas.core.series import Series\n",
    "\n",
    "LOG = logging.getLogger(__name__)\n",
    "LOG.setLevel(logging.DEBUG)"
   ]
  },
  {
   "cell_type": "code",
   "execution_count": 18,
   "id": "106dc257",
   "metadata": {},
   "outputs": [],
   "source": [
    "class RouteOriginAuthorization(NamedTuple):\n",
    "    asn: int\n",
    "    prefix: str\n",
    "    max_length: int\n",
    "\n",
    "    prefix_length: Optional[int] = None\n",
    "        \n",
    "class ExpandedRisEntry(NamedTuple):\n",
    "    origin: str\n",
    "    prefix: str\n",
    "    seen_by_peers: int\n",
    "    prefix_length: int\n",
    "    roa_validity: str"
   ]
  },
  {
   "cell_type": "code",
   "execution_count": 19,
   "id": "e0d70c97",
   "metadata": {},
   "outputs": [],
   "source": [
    "# https://www.ris.ripe.net/dumps/riswhoisdump.IPv4.gz\n",
    "# https://www.ris.ripe.net/dumps/riswhoisdump.IPv6.gz\n",
    "ris_v4_gz = requests.get(\"https://www.ris.ripe.net/dumps/riswhoisdump.IPv4.gz\").content\n",
    "ris_v6_gz = requests.get(\"https://www.ris.ripe.net/dumps/riswhoisdump.IPv6.gz\").content\n",
    "\n",
    "def read_ris_dump(url: str) -> pd.DataFrame:\n",
    "    # Get file, accept that there are comment lines in there\n",
    "    df = pd.read_csv(url,\n",
    "                     compression='gzip',\n",
    "                     sep=\"\\t\",\n",
    "                     names=[\"origin\", \"prefix\", \"seen_by_peers\"]\n",
    "    )\n",
    "    \n",
    "    if df.origin.str.startswith('{').any():\n",
    "        LOG.error(\"RIS dump contains row(s) with AS_SET! These will never be RPKI valid (https://tools.ietf.org/html/rfc6907#section-7.1.8)\")\n",
    "    # select the rows that do not have the '%' prefix\n",
    "    df = df[~df.origin.str.startswith('%')].copy()\n",
    "    \n",
    "    # separate prefix length\n",
    "    df['prefix_length'] = df.prefix.map(lambda p: ipaddress.ip_network(p).prefixlen)\n",
    "    \n",
    "    return df"
   ]
  },
  {
   "cell_type": "code",
   "execution_count": 20,
   "id": "c6de19b7",
   "metadata": {},
   "outputs": [
    {
     "name": "stderr",
     "output_type": "stream",
     "text": [
      "RIS dump contains row(s) with AS_SET! These will never be RPKI valid (https://tools.ietf.org/html/rfc6907#section-7.1.8)\n",
      "RIS dump contains row(s) with AS_SET! These will never be RPKI valid (https://tools.ietf.org/html/rfc6907#section-7.1.8)\n"
     ]
    }
   ],
   "source": [
    "ris_v4 = read_ris_dump(\"https://www.ris.ripe.net/dumps/riswhoisdump.IPv4.gz\")\n",
    "ris_v6 = read_ris_dump(\"https://www.ris.ripe.net/dumps/riswhoisdump.IPv6.gz\")"
   ]
  },
  {
   "cell_type": "code",
   "execution_count": 21,
   "id": "1a39c674",
   "metadata": {},
   "outputs": [],
   "source": [
    "class RisWhoisLookup:\n",
    "    trie: pytricia.PyTricia\n",
    "        \n",
    "    def __init__(self, data: pd.DataFrame, visibility_threshold : int = 10) -> None:\n",
    "        af = data.prefix.apply(lambda p: ipaddress.ip_network(p).version)\n",
    "        assert af.nunique() == 1\n",
    "        length = 128 if af.unique()[0] == 6 else 32\n",
    "        \n",
    "        self.trie = pytricia.PyTricia(length)\n",
    "        data[data.seen_by_peers >= visibility_threshold].apply(self.__build_trie, axis=1)\n",
    "        \n",
    "    def __build_trie(self, row: Series) -> None:\n",
    "        if not self.trie.has_key(row.prefix):\n",
    "            # Add entry\n",
    "            self.trie[row.prefix] = set()\n",
    "            \n",
    "        self.trie[row.prefix].add(\n",
    "            ExpandedRisEntry(row.origin, row.prefix, row.seen_by_peers, row.prefix_length, row.roa_validity)\n",
    "        )\n",
    "       \n",
    "    def lookup(self, prefix) -> Generator[ExpandedRisEntry, None, None]:\n",
    "        key = self.trie.get_key(prefix)\n",
    "        while key is not None:\n",
    "            yield from self.trie[key]\n",
    "            key = self.trie.parent(key)\n",
    "            \n",
    "    def __getitem__(self, prefix) -> Set[ExpandedRisEntry]:\n",
    "        return set(self.lookup(prefix))"
   ]
  },
  {
   "cell_type": "code",
   "execution_count": 22,
   "id": "4daa5d01",
   "metadata": {},
   "outputs": [],
   "source": [
    "# And build patricia trie\n",
    "ris_v4['roa_validity'] = ''\n",
    "ris_v6['roa_validity'] = ''\n",
    "\n",
    "ris_v4_lookup = RisWhoisLookup(ris_v4)\n",
    "ris_v6_lookup = RisWhoisLookup(ris_v6)"
   ]
  },
  {
   "cell_type": "code",
   "execution_count": 23,
   "id": "ce71a93d",
   "metadata": {},
   "outputs": [],
   "source": [
    "def lookup_afi(ip_str) -> Generator[ExpandedRisEntry, None, None]:\n",
    "    ip = netaddr.IPAddress(ip_str)\n",
    "    if ip.version == 4:\n",
    "        return ris_v4_lookup.lookup(ip_str)\n",
    "    else:\n",
    "        return ris_v6_lookup.lookup(ip_str)\n",
    "    \n",
    "\n",
    "def origin_as(ip_str) -> str:\n",
    "    try:\n",
    "        return next(iter(sorted(lookup_afi(ip_str)))).origin\n",
    "    except:\n",
    "        return -1\n",
    "    \n",
    "def origin_prefix(ip_str) -> str:\n",
    "    try:\n",
    "        return next(iter(sorted(lookup_afi(ip_str)))).prefix\n",
    "    except:\n",
    "        return -1"
   ]
  },
  {
   "cell_type": "code",
   "execution_count": 24,
   "id": "952e8de9",
   "metadata": {},
   "outputs": [],
   "source": [
    "df['origin_as'] = df.clientip.map(origin_as)\n",
    "df['origin_prefix'] = df.clientip.map(origin_prefix)\n"
   ]
  },
  {
   "cell_type": "code",
   "execution_count": 28,
   "id": "3646540c",
   "metadata": {},
   "outputs": [],
   "source": [
    "# First group by hour, then actually count the number of different origin as|prefixes\n",
    "by_origin_as = df[['timestamp', 'module', 'origin_as']]\\\n",
    "    .groupby([pd.Grouper(key=\"timestamp\", freq=\"1H\"), 'module', 'origin_as']).count()\\\n",
    "    .reset_index()\\\n",
    "    .drop_duplicates()\\\n",
    "    .groupby([pd.Grouper(key=\"timestamp\", freq=\"1H\"), 'module'])\\\n",
    "    .count()\\\n",
    "    .rename(columns={'origin_as': 'origin_as'})\n",
    "\n",
    "by_origin_prefix = df[['timestamp', 'module', 'origin_prefix']]\\\n",
    "    .groupby([pd.Grouper(key=\"timestamp\", freq=\"1H\"), 'module', 'origin_prefix']).count()\\\n",
    "    .reset_index()\\\n",
    "    .drop_duplicates()\\\n",
    "    .groupby([pd.Grouper(key=\"timestamp\", freq=\"1H\"), 'module'])\\\n",
    "    .count()\\\n",
    "    .rename(columns={'origin_prefix': 'origin_prefix'})\n",
    "\n",
    "ips_by_date = pd.concat([by_ip, by_mask, by_origin_as, by_origin_prefix], axis=1).reset_index()"
   ]
  },
  {
   "cell_type": "code",
   "execution_count": 29,
   "id": "42a88e26",
   "metadata": {},
   "outputs": [
    {
     "data": {
      "text/html": [
       "\n",
       "<div id=\"altair-viz-da383787bedf4f318253f70635681781\"></div>\n",
       "<script type=\"text/javascript\">\n",
       "  (function(spec, embedOpt){\n",
       "    let outputDiv = document.currentScript.previousElementSibling;\n",
       "    if (outputDiv.id !== \"altair-viz-da383787bedf4f318253f70635681781\") {\n",
       "      outputDiv = document.getElementById(\"altair-viz-da383787bedf4f318253f70635681781\");\n",
       "    }\n",
       "    const paths = {\n",
       "      \"vega\": \"https://cdn.jsdelivr.net/npm//vega@5?noext\",\n",
       "      \"vega-lib\": \"https://cdn.jsdelivr.net/npm//vega-lib?noext\",\n",
       "      \"vega-lite\": \"https://cdn.jsdelivr.net/npm//vega-lite@4.8.1?noext\",\n",
       "      \"vega-embed\": \"https://cdn.jsdelivr.net/npm//vega-embed@6?noext\",\n",
       "    };\n",
       "\n",
       "    function loadScript(lib) {\n",
       "      return new Promise(function(resolve, reject) {\n",
       "        var s = document.createElement('script');\n",
       "        s.src = paths[lib];\n",
       "        s.async = true;\n",
       "        s.onload = () => resolve(paths[lib]);\n",
       "        s.onerror = () => reject(`Error loading script: ${paths[lib]}`);\n",
       "        document.getElementsByTagName(\"head\")[0].appendChild(s);\n",
       "      });\n",
       "    }\n",
       "\n",
       "    function showError(err) {\n",
       "      outputDiv.innerHTML = `<div class=\"error\" style=\"color:red;\">${err}</div>`;\n",
       "      throw err;\n",
       "    }\n",
       "\n",
       "    function displayChart(vegaEmbed) {\n",
       "      vegaEmbed(outputDiv, spec, embedOpt)\n",
       "        .catch(err => showError(`Javascript Error: ${err.message}<br>This usually means there's a typo in your chart specification. See the javascript console for the full traceback.`));\n",
       "    }\n",
       "\n",
       "    if(typeof define === \"function\" && define.amd) {\n",
       "      requirejs.config({paths});\n",
       "      require([\"vega-embed\"], displayChart, err => showError(`Error loading script: ${err.message}`));\n",
       "    } else if (typeof vegaEmbed === \"function\") {\n",
       "      displayChart(vegaEmbed);\n",
       "    } else {\n",
       "      loadScript(\"vega\")\n",
       "        .then(() => loadScript(\"vega-lite\"))\n",
       "        .then(() => loadScript(\"vega-embed\"))\n",
       "        .catch(showError)\n",
       "        .then(() => displayChart(vegaEmbed));\n",
       "    }\n",
       "  })({\"config\": {\"view\": {\"continuousWidth\": 400, \"continuousHeight\": 300}}, \"data\": {\"name\": \"data-32efeac9c3bf66ed745319d9050f0427\"}, \"mark\": \"line\", \"encoding\": {\"color\": {\"type\": \"nominal\", \"field\": \"type\"}, \"row\": {\"type\": \"nominal\", \"field\": \"module\"}, \"x\": {\"type\": \"temporal\", \"field\": \"timestamp\"}, \"y\": {\"type\": \"quantitative\", \"field\": \"value\"}}, \"$schema\": \"https://vega.github.io/schema/vega-lite/v4.8.1.json\", \"datasets\": {\"data-32efeac9c3bf66ed745319d9050f0427\": [{\"timestamp\": \"2021-04-13T03:00:00\", \"module\": \"repository\", \"type\": \"unique_ips\", \"value\": 246}, {\"timestamp\": \"2021-04-13T03:00:00\", \"module\": \"ta\", \"type\": \"unique_ips\", \"value\": 1356}, {\"timestamp\": \"2021-04-13T04:00:00\", \"module\": \"repository\", \"type\": \"unique_ips\", \"value\": 380}, {\"timestamp\": \"2021-04-13T04:00:00\", \"module\": \"ta\", \"type\": \"unique_ips\", \"value\": 1810}, {\"timestamp\": \"2021-04-13T05:00:00\", \"module\": \"repository\", \"type\": \"unique_ips\", \"value\": 372}, {\"timestamp\": \"2021-04-13T05:00:00\", \"module\": \"ta\", \"type\": \"unique_ips\", \"value\": 1749}, {\"timestamp\": \"2021-04-13T06:00:00\", \"module\": \"repository\", \"type\": \"unique_ips\", \"value\": 370}, {\"timestamp\": \"2021-04-13T06:00:00\", \"module\": \"ta\", \"type\": \"unique_ips\", \"value\": 1858}, {\"timestamp\": \"2021-04-13T07:00:00\", \"module\": \"repository\", \"type\": \"unique_ips\", \"value\": 364}, {\"timestamp\": \"2021-04-13T07:00:00\", \"module\": \"ta\", \"type\": \"unique_ips\", \"value\": 1805}, {\"timestamp\": \"2021-04-13T08:00:00\", \"module\": \"repository\", \"type\": \"unique_ips\", \"value\": 181}, {\"timestamp\": \"2021-04-13T08:00:00\", \"module\": \"ta\", \"type\": \"unique_ips\", \"value\": 735}, {\"timestamp\": \"2021-04-13T03:00:00\", \"module\": \"repository\", \"type\": \"per_24_or_64\", \"value\": 246}, {\"timestamp\": \"2021-04-13T03:00:00\", \"module\": \"ta\", \"type\": \"per_24_or_64\", \"value\": 1356}, {\"timestamp\": \"2021-04-13T04:00:00\", \"module\": \"repository\", \"type\": \"per_24_or_64\", \"value\": 380}, {\"timestamp\": \"2021-04-13T04:00:00\", \"module\": \"ta\", \"type\": \"per_24_or_64\", \"value\": 1810}, {\"timestamp\": \"2021-04-13T05:00:00\", \"module\": \"repository\", \"type\": \"per_24_or_64\", \"value\": 372}, {\"timestamp\": \"2021-04-13T05:00:00\", \"module\": \"ta\", \"type\": \"per_24_or_64\", \"value\": 1748}, {\"timestamp\": \"2021-04-13T06:00:00\", \"module\": \"repository\", \"type\": \"per_24_or_64\", \"value\": 370}, {\"timestamp\": \"2021-04-13T06:00:00\", \"module\": \"ta\", \"type\": \"per_24_or_64\", \"value\": 1857}, {\"timestamp\": \"2021-04-13T07:00:00\", \"module\": \"repository\", \"type\": \"per_24_or_64\", \"value\": 364}, {\"timestamp\": \"2021-04-13T07:00:00\", \"module\": \"ta\", \"type\": \"per_24_or_64\", \"value\": 1805}, {\"timestamp\": \"2021-04-13T08:00:00\", \"module\": \"repository\", \"type\": \"per_24_or_64\", \"value\": 181}, {\"timestamp\": \"2021-04-13T08:00:00\", \"module\": \"ta\", \"type\": \"per_24_or_64\", \"value\": 735}, {\"timestamp\": \"2021-04-13T03:00:00\", \"module\": \"repository\", \"type\": \"origin_as\", \"value\": 153}, {\"timestamp\": \"2021-04-13T03:00:00\", \"module\": \"ta\", \"type\": \"origin_as\", \"value\": 433}, {\"timestamp\": \"2021-04-13T04:00:00\", \"module\": \"repository\", \"type\": \"origin_as\", \"value\": 233}, {\"timestamp\": \"2021-04-13T04:00:00\", \"module\": \"ta\", \"type\": \"origin_as\", \"value\": 516}, {\"timestamp\": \"2021-04-13T05:00:00\", \"module\": \"repository\", \"type\": \"origin_as\", \"value\": 234}, {\"timestamp\": \"2021-04-13T05:00:00\", \"module\": \"ta\", \"type\": \"origin_as\", \"value\": 516}, {\"timestamp\": \"2021-04-13T06:00:00\", \"module\": \"repository\", \"type\": \"origin_as\", \"value\": 230}, {\"timestamp\": \"2021-04-13T06:00:00\", \"module\": \"ta\", \"type\": \"origin_as\", \"value\": 518}, {\"timestamp\": \"2021-04-13T07:00:00\", \"module\": \"repository\", \"type\": \"origin_as\", \"value\": 224}, {\"timestamp\": \"2021-04-13T07:00:00\", \"module\": \"ta\", \"type\": \"origin_as\", \"value\": 524}, {\"timestamp\": \"2021-04-13T08:00:00\", \"module\": \"repository\", \"type\": \"origin_as\", \"value\": 148}, {\"timestamp\": \"2021-04-13T08:00:00\", \"module\": \"ta\", \"type\": \"origin_as\", \"value\": 403}, {\"timestamp\": \"2021-04-13T03:00:00\", \"module\": \"repository\", \"type\": \"origin_prefix\", \"value\": 177}, {\"timestamp\": \"2021-04-13T03:00:00\", \"module\": \"ta\", \"type\": \"origin_prefix\", \"value\": 543}, {\"timestamp\": \"2021-04-13T04:00:00\", \"module\": \"repository\", \"type\": \"origin_prefix\", \"value\": 271}, {\"timestamp\": \"2021-04-13T04:00:00\", \"module\": \"ta\", \"type\": \"origin_prefix\", \"value\": 656}, {\"timestamp\": \"2021-04-13T05:00:00\", \"module\": \"repository\", \"type\": \"origin_prefix\", \"value\": 271}, {\"timestamp\": \"2021-04-13T05:00:00\", \"module\": \"ta\", \"type\": \"origin_prefix\", \"value\": 658}, {\"timestamp\": \"2021-04-13T06:00:00\", \"module\": \"repository\", \"type\": \"origin_prefix\", \"value\": 271}, {\"timestamp\": \"2021-04-13T06:00:00\", \"module\": \"ta\", \"type\": \"origin_prefix\", \"value\": 653}, {\"timestamp\": \"2021-04-13T07:00:00\", \"module\": \"repository\", \"type\": \"origin_prefix\", \"value\": 272}, {\"timestamp\": \"2021-04-13T07:00:00\", \"module\": \"ta\", \"type\": \"origin_prefix\", \"value\": 654}, {\"timestamp\": \"2021-04-13T08:00:00\", \"module\": \"repository\", \"type\": \"origin_prefix\", \"value\": 169}, {\"timestamp\": \"2021-04-13T08:00:00\", \"module\": \"ta\", \"type\": \"origin_prefix\", \"value\": 482}]}}, {\"mode\": \"vega-lite\"});\n",
       "</script>"
      ],
      "text/plain": [
       "alt.Chart(...)"
      ]
     },
     "execution_count": 29,
     "metadata": {},
     "output_type": "execute_result"
    }
   ],
   "source": [
    "ips_by_date_long = pd.melt(ips_by_date,\n",
    "                           id_vars=['timestamp', 'module'],\n",
    "                           value_vars=['unique_ips', 'per_24_or_64', 'origin_as', 'origin_prefix'],\n",
    "                           var_name='type')\n",
    "\n",
    "alt.Chart(ips_by_date_long).mark_line().encode(\n",
    "    x='timestamp:T',\n",
    "    y='value:Q',\n",
    "    color='type:N',\n",
    "    row='module'\n",
    ")"
   ]
  },
  {
   "cell_type": "code",
   "execution_count": 30,
   "id": "08e4b519",
   "metadata": {},
   "outputs": [
    {
     "data": {
      "text/html": [
       "<div>\n",
       "<style scoped>\n",
       "    .dataframe tbody tr th:only-of-type {\n",
       "        vertical-align: middle;\n",
       "    }\n",
       "\n",
       "    .dataframe tbody tr th {\n",
       "        vertical-align: top;\n",
       "    }\n",
       "\n",
       "    .dataframe thead th {\n",
       "        text-align: right;\n",
       "    }\n",
       "</style>\n",
       "<table border=\"1\" class=\"dataframe\">\n",
       "  <thead>\n",
       "    <tr style=\"text-align: right;\">\n",
       "      <th></th>\n",
       "      <th>value</th>\n",
       "    </tr>\n",
       "    <tr>\n",
       "      <th>module</th>\n",
       "      <th></th>\n",
       "    </tr>\n",
       "  </thead>\n",
       "  <tbody>\n",
       "  </tbody>\n",
       "</table>\n",
       "</div>"
      ],
      "text/plain": [
       "Empty DataFrame\n",
       "Columns: [value]\n",
       "Index: []"
      ]
     },
     "metadata": {},
     "output_type": "display_data"
    },
    {
     "data": {
      "text/html": [
       "<div>\n",
       "<style scoped>\n",
       "    .dataframe tbody tr th:only-of-type {\n",
       "        vertical-align: middle;\n",
       "    }\n",
       "\n",
       "    .dataframe tbody tr th {\n",
       "        vertical-align: top;\n",
       "    }\n",
       "\n",
       "    .dataframe thead th {\n",
       "        text-align: right;\n",
       "    }\n",
       "</style>\n",
       "<table border=\"1\" class=\"dataframe\">\n",
       "  <thead>\n",
       "    <tr style=\"text-align: right;\">\n",
       "      <th></th>\n",
       "      <th>value</th>\n",
       "    </tr>\n",
       "    <tr>\n",
       "      <th>module</th>\n",
       "      <th></th>\n",
       "    </tr>\n",
       "  </thead>\n",
       "  <tbody>\n",
       "  </tbody>\n",
       "</table>\n",
       "</div>"
      ],
      "text/plain": [
       "Empty DataFrame\n",
       "Columns: [value]\n",
       "Index: []"
      ]
     },
     "metadata": {},
     "output_type": "display_data"
    }
   ],
   "source": [
    "stats_by_week(ips_by_date_long)"
   ]
  },
  {
   "cell_type": "code",
   "execution_count": null,
   "id": "3bd27499",
   "metadata": {},
   "outputs": [],
   "source": []
  }
 ],
 "metadata": {
  "kernelspec": {
   "display_name": "Python 3",
   "language": "python",
   "name": "python3"
  },
  "language_info": {
   "codemirror_mode": {
    "name": "ipython",
    "version": 3
   },
   "file_extension": ".py",
   "mimetype": "text/x-python",
   "name": "python",
   "nbconvert_exporter": "python",
   "pygments_lexer": "ipython3",
   "version": "3.9.4"
  }
 },
 "nbformat": 4,
 "nbformat_minor": 5
}
