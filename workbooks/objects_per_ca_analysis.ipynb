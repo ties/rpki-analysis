{
 "cells": [
  {
   "cell_type": "code",
   "execution_count": 1,
   "id": "da39b901-3f9f-4619-879c-5699f73ba464",
   "metadata": {},
   "outputs": [],
   "source": [
    "import aiohttp\n",
    "import lzma\n",
    "import io\n",
    "\n",
    "from datetime import datetime\n",
    "from os.path import expanduser\n",
    "from pathlib import Path\n",
    "from typing import NamedTuple\n",
    "\n",
    "import pandas as pd\n",
    "import netaddr\n",
    "\n",
    "from rpki_analysis.delegated_stats import read_delegated_stats, StatsCombinedAllocations, RirLookup\n",
    "from rpki_analysis.routinator import read_jsonext"
   ]
  },
  {
   "cell_type": "code",
   "execution_count": 2,
   "id": "54a22dec-93dc-4611-9bfe-536d74045362",
   "metadata": {},
   "outputs": [],
   "source": [
    "df = await read_jsonext(\"https://rpki-validator.ripe.net/jsonext\")"
   ]
  },
  {
   "cell_type": "code",
   "execution_count": 3,
   "id": "c00308ab-e9bd-477c-933d-d50c9aae9e4f",
   "metadata": {},
   "outputs": [],
   "source": [
    "async with aiohttp.ClientSession() as session:\n",
    "    async with session.get('https://ftp.ripe.net/pub/stats/ripencc/nro-stats/latest/nro-delegated-stats') as resp:\n",
    "        df_delegated_stats = read_delegated_stats(io.StringIO(await resp.text()))\n",
    "\n",
    "        rir_lookup = RirLookup(df_delegated_stats)\n",
    "        lookup = StatsCombinedAllocations(df_delegated_stats[df_delegated_stats.status == 'assigned'])"
   ]
  },
  {
   "cell_type": "code",
   "execution_count": 27,
   "id": "d801f24e-16d9-4bc7-976f-22211f896cee",
   "metadata": {},
   "outputs": [
    {
     "data": {
      "text/plain": [
       "'apnic'"
      ]
     },
     "metadata": {},
     "output_type": "display_data"
    },
    {
     "data": {
      "text/plain": [
       "'2401:7ae0:4000::/36'"
      ]
     },
     "metadata": {},
     "output_type": "display_data"
    },
    {
     "data": {
      "text/plain": [
       "'apnic'"
      ]
     },
     "metadata": {},
     "output_type": "display_data"
    },
    {
     "data": {
      "text/plain": [
       "'2401:7ae0::/32'"
      ]
     },
     "metadata": {},
     "output_type": "display_data"
    },
    {
     "data": {
      "text/plain": [
       "'apnic'"
      ]
     },
     "metadata": {},
     "output_type": "display_data"
    },
    {
     "data": {
      "text/plain": [
       "'157.15.53.0/24'"
      ]
     },
     "metadata": {},
     "output_type": "display_data"
    },
    {
     "data": {
      "text/plain": [
       "'apnic'"
      ]
     },
     "metadata": {},
     "output_type": "display_data"
    },
    {
     "data": {
      "text/plain": [
       "'103.73.237.0/24'"
      ]
     },
     "metadata": {},
     "output_type": "display_data"
    },
    {
     "data": {
      "text/plain": [
       "'apnic'"
      ]
     },
     "metadata": {},
     "output_type": "display_data"
    },
    {
     "data": {
      "text/plain": [
       "'157.15.52.0/24'"
      ]
     },
     "metadata": {},
     "output_type": "display_data"
    },
    {
     "data": {
      "text/plain": [
       "'ripencc'"
      ]
     },
     "metadata": {},
     "output_type": "display_data"
    },
    {
     "data": {
      "text/plain": [
       "'45.145.39.0/24'"
      ]
     },
     "metadata": {},
     "output_type": "display_data"
    },
    {
     "data": {
      "text/plain": [
       "'apnic'"
      ]
     },
     "metadata": {},
     "output_type": "display_data"
    },
    {
     "data": {
      "text/plain": [
       "'103.73.236.0/22'"
      ]
     },
     "metadata": {},
     "output_type": "display_data"
    },
    {
     "data": {
      "text/plain": [
       "'apnic'"
      ]
     },
     "metadata": {},
     "output_type": "display_data"
    },
    {
     "data": {
      "text/plain": [
       "'2401:7ae0::/36'"
      ]
     },
     "metadata": {},
     "output_type": "display_data"
    },
    {
     "data": {
      "text/plain": [
       "'ripencc'"
      ]
     },
     "metadata": {},
     "output_type": "display_data"
    },
    {
     "data": {
      "text/plain": [
       "'91.207.19.0/24'"
      ]
     },
     "metadata": {},
     "output_type": "display_data"
    },
    {
     "data": {
      "text/plain": [
       "'apnic'"
      ]
     },
     "metadata": {},
     "output_type": "display_data"
    },
    {
     "data": {
      "text/plain": [
       "'103.73.236.0/24'"
      ]
     },
     "metadata": {},
     "output_type": "display_data"
    },
    {
     "data": {
      "text/plain": [
       "'apnic'"
      ]
     },
     "metadata": {},
     "output_type": "display_data"
    },
    {
     "data": {
      "text/plain": [
       "'157.15.61.0/24'"
      ]
     },
     "metadata": {},
     "output_type": "display_data"
    },
    {
     "data": {
      "text/plain": [
       "'apnic'"
      ]
     },
     "metadata": {},
     "output_type": "display_data"
    },
    {
     "data": {
      "text/plain": [
       "'157.15.52.0/23'"
      ]
     },
     "metadata": {},
     "output_type": "display_data"
    },
    {
     "data": {
      "text/plain": [
       "'apnic'"
      ]
     },
     "metadata": {},
     "output_type": "display_data"
    },
    {
     "data": {
      "text/plain": [
       "'103.73.238.0/24'"
      ]
     },
     "metadata": {},
     "output_type": "display_data"
    },
    {
     "data": {
      "text/plain": [
       "'apnic'"
      ]
     },
     "metadata": {},
     "output_type": "display_data"
    },
    {
     "data": {
      "text/plain": [
       "'103.73.239.0/24'"
      ]
     },
     "metadata": {},
     "output_type": "display_data"
    },
    {
     "data": {
      "text/plain": [
       "'apnic'"
      ]
     },
     "metadata": {},
     "output_type": "display_data"
    },
    {
     "data": {
      "text/plain": [
       "'2401:7ae0:c000::/36'"
      ]
     },
     "metadata": {},
     "output_type": "display_data"
    },
    {
     "data": {
      "text/plain": [
       "'apnic'"
      ]
     },
     "metadata": {},
     "output_type": "display_data"
    },
    {
     "data": {
      "text/plain": [
       "'157.15.60.0/24'"
      ]
     },
     "metadata": {},
     "output_type": "display_data"
    }
   ],
   "source": [
    "for prefix in set(df[df.containing_rir.isnull()].prefix):\n",
    "    display(rir_lookup[prefix], prefix)"
   ]
  },
  {
   "cell_type": "code",
   "execution_count": 37,
   "id": "96c11587-443a-4440-85de-5020a36cb989",
   "metadata": {},
   "outputs": [
    {
     "data": {
      "text/html": [
       "<div>\n",
       "<style scoped>\n",
       "    .dataframe tbody tr th:only-of-type {\n",
       "        vertical-align: middle;\n",
       "    }\n",
       "\n",
       "    .dataframe tbody tr th {\n",
       "        vertical-align: top;\n",
       "    }\n",
       "\n",
       "    .dataframe thead th {\n",
       "        text-align: right;\n",
       "    }\n",
       "</style>\n",
       "<table border=\"1\" class=\"dataframe\">\n",
       "  <thead>\n",
       "    <tr style=\"text-align: right;\">\n",
       "      <th></th>\n",
       "      <th>uri</th>\n",
       "      <th>tal</th>\n",
       "      <th>asn</th>\n",
       "      <th>prefix</th>\n",
       "      <th>max_length</th>\n",
       "      <th>rir</th>\n",
       "      <th>opaque_id</th>\n",
       "      <th>containing_rir</th>\n",
       "    </tr>\n",
       "  </thead>\n",
       "  <tbody>\n",
       "  </tbody>\n",
       "</table>\n",
       "</div>"
      ],
      "text/plain": [
       "Empty DataFrame\n",
       "Columns: [uri, tal, asn, prefix, max_length, rir, opaque_id, containing_rir]\n",
       "Index: []"
      ]
     },
     "execution_count": 37,
     "metadata": {},
     "output_type": "execute_result"
    }
   ],
   "source": [
    "df_mismatch[df_mismatch.containing_rir == None]"
   ]
  },
  {
   "cell_type": "code",
   "execution_count": 4,
   "id": "e6421374-e0a2-40fa-8a3f-0e1a3e0357b7",
   "metadata": {},
   "outputs": [
    {
     "data": {
      "text/plain": [
       "['reserved', 'assigned', 'available']\n",
       "Categories (3, object): ['assigned', 'available', 'reserved']"
      ]
     },
     "execution_count": 4,
     "metadata": {},
     "output_type": "execute_result"
    }
   ],
   "source": [
    "df_delegated_stats.status.unique()"
   ]
  },
  {
   "cell_type": "code",
   "execution_count": 5,
   "id": "27c426ab-8a68-4cec-b726-e225ab80e44f",
   "metadata": {},
   "outputs": [],
   "source": [
    "misses = list()\n",
    "\n",
    "class PrefixDetails(NamedTuple):\n",
    "    rir: str\n",
    "    opaque_id: str\n",
    "    covering_rir: str\n",
    "\n",
    "def maybe_lookup(row: pd.DataFrame) -> PrefixDetails:\n",
    "    containing_rir = rir_lookup.get(row.prefix)\n",
    "    try:\n",
    "        entry = lookup[row.prefix]\n",
    "        return PrefixDetails(entry.rir, entry.opaque_id, containing_rir)\n",
    "    except KeyError:\n",
    "        misses.append(row)\n",
    "        children = list(lookup.children(row.prefix))\n",
    "        if children:\n",
    "            child_resources = netaddr.IPSet([c.resource for c in children])\n",
    "            child_opaque_ids = set(map(lambda r: r.opaque_id, children))\n",
    "            child_rirs = set(map(lambda r: r.rir, children))\n",
    "            \n",
    "            if child_resources.issuperset(netaddr.IPSet([row.prefix])):\n",
    "                return PrefixDetails(f\"{'-'.join(child_rirs)}-multi-opaque-id\", \"_\".join(child_opaque_ids), containing_rir)\n",
    "                \n",
    "            return PrefixDetails(f\"unknown-more-specific-allocs-{\"-\".join(child_rirs)}\", \"_\".join(child_opaque_ids), containing_rir)\n",
    "\n",
    "df[['rir', 'opaque_id', 'containing_rir']] = df.apply(maybe_lookup, axis=1, result_type='expand')\n",
    "df['publication_point'] = df.uri.apply(lambda uri: \"/\".join(uri.split(\"/\")[:-1]))\n",
    "df_unmatched = pd.DataFrame.from_records(misses)"
   ]
  },
  {
   "cell_type": "code",
   "execution_count": 6,
   "id": "f9627830-7d4f-4b28-9d99-5d2155d2f71d",
   "metadata": {},
   "outputs": [
    {
     "data": {
      "text/plain": [
       "array(['2c0f:ffd8::/32'], dtype=object)"
      ]
     },
     "metadata": {},
     "output_type": "display_data"
    },
    {
     "data": {
      "text/plain": [
       "Index(['type', 'uri', 'tal', 'not_before', 'not_after', 'chain_not_before',\n",
       "       'chain_not_after', 'asn', 'prefix', 'max_length', 'rir', 'opaque_id',\n",
       "       'containing_rir', 'publication_point'],\n",
       "      dtype='object')"
      ]
     },
     "metadata": {},
     "output_type": "display_data"
    }
   ],
   "source": [
    "display(df_unmatched.prefix.unique())\n",
    "display(df.keys())"
   ]
  },
  {
   "cell_type": "markdown",
   "id": "72b2540a-1c2a-4c35-be88-41b1ec7d1ff3",
   "metadata": {},
   "source": [
    "# Check the tal against the RIR according to delegated extended statistics.\n",
    "\n",
    "The code below detects some mis-alignment. Many of these will becaused by registration artifacts (two continous registrations controlled by one entity, that are under two IDs in the delegated stats."
   ]
  },
  {
   "cell_type": "code",
   "execution_count": 7,
   "id": "92a2c786-63d7-48c2-ac49-273a32d624b4",
   "metadata": {},
   "outputs": [
    {
     "data": {
      "text/plain": [
       "'ripencc'"
      ]
     },
     "execution_count": 7,
     "metadata": {},
     "output_type": "execute_result"
    }
   ],
   "source": [
    "#rir_lookup['43.236.0.0/16']\n",
    "rir_lookup.get('91.207.19.0/24')"
   ]
  },
  {
   "cell_type": "code",
   "execution_count": 8,
   "id": "4b61dd19-0a36-4263-8542-1eb359d739c0",
   "metadata": {},
   "outputs": [
    {
     "data": {
      "text/html": [
       "<div>\n",
       "<style scoped>\n",
       "    .dataframe tbody tr th:only-of-type {\n",
       "        vertical-align: middle;\n",
       "    }\n",
       "\n",
       "    .dataframe tbody tr th {\n",
       "        vertical-align: top;\n",
       "    }\n",
       "\n",
       "    .dataframe thead th {\n",
       "        text-align: right;\n",
       "    }\n",
       "</style>\n",
       "<table border=\"1\" class=\"dataframe\">\n",
       "  <thead>\n",
       "    <tr style=\"text-align: right;\">\n",
       "      <th></th>\n",
       "      <th>uri</th>\n",
       "      <th>tal</th>\n",
       "      <th>asn</th>\n",
       "      <th>prefix</th>\n",
       "      <th>max_length</th>\n",
       "      <th>rir</th>\n",
       "      <th>opaque_id</th>\n",
       "      <th>containing_rir</th>\n",
       "    </tr>\n",
       "  </thead>\n",
       "  <tbody>\n",
       "    <tr>\n",
       "      <th>19295</th>\n",
       "      <td>rsync://repo-rpki.idnic.net/repo/943e2e67-a171...</td>\n",
       "      <td>apnic</td>\n",
       "      <td>AS24532</td>\n",
       "      <td>27.111.32.0/19</td>\n",
       "      <td>24</td>\n",
       "      <td>apnic-multi-opaque-id</td>\n",
       "      <td>A9227744_A92C2F3F</td>\n",
       "      <td>apnic</td>\n",
       "    </tr>\n",
       "    <tr>\n",
       "      <th>42420</th>\n",
       "      <td>rsync://rpki.cnnic.cn/rpki/A9162E3D0000/137/OX...</td>\n",
       "      <td>apnic</td>\n",
       "      <td>AS24426</td>\n",
       "      <td>43.236.0.0/16</td>\n",
       "      <td>16</td>\n",
       "      <td>apnic-multi-opaque-id</td>\n",
       "      <td>A921CFB0_A927E4E8_A9225E10_A928C453_A9273302_A...</td>\n",
       "      <td>apnic</td>\n",
       "    </tr>\n",
       "    <tr>\n",
       "      <th>42421</th>\n",
       "      <td>rsync://rpki.cnnic.cn/rpki/A9162E3D0000/137/pg...</td>\n",
       "      <td>apnic</td>\n",
       "      <td>AS24426</td>\n",
       "      <td>43.239.0.0/19</td>\n",
       "      <td>19</td>\n",
       "      <td>apnic-multi-opaque-id</td>\n",
       "      <td>A92B5680_A92ED1B6_A92A4917_A928BCC2_A926F8AD_A...</td>\n",
       "      <td>apnic</td>\n",
       "    </tr>\n",
       "    <tr>\n",
       "      <th>42422</th>\n",
       "      <td>rsync://rpki.cnnic.cn/rpki/A9162E3D0000/137/q0...</td>\n",
       "      <td>apnic</td>\n",
       "      <td>AS24426</td>\n",
       "      <td>43.239.32.0/20</td>\n",
       "      <td>20</td>\n",
       "      <td>apnic-multi-opaque-id</td>\n",
       "      <td>A92584A2_A92EA8D8_A92B7C8D_A92AE769</td>\n",
       "      <td>apnic</td>\n",
       "    </tr>\n",
       "    <tr>\n",
       "      <th>43066</th>\n",
       "      <td>rsync://rpki.cnnic.cn/rpki/A9162E3D0000/890/Y_...</td>\n",
       "      <td>apnic</td>\n",
       "      <td>AS63567</td>\n",
       "      <td>43.248.176.0/20</td>\n",
       "      <td>20</td>\n",
       "      <td>apnic-multi-opaque-id</td>\n",
       "      <td>A92937E6_A9299EB8_A923C604_A92D4787</td>\n",
       "      <td>apnic</td>\n",
       "    </tr>\n",
       "    <tr>\n",
       "      <th>51275</th>\n",
       "      <td>rsync://rpki.ripe.net/repository/DEFAULT/cc/b7...</td>\n",
       "      <td>ripe</td>\n",
       "      <td>AS208058</td>\n",
       "      <td>45.145.39.0/24</td>\n",
       "      <td>24</td>\n",
       "      <td>None</td>\n",
       "      <td>None</td>\n",
       "      <td>None</td>\n",
       "    </tr>\n",
       "    <tr>\n",
       "      <th>148906</th>\n",
       "      <td>rsync://rpki.ripe.net/repository/DEFAULT/b7/4f...</td>\n",
       "      <td>ripe</td>\n",
       "      <td>AS7018</td>\n",
       "      <td>91.207.19.0/24</td>\n",
       "      <td>24</td>\n",
       "      <td>None</td>\n",
       "      <td>None</td>\n",
       "      <td>None</td>\n",
       "    </tr>\n",
       "    <tr>\n",
       "      <th>177665</th>\n",
       "      <td>rsync://rpki.apnic.net/member_repository/A918E...</td>\n",
       "      <td>apnic</td>\n",
       "      <td>AS45769</td>\n",
       "      <td>103.26.232.0/22</td>\n",
       "      <td>24</td>\n",
       "      <td>apnic-multi-opaque-id</td>\n",
       "      <td>A9230910_A92927D9</td>\n",
       "      <td>apnic</td>\n",
       "    </tr>\n",
       "    <tr>\n",
       "      <th>178066</th>\n",
       "      <td>rsync://rpki.cnnic.cn/rpki/A9162E3D0000/137/pg...</td>\n",
       "      <td>apnic</td>\n",
       "      <td>AS24426</td>\n",
       "      <td>103.35.0.0/19</td>\n",
       "      <td>19</td>\n",
       "      <td>apnic-multi-opaque-id</td>\n",
       "      <td>A92B5680_A92ED1B6_A92A4917_A92D3AA6_A9288770_A...</td>\n",
       "      <td>apnic</td>\n",
       "    </tr>\n",
       "    <tr>\n",
       "      <th>178067</th>\n",
       "      <td>rsync://rpki.cnnic.cn/rpki/A9162E3D0000/137/q0...</td>\n",
       "      <td>apnic</td>\n",
       "      <td>AS24426</td>\n",
       "      <td>103.35.32.0/20</td>\n",
       "      <td>20</td>\n",
       "      <td>apnic-multi-opaque-id</td>\n",
       "      <td>A92584A2_A92EA8D8_A92B7C8D_A92AE769</td>\n",
       "      <td>apnic</td>\n",
       "    </tr>\n",
       "    <tr>\n",
       "      <th>181090</th>\n",
       "      <td>rsync://rpki.apnic.net/member_repository/A9142...</td>\n",
       "      <td>apnic</td>\n",
       "      <td>AS132686</td>\n",
       "      <td>103.73.236.0/24</td>\n",
       "      <td>24</td>\n",
       "      <td>None</td>\n",
       "      <td>None</td>\n",
       "      <td>None</td>\n",
       "    </tr>\n",
       "    <tr>\n",
       "      <th>181091</th>\n",
       "      <td>rsync://rpki.apnic.net/member_repository/A9142...</td>\n",
       "      <td>apnic</td>\n",
       "      <td>AS132686</td>\n",
       "      <td>103.73.237.0/24</td>\n",
       "      <td>24</td>\n",
       "      <td>None</td>\n",
       "      <td>None</td>\n",
       "      <td>None</td>\n",
       "    </tr>\n",
       "    <tr>\n",
       "      <th>181092</th>\n",
       "      <td>rsync://rpki.apnic.net/member_repository/A9142...</td>\n",
       "      <td>apnic</td>\n",
       "      <td>AS132686</td>\n",
       "      <td>103.73.238.0/24</td>\n",
       "      <td>24</td>\n",
       "      <td>None</td>\n",
       "      <td>None</td>\n",
       "      <td>None</td>\n",
       "    </tr>\n",
       "    <tr>\n",
       "      <th>181093</th>\n",
       "      <td>rsync://rpki.apnic.net/member_repository/A9142...</td>\n",
       "      <td>apnic</td>\n",
       "      <td>AS132686</td>\n",
       "      <td>103.73.239.0/24</td>\n",
       "      <td>24</td>\n",
       "      <td>None</td>\n",
       "      <td>None</td>\n",
       "      <td>None</td>\n",
       "    </tr>\n",
       "    <tr>\n",
       "      <th>181094</th>\n",
       "      <td>rsync://rpki.apnic.net/member_repository/A9142...</td>\n",
       "      <td>apnic</td>\n",
       "      <td>AS132686</td>\n",
       "      <td>103.73.236.0/22</td>\n",
       "      <td>22</td>\n",
       "      <td>None</td>\n",
       "      <td>None</td>\n",
       "      <td>None</td>\n",
       "    </tr>\n",
       "    <tr>\n",
       "      <th>188475</th>\n",
       "      <td>rsync://repo-rpki.idnic.net/repo/IDNIC-ID/2/AS...</td>\n",
       "      <td>apnic</td>\n",
       "      <td>AS150980</td>\n",
       "      <td>103.138.166.0/23</td>\n",
       "      <td>24</td>\n",
       "      <td>apnic-multi-opaque-id</td>\n",
       "      <td>A92840D5_A92532B9</td>\n",
       "      <td>apnic</td>\n",
       "    </tr>\n",
       "    <tr>\n",
       "      <th>197737</th>\n",
       "      <td>rsync://rpki.apnic.net/member_repository/A918E...</td>\n",
       "      <td>apnic</td>\n",
       "      <td>AS9829</td>\n",
       "      <td>103.204.48.0/22</td>\n",
       "      <td>22</td>\n",
       "      <td>apnic-multi-opaque-id</td>\n",
       "      <td>A92C6BC8_A929D211</td>\n",
       "      <td>apnic</td>\n",
       "    </tr>\n",
       "    <tr>\n",
       "      <th>198384</th>\n",
       "      <td>rsync://rpki.apnic.net/member_repository/A9175...</td>\n",
       "      <td>apnic</td>\n",
       "      <td>AS215938</td>\n",
       "      <td>103.211.100.0/24</td>\n",
       "      <td>24</td>\n",
       "      <td>ripencc</td>\n",
       "      <td>e82a79d6-0c6c-47ae-8c7d-bf74f3907033</td>\n",
       "      <td>ripencc</td>\n",
       "    </tr>\n",
       "    <tr>\n",
       "      <th>198386</th>\n",
       "      <td>rsync://rpki.apnic.net/member_repository/A9175...</td>\n",
       "      <td>apnic</td>\n",
       "      <td>AS30860</td>\n",
       "      <td>103.211.101.0/24</td>\n",
       "      <td>24</td>\n",
       "      <td>ripencc</td>\n",
       "      <td>e82a79d6-0c6c-47ae-8c7d-bf74f3907033</td>\n",
       "      <td>ripencc</td>\n",
       "    </tr>\n",
       "    <tr>\n",
       "      <th>201353</th>\n",
       "      <td>rsync://rpki.apnic.net/member_repository/A918E...</td>\n",
       "      <td>apnic</td>\n",
       "      <td>AS132556</td>\n",
       "      <td>103.245.188.0/23</td>\n",
       "      <td>23</td>\n",
       "      <td>apnic-multi-opaque-id</td>\n",
       "      <td>A925AE36_A924741C</td>\n",
       "      <td>apnic</td>\n",
       "    </tr>\n",
       "    <tr>\n",
       "      <th>266148</th>\n",
       "      <td>rsync://rpki.apnic.net/member_repository/A913C...</td>\n",
       "      <td>apnic</td>\n",
       "      <td>AS152447</td>\n",
       "      <td>157.15.52.0/24</td>\n",
       "      <td>24</td>\n",
       "      <td>None</td>\n",
       "      <td>None</td>\n",
       "      <td>None</td>\n",
       "    </tr>\n",
       "    <tr>\n",
       "      <th>266149</th>\n",
       "      <td>rsync://rpki.apnic.net/member_repository/A913C...</td>\n",
       "      <td>apnic</td>\n",
       "      <td>AS152447</td>\n",
       "      <td>157.15.53.0/24</td>\n",
       "      <td>24</td>\n",
       "      <td>None</td>\n",
       "      <td>None</td>\n",
       "      <td>None</td>\n",
       "    </tr>\n",
       "    <tr>\n",
       "      <th>266150</th>\n",
       "      <td>rsync://rpki.apnic.net/member_repository/A913C...</td>\n",
       "      <td>apnic</td>\n",
       "      <td>AS152447</td>\n",
       "      <td>157.15.52.0/23</td>\n",
       "      <td>23</td>\n",
       "      <td>None</td>\n",
       "      <td>None</td>\n",
       "      <td>None</td>\n",
       "    </tr>\n",
       "    <tr>\n",
       "      <th>266151</th>\n",
       "      <td>rsync://rpki.apnic.net/member_repository/A914E...</td>\n",
       "      <td>apnic</td>\n",
       "      <td>AS152449</td>\n",
       "      <td>157.15.60.0/24</td>\n",
       "      <td>24</td>\n",
       "      <td>None</td>\n",
       "      <td>None</td>\n",
       "      <td>None</td>\n",
       "    </tr>\n",
       "    <tr>\n",
       "      <th>266152</th>\n",
       "      <td>rsync://rpki.apnic.net/member_repository/A914E...</td>\n",
       "      <td>apnic</td>\n",
       "      <td>AS152449</td>\n",
       "      <td>157.15.61.0/24</td>\n",
       "      <td>24</td>\n",
       "      <td>None</td>\n",
       "      <td>None</td>\n",
       "      <td>None</td>\n",
       "    </tr>\n",
       "    <tr>\n",
       "      <th>359209</th>\n",
       "      <td>rsync://rpki.ripe.net/repository/DEFAULT/9b/aa...</td>\n",
       "      <td>ripe</td>\n",
       "      <td>AS680</td>\n",
       "      <td>194.15.138.0/23</td>\n",
       "      <td>24</td>\n",
       "      <td>ripencc-multi-opaque-id</td>\n",
       "      <td>681f5c0e-61d5-47cb-b0d1-e6c7a59b9873_047aa4c1-...</td>\n",
       "      <td>ripencc</td>\n",
       "    </tr>\n",
       "    <tr>\n",
       "      <th>379377</th>\n",
       "      <td>rsync://repo-rpki.idnic.net/repo/IDNIC-ID/2/AS...</td>\n",
       "      <td>apnic</td>\n",
       "      <td>AS55685</td>\n",
       "      <td>202.51.192.0/21</td>\n",
       "      <td>24</td>\n",
       "      <td>apnic-multi-opaque-id</td>\n",
       "      <td>A92B9C35_A92779C5</td>\n",
       "      <td>apnic</td>\n",
       "    </tr>\n",
       "    <tr>\n",
       "      <th>379845</th>\n",
       "      <td>rsync://repo-rpki.idnic.net/repo/IDNIC-ID/2/AS...</td>\n",
       "      <td>apnic</td>\n",
       "      <td>AS9326</td>\n",
       "      <td>202.57.0.0/20</td>\n",
       "      <td>24</td>\n",
       "      <td>apnic-multi-opaque-id</td>\n",
       "      <td>A9186214_A9245BA5</td>\n",
       "      <td>apnic</td>\n",
       "    </tr>\n",
       "    <tr>\n",
       "      <th>384490</th>\n",
       "      <td>rsync://repo-rpki.idnic.net/repo/2fb70818-2366...</td>\n",
       "      <td>apnic</td>\n",
       "      <td>AS10217</td>\n",
       "      <td>202.171.0.0/19</td>\n",
       "      <td>19</td>\n",
       "      <td>apnic-multi-opaque-id</td>\n",
       "      <td>A9292B79_A9186214</td>\n",
       "      <td>apnic</td>\n",
       "    </tr>\n",
       "    <tr>\n",
       "      <th>391224</th>\n",
       "      <td>rsync://rpki.apnic.net/member_repository/A91A5...</td>\n",
       "      <td>apnic</td>\n",
       "      <td>AS45899</td>\n",
       "      <td>203.210.128.0/17</td>\n",
       "      <td>24</td>\n",
       "      <td>apnic-multi-opaque-id</td>\n",
       "      <td>A92BA6BC_A91A560A</td>\n",
       "      <td>apnic</td>\n",
       "    </tr>\n",
       "    <tr>\n",
       "      <th>450103</th>\n",
       "      <td>rsync://rpki.apnic.net/member_repository/A913C...</td>\n",
       "      <td>apnic</td>\n",
       "      <td>AS152447</td>\n",
       "      <td>2401:7ae0::/36</td>\n",
       "      <td>36</td>\n",
       "      <td>None</td>\n",
       "      <td>None</td>\n",
       "      <td>None</td>\n",
       "    </tr>\n",
       "    <tr>\n",
       "      <th>450104</th>\n",
       "      <td>rsync://rpki.apnic.net/member_repository/A913C...</td>\n",
       "      <td>apnic</td>\n",
       "      <td>AS152447</td>\n",
       "      <td>2401:7ae0:4000::/36</td>\n",
       "      <td>36</td>\n",
       "      <td>None</td>\n",
       "      <td>None</td>\n",
       "      <td>None</td>\n",
       "    </tr>\n",
       "    <tr>\n",
       "      <th>450105</th>\n",
       "      <td>rsync://rpki.apnic.net/member_repository/A913C...</td>\n",
       "      <td>apnic</td>\n",
       "      <td>AS152447</td>\n",
       "      <td>2401:7ae0:c000::/36</td>\n",
       "      <td>36</td>\n",
       "      <td>None</td>\n",
       "      <td>None</td>\n",
       "      <td>None</td>\n",
       "    </tr>\n",
       "    <tr>\n",
       "      <th>450106</th>\n",
       "      <td>rsync://rpki.apnic.net/member_repository/A913C...</td>\n",
       "      <td>apnic</td>\n",
       "      <td>AS152447</td>\n",
       "      <td>2401:7ae0::/32</td>\n",
       "      <td>32</td>\n",
       "      <td>None</td>\n",
       "      <td>None</td>\n",
       "      <td>None</td>\n",
       "    </tr>\n",
       "    <tr>\n",
       "      <th>458896</th>\n",
       "      <td>rsync://rpki.apnic.net/member_repository/A91A5...</td>\n",
       "      <td>apnic</td>\n",
       "      <td>AS18403</td>\n",
       "      <td>2405:4800::/30</td>\n",
       "      <td>31</td>\n",
       "      <td>apnic-multi-opaque-id</td>\n",
       "      <td>A9271131_A924183D</td>\n",
       "      <td>apnic</td>\n",
       "    </tr>\n",
       "  </tbody>\n",
       "</table>\n",
       "</div>"
      ],
      "text/plain": [
       "                                                      uri    tal       asn  \\\n",
       "19295   rsync://repo-rpki.idnic.net/repo/943e2e67-a171...  apnic   AS24532   \n",
       "42420   rsync://rpki.cnnic.cn/rpki/A9162E3D0000/137/OX...  apnic   AS24426   \n",
       "42421   rsync://rpki.cnnic.cn/rpki/A9162E3D0000/137/pg...  apnic   AS24426   \n",
       "42422   rsync://rpki.cnnic.cn/rpki/A9162E3D0000/137/q0...  apnic   AS24426   \n",
       "43066   rsync://rpki.cnnic.cn/rpki/A9162E3D0000/890/Y_...  apnic   AS63567   \n",
       "51275   rsync://rpki.ripe.net/repository/DEFAULT/cc/b7...   ripe  AS208058   \n",
       "148906  rsync://rpki.ripe.net/repository/DEFAULT/b7/4f...   ripe    AS7018   \n",
       "177665  rsync://rpki.apnic.net/member_repository/A918E...  apnic   AS45769   \n",
       "178066  rsync://rpki.cnnic.cn/rpki/A9162E3D0000/137/pg...  apnic   AS24426   \n",
       "178067  rsync://rpki.cnnic.cn/rpki/A9162E3D0000/137/q0...  apnic   AS24426   \n",
       "181090  rsync://rpki.apnic.net/member_repository/A9142...  apnic  AS132686   \n",
       "181091  rsync://rpki.apnic.net/member_repository/A9142...  apnic  AS132686   \n",
       "181092  rsync://rpki.apnic.net/member_repository/A9142...  apnic  AS132686   \n",
       "181093  rsync://rpki.apnic.net/member_repository/A9142...  apnic  AS132686   \n",
       "181094  rsync://rpki.apnic.net/member_repository/A9142...  apnic  AS132686   \n",
       "188475  rsync://repo-rpki.idnic.net/repo/IDNIC-ID/2/AS...  apnic  AS150980   \n",
       "197737  rsync://rpki.apnic.net/member_repository/A918E...  apnic    AS9829   \n",
       "198384  rsync://rpki.apnic.net/member_repository/A9175...  apnic  AS215938   \n",
       "198386  rsync://rpki.apnic.net/member_repository/A9175...  apnic   AS30860   \n",
       "201353  rsync://rpki.apnic.net/member_repository/A918E...  apnic  AS132556   \n",
       "266148  rsync://rpki.apnic.net/member_repository/A913C...  apnic  AS152447   \n",
       "266149  rsync://rpki.apnic.net/member_repository/A913C...  apnic  AS152447   \n",
       "266150  rsync://rpki.apnic.net/member_repository/A913C...  apnic  AS152447   \n",
       "266151  rsync://rpki.apnic.net/member_repository/A914E...  apnic  AS152449   \n",
       "266152  rsync://rpki.apnic.net/member_repository/A914E...  apnic  AS152449   \n",
       "359209  rsync://rpki.ripe.net/repository/DEFAULT/9b/aa...   ripe     AS680   \n",
       "379377  rsync://repo-rpki.idnic.net/repo/IDNIC-ID/2/AS...  apnic   AS55685   \n",
       "379845  rsync://repo-rpki.idnic.net/repo/IDNIC-ID/2/AS...  apnic    AS9326   \n",
       "384490  rsync://repo-rpki.idnic.net/repo/2fb70818-2366...  apnic   AS10217   \n",
       "391224  rsync://rpki.apnic.net/member_repository/A91A5...  apnic   AS45899   \n",
       "450103  rsync://rpki.apnic.net/member_repository/A913C...  apnic  AS152447   \n",
       "450104  rsync://rpki.apnic.net/member_repository/A913C...  apnic  AS152447   \n",
       "450105  rsync://rpki.apnic.net/member_repository/A913C...  apnic  AS152447   \n",
       "450106  rsync://rpki.apnic.net/member_repository/A913C...  apnic  AS152447   \n",
       "458896  rsync://rpki.apnic.net/member_repository/A91A5...  apnic   AS18403   \n",
       "\n",
       "                     prefix  max_length                      rir  \\\n",
       "19295        27.111.32.0/19          24    apnic-multi-opaque-id   \n",
       "42420         43.236.0.0/16          16    apnic-multi-opaque-id   \n",
       "42421         43.239.0.0/19          19    apnic-multi-opaque-id   \n",
       "42422        43.239.32.0/20          20    apnic-multi-opaque-id   \n",
       "43066       43.248.176.0/20          20    apnic-multi-opaque-id   \n",
       "51275        45.145.39.0/24          24                     None   \n",
       "148906       91.207.19.0/24          24                     None   \n",
       "177665      103.26.232.0/22          24    apnic-multi-opaque-id   \n",
       "178066        103.35.0.0/19          19    apnic-multi-opaque-id   \n",
       "178067       103.35.32.0/20          20    apnic-multi-opaque-id   \n",
       "181090      103.73.236.0/24          24                     None   \n",
       "181091      103.73.237.0/24          24                     None   \n",
       "181092      103.73.238.0/24          24                     None   \n",
       "181093      103.73.239.0/24          24                     None   \n",
       "181094      103.73.236.0/22          22                     None   \n",
       "188475     103.138.166.0/23          24    apnic-multi-opaque-id   \n",
       "197737      103.204.48.0/22          22    apnic-multi-opaque-id   \n",
       "198384     103.211.100.0/24          24                  ripencc   \n",
       "198386     103.211.101.0/24          24                  ripencc   \n",
       "201353     103.245.188.0/23          23    apnic-multi-opaque-id   \n",
       "266148       157.15.52.0/24          24                     None   \n",
       "266149       157.15.53.0/24          24                     None   \n",
       "266150       157.15.52.0/23          23                     None   \n",
       "266151       157.15.60.0/24          24                     None   \n",
       "266152       157.15.61.0/24          24                     None   \n",
       "359209      194.15.138.0/23          24  ripencc-multi-opaque-id   \n",
       "379377      202.51.192.0/21          24    apnic-multi-opaque-id   \n",
       "379845        202.57.0.0/20          24    apnic-multi-opaque-id   \n",
       "384490       202.171.0.0/19          19    apnic-multi-opaque-id   \n",
       "391224     203.210.128.0/17          24    apnic-multi-opaque-id   \n",
       "450103       2401:7ae0::/36          36                     None   \n",
       "450104  2401:7ae0:4000::/36          36                     None   \n",
       "450105  2401:7ae0:c000::/36          36                     None   \n",
       "450106       2401:7ae0::/32          32                     None   \n",
       "458896       2405:4800::/30          31    apnic-multi-opaque-id   \n",
       "\n",
       "                                                opaque_id containing_rir  \n",
       "19295                                   A9227744_A92C2F3F          apnic  \n",
       "42420   A921CFB0_A927E4E8_A9225E10_A928C453_A9273302_A...          apnic  \n",
       "42421   A92B5680_A92ED1B6_A92A4917_A928BCC2_A926F8AD_A...          apnic  \n",
       "42422                 A92584A2_A92EA8D8_A92B7C8D_A92AE769          apnic  \n",
       "43066                 A92937E6_A9299EB8_A923C604_A92D4787          apnic  \n",
       "51275                                                None           None  \n",
       "148906                                               None           None  \n",
       "177665                                  A9230910_A92927D9          apnic  \n",
       "178066  A92B5680_A92ED1B6_A92A4917_A92D3AA6_A9288770_A...          apnic  \n",
       "178067                A92584A2_A92EA8D8_A92B7C8D_A92AE769          apnic  \n",
       "181090                                               None           None  \n",
       "181091                                               None           None  \n",
       "181092                                               None           None  \n",
       "181093                                               None           None  \n",
       "181094                                               None           None  \n",
       "188475                                  A92840D5_A92532B9          apnic  \n",
       "197737                                  A92C6BC8_A929D211          apnic  \n",
       "198384               e82a79d6-0c6c-47ae-8c7d-bf74f3907033        ripencc  \n",
       "198386               e82a79d6-0c6c-47ae-8c7d-bf74f3907033        ripencc  \n",
       "201353                                  A925AE36_A924741C          apnic  \n",
       "266148                                               None           None  \n",
       "266149                                               None           None  \n",
       "266150                                               None           None  \n",
       "266151                                               None           None  \n",
       "266152                                               None           None  \n",
       "359209  681f5c0e-61d5-47cb-b0d1-e6c7a59b9873_047aa4c1-...        ripencc  \n",
       "379377                                  A92B9C35_A92779C5          apnic  \n",
       "379845                                  A9186214_A9245BA5          apnic  \n",
       "384490                                  A9292B79_A9186214          apnic  \n",
       "391224                                  A92BA6BC_A91A560A          apnic  \n",
       "450103                                               None           None  \n",
       "450104                                               None           None  \n",
       "450105                                               None           None  \n",
       "450106                                               None           None  \n",
       "458896                                  A9271131_A924183D          apnic  "
      ]
     },
     "metadata": {},
     "output_type": "display_data"
    }
   ],
   "source": [
    "home = Path(expanduser(\"~\"))\n",
    "now = datetime.now()\n",
    "\n",
    "df_mismatch = df.loc[df.tal.str.replace(\"ripe\", \"ripencc\") != df.rir, ['uri', 'tal', 'asn', 'prefix', 'max_length', 'rir', 'opaque_id', 'containing_rir']]\n",
    "df_mismatch.to_excel(home / f\"Desktop/{now.strftime('%Y%m%d')}-results-results.xlsx\")\n",
    "display(df_mismatch)"
   ]
  },
  {
   "cell_type": "code",
   "execution_count": 9,
   "id": "7fc07cd7-23ec-4536-8938-46a6d9b2c650",
   "metadata": {},
   "outputs": [
    {
     "data": {
      "text/html": [
       "<div>\n",
       "<style scoped>\n",
       "    .dataframe tbody tr th:only-of-type {\n",
       "        vertical-align: middle;\n",
       "    }\n",
       "\n",
       "    .dataframe tbody tr th {\n",
       "        vertical-align: top;\n",
       "    }\n",
       "\n",
       "    .dataframe thead th {\n",
       "        text-align: right;\n",
       "    }\n",
       "</style>\n",
       "<table border=\"1\" class=\"dataframe\">\n",
       "  <thead>\n",
       "    <tr style=\"text-align: right;\">\n",
       "      <th></th>\n",
       "      <th>type</th>\n",
       "      <th>uri</th>\n",
       "      <th>tal</th>\n",
       "      <th>not_before</th>\n",
       "      <th>not_after</th>\n",
       "      <th>chain_not_before</th>\n",
       "      <th>chain_not_after</th>\n",
       "      <th>asn</th>\n",
       "      <th>prefix</th>\n",
       "      <th>max_length</th>\n",
       "      <th>rir</th>\n",
       "      <th>opaque_id</th>\n",
       "      <th>containing_rir</th>\n",
       "      <th>publication_point</th>\n",
       "    </tr>\n",
       "  </thead>\n",
       "  <tbody>\n",
       "    <tr>\n",
       "      <th>51275</th>\n",
       "      <td>roa</td>\n",
       "      <td>rsync://rpki.ripe.net/repository/DEFAULT/cc/b7...</td>\n",
       "      <td>ripe</td>\n",
       "      <td>2024-01-29T12:24:40Z</td>\n",
       "      <td>2025-07-01T00:00:00Z</td>\n",
       "      <td>2024-01-29T18:24:02Z</td>\n",
       "      <td>2024-07-01T00:00:00Z</td>\n",
       "      <td>AS208058</td>\n",
       "      <td>45.145.39.0/24</td>\n",
       "      <td>24</td>\n",
       "      <td>None</td>\n",
       "      <td>None</td>\n",
       "      <td>None</td>\n",
       "      <td>rsync://rpki.ripe.net/repository/DEFAULT/cc/b7...</td>\n",
       "    </tr>\n",
       "    <tr>\n",
       "      <th>148906</th>\n",
       "      <td>roa</td>\n",
       "      <td>rsync://rpki.ripe.net/repository/DEFAULT/b7/4f...</td>\n",
       "      <td>ripe</td>\n",
       "      <td>2024-01-29T12:08:39Z</td>\n",
       "      <td>2025-07-01T00:00:00Z</td>\n",
       "      <td>2024-01-29T18:24:02Z</td>\n",
       "      <td>2024-07-01T00:00:00Z</td>\n",
       "      <td>AS7018</td>\n",
       "      <td>91.207.19.0/24</td>\n",
       "      <td>24</td>\n",
       "      <td>None</td>\n",
       "      <td>None</td>\n",
       "      <td>None</td>\n",
       "      <td>rsync://rpki.ripe.net/repository/DEFAULT/b7/4f...</td>\n",
       "    </tr>\n",
       "    <tr>\n",
       "      <th>181090</th>\n",
       "      <td>roa</td>\n",
       "      <td>rsync://rpki.apnic.net/member_repository/A9142...</td>\n",
       "      <td>apnic</td>\n",
       "      <td>2024-01-29T03:45:12Z</td>\n",
       "      <td>2024-12-01T00:00:00Z</td>\n",
       "      <td>2024-01-29T03:45:12Z</td>\n",
       "      <td>2024-05-02T09:05:49Z</td>\n",
       "      <td>AS132686</td>\n",
       "      <td>103.73.236.0/24</td>\n",
       "      <td>24</td>\n",
       "      <td>None</td>\n",
       "      <td>None</td>\n",
       "      <td>None</td>\n",
       "      <td>rsync://rpki.apnic.net/member_repository/A9142...</td>\n",
       "    </tr>\n",
       "    <tr>\n",
       "      <th>181091</th>\n",
       "      <td>roa</td>\n",
       "      <td>rsync://rpki.apnic.net/member_repository/A9142...</td>\n",
       "      <td>apnic</td>\n",
       "      <td>2024-01-29T03:45:12Z</td>\n",
       "      <td>2024-12-01T00:00:00Z</td>\n",
       "      <td>2024-01-29T03:45:12Z</td>\n",
       "      <td>2024-05-02T09:05:49Z</td>\n",
       "      <td>AS132686</td>\n",
       "      <td>103.73.237.0/24</td>\n",
       "      <td>24</td>\n",
       "      <td>None</td>\n",
       "      <td>None</td>\n",
       "      <td>None</td>\n",
       "      <td>rsync://rpki.apnic.net/member_repository/A9142...</td>\n",
       "    </tr>\n",
       "    <tr>\n",
       "      <th>181092</th>\n",
       "      <td>roa</td>\n",
       "      <td>rsync://rpki.apnic.net/member_repository/A9142...</td>\n",
       "      <td>apnic</td>\n",
       "      <td>2024-01-29T03:45:12Z</td>\n",
       "      <td>2024-12-01T00:00:00Z</td>\n",
       "      <td>2024-01-29T03:45:12Z</td>\n",
       "      <td>2024-05-02T09:05:49Z</td>\n",
       "      <td>AS132686</td>\n",
       "      <td>103.73.238.0/24</td>\n",
       "      <td>24</td>\n",
       "      <td>None</td>\n",
       "      <td>None</td>\n",
       "      <td>None</td>\n",
       "      <td>rsync://rpki.apnic.net/member_repository/A9142...</td>\n",
       "    </tr>\n",
       "    <tr>\n",
       "      <th>181093</th>\n",
       "      <td>roa</td>\n",
       "      <td>rsync://rpki.apnic.net/member_repository/A9142...</td>\n",
       "      <td>apnic</td>\n",
       "      <td>2024-01-29T03:45:12Z</td>\n",
       "      <td>2024-12-01T00:00:00Z</td>\n",
       "      <td>2024-01-29T03:45:12Z</td>\n",
       "      <td>2024-05-02T09:05:49Z</td>\n",
       "      <td>AS132686</td>\n",
       "      <td>103.73.239.0/24</td>\n",
       "      <td>24</td>\n",
       "      <td>None</td>\n",
       "      <td>None</td>\n",
       "      <td>None</td>\n",
       "      <td>rsync://rpki.apnic.net/member_repository/A9142...</td>\n",
       "    </tr>\n",
       "    <tr>\n",
       "      <th>181094</th>\n",
       "      <td>roa</td>\n",
       "      <td>rsync://rpki.apnic.net/member_repository/A9142...</td>\n",
       "      <td>apnic</td>\n",
       "      <td>2024-01-29T03:45:12Z</td>\n",
       "      <td>2024-12-01T00:00:00Z</td>\n",
       "      <td>2024-01-29T03:45:12Z</td>\n",
       "      <td>2024-05-02T09:05:49Z</td>\n",
       "      <td>AS132686</td>\n",
       "      <td>103.73.236.0/22</td>\n",
       "      <td>22</td>\n",
       "      <td>None</td>\n",
       "      <td>None</td>\n",
       "      <td>None</td>\n",
       "      <td>rsync://rpki.apnic.net/member_repository/A9142...</td>\n",
       "    </tr>\n",
       "    <tr>\n",
       "      <th>266148</th>\n",
       "      <td>roa</td>\n",
       "      <td>rsync://rpki.apnic.net/member_repository/A913C...</td>\n",
       "      <td>apnic</td>\n",
       "      <td>2024-01-29T05:40:08Z</td>\n",
       "      <td>2025-05-01T00:00:00Z</td>\n",
       "      <td>2024-01-29T05:40:08Z</td>\n",
       "      <td>2024-05-02T09:05:49Z</td>\n",
       "      <td>AS152447</td>\n",
       "      <td>157.15.52.0/24</td>\n",
       "      <td>24</td>\n",
       "      <td>None</td>\n",
       "      <td>None</td>\n",
       "      <td>None</td>\n",
       "      <td>rsync://rpki.apnic.net/member_repository/A913C...</td>\n",
       "    </tr>\n",
       "    <tr>\n",
       "      <th>266149</th>\n",
       "      <td>roa</td>\n",
       "      <td>rsync://rpki.apnic.net/member_repository/A913C...</td>\n",
       "      <td>apnic</td>\n",
       "      <td>2024-01-29T05:40:08Z</td>\n",
       "      <td>2025-05-01T00:00:00Z</td>\n",
       "      <td>2024-01-29T05:40:08Z</td>\n",
       "      <td>2024-05-02T09:05:49Z</td>\n",
       "      <td>AS152447</td>\n",
       "      <td>157.15.53.0/24</td>\n",
       "      <td>24</td>\n",
       "      <td>None</td>\n",
       "      <td>None</td>\n",
       "      <td>None</td>\n",
       "      <td>rsync://rpki.apnic.net/member_repository/A913C...</td>\n",
       "    </tr>\n",
       "    <tr>\n",
       "      <th>266150</th>\n",
       "      <td>roa</td>\n",
       "      <td>rsync://rpki.apnic.net/member_repository/A913C...</td>\n",
       "      <td>apnic</td>\n",
       "      <td>2024-01-29T05:40:08Z</td>\n",
       "      <td>2025-05-01T00:00:00Z</td>\n",
       "      <td>2024-01-29T05:40:08Z</td>\n",
       "      <td>2024-05-02T09:05:49Z</td>\n",
       "      <td>AS152447</td>\n",
       "      <td>157.15.52.0/23</td>\n",
       "      <td>23</td>\n",
       "      <td>None</td>\n",
       "      <td>None</td>\n",
       "      <td>None</td>\n",
       "      <td>rsync://rpki.apnic.net/member_repository/A913C...</td>\n",
       "    </tr>\n",
       "    <tr>\n",
       "      <th>266151</th>\n",
       "      <td>roa</td>\n",
       "      <td>rsync://rpki.apnic.net/member_repository/A914E...</td>\n",
       "      <td>apnic</td>\n",
       "      <td>2024-01-30T05:34:19Z</td>\n",
       "      <td>2025-05-01T00:00:00Z</td>\n",
       "      <td>2024-01-30T05:34:19Z</td>\n",
       "      <td>2024-05-02T09:05:49Z</td>\n",
       "      <td>AS152449</td>\n",
       "      <td>157.15.60.0/24</td>\n",
       "      <td>24</td>\n",
       "      <td>None</td>\n",
       "      <td>None</td>\n",
       "      <td>None</td>\n",
       "      <td>rsync://rpki.apnic.net/member_repository/A914E...</td>\n",
       "    </tr>\n",
       "    <tr>\n",
       "      <th>266152</th>\n",
       "      <td>roa</td>\n",
       "      <td>rsync://rpki.apnic.net/member_repository/A914E...</td>\n",
       "      <td>apnic</td>\n",
       "      <td>2024-01-30T05:34:19Z</td>\n",
       "      <td>2025-05-01T00:00:00Z</td>\n",
       "      <td>2024-01-30T05:34:19Z</td>\n",
       "      <td>2024-05-02T09:05:49Z</td>\n",
       "      <td>AS152449</td>\n",
       "      <td>157.15.61.0/24</td>\n",
       "      <td>24</td>\n",
       "      <td>None</td>\n",
       "      <td>None</td>\n",
       "      <td>None</td>\n",
       "      <td>rsync://rpki.apnic.net/member_repository/A914E...</td>\n",
       "    </tr>\n",
       "    <tr>\n",
       "      <th>450103</th>\n",
       "      <td>roa</td>\n",
       "      <td>rsync://rpki.apnic.net/member_repository/A913C...</td>\n",
       "      <td>apnic</td>\n",
       "      <td>2024-01-29T09:43:48Z</td>\n",
       "      <td>2025-05-01T00:00:00Z</td>\n",
       "      <td>2024-01-29T09:43:48Z</td>\n",
       "      <td>2024-05-02T09:05:49Z</td>\n",
       "      <td>AS152447</td>\n",
       "      <td>2401:7ae0::/36</td>\n",
       "      <td>36</td>\n",
       "      <td>None</td>\n",
       "      <td>None</td>\n",
       "      <td>None</td>\n",
       "      <td>rsync://rpki.apnic.net/member_repository/A913C...</td>\n",
       "    </tr>\n",
       "    <tr>\n",
       "      <th>450104</th>\n",
       "      <td>roa</td>\n",
       "      <td>rsync://rpki.apnic.net/member_repository/A913C...</td>\n",
       "      <td>apnic</td>\n",
       "      <td>2024-01-29T09:43:48Z</td>\n",
       "      <td>2025-05-01T00:00:00Z</td>\n",
       "      <td>2024-01-29T09:43:48Z</td>\n",
       "      <td>2024-05-02T09:05:49Z</td>\n",
       "      <td>AS152447</td>\n",
       "      <td>2401:7ae0:4000::/36</td>\n",
       "      <td>36</td>\n",
       "      <td>None</td>\n",
       "      <td>None</td>\n",
       "      <td>None</td>\n",
       "      <td>rsync://rpki.apnic.net/member_repository/A913C...</td>\n",
       "    </tr>\n",
       "    <tr>\n",
       "      <th>450105</th>\n",
       "      <td>roa</td>\n",
       "      <td>rsync://rpki.apnic.net/member_repository/A913C...</td>\n",
       "      <td>apnic</td>\n",
       "      <td>2024-01-29T09:43:48Z</td>\n",
       "      <td>2025-05-01T00:00:00Z</td>\n",
       "      <td>2024-01-29T09:43:48Z</td>\n",
       "      <td>2024-05-02T09:05:49Z</td>\n",
       "      <td>AS152447</td>\n",
       "      <td>2401:7ae0:c000::/36</td>\n",
       "      <td>36</td>\n",
       "      <td>None</td>\n",
       "      <td>None</td>\n",
       "      <td>None</td>\n",
       "      <td>rsync://rpki.apnic.net/member_repository/A913C...</td>\n",
       "    </tr>\n",
       "    <tr>\n",
       "      <th>450106</th>\n",
       "      <td>roa</td>\n",
       "      <td>rsync://rpki.apnic.net/member_repository/A913C...</td>\n",
       "      <td>apnic</td>\n",
       "      <td>2024-01-29T09:43:48Z</td>\n",
       "      <td>2025-05-01T00:00:00Z</td>\n",
       "      <td>2024-01-29T09:43:48Z</td>\n",
       "      <td>2024-05-02T09:05:49Z</td>\n",
       "      <td>AS152447</td>\n",
       "      <td>2401:7ae0::/32</td>\n",
       "      <td>32</td>\n",
       "      <td>None</td>\n",
       "      <td>None</td>\n",
       "      <td>None</td>\n",
       "      <td>rsync://rpki.apnic.net/member_repository/A913C...</td>\n",
       "    </tr>\n",
       "  </tbody>\n",
       "</table>\n",
       "</div>"
      ],
      "text/plain": [
       "       type                                                uri    tal  \\\n",
       "51275   roa  rsync://rpki.ripe.net/repository/DEFAULT/cc/b7...   ripe   \n",
       "148906  roa  rsync://rpki.ripe.net/repository/DEFAULT/b7/4f...   ripe   \n",
       "181090  roa  rsync://rpki.apnic.net/member_repository/A9142...  apnic   \n",
       "181091  roa  rsync://rpki.apnic.net/member_repository/A9142...  apnic   \n",
       "181092  roa  rsync://rpki.apnic.net/member_repository/A9142...  apnic   \n",
       "181093  roa  rsync://rpki.apnic.net/member_repository/A9142...  apnic   \n",
       "181094  roa  rsync://rpki.apnic.net/member_repository/A9142...  apnic   \n",
       "266148  roa  rsync://rpki.apnic.net/member_repository/A913C...  apnic   \n",
       "266149  roa  rsync://rpki.apnic.net/member_repository/A913C...  apnic   \n",
       "266150  roa  rsync://rpki.apnic.net/member_repository/A913C...  apnic   \n",
       "266151  roa  rsync://rpki.apnic.net/member_repository/A914E...  apnic   \n",
       "266152  roa  rsync://rpki.apnic.net/member_repository/A914E...  apnic   \n",
       "450103  roa  rsync://rpki.apnic.net/member_repository/A913C...  apnic   \n",
       "450104  roa  rsync://rpki.apnic.net/member_repository/A913C...  apnic   \n",
       "450105  roa  rsync://rpki.apnic.net/member_repository/A913C...  apnic   \n",
       "450106  roa  rsync://rpki.apnic.net/member_repository/A913C...  apnic   \n",
       "\n",
       "                  not_before             not_after      chain_not_before  \\\n",
       "51275   2024-01-29T12:24:40Z  2025-07-01T00:00:00Z  2024-01-29T18:24:02Z   \n",
       "148906  2024-01-29T12:08:39Z  2025-07-01T00:00:00Z  2024-01-29T18:24:02Z   \n",
       "181090  2024-01-29T03:45:12Z  2024-12-01T00:00:00Z  2024-01-29T03:45:12Z   \n",
       "181091  2024-01-29T03:45:12Z  2024-12-01T00:00:00Z  2024-01-29T03:45:12Z   \n",
       "181092  2024-01-29T03:45:12Z  2024-12-01T00:00:00Z  2024-01-29T03:45:12Z   \n",
       "181093  2024-01-29T03:45:12Z  2024-12-01T00:00:00Z  2024-01-29T03:45:12Z   \n",
       "181094  2024-01-29T03:45:12Z  2024-12-01T00:00:00Z  2024-01-29T03:45:12Z   \n",
       "266148  2024-01-29T05:40:08Z  2025-05-01T00:00:00Z  2024-01-29T05:40:08Z   \n",
       "266149  2024-01-29T05:40:08Z  2025-05-01T00:00:00Z  2024-01-29T05:40:08Z   \n",
       "266150  2024-01-29T05:40:08Z  2025-05-01T00:00:00Z  2024-01-29T05:40:08Z   \n",
       "266151  2024-01-30T05:34:19Z  2025-05-01T00:00:00Z  2024-01-30T05:34:19Z   \n",
       "266152  2024-01-30T05:34:19Z  2025-05-01T00:00:00Z  2024-01-30T05:34:19Z   \n",
       "450103  2024-01-29T09:43:48Z  2025-05-01T00:00:00Z  2024-01-29T09:43:48Z   \n",
       "450104  2024-01-29T09:43:48Z  2025-05-01T00:00:00Z  2024-01-29T09:43:48Z   \n",
       "450105  2024-01-29T09:43:48Z  2025-05-01T00:00:00Z  2024-01-29T09:43:48Z   \n",
       "450106  2024-01-29T09:43:48Z  2025-05-01T00:00:00Z  2024-01-29T09:43:48Z   \n",
       "\n",
       "             chain_not_after       asn               prefix  max_length   rir  \\\n",
       "51275   2024-07-01T00:00:00Z  AS208058       45.145.39.0/24          24  None   \n",
       "148906  2024-07-01T00:00:00Z    AS7018       91.207.19.0/24          24  None   \n",
       "181090  2024-05-02T09:05:49Z  AS132686      103.73.236.0/24          24  None   \n",
       "181091  2024-05-02T09:05:49Z  AS132686      103.73.237.0/24          24  None   \n",
       "181092  2024-05-02T09:05:49Z  AS132686      103.73.238.0/24          24  None   \n",
       "181093  2024-05-02T09:05:49Z  AS132686      103.73.239.0/24          24  None   \n",
       "181094  2024-05-02T09:05:49Z  AS132686      103.73.236.0/22          22  None   \n",
       "266148  2024-05-02T09:05:49Z  AS152447       157.15.52.0/24          24  None   \n",
       "266149  2024-05-02T09:05:49Z  AS152447       157.15.53.0/24          24  None   \n",
       "266150  2024-05-02T09:05:49Z  AS152447       157.15.52.0/23          23  None   \n",
       "266151  2024-05-02T09:05:49Z  AS152449       157.15.60.0/24          24  None   \n",
       "266152  2024-05-02T09:05:49Z  AS152449       157.15.61.0/24          24  None   \n",
       "450103  2024-05-02T09:05:49Z  AS152447       2401:7ae0::/36          36  None   \n",
       "450104  2024-05-02T09:05:49Z  AS152447  2401:7ae0:4000::/36          36  None   \n",
       "450105  2024-05-02T09:05:49Z  AS152447  2401:7ae0:c000::/36          36  None   \n",
       "450106  2024-05-02T09:05:49Z  AS152447       2401:7ae0::/32          32  None   \n",
       "\n",
       "       opaque_id containing_rir  \\\n",
       "51275       None           None   \n",
       "148906      None           None   \n",
       "181090      None           None   \n",
       "181091      None           None   \n",
       "181092      None           None   \n",
       "181093      None           None   \n",
       "181094      None           None   \n",
       "266148      None           None   \n",
       "266149      None           None   \n",
       "266150      None           None   \n",
       "266151      None           None   \n",
       "266152      None           None   \n",
       "450103      None           None   \n",
       "450104      None           None   \n",
       "450105      None           None   \n",
       "450106      None           None   \n",
       "\n",
       "                                        publication_point  \n",
       "51275   rsync://rpki.ripe.net/repository/DEFAULT/cc/b7...  \n",
       "148906  rsync://rpki.ripe.net/repository/DEFAULT/b7/4f...  \n",
       "181090  rsync://rpki.apnic.net/member_repository/A9142...  \n",
       "181091  rsync://rpki.apnic.net/member_repository/A9142...  \n",
       "181092  rsync://rpki.apnic.net/member_repository/A9142...  \n",
       "181093  rsync://rpki.apnic.net/member_repository/A9142...  \n",
       "181094  rsync://rpki.apnic.net/member_repository/A9142...  \n",
       "266148  rsync://rpki.apnic.net/member_repository/A913C...  \n",
       "266149  rsync://rpki.apnic.net/member_repository/A913C...  \n",
       "266150  rsync://rpki.apnic.net/member_repository/A913C...  \n",
       "266151  rsync://rpki.apnic.net/member_repository/A914E...  \n",
       "266152  rsync://rpki.apnic.net/member_repository/A914E...  \n",
       "450103  rsync://rpki.apnic.net/member_repository/A913C...  \n",
       "450104  rsync://rpki.apnic.net/member_repository/A913C...  \n",
       "450105  rsync://rpki.apnic.net/member_repository/A913C...  \n",
       "450106  rsync://rpki.apnic.net/member_repository/A913C...  "
      ]
     },
     "execution_count": 9,
     "metadata": {},
     "output_type": "execute_result"
    }
   ],
   "source": [
    "df[df.containing_rir.isnull()]"
   ]
  },
  {
   "cell_type": "markdown",
   "id": "185296ca-d020-49f1-b0e4-67ee2952b8ce",
   "metadata": {},
   "source": [
    "# Duplicate VRPs\n",
    "\n",
    "Look at what VRPs are duplicated the most often and how this happens"
   ]
  },
  {
   "cell_type": "code",
   "execution_count": 10,
   "id": "aa7ca2a3-c365-4c5a-ad46-eb20c4f62f5d",
   "metadata": {},
   "outputs": [
    {
     "data": {
      "text/html": [
       "<div>\n",
       "<style scoped>\n",
       "    .dataframe tbody tr th:only-of-type {\n",
       "        vertical-align: middle;\n",
       "    }\n",
       "\n",
       "    .dataframe tbody tr th {\n",
       "        vertical-align: top;\n",
       "    }\n",
       "\n",
       "    .dataframe thead th {\n",
       "        text-align: right;\n",
       "    }\n",
       "</style>\n",
       "<table border=\"1\" class=\"dataframe\">\n",
       "  <thead>\n",
       "    <tr style=\"text-align: right;\">\n",
       "      <th></th>\n",
       "      <th></th>\n",
       "      <th></th>\n",
       "      <th></th>\n",
       "      <th>type</th>\n",
       "      <th>uri</th>\n",
       "      <th>tal</th>\n",
       "      <th>not_before</th>\n",
       "      <th>not_after</th>\n",
       "      <th>chain_not_before</th>\n",
       "      <th>chain_not_after</th>\n",
       "      <th>opaque_id</th>\n",
       "      <th>containing_rir</th>\n",
       "      <th>publication_point</th>\n",
       "    </tr>\n",
       "    <tr>\n",
       "      <th>prefix</th>\n",
       "      <th>asn</th>\n",
       "      <th>rir</th>\n",
       "      <th>max_length</th>\n",
       "      <th></th>\n",
       "      <th></th>\n",
       "      <th></th>\n",
       "      <th></th>\n",
       "      <th></th>\n",
       "      <th></th>\n",
       "      <th></th>\n",
       "      <th></th>\n",
       "      <th></th>\n",
       "      <th></th>\n",
       "    </tr>\n",
       "  </thead>\n",
       "  <tbody>\n",
       "    <tr>\n",
       "      <th>131.221.164.0/22</th>\n",
       "      <th>AS27901</th>\n",
       "      <th>lacnic</th>\n",
       "      <th>22</th>\n",
       "      <td>8</td>\n",
       "      <td>8</td>\n",
       "      <td>8</td>\n",
       "      <td>8</td>\n",
       "      <td>8</td>\n",
       "      <td>8</td>\n",
       "      <td>8</td>\n",
       "      <td>8</td>\n",
       "      <td>8</td>\n",
       "      <td>8</td>\n",
       "    </tr>\n",
       "    <tr>\n",
       "      <th>138.99.224.0/22</th>\n",
       "      <th>AS27901</th>\n",
       "      <th>lacnic</th>\n",
       "      <th>22</th>\n",
       "      <td>8</td>\n",
       "      <td>8</td>\n",
       "      <td>8</td>\n",
       "      <td>8</td>\n",
       "      <td>8</td>\n",
       "      <td>8</td>\n",
       "      <td>8</td>\n",
       "      <td>8</td>\n",
       "      <td>8</td>\n",
       "      <td>8</td>\n",
       "    </tr>\n",
       "    <tr>\n",
       "      <th>167.250.52.0/22</th>\n",
       "      <th>AS27901</th>\n",
       "      <th>lacnic</th>\n",
       "      <th>22</th>\n",
       "      <td>8</td>\n",
       "      <td>8</td>\n",
       "      <td>8</td>\n",
       "      <td>8</td>\n",
       "      <td>8</td>\n",
       "      <td>8</td>\n",
       "      <td>8</td>\n",
       "      <td>8</td>\n",
       "      <td>8</td>\n",
       "      <td>8</td>\n",
       "    </tr>\n",
       "    <tr>\n",
       "      <th>207.248.192.0/19</th>\n",
       "      <th>AS27901</th>\n",
       "      <th>lacnic</th>\n",
       "      <th>19</th>\n",
       "      <td>8</td>\n",
       "      <td>8</td>\n",
       "      <td>8</td>\n",
       "      <td>8</td>\n",
       "      <td>8</td>\n",
       "      <td>8</td>\n",
       "      <td>8</td>\n",
       "      <td>8</td>\n",
       "      <td>8</td>\n",
       "      <td>8</td>\n",
       "    </tr>\n",
       "    <tr>\n",
       "      <th>190.63.0.0/16</th>\n",
       "      <th>AS23487</th>\n",
       "      <th>lacnic</th>\n",
       "      <th>24</th>\n",
       "      <td>7</td>\n",
       "      <td>7</td>\n",
       "      <td>7</td>\n",
       "      <td>7</td>\n",
       "      <td>7</td>\n",
       "      <td>7</td>\n",
       "      <td>7</td>\n",
       "      <td>7</td>\n",
       "      <td>7</td>\n",
       "      <td>7</td>\n",
       "    </tr>\n",
       "    <tr>\n",
       "      <th>2800:430::/32</th>\n",
       "      <th>AS23487</th>\n",
       "      <th>lacnic</th>\n",
       "      <th>48</th>\n",
       "      <td>7</td>\n",
       "      <td>7</td>\n",
       "      <td>7</td>\n",
       "      <td>7</td>\n",
       "      <td>7</td>\n",
       "      <td>7</td>\n",
       "      <td>7</td>\n",
       "      <td>7</td>\n",
       "      <td>7</td>\n",
       "      <td>7</td>\n",
       "    </tr>\n",
       "    <tr>\n",
       "      <th>154.223.31.0/24</th>\n",
       "      <th>AS63139</th>\n",
       "      <th>afrinic</th>\n",
       "      <th>24</th>\n",
       "      <td>6</td>\n",
       "      <td>6</td>\n",
       "      <td>6</td>\n",
       "      <td>6</td>\n",
       "      <td>6</td>\n",
       "      <td>6</td>\n",
       "      <td>6</td>\n",
       "      <td>6</td>\n",
       "      <td>6</td>\n",
       "      <td>6</td>\n",
       "    </tr>\n",
       "    <tr>\n",
       "      <th>179.60.64.0/19</th>\n",
       "      <th>AS27901</th>\n",
       "      <th>lacnic</th>\n",
       "      <th>19</th>\n",
       "      <td>6</td>\n",
       "      <td>6</td>\n",
       "      <td>6</td>\n",
       "      <td>6</td>\n",
       "      <td>6</td>\n",
       "      <td>6</td>\n",
       "      <td>6</td>\n",
       "      <td>6</td>\n",
       "      <td>6</td>\n",
       "      <td>6</td>\n",
       "    </tr>\n",
       "    <tr>\n",
       "      <th>181.113.157.0/24</th>\n",
       "      <th>AS27757</th>\n",
       "      <th>lacnic</th>\n",
       "      <th>24</th>\n",
       "      <td>6</td>\n",
       "      <td>6</td>\n",
       "      <td>6</td>\n",
       "      <td>6</td>\n",
       "      <td>6</td>\n",
       "      <td>6</td>\n",
       "      <td>6</td>\n",
       "      <td>6</td>\n",
       "      <td>6</td>\n",
       "      <td>6</td>\n",
       "    </tr>\n",
       "    <tr>\n",
       "      <th>181.113.97.0/24</th>\n",
       "      <th>AS27757</th>\n",
       "      <th>lacnic</th>\n",
       "      <th>24</th>\n",
       "      <td>6</td>\n",
       "      <td>6</td>\n",
       "      <td>6</td>\n",
       "      <td>6</td>\n",
       "      <td>6</td>\n",
       "      <td>6</td>\n",
       "      <td>6</td>\n",
       "      <td>6</td>\n",
       "      <td>6</td>\n",
       "      <td>6</td>\n",
       "    </tr>\n",
       "  </tbody>\n",
       "</table>\n",
       "</div>"
      ],
      "text/plain": [
       "                                             type  uri  tal  not_before  \\\n",
       "prefix           asn     rir     max_length                               \n",
       "131.221.164.0/22 AS27901 lacnic  22             8    8    8           8   \n",
       "138.99.224.0/22  AS27901 lacnic  22             8    8    8           8   \n",
       "167.250.52.0/22  AS27901 lacnic  22             8    8    8           8   \n",
       "207.248.192.0/19 AS27901 lacnic  19             8    8    8           8   \n",
       "190.63.0.0/16    AS23487 lacnic  24             7    7    7           7   \n",
       "2800:430::/32    AS23487 lacnic  48             7    7    7           7   \n",
       "154.223.31.0/24  AS63139 afrinic 24             6    6    6           6   \n",
       "179.60.64.0/19   AS27901 lacnic  19             6    6    6           6   \n",
       "181.113.157.0/24 AS27757 lacnic  24             6    6    6           6   \n",
       "181.113.97.0/24  AS27757 lacnic  24             6    6    6           6   \n",
       "\n",
       "                                             not_after  chain_not_before  \\\n",
       "prefix           asn     rir     max_length                                \n",
       "131.221.164.0/22 AS27901 lacnic  22                  8                 8   \n",
       "138.99.224.0/22  AS27901 lacnic  22                  8                 8   \n",
       "167.250.52.0/22  AS27901 lacnic  22                  8                 8   \n",
       "207.248.192.0/19 AS27901 lacnic  19                  8                 8   \n",
       "190.63.0.0/16    AS23487 lacnic  24                  7                 7   \n",
       "2800:430::/32    AS23487 lacnic  48                  7                 7   \n",
       "154.223.31.0/24  AS63139 afrinic 24                  6                 6   \n",
       "179.60.64.0/19   AS27901 lacnic  19                  6                 6   \n",
       "181.113.157.0/24 AS27757 lacnic  24                  6                 6   \n",
       "181.113.97.0/24  AS27757 lacnic  24                  6                 6   \n",
       "\n",
       "                                             chain_not_after  opaque_id  \\\n",
       "prefix           asn     rir     max_length                               \n",
       "131.221.164.0/22 AS27901 lacnic  22                        8          8   \n",
       "138.99.224.0/22  AS27901 lacnic  22                        8          8   \n",
       "167.250.52.0/22  AS27901 lacnic  22                        8          8   \n",
       "207.248.192.0/19 AS27901 lacnic  19                        8          8   \n",
       "190.63.0.0/16    AS23487 lacnic  24                        7          7   \n",
       "2800:430::/32    AS23487 lacnic  48                        7          7   \n",
       "154.223.31.0/24  AS63139 afrinic 24                        6          6   \n",
       "179.60.64.0/19   AS27901 lacnic  19                        6          6   \n",
       "181.113.157.0/24 AS27757 lacnic  24                        6          6   \n",
       "181.113.97.0/24  AS27757 lacnic  24                        6          6   \n",
       "\n",
       "                                             containing_rir  publication_point  \n",
       "prefix           asn     rir     max_length                                     \n",
       "131.221.164.0/22 AS27901 lacnic  22                       8                  8  \n",
       "138.99.224.0/22  AS27901 lacnic  22                       8                  8  \n",
       "167.250.52.0/22  AS27901 lacnic  22                       8                  8  \n",
       "207.248.192.0/19 AS27901 lacnic  19                       8                  8  \n",
       "190.63.0.0/16    AS23487 lacnic  24                       7                  7  \n",
       "2800:430::/32    AS23487 lacnic  48                       7                  7  \n",
       "154.223.31.0/24  AS63139 afrinic 24                       6                  6  \n",
       "179.60.64.0/19   AS27901 lacnic  19                       6                  6  \n",
       "181.113.157.0/24 AS27757 lacnic  24                       6                  6  \n",
       "181.113.97.0/24  AS27757 lacnic  24                       6                  6  "
      ]
     },
     "execution_count": 10,
     "metadata": {},
     "output_type": "execute_result"
    }
   ],
   "source": [
    "top_10 = df.groupby([\"prefix\", \"asn\", \"rir\", \"max_length\"]).count().nlargest(10, ['not_before'])\n",
    "top_10"
   ]
  },
  {
   "cell_type": "markdown",
   "id": "a0204a85-7312-4053-b1b6-a1cfb3564b7c",
   "metadata": {},
   "source": [
    "# Maximum number of prefixes per ROA\n",
    "Recall that a ROA has a single AS by definition: The grouping by AS is only to clarify what AS-es have this number"
   ]
  },
  {
   "cell_type": "code",
   "execution_count": 11,
   "id": "bc6cccf8-f6bf-42c2-8d2d-478a2f2691e9",
   "metadata": {},
   "outputs": [
    {
     "ename": "KeyError",
     "evalue": "'index'",
     "output_type": "error",
     "traceback": [
      "\u001b[0;31m---------------------------------------------------------------------------\u001b[0m",
      "\u001b[0;31mKeyError\u001b[0m                                  Traceback (most recent call last)",
      "File \u001b[0;32m~/Library/Caches/pypoetry/virtualenvs/rpki-analysis-eyLydR3P-py3.12/lib/python3.12/site-packages/pandas/core/indexes/base.py:3802\u001b[0m, in \u001b[0;36mIndex.get_loc\u001b[0;34m(self, key, method, tolerance)\u001b[0m\n\u001b[1;32m   3801\u001b[0m \u001b[38;5;28;01mtry\u001b[39;00m:\n\u001b[0;32m-> 3802\u001b[0m     \u001b[38;5;28;01mreturn\u001b[39;00m \u001b[38;5;28;43mself\u001b[39;49m\u001b[38;5;241;43m.\u001b[39;49m\u001b[43m_engine\u001b[49m\u001b[38;5;241;43m.\u001b[39;49m\u001b[43mget_loc\u001b[49m\u001b[43m(\u001b[49m\u001b[43mcasted_key\u001b[49m\u001b[43m)\u001b[49m\n\u001b[1;32m   3803\u001b[0m \u001b[38;5;28;01mexcept\u001b[39;00m \u001b[38;5;167;01mKeyError\u001b[39;00m \u001b[38;5;28;01mas\u001b[39;00m err:\n",
      "File \u001b[0;32m~/Library/Caches/pypoetry/virtualenvs/rpki-analysis-eyLydR3P-py3.12/lib/python3.12/site-packages/pandas/_libs/index.pyx:138\u001b[0m, in \u001b[0;36mpandas._libs.index.IndexEngine.get_loc\u001b[0;34m()\u001b[0m\n",
      "File \u001b[0;32m~/Library/Caches/pypoetry/virtualenvs/rpki-analysis-eyLydR3P-py3.12/lib/python3.12/site-packages/pandas/_libs/index.pyx:165\u001b[0m, in \u001b[0;36mpandas._libs.index.IndexEngine.get_loc\u001b[0;34m()\u001b[0m\n",
      "File \u001b[0;32mpandas/_libs/hashtable_class_helper.pxi:5745\u001b[0m, in \u001b[0;36mpandas._libs.hashtable.PyObjectHashTable.get_item\u001b[0;34m()\u001b[0m\n",
      "File \u001b[0;32mpandas/_libs/hashtable_class_helper.pxi:5753\u001b[0m, in \u001b[0;36mpandas._libs.hashtable.PyObjectHashTable.get_item\u001b[0;34m()\u001b[0m\n",
      "\u001b[0;31mKeyError\u001b[0m: 'index'",
      "\nThe above exception was the direct cause of the following exception:\n",
      "\u001b[0;31mKeyError\u001b[0m                                  Traceback (most recent call last)",
      "Cell \u001b[0;32mIn[11], line 1\u001b[0m\n\u001b[0;32m----> 1\u001b[0m \u001b[43mdf\u001b[49m\u001b[38;5;241;43m.\u001b[39;49m\u001b[43mgroupby\u001b[49m\u001b[43m(\u001b[49m\u001b[43m[\u001b[49m\u001b[38;5;124;43m\"\u001b[39;49m\u001b[38;5;124;43muri\u001b[39;49m\u001b[38;5;124;43m\"\u001b[39;49m\u001b[43m,\u001b[49m\u001b[43m \u001b[49m\u001b[38;5;124;43m\"\u001b[39;49m\u001b[38;5;124;43masn\u001b[39;49m\u001b[38;5;124;43m\"\u001b[39;49m\u001b[43m]\u001b[49m\u001b[43m)\u001b[49m\u001b[38;5;241;43m.\u001b[39;49m\u001b[43mcount\u001b[49m\u001b[43m(\u001b[49m\u001b[43m)\u001b[49m\u001b[38;5;241;43m.\u001b[39;49m\u001b[43mnlargest\u001b[49m\u001b[43m(\u001b[49m\u001b[38;5;241;43m10\u001b[39;49m\u001b[43m,\u001b[49m\u001b[43m \u001b[49m\u001b[38;5;124;43m'\u001b[39;49m\u001b[38;5;124;43mindex\u001b[39;49m\u001b[38;5;124;43m'\u001b[39;49m\u001b[43m)\u001b[49m\n",
      "File \u001b[0;32m~/Library/Caches/pypoetry/virtualenvs/rpki-analysis-eyLydR3P-py3.12/lib/python3.12/site-packages/pandas/core/frame.py:7338\u001b[0m, in \u001b[0;36mDataFrame.nlargest\u001b[0;34m(self, n, columns, keep)\u001b[0m\n\u001b[1;32m   7233\u001b[0m \u001b[38;5;28;01mdef\u001b[39;00m \u001b[38;5;21mnlargest\u001b[39m(\u001b[38;5;28mself\u001b[39m, n: \u001b[38;5;28mint\u001b[39m, columns: IndexLabel, keep: \u001b[38;5;28mstr\u001b[39m \u001b[38;5;241m=\u001b[39m \u001b[38;5;124m\"\u001b[39m\u001b[38;5;124mfirst\u001b[39m\u001b[38;5;124m\"\u001b[39m) \u001b[38;5;241m-\u001b[39m\u001b[38;5;241m>\u001b[39m DataFrame:\n\u001b[1;32m   7234\u001b[0m \u001b[38;5;250m    \u001b[39m\u001b[38;5;124;03m\"\"\"\u001b[39;00m\n\u001b[1;32m   7235\u001b[0m \u001b[38;5;124;03m    Return the first `n` rows ordered by `columns` in descending order.\u001b[39;00m\n\u001b[1;32m   7236\u001b[0m \n\u001b[0;32m   (...)\u001b[0m\n\u001b[1;32m   7336\u001b[0m \u001b[38;5;124;03m    Brunei      434000    12128      BN\u001b[39;00m\n\u001b[1;32m   7337\u001b[0m \u001b[38;5;124;03m    \"\"\"\u001b[39;00m\n\u001b[0;32m-> 7338\u001b[0m     \u001b[38;5;28;01mreturn\u001b[39;00m \u001b[43malgorithms\u001b[49m\u001b[38;5;241;43m.\u001b[39;49m\u001b[43mSelectNFrame\u001b[49m\u001b[43m(\u001b[49m\u001b[38;5;28;43mself\u001b[39;49m\u001b[43m,\u001b[49m\u001b[43m \u001b[49m\u001b[43mn\u001b[49m\u001b[38;5;241;43m=\u001b[39;49m\u001b[43mn\u001b[49m\u001b[43m,\u001b[49m\u001b[43m \u001b[49m\u001b[43mkeep\u001b[49m\u001b[38;5;241;43m=\u001b[39;49m\u001b[43mkeep\u001b[49m\u001b[43m,\u001b[49m\u001b[43m \u001b[49m\u001b[43mcolumns\u001b[49m\u001b[38;5;241;43m=\u001b[39;49m\u001b[43mcolumns\u001b[49m\u001b[43m)\u001b[49m\u001b[38;5;241;43m.\u001b[39;49m\u001b[43mnlargest\u001b[49m\u001b[43m(\u001b[49m\u001b[43m)\u001b[49m\n",
      "File \u001b[0;32m~/Library/Caches/pypoetry/virtualenvs/rpki-analysis-eyLydR3P-py3.12/lib/python3.12/site-packages/pandas/core/algorithms.py:1277\u001b[0m, in \u001b[0;36mSelectN.nlargest\u001b[0;34m(self)\u001b[0m\n\u001b[1;32m   1275\u001b[0m \u001b[38;5;129m@final\u001b[39m\n\u001b[1;32m   1276\u001b[0m \u001b[38;5;28;01mdef\u001b[39;00m \u001b[38;5;21mnlargest\u001b[39m(\u001b[38;5;28mself\u001b[39m):\n\u001b[0;32m-> 1277\u001b[0m     \u001b[38;5;28;01mreturn\u001b[39;00m \u001b[38;5;28;43mself\u001b[39;49m\u001b[38;5;241;43m.\u001b[39;49m\u001b[43mcompute\u001b[49m\u001b[43m(\u001b[49m\u001b[38;5;124;43m\"\u001b[39;49m\u001b[38;5;124;43mnlargest\u001b[39;49m\u001b[38;5;124;43m\"\u001b[39;49m\u001b[43m)\u001b[49m\n",
      "File \u001b[0;32m~/Library/Caches/pypoetry/virtualenvs/rpki-analysis-eyLydR3P-py3.12/lib/python3.12/site-packages/pandas/core/algorithms.py:1406\u001b[0m, in \u001b[0;36mSelectNFrame.compute\u001b[0;34m(self, method)\u001b[0m\n\u001b[1;32m   1403\u001b[0m columns \u001b[38;5;241m=\u001b[39m \u001b[38;5;28mself\u001b[39m\u001b[38;5;241m.\u001b[39mcolumns\n\u001b[1;32m   1405\u001b[0m \u001b[38;5;28;01mfor\u001b[39;00m column \u001b[38;5;129;01min\u001b[39;00m columns:\n\u001b[0;32m-> 1406\u001b[0m     dtype \u001b[38;5;241m=\u001b[39m \u001b[43mframe\u001b[49m\u001b[43m[\u001b[49m\u001b[43mcolumn\u001b[49m\u001b[43m]\u001b[49m\u001b[38;5;241m.\u001b[39mdtype\n\u001b[1;32m   1407\u001b[0m     \u001b[38;5;28;01mif\u001b[39;00m \u001b[38;5;129;01mnot\u001b[39;00m \u001b[38;5;28mself\u001b[39m\u001b[38;5;241m.\u001b[39mis_valid_dtype_n_method(dtype):\n\u001b[1;32m   1408\u001b[0m         \u001b[38;5;28;01mraise\u001b[39;00m \u001b[38;5;167;01mTypeError\u001b[39;00m(\n\u001b[1;32m   1409\u001b[0m             \u001b[38;5;124mf\u001b[39m\u001b[38;5;124m\"\u001b[39m\u001b[38;5;124mColumn \u001b[39m\u001b[38;5;132;01m{\u001b[39;00m\u001b[38;5;28mrepr\u001b[39m(column)\u001b[38;5;132;01m}\u001b[39;00m\u001b[38;5;124m has dtype \u001b[39m\u001b[38;5;132;01m{\u001b[39;00mdtype\u001b[38;5;132;01m}\u001b[39;00m\u001b[38;5;124m, \u001b[39m\u001b[38;5;124m\"\u001b[39m\n\u001b[1;32m   1410\u001b[0m             \u001b[38;5;124mf\u001b[39m\u001b[38;5;124m\"\u001b[39m\u001b[38;5;124mcannot use method \u001b[39m\u001b[38;5;132;01m{\u001b[39;00m\u001b[38;5;28mrepr\u001b[39m(method)\u001b[38;5;132;01m}\u001b[39;00m\u001b[38;5;124m with this dtype\u001b[39m\u001b[38;5;124m\"\u001b[39m\n\u001b[1;32m   1411\u001b[0m         )\n",
      "File \u001b[0;32m~/Library/Caches/pypoetry/virtualenvs/rpki-analysis-eyLydR3P-py3.12/lib/python3.12/site-packages/pandas/core/frame.py:3807\u001b[0m, in \u001b[0;36mDataFrame.__getitem__\u001b[0;34m(self, key)\u001b[0m\n\u001b[1;32m   3805\u001b[0m \u001b[38;5;28;01mif\u001b[39;00m \u001b[38;5;28mself\u001b[39m\u001b[38;5;241m.\u001b[39mcolumns\u001b[38;5;241m.\u001b[39mnlevels \u001b[38;5;241m>\u001b[39m \u001b[38;5;241m1\u001b[39m:\n\u001b[1;32m   3806\u001b[0m     \u001b[38;5;28;01mreturn\u001b[39;00m \u001b[38;5;28mself\u001b[39m\u001b[38;5;241m.\u001b[39m_getitem_multilevel(key)\n\u001b[0;32m-> 3807\u001b[0m indexer \u001b[38;5;241m=\u001b[39m \u001b[38;5;28;43mself\u001b[39;49m\u001b[38;5;241;43m.\u001b[39;49m\u001b[43mcolumns\u001b[49m\u001b[38;5;241;43m.\u001b[39;49m\u001b[43mget_loc\u001b[49m\u001b[43m(\u001b[49m\u001b[43mkey\u001b[49m\u001b[43m)\u001b[49m\n\u001b[1;32m   3808\u001b[0m \u001b[38;5;28;01mif\u001b[39;00m is_integer(indexer):\n\u001b[1;32m   3809\u001b[0m     indexer \u001b[38;5;241m=\u001b[39m [indexer]\n",
      "File \u001b[0;32m~/Library/Caches/pypoetry/virtualenvs/rpki-analysis-eyLydR3P-py3.12/lib/python3.12/site-packages/pandas/core/indexes/base.py:3804\u001b[0m, in \u001b[0;36mIndex.get_loc\u001b[0;34m(self, key, method, tolerance)\u001b[0m\n\u001b[1;32m   3802\u001b[0m     \u001b[38;5;28;01mreturn\u001b[39;00m \u001b[38;5;28mself\u001b[39m\u001b[38;5;241m.\u001b[39m_engine\u001b[38;5;241m.\u001b[39mget_loc(casted_key)\n\u001b[1;32m   3803\u001b[0m \u001b[38;5;28;01mexcept\u001b[39;00m \u001b[38;5;167;01mKeyError\u001b[39;00m \u001b[38;5;28;01mas\u001b[39;00m err:\n\u001b[0;32m-> 3804\u001b[0m     \u001b[38;5;28;01mraise\u001b[39;00m \u001b[38;5;167;01mKeyError\u001b[39;00m(key) \u001b[38;5;28;01mfrom\u001b[39;00m \u001b[38;5;21;01merr\u001b[39;00m\n\u001b[1;32m   3805\u001b[0m \u001b[38;5;28;01mexcept\u001b[39;00m \u001b[38;5;167;01mTypeError\u001b[39;00m:\n\u001b[1;32m   3806\u001b[0m     \u001b[38;5;66;03m# If we have a listlike key, _check_indexing_error will raise\u001b[39;00m\n\u001b[1;32m   3807\u001b[0m     \u001b[38;5;66;03m#  InvalidIndexError. Otherwise we fall through and re-raise\u001b[39;00m\n\u001b[1;32m   3808\u001b[0m     \u001b[38;5;66;03m#  the TypeError.\u001b[39;00m\n\u001b[1;32m   3809\u001b[0m     \u001b[38;5;28mself\u001b[39m\u001b[38;5;241m.\u001b[39m_check_indexing_error(key)\n",
      "\u001b[0;31mKeyError\u001b[0m: 'index'"
     ]
    }
   ],
   "source": [
    "df.groupby([\"uri\", \"asn\"]).count().nlargest(10, 'index')"
   ]
  },
  {
   "cell_type": "markdown",
   "id": "f9bf7ea5-88d6-4e41-a7c8-72bffeb46af7",
   "metadata": {},
   "source": [
    "# Analysis by publication point:\n",
    "Wat is the maximum number of ROAs, total VRPs per publication point (~= certificate for most CAs)\n",
    "\n",
    "```\n",
    "$ rsync rsync://rpki.arin.net/repository/arin-rpki-ta/5e4a23ea-e80a-403e-b08c-2171da2157d3/2a246947-2d62-4a6c-ba05-87187f0099b2/4e95a28e-27fe-479a-b086-2cc9809d54f6/ | wc -l\n",
    "20729\n",
    "```"
   ]
  },
  {
   "cell_type": "code",
   "execution_count": null,
   "id": "8c04f7bb-d558-46e3-91f7-379bb80f3d21",
   "metadata": {},
   "outputs": [],
   "source": [
    "df.groupby(['publication_point']).count().nlargest(10, ['uri'])"
   ]
  },
  {
   "cell_type": "markdown",
   "id": "4412d8f0-468c-467b-a9f5-865c2b4fde37",
   "metadata": {},
   "source": [
    "The total number of files per publicationpoint:"
   ]
  },
  {
   "cell_type": "code",
   "execution_count": null,
   "id": "e8a62678-d1b1-4926-9ae0-2c4681d40d1f",
   "metadata": {},
   "outputs": [],
   "source": [
    "df.drop_duplicates(['publication_point', 'uri']).groupby(['publication_point']).count().nlargest(10, ['uri'])"
   ]
  },
  {
   "cell_type": "markdown",
   "id": "44d32002-a9d1-46df-bcff-2e2e30d6e60c",
   "metadata": {},
   "source": [
    "publication points generally contain one ROA for an AS, let's check"
   ]
  },
  {
   "cell_type": "markdown",
   "id": "0fac3a5e-fa71-4733-a07a-05a493ffe725",
   "metadata": {},
   "source": [
    "# TODO"
   ]
  },
  {
   "cell_type": "markdown",
   "id": "4f0ad3c5-878e-4cf2-9a7a-b4697c9ffaab",
   "metadata": {},
   "source": [
    "Now count prefixes per publication point"
   ]
  },
  {
   "cell_type": "markdown",
   "id": "ef781a43-2c8d-4e77-9945-c7ebf6d06b95",
   "metadata": {},
   "source": [
    "# Now let's work on unique VRPs"
   ]
  },
  {
   "cell_type": "code",
   "execution_count": null,
   "id": "3af312b1-564a-4c7b-885c-d2dc2c5f6a2a",
   "metadata": {},
   "outputs": [],
   "source": [
    "df = df.reset_index().drop_duplicates(['asn', 'prefix', 'max_length'])"
   ]
  },
  {
   "cell_type": "markdown",
   "id": "b92bdc90-05bd-4715-9ad8-894dde55646a",
   "metadata": {},
   "source": [
    "The ROA with the most prefixes:\n",
    "\n",
    "```python\n",
    "```"
   ]
  },
  {
   "cell_type": "code",
   "execution_count": null,
   "id": "ce7e127f-17ff-451b-98d3-4faae54b590e",
   "metadata": {},
   "outputs": [],
   "source": [
    "df.groupby([\"asn\"]).count().nlargest(10, ['index'])"
   ]
  },
  {
   "cell_type": "markdown",
   "id": "1978f641-b32b-46a2-9ae6-e09b561cd865",
   "metadata": {},
   "source": [
    "Prefix with most ROAs:"
   ]
  },
  {
   "cell_type": "code",
   "execution_count": null,
   "id": "9fafd49c-9522-488b-aa69-01b009a23b46",
   "metadata": {},
   "outputs": [],
   "source": [
    "df.groupby(['prefix']).count().nlargest(10, ['roa'])"
   ]
  },
  {
   "cell_type": "code",
   "execution_count": null,
   "id": "6b253669-77f2-4650-9842-ea3725e342d2",
   "metadata": {},
   "outputs": [],
   "source": []
  },
  {
   "cell_type": "code",
   "execution_count": null,
   "id": "c340d3d3-a94f-4e39-988e-0c5aba049b1b",
   "metadata": {},
   "outputs": [],
   "source": []
  }
 ],
 "metadata": {
  "kernelspec": {
   "display_name": "Python 3 (ipykernel)",
   "language": "python",
   "name": "python3"
  },
  "language_info": {
   "codemirror_mode": {
    "name": "ipython",
    "version": 3
   },
   "file_extension": ".py",
   "mimetype": "text/x-python",
   "name": "python",
   "nbconvert_exporter": "python",
   "pygments_lexer": "ipython3",
   "version": "3.12.1"
  }
 },
 "nbformat": 4,
 "nbformat_minor": 5
}
