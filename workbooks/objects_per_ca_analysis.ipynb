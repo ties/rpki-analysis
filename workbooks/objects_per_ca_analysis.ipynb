{
 "cells": [
  {
   "cell_type": "code",
   "execution_count": 1,
   "id": "da39b901-3f9f-4619-879c-5699f73ba464",
   "metadata": {},
   "outputs": [],
   "source": [
    "import aiohttp\n",
    "import lzma\n",
    "import io\n",
    "\n",
    "from datetime import datetime\n",
    "from os.path import expanduser\n",
    "from pathlib import Path\n",
    "from typing import NamedTuple\n",
    "\n",
    "import pandas as pd\n",
    "import netaddr\n",
    "\n",
    "from rpki_analysis.delegated_stats import read_delegated_extended_stats, StatsCombinedAllocations, RirLookup\n",
    "from rpki_analysis.routinator import read_jsonext"
   ]
  },
  {
   "cell_type": "code",
   "execution_count": 2,
   "id": "54a22dec-93dc-4611-9bfe-536d74045362",
   "metadata": {},
   "outputs": [],
   "source": [
    "df = await read_jsonext(\"https://rpki-validator.ripe.net/jsonext\")"
   ]
  },
  {
   "cell_type": "code",
   "execution_count": 3,
   "id": "c00308ab-e9bd-477c-933d-d50c9aae9e4f",
   "metadata": {},
   "outputs": [
    {
     "ename": "ClientPayloadError",
     "evalue": "Response payload is not completed",
     "output_type": "error",
     "traceback": [
      "\u001b[0;31m---------------------------------------------------------------------------\u001b[0m",
      "\u001b[0;31mContentLengthError\u001b[0m                        Traceback (most recent call last)",
      "File \u001b[0;32m~/Library/Caches/pypoetry/virtualenvs/rpki-analysis-eyLydR3P-py3.12/lib/python3.12/site-packages/aiohttp/client_proto.py:83\u001b[0m, in \u001b[0;36mResponseHandler.connection_lost\u001b[0;34m(self, exc)\u001b[0m\n\u001b[1;32m     82\u001b[0m \u001b[38;5;28;01mtry\u001b[39;00m:\n\u001b[0;32m---> 83\u001b[0m     uncompleted \u001b[38;5;241m=\u001b[39m \u001b[38;5;28;43mself\u001b[39;49m\u001b[38;5;241;43m.\u001b[39;49m\u001b[43m_parser\u001b[49m\u001b[38;5;241;43m.\u001b[39;49m\u001b[43mfeed_eof\u001b[49m\u001b[43m(\u001b[49m\u001b[43m)\u001b[49m\n\u001b[1;32m     84\u001b[0m \u001b[38;5;28;01mexcept\u001b[39;00m \u001b[38;5;167;01mException\u001b[39;00m \u001b[38;5;28;01mas\u001b[39;00m e:\n",
      "File \u001b[0;32m~/Library/Caches/pypoetry/virtualenvs/rpki-analysis-eyLydR3P-py3.12/lib/python3.12/site-packages/aiohttp/_http_parser.pyx:510\u001b[0m, in \u001b[0;36maiohttp._http_parser.HttpParser.feed_eof\u001b[0;34m()\u001b[0m\n",
      "\u001b[0;31mContentLengthError\u001b[0m: 400, message:\n  Not enough data for satisfy content length header.",
      "\nThe above exception was the direct cause of the following exception:\n",
      "\u001b[0;31mClientPayloadError\u001b[0m                        Traceback (most recent call last)",
      "Cell \u001b[0;32mIn[3], line 3\u001b[0m\n\u001b[1;32m      1\u001b[0m \u001b[38;5;28;01masync\u001b[39;00m \u001b[38;5;28;01mwith\u001b[39;00m aiohttp\u001b[38;5;241m.\u001b[39mClientSession() \u001b[38;5;28;01mas\u001b[39;00m session:\n\u001b[1;32m      2\u001b[0m     \u001b[38;5;28;01masync\u001b[39;00m \u001b[38;5;28;01mwith\u001b[39;00m session\u001b[38;5;241m.\u001b[39mget(\u001b[38;5;124m'\u001b[39m\u001b[38;5;124mhttps://ftp.ripe.net/pub/stats/ripencc/nro-stats/latest/nro-delegated-stats\u001b[39m\u001b[38;5;124m'\u001b[39m) \u001b[38;5;28;01mas\u001b[39;00m resp:\n\u001b[0;32m----> 3\u001b[0m         df_delext_stats \u001b[38;5;241m=\u001b[39m read_delegated_extended_stats(io\u001b[38;5;241m.\u001b[39mStringIO(\u001b[38;5;28;01mawait\u001b[39;00m resp\u001b[38;5;241m.\u001b[39mtext()))\n\u001b[1;32m      5\u001b[0m         rir_lookup \u001b[38;5;241m=\u001b[39m RirLookup(df_delext_stats)\n\u001b[1;32m      6\u001b[0m         lookup \u001b[38;5;241m=\u001b[39m StatsCombinedAllocations(df_delext_stats[df_delext_stats\u001b[38;5;241m.\u001b[39mstatus \u001b[38;5;241m==\u001b[39m \u001b[38;5;124m'\u001b[39m\u001b[38;5;124massigned\u001b[39m\u001b[38;5;124m'\u001b[39m])\n",
      "File \u001b[0;32m~/Library/Caches/pypoetry/virtualenvs/rpki-analysis-eyLydR3P-py3.12/lib/python3.12/site-packages/aiohttp/client_reqrep.py:1143\u001b[0m, in \u001b[0;36mClientResponse.text\u001b[0;34m(self, encoding, errors)\u001b[0m\n\u001b[1;32m   1141\u001b[0m \u001b[38;5;250m\u001b[39m\u001b[38;5;124;03m\"\"\"Read response payload and decode.\"\"\"\u001b[39;00m\n\u001b[1;32m   1142\u001b[0m \u001b[38;5;28;01mif\u001b[39;00m \u001b[38;5;28mself\u001b[39m\u001b[38;5;241m.\u001b[39m_body \u001b[38;5;129;01mis\u001b[39;00m \u001b[38;5;28;01mNone\u001b[39;00m:\n\u001b[0;32m-> 1143\u001b[0m     \u001b[38;5;28;01mawait\u001b[39;00m \u001b[38;5;28mself\u001b[39m\u001b[38;5;241m.\u001b[39mread()\n\u001b[1;32m   1145\u001b[0m \u001b[38;5;28;01mif\u001b[39;00m encoding \u001b[38;5;129;01mis\u001b[39;00m \u001b[38;5;28;01mNone\u001b[39;00m:\n\u001b[1;32m   1146\u001b[0m     encoding \u001b[38;5;241m=\u001b[39m \u001b[38;5;28mself\u001b[39m\u001b[38;5;241m.\u001b[39mget_encoding()\n",
      "File \u001b[0;32m~/Library/Caches/pypoetry/virtualenvs/rpki-analysis-eyLydR3P-py3.12/lib/python3.12/site-packages/aiohttp/client_reqrep.py:1101\u001b[0m, in \u001b[0;36mClientResponse.read\u001b[0;34m(self)\u001b[0m\n\u001b[1;32m   1099\u001b[0m \u001b[38;5;28;01mif\u001b[39;00m \u001b[38;5;28mself\u001b[39m\u001b[38;5;241m.\u001b[39m_body \u001b[38;5;129;01mis\u001b[39;00m \u001b[38;5;28;01mNone\u001b[39;00m:\n\u001b[1;32m   1100\u001b[0m     \u001b[38;5;28;01mtry\u001b[39;00m:\n\u001b[0;32m-> 1101\u001b[0m         \u001b[38;5;28mself\u001b[39m\u001b[38;5;241m.\u001b[39m_body \u001b[38;5;241m=\u001b[39m \u001b[38;5;28;01mawait\u001b[39;00m \u001b[38;5;28mself\u001b[39m\u001b[38;5;241m.\u001b[39mcontent\u001b[38;5;241m.\u001b[39mread()\n\u001b[1;32m   1102\u001b[0m         \u001b[38;5;28;01mfor\u001b[39;00m trace \u001b[38;5;129;01min\u001b[39;00m \u001b[38;5;28mself\u001b[39m\u001b[38;5;241m.\u001b[39m_traces:\n\u001b[1;32m   1103\u001b[0m             \u001b[38;5;28;01mawait\u001b[39;00m trace\u001b[38;5;241m.\u001b[39msend_response_chunk_received(\n\u001b[1;32m   1104\u001b[0m                 \u001b[38;5;28mself\u001b[39m\u001b[38;5;241m.\u001b[39mmethod, \u001b[38;5;28mself\u001b[39m\u001b[38;5;241m.\u001b[39murl, \u001b[38;5;28mself\u001b[39m\u001b[38;5;241m.\u001b[39m_body\n\u001b[1;32m   1105\u001b[0m             )\n",
      "File \u001b[0;32m~/Library/Caches/pypoetry/virtualenvs/rpki-analysis-eyLydR3P-py3.12/lib/python3.12/site-packages/aiohttp/streams.py:373\u001b[0m, in \u001b[0;36mStreamReader.read\u001b[0;34m(self, n)\u001b[0m\n\u001b[1;32m    371\u001b[0m blocks \u001b[38;5;241m=\u001b[39m []\n\u001b[1;32m    372\u001b[0m \u001b[38;5;28;01mwhile\u001b[39;00m \u001b[38;5;28;01mTrue\u001b[39;00m:\n\u001b[0;32m--> 373\u001b[0m     block \u001b[38;5;241m=\u001b[39m \u001b[38;5;28;01mawait\u001b[39;00m \u001b[38;5;28mself\u001b[39m\u001b[38;5;241m.\u001b[39mreadany()\n\u001b[1;32m    374\u001b[0m     \u001b[38;5;28;01mif\u001b[39;00m \u001b[38;5;129;01mnot\u001b[39;00m block:\n\u001b[1;32m    375\u001b[0m         \u001b[38;5;28;01mbreak\u001b[39;00m\n",
      "File \u001b[0;32m~/Library/Caches/pypoetry/virtualenvs/rpki-analysis-eyLydR3P-py3.12/lib/python3.12/site-packages/aiohttp/streams.py:395\u001b[0m, in \u001b[0;36mStreamReader.readany\u001b[0;34m(self)\u001b[0m\n\u001b[1;32m    391\u001b[0m \u001b[38;5;66;03m# TODO: should be `if` instead of `while`\u001b[39;00m\n\u001b[1;32m    392\u001b[0m \u001b[38;5;66;03m# because waiter maybe triggered on chunk end,\u001b[39;00m\n\u001b[1;32m    393\u001b[0m \u001b[38;5;66;03m# without feeding any data\u001b[39;00m\n\u001b[1;32m    394\u001b[0m \u001b[38;5;28;01mwhile\u001b[39;00m \u001b[38;5;129;01mnot\u001b[39;00m \u001b[38;5;28mself\u001b[39m\u001b[38;5;241m.\u001b[39m_buffer \u001b[38;5;129;01mand\u001b[39;00m \u001b[38;5;129;01mnot\u001b[39;00m \u001b[38;5;28mself\u001b[39m\u001b[38;5;241m.\u001b[39m_eof:\n\u001b[0;32m--> 395\u001b[0m     \u001b[38;5;28;01mawait\u001b[39;00m \u001b[38;5;28mself\u001b[39m\u001b[38;5;241m.\u001b[39m_wait(\u001b[38;5;124m\"\u001b[39m\u001b[38;5;124mreadany\u001b[39m\u001b[38;5;124m\"\u001b[39m)\n\u001b[1;32m    397\u001b[0m \u001b[38;5;28;01mreturn\u001b[39;00m \u001b[38;5;28mself\u001b[39m\u001b[38;5;241m.\u001b[39m_read_nowait(\u001b[38;5;241m-\u001b[39m\u001b[38;5;241m1\u001b[39m)\n",
      "File \u001b[0;32m~/Library/Caches/pypoetry/virtualenvs/rpki-analysis-eyLydR3P-py3.12/lib/python3.12/site-packages/aiohttp/streams.py:302\u001b[0m, in \u001b[0;36mStreamReader._wait\u001b[0;34m(self, func_name)\u001b[0m\n\u001b[1;32m    300\u001b[0m \u001b[38;5;28;01mtry\u001b[39;00m:\n\u001b[1;32m    301\u001b[0m     \u001b[38;5;28;01mwith\u001b[39;00m \u001b[38;5;28mself\u001b[39m\u001b[38;5;241m.\u001b[39m_timer:\n\u001b[0;32m--> 302\u001b[0m         \u001b[38;5;28;01mawait\u001b[39;00m waiter\n\u001b[1;32m    303\u001b[0m \u001b[38;5;28;01mfinally\u001b[39;00m:\n\u001b[1;32m    304\u001b[0m     \u001b[38;5;28mself\u001b[39m\u001b[38;5;241m.\u001b[39m_waiter \u001b[38;5;241m=\u001b[39m \u001b[38;5;28;01mNone\u001b[39;00m\n",
      "\u001b[0;31mClientPayloadError\u001b[0m: Response payload is not completed"
     ]
    }
   ],
   "source": [
    "async with aiohttp.ClientSession() as session:\n",
    "    async with session.get('https://ftp.ripe.net/pub/stats/ripencc/nro-stats/latest/nro-delegated-stats') as resp:\n",
    "        df_delext_stats = read_delegated_extended_stats(io.StringIO(await resp.text()))\n",
    "\n",
    "        rir_lookup = RirLookup(df_delext_stats)\n",
    "        lookup = StatsCombinedAllocations(df_delext_stats[df_delext_stats.status == 'assigned'])"
   ]
  },
  {
   "cell_type": "code",
   "execution_count": null,
   "id": "d801f24e-16d9-4bc7-976f-22211f896cee",
   "metadata": {},
   "outputs": [],
   "source": [
    "for prefix in set(df[df.containing_rir.isnull()].prefix):\n",
    "    display(rir_lookup[prefix], prefix)"
   ]
  },
  {
   "cell_type": "code",
   "execution_count": null,
   "id": "96c11587-443a-4440-85de-5020a36cb989",
   "metadata": {},
   "outputs": [],
   "source": [
    "df_mismatch[df_mismatch.containing_rir == None]"
   ]
  },
  {
   "cell_type": "code",
   "execution_count": null,
   "id": "e6421374-e0a2-40fa-8a3f-0e1a3e0357b7",
   "metadata": {},
   "outputs": [],
   "source": [
    "df_delext_stats.status.unique()"
   ]
  },
  {
   "cell_type": "code",
   "execution_count": null,
   "id": "27c426ab-8a68-4cec-b726-e225ab80e44f",
   "metadata": {},
   "outputs": [],
   "source": [
    "misses = list()\n",
    "\n",
    "class PrefixDetails(NamedTuple):\n",
    "    rir: str\n",
    "    opaque_id: str\n",
    "    covering_rir: str\n",
    "\n",
    "def maybe_lookup(row: pd.DataFrame) -> PrefixDetails:\n",
    "    containing_rir = rir_lookup.get(row.prefix)\n",
    "    try:\n",
    "        entry = lookup[row.prefix]\n",
    "        return PrefixDetails(entry.rir, entry.opaque_id, containing_rir)\n",
    "    except KeyError:\n",
    "        misses.append(row)\n",
    "        children = list(lookup.children(row.prefix))\n",
    "        if children:\n",
    "            child_resources = netaddr.IPSet([c.resource for c in children])\n",
    "            child_opaque_ids = set(map(lambda r: r.opaque_id, children))\n",
    "            child_rirs = set(map(lambda r: r.rir, children))\n",
    "            \n",
    "            if child_resources.issuperset(netaddr.IPSet([row.prefix])):\n",
    "                return PrefixDetails(f\"{'-'.join(child_rirs)}-multi-opaque-id\", \"_\".join(child_opaque_ids), containing_rir)\n",
    "                \n",
    "            return PrefixDetails(f\"unknown-more-specific-allocs-{\"-\".join(child_rirs)}\", \"_\".join(child_opaque_ids), containing_rir)\n",
    "\n",
    "df[['rir', 'opaque_id', 'containing_rir']] = df.apply(maybe_lookup, axis=1, result_type='expand')\n",
    "df['publication_point'] = df.uri.apply(lambda uri: \"/\".join(uri.split(\"/\")[:-1]))\n",
    "df_unmatched = pd.DataFrame.from_records(misses)"
   ]
  },
  {
   "cell_type": "code",
   "execution_count": null,
   "id": "f9627830-7d4f-4b28-9d99-5d2155d2f71d",
   "metadata": {},
   "outputs": [],
   "source": [
    "display(df_unmatched.prefix.unique())\n",
    "display(df.keys())"
   ]
  },
  {
   "cell_type": "markdown",
   "id": "72b2540a-1c2a-4c35-be88-41b1ec7d1ff3",
   "metadata": {},
   "source": [
    "# Check the tal against the RIR according to delegated extended statistics.\n",
    "\n",
    "The code below detects some mis-alignment. Many of these will becaused by registration artifacts (two continous registrations controlled by one entity, that are under two IDs in the delegated stats."
   ]
  },
  {
   "cell_type": "code",
   "execution_count": null,
   "id": "92a2c786-63d7-48c2-ac49-273a32d624b4",
   "metadata": {},
   "outputs": [],
   "source": [
    "#rir_lookup['43.236.0.0/16']\n",
    "rir_lookup.get('91.207.19.0/24')"
   ]
  },
  {
   "cell_type": "code",
   "execution_count": null,
   "id": "4b61dd19-0a36-4263-8542-1eb359d739c0",
   "metadata": {},
   "outputs": [],
   "source": [
    "home = Path(expanduser(\"~\"))\n",
    "now = datetime.now()\n",
    "\n",
    "df_mismatch = df.loc[df.tal.str.replace(\"ripe\", \"ripencc\") != df.rir, ['uri', 'tal', 'asn', 'prefix', 'max_length', 'rir', 'opaque_id', 'containing_rir']]\n",
    "df_mismatch.to_excel(home / f\"Desktop/{now.strftime('%Y%m%d')}-results-results.xlsx\")\n",
    "display(df_mismatch)"
   ]
  },
  {
   "cell_type": "code",
   "execution_count": null,
   "id": "7fc07cd7-23ec-4536-8938-46a6d9b2c650",
   "metadata": {},
   "outputs": [],
   "source": [
    "df[df.containing_rir.isnull()]"
   ]
  },
  {
   "cell_type": "markdown",
   "id": "185296ca-d020-49f1-b0e4-67ee2952b8ce",
   "metadata": {},
   "source": [
    "# Duplicate VRPs\n",
    "\n",
    "Look at what VRPs are duplicated the most often and how this happens"
   ]
  },
  {
   "cell_type": "code",
   "execution_count": null,
   "id": "aa7ca2a3-c365-4c5a-ad46-eb20c4f62f5d",
   "metadata": {},
   "outputs": [],
   "source": [
    "top_10 = df.groupby([\"prefix\", \"asn\", \"rir\", \"max_length\"]).count().nlargest(10, ['not_before'])\n",
    "top_10"
   ]
  },
  {
   "cell_type": "markdown",
   "id": "a0204a85-7312-4053-b1b6-a1cfb3564b7c",
   "metadata": {},
   "source": [
    "# Maximum number of prefixes per ROA\n",
    "Recall that a ROA has a single AS by definition: The grouping by AS is only to clarify what AS-es have this number"
   ]
  },
  {
   "cell_type": "code",
   "execution_count": null,
   "id": "bc6cccf8-f6bf-42c2-8d2d-478a2f2691e9",
   "metadata": {},
   "outputs": [],
   "source": [
    "df.groupby([\"uri\", \"asn\"]).count().nlargest(10, 'index')"
   ]
  },
  {
   "cell_type": "markdown",
   "id": "f9bf7ea5-88d6-4e41-a7c8-72bffeb46af7",
   "metadata": {},
   "source": [
    "# Analysis by publication point:\n",
    "Wat is the maximum number of ROAs, total VRPs per publication point (~= certificate for most CAs)\n",
    "\n",
    "```\n",
    "$ rsync rsync://rpki.arin.net/repository/arin-rpki-ta/5e4a23ea-e80a-403e-b08c-2171da2157d3/2a246947-2d62-4a6c-ba05-87187f0099b2/4e95a28e-27fe-479a-b086-2cc9809d54f6/ | wc -l\n",
    "20729\n",
    "```"
   ]
  },
  {
   "cell_type": "code",
   "execution_count": null,
   "id": "8c04f7bb-d558-46e3-91f7-379bb80f3d21",
   "metadata": {},
   "outputs": [],
   "source": [
    "df.groupby(['publication_point']).count().nlargest(10, ['uri'])"
   ]
  },
  {
   "cell_type": "markdown",
   "id": "4412d8f0-468c-467b-a9f5-865c2b4fde37",
   "metadata": {},
   "source": [
    "The total number of files per publicationpoint:"
   ]
  },
  {
   "cell_type": "code",
   "execution_count": null,
   "id": "e8a62678-d1b1-4926-9ae0-2c4681d40d1f",
   "metadata": {},
   "outputs": [],
   "source": [
    "df.drop_duplicates(['publication_point', 'uri']).groupby(['publication_point']).count().nlargest(10, ['uri'])"
   ]
  },
  {
   "cell_type": "markdown",
   "id": "44d32002-a9d1-46df-bcff-2e2e30d6e60c",
   "metadata": {},
   "source": [
    "publication points generally contain one ROA for an AS, let's check"
   ]
  },
  {
   "cell_type": "markdown",
   "id": "0fac3a5e-fa71-4733-a07a-05a493ffe725",
   "metadata": {},
   "source": [
    "# TODO"
   ]
  },
  {
   "cell_type": "markdown",
   "id": "4f0ad3c5-878e-4cf2-9a7a-b4697c9ffaab",
   "metadata": {},
   "source": [
    "Now count prefixes per publication point"
   ]
  },
  {
   "cell_type": "markdown",
   "id": "ef781a43-2c8d-4e77-9945-c7ebf6d06b95",
   "metadata": {},
   "source": [
    "# Now let's work on unique VRPs"
   ]
  },
  {
   "cell_type": "code",
   "execution_count": null,
   "id": "3af312b1-564a-4c7b-885c-d2dc2c5f6a2a",
   "metadata": {},
   "outputs": [],
   "source": [
    "df = df.reset_index().drop_duplicates(['asn', 'prefix', 'max_length'])"
   ]
  },
  {
   "cell_type": "markdown",
   "id": "b92bdc90-05bd-4715-9ad8-894dde55646a",
   "metadata": {},
   "source": [
    "The ROA with the most prefixes:\n",
    "\n",
    "```python\n",
    "```"
   ]
  },
  {
   "cell_type": "code",
   "execution_count": null,
   "id": "ce7e127f-17ff-451b-98d3-4faae54b590e",
   "metadata": {},
   "outputs": [],
   "source": [
    "df.groupby([\"asn\"]).count().nlargest(10, ['index'])"
   ]
  },
  {
   "cell_type": "markdown",
   "id": "1978f641-b32b-46a2-9ae6-e09b561cd865",
   "metadata": {},
   "source": [
    "Prefix with most ROAs:"
   ]
  },
  {
   "cell_type": "code",
   "execution_count": null,
   "id": "9fafd49c-9522-488b-aa69-01b009a23b46",
   "metadata": {},
   "outputs": [],
   "source": [
    "df.groupby(['prefix']).count().nlargest(10, ['roa'])"
   ]
  },
  {
   "cell_type": "code",
   "execution_count": null,
   "id": "6b253669-77f2-4650-9842-ea3725e342d2",
   "metadata": {},
   "outputs": [],
   "source": []
  },
  {
   "cell_type": "code",
   "execution_count": null,
   "id": "c340d3d3-a94f-4e39-988e-0c5aba049b1b",
   "metadata": {},
   "outputs": [],
   "source": []
  }
 ],
 "metadata": {
  "kernelspec": {
   "display_name": "Python 3 (ipykernel)",
   "language": "python",
   "name": "python3"
  },
  "language_info": {
   "codemirror_mode": {
    "name": "ipython",
    "version": 3
   },
   "file_extension": ".py",
   "mimetype": "text/x-python",
   "name": "python",
   "nbconvert_exporter": "python",
   "pygments_lexer": "ipython3",
   "version": "3.12.1"
  }
 },
 "nbformat": 4,
 "nbformat_minor": 5
}
