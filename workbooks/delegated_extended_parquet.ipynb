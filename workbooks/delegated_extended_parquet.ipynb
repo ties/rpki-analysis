{
 "cells": [
  {
   "cell_type": "code",
   "execution_count": 1,
   "id": "7c8a627f-6bf6-4825-a625-3aa18fb09680",
   "metadata": {},
   "outputs": [],
   "source": [
    "import io\n",
    "\n",
    "import netaddr\n",
    "\n",
    "import pandas as pd\n",
    "\n",
    "import aiohttp\n",
    "\n",
    "from rpki_analysis.delegated_stats import read_delegated_stats, read_delegated_extended_stats"
   ]
  },
  {
   "cell_type": "code",
   "execution_count": 2,
   "id": "57a9d791-0436-4962-bd38-31f9b30120b6",
   "metadata": {},
   "outputs": [],
   "source": [
    "async with aiohttp.ClientSession() as session:\n",
    "    async with session.get('https://ftp.ripe.net/pub/stats/ripencc/nro-stats/latest/nro-delegated-stats') as resp:\n",
    "        df_extended = read_delegated_extended_stats(io.StringIO(await resp.text()))"
   ]
  },
  {
   "cell_type": "code",
   "execution_count": null,
   "id": "e6eede57-7e4c-480f-8188-7d407b069c77",
   "metadata": {},
   "outputs": [],
   "source": []
  },
  {
   "cell_type": "code",
   "execution_count": 3,
   "id": "27bcf49c-623b-4682-9c23-3fd23a608225",
   "metadata": {},
   "outputs": [],
   "source": [
    "def to_cidrs(res: netaddr.IPRange | netaddr.IPNetwork):\n",
    "    if isinstance(res, netaddr.IPRange):\n",
    "        return list([str(x) for x in res.cidrs()])\n",
    "    elif isinstance(res, netaddr.IPNetwork):\n",
    "            return [str(res)]\n",
    "    else:\n",
    "        return [res]"
   ]
  },
  {
   "cell_type": "code",
   "execution_count": 4,
   "id": "fdc82dd2-9bd3-47c9-984c-eb6d2b667e1d",
   "metadata": {},
   "outputs": [],
   "source": [
    "df_extended['resource'] = df_extended.resource.map(to_cidrs)\n",
    "df_extended = df_extended.explode(\"resource\")"
   ]
  },
  {
   "cell_type": "code",
   "execution_count": null,
   "id": "1599ba36-3549-47cf-a58b-ec3dd5d1f0bc",
   "metadata": {},
   "outputs": [],
   "source": []
  },
  {
   "cell_type": "code",
   "execution_count": 5,
   "id": "239898ed-76e9-43ba-8b20-15d11e9ddb15",
   "metadata": {},
   "outputs": [],
   "source": [
    "df_extended.to_parquet('nro-delegated-stats-20241105.parquet')"
   ]
  },
  {
   "cell_type": "code",
   "execution_count": null,
   "id": "ca200d47-8df1-4f69-9cf9-e36fb9682f85",
   "metadata": {},
   "outputs": [],
   "source": []
  }
 ],
 "metadata": {
  "kernelspec": {
   "display_name": "Python 3 (ipykernel)",
   "language": "python",
   "name": "python3"
  },
  "language_info": {
   "codemirror_mode": {
    "name": "ipython",
    "version": 3
   },
   "file_extension": ".py",
   "mimetype": "text/x-python",
   "name": "python",
   "nbconvert_exporter": "python",
   "pygments_lexer": "ipython3",
   "version": "3.12.7"
  }
 },
 "nbformat": 4,
 "nbformat_minor": 5
}
