{
 "cells": [
  {
   "cell_type": "code",
   "execution_count": 1,
   "id": "bc789477-89fc-4638-856a-d15311973d62",
   "metadata": {},
   "outputs": [],
   "source": [
    "import io\n",
    "\n",
    "import netaddr\n",
    "\n",
    "import pandas as pd\n",
    "\n",
    "import aiohttp\n",
    "\n",
    "from rpki_analysis.delegated_stats import read_delegated_stats, read_delegated_extended_stats"
   ]
  },
  {
   "cell_type": "code",
   "execution_count": 2,
   "id": "c11fed5e-a437-4040-a299-7c8f26ef3f9a",
   "metadata": {},
   "outputs": [],
   "source": [
    "async with aiohttp.ClientSession() as session:\n",
    "    async with session.get('https://ftp.afrinic.net/pub/stats/afrinic/2024/delegated-afrinic-20240214') as resp:\n",
    "        df_delegated = read_delegated_stats(io.StringIO(await resp.text()))\n",
    "\n",
    "async with aiohttp.ClientSession() as session:\n",
    "    async with session.get('https://ftp.afrinic.net/pub/stats/afrinic/2024/delegated-afrinic-extended-20240214') as resp:\n",
    "        df_extended = read_delegated_extended_stats(io.StringIO(await resp.text()))\n",
    "\n"
   ]
  },
  {
   "cell_type": "code",
   "execution_count": 3,
   "id": "df765cc2-f2ae-41c8-b8e7-d18697d1a491",
   "metadata": {},
   "outputs": [
    {
     "name": "stderr",
     "output_type": "stream",
     "text": [
      "/var/folders/m4/qtvb8ff50ng0yw7xyt7t0n9c0000gp/T/ipykernel_99041/2954961098.py:6: FutureWarning: Passing a set as an indexer is deprecated and will raise in a future version. Use a list instead.\n",
      "  lhs = df_extended[overlap]\n",
      "/var/folders/m4/qtvb8ff50ng0yw7xyt7t0n9c0000gp/T/ipykernel_99041/2954961098.py:8: FutureWarning: Passing a set as an indexer is deprecated and will raise in a future version. Use a list instead.\n",
      "  rhs = df_delegated[overlap]\n"
     ]
    }
   ],
   "source": [
    "extended_keys = set(df_extended.keys())\n",
    "delegated_keys = set(df_delegated.keys())\n",
    "# resource is often not printable, remove it\n",
    "overlap = (extended_keys & delegated_keys) - set(['resource', 'country'])\n",
    "\n",
    "lhs = df_extended[overlap]\n",
    "lhs = lhs[(lhs.status != 'available') & (lhs.status != 'reserved')]\n",
    "rhs = df_delegated[overlap]\n",
    "rhs = rhs[(rhs.status != 'available') & (rhs.status != 'reserved')]\n",
    "\n",
    "lhs_set = set(lhs.itertuples(index=False))\n",
    "rhs_set = set(rhs.itertuples(index=False))"
   ]
  },
  {
   "cell_type": "markdown",
   "id": "fcc0c8ed-bb80-4ddc-9003-d56523ef7f0a",
   "metadata": {},
   "source": [
    "## Difference"
   ]
  },
  {
   "cell_type": "code",
   "execution_count": 4,
   "id": "73cc18bd-4005-4677-ab8f-551ca6672fd0",
   "metadata": {},
   "outputs": [
    {
     "data": {
      "text/plain": [
       "set()"
      ]
     },
     "metadata": {},
     "output_type": "display_data"
    },
    {
     "data": {
      "text/plain": [
       "set()"
      ]
     },
     "metadata": {},
     "output_type": "display_data"
    }
   ],
   "source": [
    "display(lhs_set - rhs_set)\n",
    "display(rhs_set - lhs_set)"
   ]
  },
  {
   "cell_type": "markdown",
   "id": "babfe15c-d43e-4b70-9c2e-08592927fc8a",
   "metadata": {},
   "source": [
    "# Now with country"
   ]
  },
  {
   "cell_type": "code",
   "execution_count": 5,
   "id": "91561330-9073-4e29-a985-72021fd55eb8",
   "metadata": {},
   "outputs": [
    {
     "name": "stderr",
     "output_type": "stream",
     "text": [
      "/var/folders/m4/qtvb8ff50ng0yw7xyt7t0n9c0000gp/T/ipykernel_99041/3043363742.py:6: FutureWarning: Passing a set as an indexer is deprecated and will raise in a future version. Use a list instead.\n",
      "  lhs = df_extended[overlap]\n",
      "/var/folders/m4/qtvb8ff50ng0yw7xyt7t0n9c0000gp/T/ipykernel_99041/3043363742.py:8: FutureWarning: Passing a set as an indexer is deprecated and will raise in a future version. Use a list instead.\n",
      "  rhs = df_delegated[overlap]\n"
     ]
    }
   ],
   "source": [
    "extended_keys = set(df_extended.keys())\n",
    "delegated_keys = set(df_delegated.keys())\n",
    "# resource is often not printable, remove it\n",
    "overlap = (extended_keys & delegated_keys) - set(['resource'])\n",
    "\n",
    "lhs = df_extended[overlap]\n",
    "lhs = lhs[(lhs.status != 'available') & (lhs.status != 'reserved')]\n",
    "rhs = df_delegated[overlap]\n",
    "rhs = rhs[(rhs.status != 'available') & (rhs.status != 'reserved')]\n",
    "\n",
    "lhs_set = set(lhs.itertuples(index=False))\n",
    "rhs_set = set(rhs.itertuples(index=False))"
   ]
  },
  {
   "cell_type": "markdown",
   "id": "d80a8472-74fa-4efc-8256-0ef63ba82b3c",
   "metadata": {},
   "source": [
    "## Difference"
   ]
  },
  {
   "cell_type": "code",
   "execution_count": 6,
   "id": "6d78f453-3c2c-49d7-82ce-8409d1a52d0e",
   "metadata": {},
   "outputs": [
    {
     "data": {
      "text/plain": [
       "42"
      ]
     },
     "metadata": {},
     "output_type": "display_data"
    },
    {
     "data": {
      "text/plain": [
       "42"
      ]
     },
     "metadata": {},
     "output_type": "display_data"
    }
   ],
   "source": [
    "display(len(lhs_set - rhs_set))\n",
    "display(len(rhs_set - lhs_set))"
   ]
  },
  {
   "cell_type": "code",
   "execution_count": 7,
   "id": "9e2c275a-d815-46f7-9f2c-fed44f15893b",
   "metadata": {},
   "outputs": [],
   "source": [
    "pd.DataFrame.from_records(list(lhs_set - rhs_set)).to_csv('extended_not_delegated.csv')\n",
    "pd.DataFrame.from_records(list(rhs_set - lhs_set)).to_csv('delegated_not_extended.csv')"
   ]
  },
  {
   "cell_type": "code",
   "execution_count": null,
   "id": "918f180a-a680-43a8-bbf4-80ab6bf0da13",
   "metadata": {},
   "outputs": [],
   "source": []
  },
  {
   "cell_type": "code",
   "execution_count": null,
   "id": "a109c6e9-dd50-46b6-88ad-db4560630fad",
   "metadata": {},
   "outputs": [],
   "source": []
  }
 ],
 "metadata": {
  "kernelspec": {
   "display_name": "Python 3 (ipykernel)",
   "language": "python",
   "name": "python3"
  },
  "language_info": {
   "codemirror_mode": {
    "name": "ipython",
    "version": 3
   },
   "file_extension": ".py",
   "mimetype": "text/x-python",
   "name": "python",
   "nbconvert_exporter": "python",
   "pygments_lexer": "ipython3",
   "version": "3.12.1"
  }
 },
 "nbformat": 4,
 "nbformat_minor": 5
}
