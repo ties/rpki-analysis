{
 "cells": [
  {
   "cell_type": "markdown",
   "id": "72db4c68-2d7b-46d3-ac66-16764dfa4e65",
   "metadata": {},
   "source": [
    "# Evaluate route origin validation status versus riswhois validity\n",
    "\n",
    "This workbook evaluates the ROV status for all riswhois entries.\n",
    "Then, for each RIPE Atlas probe, it matches the riswhois entries that match\n",
    "the (v4/v6) address of each probe, and evaluates the rov status for the set\n",
    "of announcements for each probe.\n",
    "\n",
    "Finally it prints what probes are IPv4/IPv6 ROV invalid.\n",
    "\n",
    "Along the way the workbook also prints multiple charts on riswhois visibility\n",
    "and on ROV status."
   ]
  },
  {
   "cell_type": "code",
   "execution_count": 1,
   "id": "derived-chemical",
   "metadata": {},
   "outputs": [],
   "source": [
    "# Add parent dir to path\n",
    "import os,sys\n",
    "\n",
    "sys.path.insert(0,os.environ['PWD'])"
   ]
  },
  {
   "cell_type": "code",
   "execution_count": 2,
   "id": "9d12503d-9e42-4c50-ac00-c9b22602f060",
   "metadata": {},
   "outputs": [],
   "source": [
    "import bz2\n",
    "import json\n",
    "import ipaddress\n",
    "\n",
    "import altair as alt\n",
    "import pandas as pd\n",
    "import requests\n",
    "\n",
    "from rpki_analysis.riswhois import RisWhoisLookup, read_ris_dump\n",
    "from rpki_analysis.rov import RouteOriginAuthorizationLookup, rov_validity, rov_validity_verbose"
   ]
  },
  {
   "cell_type": "code",
   "execution_count": 3,
   "id": "legendary-conservation",
   "metadata": {},
   "outputs": [],
   "source": [
    "# https://www.ris.ripe.net/dumps/riswhoisdump.IPv4.gz\n",
    "# https://www.ris.ripe.net/dumps/riswhoisdump.IPv6.gz\n",
    "ris_v4_gz = requests.get(\"https://www.ris.ripe.net/dumps/riswhoisdump.IPv4.gz\").content\n",
    "ris_v6_gz = requests.get(\"https://www.ris.ripe.net/dumps/riswhoisdump.IPv6.gz\").content\n"
   ]
  },
  {
   "cell_type": "code",
   "execution_count": 4,
   "id": "attempted-inspection",
   "metadata": {},
   "outputs": [],
   "source": [
    "# Atlas Probe archive\n",
    "atlas_probes_bz2 = requests.get(\"https://ftp.ripe.net/ripe/atlas/probes/archive/meta-latest\").content\n",
    "atlas_probes = pd.DataFrame(json.loads(bz2.decompress(atlas_probes_bz2))['objects'])"
   ]
  },
  {
   "cell_type": "code",
   "execution_count": 5,
   "id": "protected-royalty",
   "metadata": {},
   "outputs": [
    {
     "name": "stderr",
     "output_type": "stream",
     "text": [
      "RIS dump contains row(s) with AS_SET! These will never be RPKI valid (https://tools.ietf.org/html/rfc6907#section-7.1.8)\n",
      "RIS dump contains row(s) with AS_SET! These will never be RPKI valid (https://tools.ietf.org/html/rfc6907#section-7.1.8)\n"
     ]
    }
   ],
   "source": [
    "ris_v4 = read_ris_dump(\"https://www.ris.ripe.net/dumps/riswhoisdump.IPv4.gz\")\n",
    "ris_v6 = read_ris_dump(\"https://www.ris.ripe.net/dumps/riswhoisdump.IPv6.gz\")"
   ]
  },
  {
   "cell_type": "code",
   "execution_count": null,
   "id": "wicked-strength",
   "metadata": {},
   "outputs": [],
   "source": []
  },
  {
   "cell_type": "code",
   "execution_count": 6,
   "id": "electrical-chess",
   "metadata": {},
   "outputs": [],
   "source": [
    "# Get RPKI valids\n",
    "validated_objects = requests.get(\"https://rpki-validator.ripe.net/api/objects/validated\").json()\n",
    "rpki_roas = pd.DataFrame(validated_objects['data']['roas'])\n",
    "# And add address family\n",
    "rpki_roas['af'] = af = rpki_roas.prefix.map(lambda p: ipaddress.ip_network(p).version)\n",
    "# And prefix length (to chart later)\n",
    "rpki_roas['prefix_length'] = af = rpki_roas.prefix.map(lambda p: ipaddress.ip_network(p).prefixlen)"
   ]
  },
  {
   "cell_type": "code",
   "execution_count": 7,
   "id": "experienced-person",
   "metadata": {},
   "outputs": [],
   "source": [
    "rpki_roas_v4 = rpki_roas[rpki_roas.af == 4]\n",
    "rpki_roas_v6 = rpki_roas[rpki_roas.af == 6]"
   ]
  },
  {
   "cell_type": "code",
   "execution_count": 8,
   "id": "owned-guest",
   "metadata": {},
   "outputs": [],
   "source": [
    "roa_lookup_v4 = RouteOriginAuthorizationLookup(rpki_roas_v4)\n",
    "roa_lookup_v6 = RouteOriginAuthorizationLookup(rpki_roas_v6)"
   ]
  },
  {
   "cell_type": "code",
   "execution_count": 9,
   "id": "coated-backing",
   "metadata": {},
   "outputs": [
    {
     "data": {
      "text/plain": [
       "{RouteOriginAuthorization(asn='9583', prefix='1.6.108.0/22', max_length=22, prefix_length=22),\n",
       " RouteOriginAuthorization(asn='9583', prefix='1.6.108.0/24', max_length=24, prefix_length=24)}"
      ]
     },
     "execution_count": 9,
     "metadata": {},
     "output_type": "execute_result"
    }
   ],
   "source": [
    "# This prefix has a ROA for a less specific\n",
    "roa_lookup_v4['1.6.108.0/24']"
   ]
  },
  {
   "cell_type": "markdown",
   "id": "british-oxford",
   "metadata": {},
   "source": [
    "### Data has been loaded\n",
    "\n",
    "Spot-check a sample from the roas in the prefix tries for both address families. Filter so it is a sample not from the most-common prefix length.\n",
    "\n",
    "Starting with IPv4:"
   ]
  },
  {
   "cell_type": "code",
   "execution_count": 10,
   "id": "musical-essence",
   "metadata": {},
   "outputs": [
    {
     "data": {
      "text/html": [
       "<div>\n",
       "<style scoped>\n",
       "    .dataframe tbody tr th:only-of-type {\n",
       "        vertical-align: middle;\n",
       "    }\n",
       "\n",
       "    .dataframe tbody tr th {\n",
       "        vertical-align: top;\n",
       "    }\n",
       "\n",
       "    .dataframe thead th {\n",
       "        text-align: right;\n",
       "    }\n",
       "</style>\n",
       "<table border=\"1\" class=\"dataframe\">\n",
       "  <thead>\n",
       "    <tr style=\"text-align: right;\">\n",
       "      <th></th>\n",
       "      <th>maxLength</th>\n",
       "      <th>af</th>\n",
       "      <th>prefix_length</th>\n",
       "    </tr>\n",
       "  </thead>\n",
       "  <tbody>\n",
       "    <tr>\n",
       "      <th>count</th>\n",
       "      <td>225656.000000</td>\n",
       "      <td>225656.0</td>\n",
       "      <td>225656.000000</td>\n",
       "    </tr>\n",
       "    <tr>\n",
       "      <th>mean</th>\n",
       "      <td>23.196379</td>\n",
       "      <td>4.0</td>\n",
       "      <td>22.520168</td>\n",
       "    </tr>\n",
       "    <tr>\n",
       "      <th>std</th>\n",
       "      <td>2.190682</td>\n",
       "      <td>0.0</td>\n",
       "      <td>2.288992</td>\n",
       "    </tr>\n",
       "    <tr>\n",
       "      <th>min</th>\n",
       "      <td>8.000000</td>\n",
       "      <td>4.0</td>\n",
       "      <td>8.000000</td>\n",
       "    </tr>\n",
       "    <tr>\n",
       "      <th>25%</th>\n",
       "      <td>23.000000</td>\n",
       "      <td>4.0</td>\n",
       "      <td>22.000000</td>\n",
       "    </tr>\n",
       "    <tr>\n",
       "      <th>50%</th>\n",
       "      <td>24.000000</td>\n",
       "      <td>4.0</td>\n",
       "      <td>24.000000</td>\n",
       "    </tr>\n",
       "    <tr>\n",
       "      <th>75%</th>\n",
       "      <td>24.000000</td>\n",
       "      <td>4.0</td>\n",
       "      <td>24.000000</td>\n",
       "    </tr>\n",
       "    <tr>\n",
       "      <th>max</th>\n",
       "      <td>32.000000</td>\n",
       "      <td>4.0</td>\n",
       "      <td>32.000000</td>\n",
       "    </tr>\n",
       "  </tbody>\n",
       "</table>\n",
       "</div>"
      ],
      "text/plain": [
       "           maxLength        af  prefix_length\n",
       "count  225656.000000  225656.0  225656.000000\n",
       "mean       23.196379       4.0      22.520168\n",
       "std         2.190682       0.0       2.288992\n",
       "min         8.000000       4.0       8.000000\n",
       "25%        23.000000       4.0      22.000000\n",
       "50%        24.000000       4.0      24.000000\n",
       "75%        24.000000       4.0      24.000000\n",
       "max        32.000000       4.0      32.000000"
      ]
     },
     "execution_count": 10,
     "metadata": {},
     "output_type": "execute_result"
    }
   ],
   "source": [
    "rpki_roas_v4.describe()"
   ]
  },
  {
   "cell_type": "code",
   "execution_count": 11,
   "id": "logical-highlight",
   "metadata": {},
   "outputs": [
    {
     "data": {
      "text/html": [
       "<div>\n",
       "<style scoped>\n",
       "    .dataframe tbody tr th:only-of-type {\n",
       "        vertical-align: middle;\n",
       "    }\n",
       "\n",
       "    .dataframe tbody tr th {\n",
       "        vertical-align: top;\n",
       "    }\n",
       "\n",
       "    .dataframe thead th {\n",
       "        text-align: right;\n",
       "    }\n",
       "</style>\n",
       "<table border=\"1\" class=\"dataframe\">\n",
       "  <thead>\n",
       "    <tr style=\"text-align: right;\">\n",
       "      <th></th>\n",
       "      <th>index</th>\n",
       "      <th>asn</th>\n",
       "      <th>prefix</th>\n",
       "      <th>maxLength</th>\n",
       "      <th>af</th>\n",
       "      <th>prefix_length</th>\n",
       "    </tr>\n",
       "  </thead>\n",
       "  <tbody>\n",
       "    <tr>\n",
       "      <th>0</th>\n",
       "      <td>87195</td>\n",
       "      <td>13335</td>\n",
       "      <td>172.69.76.0/22</td>\n",
       "      <td>22</td>\n",
       "      <td>4</td>\n",
       "      <td>22</td>\n",
       "    </tr>\n",
       "    <tr>\n",
       "      <th>1</th>\n",
       "      <td>69366</td>\n",
       "      <td>136712</td>\n",
       "      <td>114.142.164.0/22</td>\n",
       "      <td>24</td>\n",
       "      <td>4</td>\n",
       "      <td>22</td>\n",
       "    </tr>\n",
       "    <tr>\n",
       "      <th>2</th>\n",
       "      <td>241846</td>\n",
       "      <td>63949</td>\n",
       "      <td>109.74.192.0/20</td>\n",
       "      <td>24</td>\n",
       "      <td>4</td>\n",
       "      <td>20</td>\n",
       "    </tr>\n",
       "    <tr>\n",
       "      <th>3</th>\n",
       "      <td>70081</td>\n",
       "      <td>137182</td>\n",
       "      <td>103.155.8.0/23</td>\n",
       "      <td>23</td>\n",
       "      <td>4</td>\n",
       "      <td>23</td>\n",
       "    </tr>\n",
       "    <tr>\n",
       "      <th>4</th>\n",
       "      <td>111713</td>\n",
       "      <td>198949</td>\n",
       "      <td>162.129.0.0/16</td>\n",
       "      <td>24</td>\n",
       "      <td>4</td>\n",
       "      <td>16</td>\n",
       "    </tr>\n",
       "  </tbody>\n",
       "</table>\n",
       "</div>"
      ],
      "text/plain": [
       "    index     asn            prefix  maxLength  af  prefix_length\n",
       "0   87195   13335    172.69.76.0/22         22   4             22\n",
       "1   69366  136712  114.142.164.0/22         24   4             22\n",
       "2  241846   63949   109.74.192.0/20         24   4             20\n",
       "3   70081  137182    103.155.8.0/23         23   4             23\n",
       "4  111713  198949    162.129.0.0/16         24   4             16"
      ]
     },
     "metadata": {},
     "output_type": "display_data"
    }
   ],
   "source": [
    "sample = rpki_roas_v4[rpki_roas_v4.prefix_length != 24].sample(5).reset_index()\n",
    "display(sample)"
   ]
  },
  {
   "cell_type": "code",
   "execution_count": 12,
   "id": "statutory-prairie",
   "metadata": {},
   "outputs": [
    {
     "data": {
      "text/plain": [
       "{RouteOriginAuthorization(asn='13335', prefix='172.69.76.0/22', max_length=22, prefix_length=22)}"
      ]
     },
     "execution_count": 12,
     "metadata": {},
     "output_type": "execute_result"
    }
   ],
   "source": [
    "roa_lookup_v4.trie[sample.prefix[0]]"
   ]
  },
  {
   "cell_type": "markdown",
   "id": "silver-rating",
   "metadata": {},
   "source": [
    "The printed entry should match the `prefix_length` in the top row of the table."
   ]
  },
  {
   "cell_type": "code",
   "execution_count": 13,
   "id": "running-background",
   "metadata": {},
   "outputs": [
    {
     "data": {
      "text/plain": [
       "<AxesSubplot:ylabel='Frequency'>"
      ]
     },
     "execution_count": 13,
     "metadata": {},
     "output_type": "execute_result"
    },
    {
     "data": {
      "image/png": "[encoded data removed]",
      "text/plain": [
       "<Figure size 432x288 with 1 Axes>"
      ]
     },
     "metadata": {
      "needs_background": "light"
     },
     "output_type": "display_data"
    }
   ],
   "source": [
    "rpki_roas_v4[['maxLength', 'prefix_length']].plot.hist(\n",
    "    by='maxLength',\n",
    "    bins=16,\n",
    "    alpha=0.5\n",
    ")"
   ]
  },
  {
   "cell_type": "markdown",
   "id": "selected-afghanistan",
   "metadata": {},
   "source": [
    "And now IPv6, again skipping what is likely the most common prefix_length"
   ]
  },
  {
   "cell_type": "code",
   "execution_count": 14,
   "id": "divided-expert",
   "metadata": {},
   "outputs": [
    {
     "data": {
      "text/html": [
       "<div>\n",
       "<style scoped>\n",
       "    .dataframe tbody tr th:only-of-type {\n",
       "        vertical-align: middle;\n",
       "    }\n",
       "\n",
       "    .dataframe tbody tr th {\n",
       "        vertical-align: top;\n",
       "    }\n",
       "\n",
       "    .dataframe thead th {\n",
       "        text-align: right;\n",
       "    }\n",
       "</style>\n",
       "<table border=\"1\" class=\"dataframe\">\n",
       "  <thead>\n",
       "    <tr style=\"text-align: right;\">\n",
       "      <th></th>\n",
       "      <th>maxLength</th>\n",
       "      <th>af</th>\n",
       "      <th>prefix_length</th>\n",
       "    </tr>\n",
       "  </thead>\n",
       "  <tbody>\n",
       "    <tr>\n",
       "      <th>count</th>\n",
       "      <td>41893.000000</td>\n",
       "      <td>41893.0</td>\n",
       "      <td>41893.000000</td>\n",
       "    </tr>\n",
       "    <tr>\n",
       "      <th>mean</th>\n",
       "      <td>44.492803</td>\n",
       "      <td>6.0</td>\n",
       "      <td>42.211849</td>\n",
       "    </tr>\n",
       "    <tr>\n",
       "      <th>std</th>\n",
       "      <td>10.487946</td>\n",
       "      <td>0.0</td>\n",
       "      <td>8.589066</td>\n",
       "    </tr>\n",
       "    <tr>\n",
       "      <th>min</th>\n",
       "      <td>19.000000</td>\n",
       "      <td>6.0</td>\n",
       "      <td>19.000000</td>\n",
       "    </tr>\n",
       "    <tr>\n",
       "      <th>25%</th>\n",
       "      <td>38.000000</td>\n",
       "      <td>6.0</td>\n",
       "      <td>32.000000</td>\n",
       "    </tr>\n",
       "    <tr>\n",
       "      <th>50%</th>\n",
       "      <td>48.000000</td>\n",
       "      <td>6.0</td>\n",
       "      <td>48.000000</td>\n",
       "    </tr>\n",
       "    <tr>\n",
       "      <th>75%</th>\n",
       "      <td>48.000000</td>\n",
       "      <td>6.0</td>\n",
       "      <td>48.000000</td>\n",
       "    </tr>\n",
       "    <tr>\n",
       "      <th>max</th>\n",
       "      <td>128.000000</td>\n",
       "      <td>6.0</td>\n",
       "      <td>128.000000</td>\n",
       "    </tr>\n",
       "  </tbody>\n",
       "</table>\n",
       "</div>"
      ],
      "text/plain": [
       "          maxLength       af  prefix_length\n",
       "count  41893.000000  41893.0   41893.000000\n",
       "mean      44.492803      6.0      42.211849\n",
       "std       10.487946      0.0       8.589066\n",
       "min       19.000000      6.0      19.000000\n",
       "25%       38.000000      6.0      32.000000\n",
       "50%       48.000000      6.0      48.000000\n",
       "75%       48.000000      6.0      48.000000\n",
       "max      128.000000      6.0     128.000000"
      ]
     },
     "execution_count": 14,
     "metadata": {},
     "output_type": "execute_result"
    }
   ],
   "source": [
    "rpki_roas_v6.describe()"
   ]
  },
  {
   "cell_type": "code",
   "execution_count": 15,
   "id": "boolean-direction",
   "metadata": {},
   "outputs": [
    {
     "data": {
      "text/html": [
       "<div>\n",
       "<style scoped>\n",
       "    .dataframe tbody tr th:only-of-type {\n",
       "        vertical-align: middle;\n",
       "    }\n",
       "\n",
       "    .dataframe tbody tr th {\n",
       "        vertical-align: top;\n",
       "    }\n",
       "\n",
       "    .dataframe thead th {\n",
       "        text-align: right;\n",
       "    }\n",
       "</style>\n",
       "<table border=\"1\" class=\"dataframe\">\n",
       "  <thead>\n",
       "    <tr style=\"text-align: right;\">\n",
       "      <th></th>\n",
       "      <th>index</th>\n",
       "      <th>asn</th>\n",
       "      <th>prefix</th>\n",
       "      <th>maxLength</th>\n",
       "      <th>af</th>\n",
       "      <th>prefix_length</th>\n",
       "    </tr>\n",
       "  </thead>\n",
       "  <tbody>\n",
       "    <tr>\n",
       "      <th>0</th>\n",
       "      <td>223131</td>\n",
       "      <td>50535</td>\n",
       "      <td>2a00:ce80::/32</td>\n",
       "      <td>48</td>\n",
       "      <td>6</td>\n",
       "      <td>32</td>\n",
       "    </tr>\n",
       "    <tr>\n",
       "      <th>1</th>\n",
       "      <td>20714</td>\n",
       "      <td>9873</td>\n",
       "      <td>2400:aa00:dc00::/40</td>\n",
       "      <td>40</td>\n",
       "      <td>6</td>\n",
       "      <td>40</td>\n",
       "    </tr>\n",
       "    <tr>\n",
       "      <th>2</th>\n",
       "      <td>132880</td>\n",
       "      <td>267914</td>\n",
       "      <td>2803:8e60::/32</td>\n",
       "      <td>32</td>\n",
       "      <td>6</td>\n",
       "      <td>32</td>\n",
       "    </tr>\n",
       "    <tr>\n",
       "      <th>3</th>\n",
       "      <td>22320</td>\n",
       "      <td>10021</td>\n",
       "      <td>2400:1000::/32</td>\n",
       "      <td>128</td>\n",
       "      <td>6</td>\n",
       "      <td>32</td>\n",
       "    </tr>\n",
       "    <tr>\n",
       "      <th>4</th>\n",
       "      <td>256839</td>\n",
       "      <td>205581</td>\n",
       "      <td>2a0b:8245::/32</td>\n",
       "      <td>32</td>\n",
       "      <td>6</td>\n",
       "      <td>32</td>\n",
       "    </tr>\n",
       "  </tbody>\n",
       "</table>\n",
       "</div>"
      ],
      "text/plain": [
       "    index     asn               prefix  maxLength  af  prefix_length\n",
       "0  223131   50535       2a00:ce80::/32         48   6             32\n",
       "1   20714    9873  2400:aa00:dc00::/40         40   6             40\n",
       "2  132880  267914       2803:8e60::/32         32   6             32\n",
       "3   22320   10021       2400:1000::/32        128   6             32\n",
       "4  256839  205581       2a0b:8245::/32         32   6             32"
      ]
     },
     "metadata": {},
     "output_type": "display_data"
    }
   ],
   "source": [
    "sample = rpki_roas_v6[rpki_roas_v6.prefix_length != 48].sample(5).reset_index()\n",
    "display(sample)"
   ]
  },
  {
   "cell_type": "code",
   "execution_count": 16,
   "id": "reasonable-reform",
   "metadata": {},
   "outputs": [
    {
     "data": {
      "text/plain": [
       "{RouteOriginAuthorization(asn='50535', prefix='2a00:ce80::/32', max_length=48, prefix_length=32)}"
      ]
     },
     "execution_count": 16,
     "metadata": {},
     "output_type": "execute_result"
    }
   ],
   "source": [
    "roa_lookup_v6.trie[sample.prefix[0]]"
   ]
  },
  {
   "cell_type": "code",
   "execution_count": 17,
   "id": "pretty-prayer",
   "metadata": {},
   "outputs": [
    {
     "data": {
      "text/plain": [
       "<AxesSubplot:ylabel='Frequency'>"
      ]
     },
     "execution_count": 17,
     "metadata": {},
     "output_type": "execute_result"
    },
    {
     "data": {
      "image/png": "[encoded data removed]",
      "text/plain": [
       "<Figure size 432x288 with 1 Axes>"
      ]
     },
     "metadata": {
      "needs_background": "light"
     },
     "output_type": "display_data"
    }
   ],
   "source": [
    "rpki_roas_v6[['maxLength', 'prefix_length']].plot.hist(\n",
    "    by='maxLength',\n",
    "    bins=32,\n",
    "    alpha=0.5\n",
    ")"
   ]
  },
  {
   "cell_type": "markdown",
   "id": "portuguese-manual",
   "metadata": {},
   "source": [
    "All data has been collected."
   ]
  },
  {
   "cell_type": "code",
   "execution_count": 18,
   "id": "acute-antique",
   "metadata": {},
   "outputs": [
    {
     "data": {
      "text/html": [
       "<div>\n",
       "<style scoped>\n",
       "    .dataframe tbody tr th:only-of-type {\n",
       "        vertical-align: middle;\n",
       "    }\n",
       "\n",
       "    .dataframe tbody tr th {\n",
       "        vertical-align: top;\n",
       "    }\n",
       "\n",
       "    .dataframe thead th {\n",
       "        text-align: right;\n",
       "    }\n",
       "</style>\n",
       "<table border=\"1\" class=\"dataframe\">\n",
       "  <thead>\n",
       "    <tr style=\"text-align: right;\">\n",
       "      <th></th>\n",
       "      <th>origin</th>\n",
       "      <th>prefix</th>\n",
       "      <th>seen_by_peers</th>\n",
       "      <th>prefix_length</th>\n",
       "    </tr>\n",
       "  </thead>\n",
       "  <tbody>\n",
       "    <tr>\n",
       "      <th>16</th>\n",
       "      <td>174</td>\n",
       "      <td>0.0.0.0/0</td>\n",
       "      <td>6.0</td>\n",
       "      <td>0</td>\n",
       "    </tr>\n",
       "    <tr>\n",
       "      <th>17</th>\n",
       "      <td>55720</td>\n",
       "      <td>0.0.0.0/0</td>\n",
       "      <td>2.0</td>\n",
       "      <td>0</td>\n",
       "    </tr>\n",
       "    <tr>\n",
       "      <th>18</th>\n",
       "      <td>30823</td>\n",
       "      <td>0.0.0.0/0</td>\n",
       "      <td>1.0</td>\n",
       "      <td>0</td>\n",
       "    </tr>\n",
       "    <tr>\n",
       "      <th>19</th>\n",
       "      <td>50628</td>\n",
       "      <td>0.0.0.0/0</td>\n",
       "      <td>2.0</td>\n",
       "      <td>0</td>\n",
       "    </tr>\n",
       "    <tr>\n",
       "      <th>20</th>\n",
       "      <td>44356</td>\n",
       "      <td>0.0.0.0/0</td>\n",
       "      <td>1.0</td>\n",
       "      <td>0</td>\n",
       "    </tr>\n",
       "    <tr>\n",
       "      <th>...</th>\n",
       "      <td>...</td>\n",
       "      <td>...</td>\n",
       "      <td>...</td>\n",
       "      <td>...</td>\n",
       "    </tr>\n",
       "    <tr>\n",
       "      <th>1010482</th>\n",
       "      <td>63199</td>\n",
       "      <td>223.255.250.0/24</td>\n",
       "      <td>337.0</td>\n",
       "      <td>24</td>\n",
       "    </tr>\n",
       "    <tr>\n",
       "      <th>1010483</th>\n",
       "      <td>63199</td>\n",
       "      <td>223.255.251.0/24</td>\n",
       "      <td>337.0</td>\n",
       "      <td>24</td>\n",
       "    </tr>\n",
       "    <tr>\n",
       "      <th>1010484</th>\n",
       "      <td>58519</td>\n",
       "      <td>223.255.252.0/24</td>\n",
       "      <td>340.0</td>\n",
       "      <td>24</td>\n",
       "    </tr>\n",
       "    <tr>\n",
       "      <th>1010485</th>\n",
       "      <td>58519</td>\n",
       "      <td>223.255.253.0/24</td>\n",
       "      <td>340.0</td>\n",
       "      <td>24</td>\n",
       "    </tr>\n",
       "    <tr>\n",
       "      <th>1010486</th>\n",
       "      <td>55415</td>\n",
       "      <td>223.255.254.0/24</td>\n",
       "      <td>395.0</td>\n",
       "      <td>24</td>\n",
       "    </tr>\n",
       "  </tbody>\n",
       "</table>\n",
       "<p>1010471 rows × 4 columns</p>\n",
       "</div>"
      ],
      "text/plain": [
       "        origin            prefix  seen_by_peers  prefix_length\n",
       "16         174         0.0.0.0/0            6.0              0\n",
       "17       55720         0.0.0.0/0            2.0              0\n",
       "18       30823         0.0.0.0/0            1.0              0\n",
       "19       50628         0.0.0.0/0            2.0              0\n",
       "20       44356         0.0.0.0/0            1.0              0\n",
       "...        ...               ...            ...            ...\n",
       "1010482  63199  223.255.250.0/24          337.0             24\n",
       "1010483  63199  223.255.251.0/24          337.0             24\n",
       "1010484  58519  223.255.252.0/24          340.0             24\n",
       "1010485  58519  223.255.253.0/24          340.0             24\n",
       "1010486  55415  223.255.254.0/24          395.0             24\n",
       "\n",
       "[1010471 rows x 4 columns]"
      ]
     },
     "execution_count": 18,
     "metadata": {},
     "output_type": "execute_result"
    }
   ],
   "source": [
    "ris_v4"
   ]
  },
  {
   "cell_type": "code",
   "execution_count": 19,
   "id": "damaged-clock",
   "metadata": {},
   "outputs": [
    {
     "data": {
      "text/plain": [
       "453581    unknown\n",
       "dtype: object"
      ]
     },
     "execution_count": 19,
     "metadata": {},
     "output_type": "execute_result"
    }
   ],
   "source": [
    "\n",
    "ris_v4.sample(1).apply(lambda x: rov_validity(x, roa_lookup_v4), axis=1)"
   ]
  },
  {
   "cell_type": "code",
   "execution_count": 20,
   "id": "norwegian-princess",
   "metadata": {},
   "outputs": [],
   "source": [
    "ris_v4['roa_validity'] = ris_v4.apply(lambda x: rov_validity(x, roa_lookup_v4), axis=1)\n",
    "ris_v6['roa_validity'] = ris_v6.apply(lambda x: rov_validity(x, roa_lookup_v6), axis=1)\n"
   ]
  },
  {
   "cell_type": "code",
   "execution_count": null,
   "id": "surprising-september",
   "metadata": {},
   "outputs": [],
   "source": []
  },
  {
   "cell_type": "code",
   "execution_count": 21,
   "id": "attended-fitting",
   "metadata": {},
   "outputs": [],
   "source": [
    "# And build patricia trie\n",
    "ris_v4_lookup = RisWhoisLookup(ris_v4)\n",
    "ris_v6_lookup = RisWhoisLookup(ris_v6)"
   ]
  },
  {
   "cell_type": "code",
   "execution_count": 22,
   "id": "supported-techno",
   "metadata": {},
   "outputs": [
    {
     "data": {
      "text/html": [
       "<div>\n",
       "<style scoped>\n",
       "    .dataframe tbody tr th:only-of-type {\n",
       "        vertical-align: middle;\n",
       "    }\n",
       "\n",
       "    .dataframe tbody tr th {\n",
       "        vertical-align: top;\n",
       "    }\n",
       "\n",
       "    .dataframe thead th {\n",
       "        text-align: right;\n",
       "    }\n",
       "</style>\n",
       "<table border=\"1\" class=\"dataframe\">\n",
       "  <thead>\n",
       "    <tr style=\"text-align: right;\">\n",
       "      <th></th>\n",
       "      <th>origin</th>\n",
       "      <th>prefix</th>\n",
       "      <th>seen_by_peers</th>\n",
       "      <th>prefix_length</th>\n",
       "      <th>roa_validity</th>\n",
       "    </tr>\n",
       "  </thead>\n",
       "  <tbody>\n",
       "    <tr>\n",
       "      <th>5694</th>\n",
       "      <td>9198</td>\n",
       "      <td>2.133.164.0/22</td>\n",
       "      <td>361.0</td>\n",
       "      <td>22</td>\n",
       "      <td>unknown</td>\n",
       "    </tr>\n",
       "    <tr>\n",
       "      <th>856783</th>\n",
       "      <td>270473</td>\n",
       "      <td>200.58.248.0/22</td>\n",
       "      <td>397.0</td>\n",
       "      <td>22</td>\n",
       "      <td>unknown</td>\n",
       "    </tr>\n",
       "    <tr>\n",
       "      <th>186044</th>\n",
       "      <td>14905</td>\n",
       "      <td>67.233.96.0/19</td>\n",
       "      <td>344.0</td>\n",
       "      <td>19</td>\n",
       "      <td>unknown</td>\n",
       "    </tr>\n",
       "    <tr>\n",
       "      <th>842143</th>\n",
       "      <td>203999</td>\n",
       "      <td>198.240.112.0/24</td>\n",
       "      <td>345.0</td>\n",
       "      <td>24</td>\n",
       "      <td>unknown</td>\n",
       "    </tr>\n",
       "    <tr>\n",
       "      <th>467728</th>\n",
       "      <td>17488</td>\n",
       "      <td>125.99.212.0/22</td>\n",
       "      <td>369.0</td>\n",
       "      <td>22</td>\n",
       "      <td>unknown</td>\n",
       "    </tr>\n",
       "    <tr>\n",
       "      <th>615199</th>\n",
       "      <td>26599</td>\n",
       "      <td>177.25.200.0/21</td>\n",
       "      <td>240.0</td>\n",
       "      <td>21</td>\n",
       "      <td>unknown</td>\n",
       "    </tr>\n",
       "    <tr>\n",
       "      <th>913817</th>\n",
       "      <td>21518</td>\n",
       "      <td>204.107.242.0/24</td>\n",
       "      <td>380.0</td>\n",
       "      <td>24</td>\n",
       "      <td>unknown</td>\n",
       "    </tr>\n",
       "    <tr>\n",
       "      <th>547220</th>\n",
       "      <td>21565</td>\n",
       "      <td>159.117.164.0/24</td>\n",
       "      <td>336.0</td>\n",
       "      <td>24</td>\n",
       "      <td>unknown</td>\n",
       "    </tr>\n",
       "    <tr>\n",
       "      <th>568197</th>\n",
       "      <td>19994</td>\n",
       "      <td>166.78.199.226/32</td>\n",
       "      <td>3.0</td>\n",
       "      <td>32</td>\n",
       "      <td>unknown</td>\n",
       "    </tr>\n",
       "    <tr>\n",
       "      <th>220851</th>\n",
       "      <td>9009</td>\n",
       "      <td>77.81.136.0/24</td>\n",
       "      <td>337.0</td>\n",
       "      <td>24</td>\n",
       "      <td>unknown</td>\n",
       "    </tr>\n",
       "    <tr>\n",
       "      <th>320670</th>\n",
       "      <td>12715</td>\n",
       "      <td>95.19.182.0/23</td>\n",
       "      <td>1.0</td>\n",
       "      <td>23</td>\n",
       "      <td>unknown</td>\n",
       "    </tr>\n",
       "    <tr>\n",
       "      <th>527688</th>\n",
       "      <td>17841</td>\n",
       "      <td>152.99.193.128/25</td>\n",
       "      <td>10.0</td>\n",
       "      <td>25</td>\n",
       "      <td>unknown</td>\n",
       "    </tr>\n",
       "    <tr>\n",
       "      <th>162551</th>\n",
       "      <td>7029</td>\n",
       "      <td>64.83.32.0/19</td>\n",
       "      <td>67.0</td>\n",
       "      <td>19</td>\n",
       "      <td>unknown</td>\n",
       "    </tr>\n",
       "    <tr>\n",
       "      <th>213445</th>\n",
       "      <td>21804</td>\n",
       "      <td>74.206.145.0/24</td>\n",
       "      <td>338.0</td>\n",
       "      <td>24</td>\n",
       "      <td>unknown</td>\n",
       "    </tr>\n",
       "    <tr>\n",
       "      <th>526909</th>\n",
       "      <td>11492</td>\n",
       "      <td>152.37.181.0/24</td>\n",
       "      <td>337.0</td>\n",
       "      <td>24</td>\n",
       "      <td>unknown</td>\n",
       "    </tr>\n",
       "    <tr>\n",
       "      <th>341642</th>\n",
       "      <td>65500</td>\n",
       "      <td>102.134.124.171/32</td>\n",
       "      <td>1.0</td>\n",
       "      <td>32</td>\n",
       "      <td>unknown</td>\n",
       "    </tr>\n",
       "    <tr>\n",
       "      <th>82912</th>\n",
       "      <td>133909</td>\n",
       "      <td>43.228.80.0/23</td>\n",
       "      <td>400.0</td>\n",
       "      <td>23</td>\n",
       "      <td>unknown</td>\n",
       "    </tr>\n",
       "    <tr>\n",
       "      <th>909936</th>\n",
       "      <td>1237</td>\n",
       "      <td>203.250.0.0/19</td>\n",
       "      <td>382.0</td>\n",
       "      <td>19</td>\n",
       "      <td>unknown</td>\n",
       "    </tr>\n",
       "    <tr>\n",
       "      <th>632815</th>\n",
       "      <td>39891</td>\n",
       "      <td>178.86.1.0/24</td>\n",
       "      <td>382.0</td>\n",
       "      <td>24</td>\n",
       "      <td>unknown</td>\n",
       "    </tr>\n",
       "    <tr>\n",
       "      <th>956362</th>\n",
       "      <td>4766</td>\n",
       "      <td>211.34.27.240/28</td>\n",
       "      <td>9.0</td>\n",
       "      <td>28</td>\n",
       "      <td>unknown</td>\n",
       "    </tr>\n",
       "  </tbody>\n",
       "</table>\n",
       "</div>"
      ],
      "text/plain": [
       "        origin              prefix  seen_by_peers  prefix_length roa_validity\n",
       "5694      9198      2.133.164.0/22          361.0             22      unknown\n",
       "856783  270473     200.58.248.0/22          397.0             22      unknown\n",
       "186044   14905      67.233.96.0/19          344.0             19      unknown\n",
       "842143  203999    198.240.112.0/24          345.0             24      unknown\n",
       "467728   17488     125.99.212.0/22          369.0             22      unknown\n",
       "615199   26599     177.25.200.0/21          240.0             21      unknown\n",
       "913817   21518    204.107.242.0/24          380.0             24      unknown\n",
       "547220   21565    159.117.164.0/24          336.0             24      unknown\n",
       "568197   19994   166.78.199.226/32            3.0             32      unknown\n",
       "220851    9009      77.81.136.0/24          337.0             24      unknown\n",
       "320670   12715      95.19.182.0/23            1.0             23      unknown\n",
       "527688   17841   152.99.193.128/25           10.0             25      unknown\n",
       "162551    7029       64.83.32.0/19           67.0             19      unknown\n",
       "213445   21804     74.206.145.0/24          338.0             24      unknown\n",
       "526909   11492     152.37.181.0/24          337.0             24      unknown\n",
       "341642   65500  102.134.124.171/32            1.0             32      unknown\n",
       "82912   133909      43.228.80.0/23          400.0             23      unknown\n",
       "909936    1237      203.250.0.0/19          382.0             19      unknown\n",
       "632815   39891       178.86.1.0/24          382.0             24      unknown\n",
       "956362    4766    211.34.27.240/28            9.0             28      unknown"
      ]
     },
     "execution_count": 22,
     "metadata": {},
     "output_type": "execute_result"
    }
   ],
   "source": [
    "ris_v4[ris_v4.roa_validity == \"unknown\"].sample(20)"
   ]
  },
  {
   "cell_type": "code",
   "execution_count": 23,
   "id": "unlimited-alfred",
   "metadata": {},
   "outputs": [
    {
     "data": {
      "text/html": [
       "<div>\n",
       "<style scoped>\n",
       "    .dataframe tbody tr th:only-of-type {\n",
       "        vertical-align: middle;\n",
       "    }\n",
       "\n",
       "    .dataframe tbody tr th {\n",
       "        vertical-align: top;\n",
       "    }\n",
       "\n",
       "    .dataframe thead th {\n",
       "        text-align: right;\n",
       "    }\n",
       "</style>\n",
       "<table border=\"1\" class=\"dataframe\">\n",
       "  <thead>\n",
       "    <tr style=\"text-align: right;\">\n",
       "      <th></th>\n",
       "      <th>origin</th>\n",
       "      <th>prefix</th>\n",
       "      <th>seen_by_peers</th>\n",
       "      <th>prefix_length</th>\n",
       "      <th>roa_validity</th>\n",
       "    </tr>\n",
       "  </thead>\n",
       "  <tbody>\n",
       "    <tr>\n",
       "      <th>941055</th>\n",
       "      <td>15562</td>\n",
       "      <td>209.24.0.0/24</td>\n",
       "      <td>202.0</td>\n",
       "      <td>24</td>\n",
       "      <td>invalid</td>\n",
       "    </tr>\n",
       "  </tbody>\n",
       "</table>\n",
       "</div>"
      ],
      "text/plain": [
       "       origin         prefix  seen_by_peers  prefix_length roa_validity\n",
       "941055  15562  209.24.0.0/24          202.0             24      invalid"
      ]
     },
     "metadata": {},
     "output_type": "display_data"
    },
    {
     "data": {
      "text/plain": [
       "{ExpandedRisEntry(origin='1299', prefix='0.0.0.0/0', seen_by_peers=10.0, prefix_length=0, roa_validity='unknown'),\n",
       " ExpandedRisEntry(origin='15562', prefix='209.24.0.0/24', seen_by_peers=202.0, prefix_length=24, roa_validity='invalid')}"
      ]
     },
     "execution_count": 23,
     "metadata": {},
     "output_type": "execute_result"
    }
   ],
   "source": [
    "# Take the RPKI smiley range, from https://sg-pub.ripe.net/jasper/rpki-web-test/\n",
    "# and lookup what it is announced by\n",
    "# e.g. `whois -h riswhois.ripe.net 209.24.0.3`\n",
    "# the announcement is for 209.24.0.0/24\n",
    "display(ris_v4[(ris_v4.roa_validity == \"invalid\") & (ris_v4.prefix == '209.24.0.0/24')])\n",
    "# or:\n",
    "ris_v4_lookup['209.24.0.3']"
   ]
  },
  {
   "cell_type": "code",
   "execution_count": 24,
   "id": "literary-exhibition",
   "metadata": {},
   "outputs": [],
   "source": [
    "def is_in_valid_v4(prefix: str):\n",
    "    if not prefix:\n",
    "        return None\n",
    "    was_unknown = False\n",
    "    \n",
    "    if prefix not in ris_v4_lookup:\n",
    "        return None\n",
    "    \n",
    "    for route in ris_v4_lookup[prefix]:\n",
    "        has_route = True\n",
    "        if route.roa_validity == 'valid':\n",
    "            return \"valid\"\n",
    "        if route.roa_validity == 'unknown':\n",
    "            was_unknown = True\n",
    "                \n",
    "    return \"unknown\" if was_unknown else \"invalid\"\n",
    "\n",
    "def is_in_valid_v6(prefix: str):\n",
    "    if not prefix:\n",
    "        return None\n",
    "    was_unknown = False\n",
    "    \n",
    "    if prefix not in ris_v6_lookup:\n",
    "        return None\n",
    "    \n",
    "    for route in ris_v6_lookup[prefix]:\n",
    "        if route.roa_validity == 'valid':\n",
    "            return \"valid\"\n",
    "        if route.roa_validity == 'unknown':\n",
    "            was_unknown = True\n",
    "            \n",
    "    return \"unknown\" if was_unknown else \"invalid\"\n",
    "\n"
   ]
  },
  {
   "cell_type": "code",
   "execution_count": 25,
   "id": "seasonal-deployment",
   "metadata": {},
   "outputs": [
    {
     "data": {
      "text/plain": [
       "'unknown'"
      ]
     },
     "metadata": {},
     "output_type": "display_data"
    },
    {
     "data": {
      "text/plain": [
       "'valid'"
      ]
     },
     "metadata": {},
     "output_type": "display_data"
    },
    {
     "data": {
      "text/plain": [
       "'unknown'"
      ]
     },
     "metadata": {},
     "output_type": "display_data"
    }
   ],
   "source": [
    "# Invalid\n",
    "display(is_in_valid_v4(\"209.24.0.3\"))\n",
    "# valid\n",
    "display(is_in_valid_v4(\"193.0.1.6\"))\n",
    "# Unknown\n",
    "display(is_in_valid_v4(\"138.204.43.1\"))"
   ]
  },
  {
   "cell_type": "code",
   "execution_count": 26,
   "id": "personal-upgrade",
   "metadata": {},
   "outputs": [],
   "source": [
    "atlas_probes['address_v4_rov'] = atlas_probes.address_v4.map(is_in_valid_v4)\n",
    "atlas_probes['address_v6_rov'] = atlas_probes.address_v6.map(is_in_valid_v6)"
   ]
  },
  {
   "cell_type": "code",
   "execution_count": 27,
   "id": "mysterious-principal",
   "metadata": {},
   "outputs": [
    {
     "data": {
      "text/html": [
       "<div>\n",
       "<style scoped>\n",
       "    .dataframe tbody tr th:only-of-type {\n",
       "        vertical-align: middle;\n",
       "    }\n",
       "\n",
       "    .dataframe tbody tr th {\n",
       "        vertical-align: top;\n",
       "    }\n",
       "\n",
       "    .dataframe thead th {\n",
       "        text-align: right;\n",
       "    }\n",
       "</style>\n",
       "<table border=\"1\" class=\"dataframe\">\n",
       "  <thead>\n",
       "    <tr style=\"text-align: right;\">\n",
       "      <th></th>\n",
       "      <th>id</th>\n",
       "      <th>address_v4</th>\n",
       "      <th>address_v6</th>\n",
       "      <th>asn_v4</th>\n",
       "      <th>asn_v6</th>\n",
       "      <th>prefix_v4</th>\n",
       "      <th>prefix_v6</th>\n",
       "      <th>is_anchor</th>\n",
       "      <th>is_public</th>\n",
       "      <th>status</th>\n",
       "      <th>...</th>\n",
       "      <th>total_uptime</th>\n",
       "      <th>tags</th>\n",
       "      <th>country_code</th>\n",
       "      <th>latitude</th>\n",
       "      <th>longitude</th>\n",
       "      <th>day</th>\n",
       "      <th>probe</th>\n",
       "      <th>status_name</th>\n",
       "      <th>address_v4_rov</th>\n",
       "      <th>address_v6_rov</th>\n",
       "    </tr>\n",
       "  </thead>\n",
       "  <tbody>\n",
       "  </tbody>\n",
       "</table>\n",
       "<p>0 rows × 22 columns</p>\n",
       "</div>"
      ],
      "text/plain": [
       "Empty DataFrame\n",
       "Columns: [id, address_v4, address_v6, asn_v4, asn_v6, prefix_v4, prefix_v6, is_anchor, is_public, status, status_since, first_connected, total_uptime, tags, country_code, latitude, longitude, day, probe, status_name, address_v4_rov, address_v6_rov]\n",
       "Index: []\n",
       "\n",
       "[0 rows x 22 columns]"
      ]
     },
     "execution_count": 27,
     "metadata": {},
     "output_type": "execute_result"
    }
   ],
   "source": [
    "atlas_probes[(atlas_probes.address_v4_rov == 'invalid')]"
   ]
  },
  {
   "cell_type": "code",
   "execution_count": 28,
   "id": "dependent-parallel",
   "metadata": {},
   "outputs": [],
   "source": [
    "active_probes_v4_or_v6_invalid = atlas_probes[((atlas_probes.address_v4_rov == 'invalid') | (atlas_probes.address_v6_rov == 'invalid')) & (atlas_probes.status_name != 'Abandoned')]"
   ]
  },
  {
   "cell_type": "code",
   "execution_count": 33,
   "id": "amateur-omaha",
   "metadata": {},
   "outputs": [],
   "source": [
    "if not active_probes_v4_or_v6_invalid.empty:\n",
    "    active_probes_v4_or_v6_invalid.sample(5)"
   ]
  },
  {
   "cell_type": "code",
   "execution_count": 34,
   "id": "chinese-virus",
   "metadata": {},
   "outputs": [
    {
     "data": {
      "text/html": [
       "<div>\n",
       "<style scoped>\n",
       "    .dataframe tbody tr th:only-of-type {\n",
       "        vertical-align: middle;\n",
       "    }\n",
       "\n",
       "    .dataframe tbody tr th {\n",
       "        vertical-align: top;\n",
       "    }\n",
       "\n",
       "    .dataframe thead th {\n",
       "        text-align: right;\n",
       "    }\n",
       "</style>\n",
       "<table border=\"1\" class=\"dataframe\">\n",
       "  <thead>\n",
       "    <tr style=\"text-align: right;\">\n",
       "      <th></th>\n",
       "      <th>id</th>\n",
       "      <th>address_v4</th>\n",
       "      <th>address_v6</th>\n",
       "      <th>asn_v4</th>\n",
       "      <th>asn_v6</th>\n",
       "      <th>prefix_v4</th>\n",
       "      <th>prefix_v6</th>\n",
       "      <th>is_anchor</th>\n",
       "      <th>is_public</th>\n",
       "      <th>status</th>\n",
       "      <th>...</th>\n",
       "      <th>total_uptime</th>\n",
       "      <th>tags</th>\n",
       "      <th>country_code</th>\n",
       "      <th>latitude</th>\n",
       "      <th>longitude</th>\n",
       "      <th>day</th>\n",
       "      <th>probe</th>\n",
       "      <th>status_name</th>\n",
       "      <th>address_v4_rov</th>\n",
       "      <th>address_v6_rov</th>\n",
       "    </tr>\n",
       "  </thead>\n",
       "  <tbody>\n",
       "  </tbody>\n",
       "</table>\n",
       "<p>0 rows × 22 columns</p>\n",
       "</div>"
      ],
      "text/plain": [
       "Empty DataFrame\n",
       "Columns: [id, address_v4, address_v6, asn_v4, asn_v6, prefix_v4, prefix_v6, is_anchor, is_public, status, status_since, first_connected, total_uptime, tags, country_code, latitude, longitude, day, probe, status_name, address_v4_rov, address_v6_rov]\n",
       "Index: []\n",
       "\n",
       "[0 rows x 22 columns]"
      ]
     },
     "execution_count": 34,
     "metadata": {},
     "output_type": "execute_result"
    }
   ],
   "source": [
    "atlas_probes[((atlas_probes.address_v4_rov == 'invalid')) & (atlas_probes.status_name != 'Abandoned')]"
   ]
  },
  {
   "cell_type": "code",
   "execution_count": 35,
   "id": "sunset-laptop",
   "metadata": {},
   "outputs": [
    {
     "data": {
      "text/html": [
       "\n",
       "<div id=\"altair-viz-40db8c258f484e22a08773afccc084f0\"></div>\n",
       "<script type=\"text/javascript\">\n",
       "  (function(spec, embedOpt){\n",
       "    let outputDiv = document.currentScript.previousElementSibling;\n",
       "    if (outputDiv.id !== \"altair-viz-40db8c258f484e22a08773afccc084f0\") {\n",
       "      outputDiv = document.getElementById(\"altair-viz-40db8c258f484e22a08773afccc084f0\");\n",
       "    }\n",
       "    const paths = {\n",
       "      \"vega\": \"https://cdn.jsdelivr.net/npm//vega@5?noext\",\n",
       "      \"vega-lib\": \"https://cdn.jsdelivr.net/npm//vega-lib?noext\",\n",
       "      \"vega-lite\": \"https://cdn.jsdelivr.net/npm//vega-lite@4.8.1?noext\",\n",
       "      \"vega-embed\": \"https://cdn.jsdelivr.net/npm//vega-embed@6?noext\",\n",
       "    };\n",
       "\n",
       "    function loadScript(lib) {\n",
       "      return new Promise(function(resolve, reject) {\n",
       "        var s = document.createElement('script');\n",
       "        s.src = paths[lib];\n",
       "        s.async = true;\n",
       "        s.onload = () => resolve(paths[lib]);\n",
       "        s.onerror = () => reject(`Error loading script: ${paths[lib]}`);\n",
       "        document.getElementsByTagName(\"head\")[0].appendChild(s);\n",
       "      });\n",
       "    }\n",
       "\n",
       "    function showError(err) {\n",
       "      outputDiv.innerHTML = `<div class=\"error\" style=\"color:red;\">${err}</div>`;\n",
       "      throw err;\n",
       "    }\n",
       "\n",
       "    function displayChart(vegaEmbed) {\n",
       "      vegaEmbed(outputDiv, spec, embedOpt)\n",
       "        .catch(err => showError(`Javascript Error: ${err.message}<br>This usually means there's a typo in your chart specification. See the javascript console for the full traceback.`));\n",
       "    }\n",
       "\n",
       "    if(typeof define === \"function\" && define.amd) {\n",
       "      requirejs.config({paths});\n",
       "      require([\"vega-embed\"], displayChart, err => showError(`Error loading script: ${err.message}`));\n",
       "    } else if (typeof vegaEmbed === \"function\") {\n",
       "      displayChart(vegaEmbed);\n",
       "    } else {\n",
       "      loadScript(\"vega\")\n",
       "        .then(() => loadScript(\"vega-lite\"))\n",
       "        .then(() => loadScript(\"vega-embed\"))\n",
       "        .catch(showError)\n",
       "        .then(() => displayChart(vegaEmbed));\n",
       "    }\n",
       "  })({\"config\": {\"view\": {\"continuousWidth\": 400, \"continuousHeight\": 300}}, \"data\": {\"name\": \"data-b18e3d21371bf25da1d2ac848c526e81\"}, \"facet\": {\"column\": {\"type\": \"nominal\", \"field\": \"roa_validity\"}}, \"spec\": {\"mark\": \"bar\", \"encoding\": {\"color\": {\"type\": \"nominal\", \"field\": \"roa_validity\"}, \"x\": {\"type\": \"quantitative\", \"bin\": false, \"field\": \"seen_by_peers\"}, \"y\": {\"type\": \"quantitative\", \"field\": \"prefix\"}}, \"height\": 150, \"title\": \"Visibility versus ROV status\", \"width\": 300}, \"resolve\": {\"scale\": {\"y\": \"independent\"}}, \"$schema\": \"https://vega.github.io/schema/vega-lite/v4.8.1.json\", \"datasets\": {\"data-b18e3d21371bf25da1d2ac848c526e81\": [{\"roa_validity\": \"invalid\", \"seen_by_peers\": 1.0, \"prefix\": 13581}, {\"roa_validity\": \"invalid\", \"seen_by_peers\": 2.0, \"prefix\": 2165}, {\"roa_validity\": \"invalid\", \"seen_by_peers\": 3.0, \"prefix\": 2299}, {\"roa_validity\": \"invalid\", \"seen_by_peers\": 4.0, \"prefix\": 631}, {\"roa_validity\": \"invalid\", \"seen_by_peers\": 5.0, \"prefix\": 237}, {\"roa_validity\": \"invalid\", \"seen_by_peers\": 6.0, \"prefix\": 1458}, {\"roa_validity\": \"invalid\", \"seen_by_peers\": 7.0, \"prefix\": 208}, {\"roa_validity\": \"invalid\", \"seen_by_peers\": 8.0, \"prefix\": 58}, {\"roa_validity\": \"invalid\", \"seen_by_peers\": 9.0, \"prefix\": 251}, {\"roa_validity\": \"invalid\", \"seen_by_peers\": 10.0, \"prefix\": 42}, {\"roa_validity\": \"invalid\", \"seen_by_peers\": 11.0, \"prefix\": 33}, {\"roa_validity\": \"invalid\", \"seen_by_peers\": 12.0, \"prefix\": 47}, {\"roa_validity\": \"invalid\", \"seen_by_peers\": 13.0, \"prefix\": 36}, {\"roa_validity\": \"invalid\", \"seen_by_peers\": 14.0, \"prefix\": 34}, {\"roa_validity\": \"invalid\", \"seen_by_peers\": 15.0, \"prefix\": 43}, {\"roa_validity\": \"invalid\", \"seen_by_peers\": 16.0, \"prefix\": 145}, {\"roa_validity\": \"invalid\", \"seen_by_peers\": 17.0, \"prefix\": 7}, {\"roa_validity\": \"invalid\", \"seen_by_peers\": 18.0, \"prefix\": 4}, {\"roa_validity\": \"invalid\", \"seen_by_peers\": 19.0, \"prefix\": 4}, {\"roa_validity\": \"invalid\", \"seen_by_peers\": 20.0, \"prefix\": 10}, {\"roa_validity\": \"invalid\", \"seen_by_peers\": 21.0, \"prefix\": 3}, {\"roa_validity\": \"invalid\", \"seen_by_peers\": 22.0, \"prefix\": 15}, {\"roa_validity\": \"invalid\", \"seen_by_peers\": 23.0, \"prefix\": 13}, {\"roa_validity\": \"invalid\", \"seen_by_peers\": 24.0, \"prefix\": 15}, {\"roa_validity\": \"invalid\", \"seen_by_peers\": 25.0, \"prefix\": 3}, {\"roa_validity\": \"invalid\", \"seen_by_peers\": 26.0, \"prefix\": 21}, {\"roa_validity\": \"invalid\", \"seen_by_peers\": 27.0, \"prefix\": 2}, {\"roa_validity\": \"invalid\", \"seen_by_peers\": 28.0, \"prefix\": 1}, {\"roa_validity\": \"invalid\", \"seen_by_peers\": 29.0, \"prefix\": 18}, {\"roa_validity\": \"invalid\", \"seen_by_peers\": 30.0, \"prefix\": 2}, {\"roa_validity\": \"invalid\", \"seen_by_peers\": 31.0, \"prefix\": 10}, {\"roa_validity\": \"invalid\", \"seen_by_peers\": 32.0, \"prefix\": 6}, {\"roa_validity\": \"invalid\", \"seen_by_peers\": 33.0, \"prefix\": 2}, {\"roa_validity\": \"invalid\", \"seen_by_peers\": 34.0, \"prefix\": 5}, {\"roa_validity\": \"invalid\", \"seen_by_peers\": 35.0, \"prefix\": 192}, {\"roa_validity\": \"invalid\", \"seen_by_peers\": 37.0, \"prefix\": 3}, {\"roa_validity\": \"invalid\", \"seen_by_peers\": 38.0, \"prefix\": 2}, {\"roa_validity\": \"invalid\", \"seen_by_peers\": 39.0, \"prefix\": 21}, {\"roa_validity\": \"invalid\", \"seen_by_peers\": 40.0, \"prefix\": 3}, {\"roa_validity\": \"invalid\", \"seen_by_peers\": 41.0, \"prefix\": 5}, {\"roa_validity\": \"invalid\", \"seen_by_peers\": 42.0, \"prefix\": 5}, {\"roa_validity\": \"invalid\", \"seen_by_peers\": 43.0, \"prefix\": 4}, {\"roa_validity\": \"invalid\", \"seen_by_peers\": 44.0, \"prefix\": 5}, {\"roa_validity\": \"invalid\", \"seen_by_peers\": 45.0, \"prefix\": 3}, {\"roa_validity\": \"invalid\", \"seen_by_peers\": 46.0, \"prefix\": 2}, {\"roa_validity\": \"invalid\", \"seen_by_peers\": 47.0, \"prefix\": 2}, {\"roa_validity\": \"invalid\", \"seen_by_peers\": 48.0, \"prefix\": 1}, {\"roa_validity\": \"invalid\", \"seen_by_peers\": 49.0, \"prefix\": 1}, {\"roa_validity\": \"invalid\", \"seen_by_peers\": 50.0, \"prefix\": 2}, {\"roa_validity\": \"invalid\", \"seen_by_peers\": 51.0, \"prefix\": 1}, {\"roa_validity\": \"invalid\", \"seen_by_peers\": 53.0, \"prefix\": 3}, {\"roa_validity\": \"invalid\", \"seen_by_peers\": 54.0, \"prefix\": 6}, {\"roa_validity\": \"invalid\", \"seen_by_peers\": 55.0, \"prefix\": 3}, {\"roa_validity\": \"invalid\", \"seen_by_peers\": 56.0, \"prefix\": 3}, {\"roa_validity\": \"invalid\", \"seen_by_peers\": 57.0, \"prefix\": 5}, {\"roa_validity\": \"invalid\", \"seen_by_peers\": 58.0, \"prefix\": 1}, {\"roa_validity\": \"invalid\", \"seen_by_peers\": 59.0, \"prefix\": 1}, {\"roa_validity\": \"invalid\", \"seen_by_peers\": 60.0, \"prefix\": 4}, {\"roa_validity\": \"invalid\", \"seen_by_peers\": 61.0, \"prefix\": 2}, {\"roa_validity\": \"invalid\", \"seen_by_peers\": 62.0, \"prefix\": 2}, {\"roa_validity\": \"invalid\", \"seen_by_peers\": 65.0, \"prefix\": 29}, {\"roa_validity\": \"invalid\", \"seen_by_peers\": 66.0, \"prefix\": 6}, {\"roa_validity\": \"invalid\", \"seen_by_peers\": 67.0, \"prefix\": 3}, {\"roa_validity\": \"invalid\", \"seen_by_peers\": 68.0, \"prefix\": 54}, {\"roa_validity\": \"invalid\", \"seen_by_peers\": 69.0, \"prefix\": 1}, {\"roa_validity\": \"invalid\", \"seen_by_peers\": 70.0, \"prefix\": 11}, {\"roa_validity\": \"invalid\", \"seen_by_peers\": 71.0, \"prefix\": 2}, {\"roa_validity\": \"invalid\", \"seen_by_peers\": 72.0, \"prefix\": 1}, {\"roa_validity\": \"invalid\", \"seen_by_peers\": 73.0, \"prefix\": 2}, {\"roa_validity\": \"invalid\", \"seen_by_peers\": 74.0, \"prefix\": 1}, {\"roa_validity\": \"invalid\", \"seen_by_peers\": 75.0, \"prefix\": 2}, {\"roa_validity\": \"invalid\", \"seen_by_peers\": 76.0, \"prefix\": 4}, {\"roa_validity\": \"invalid\", \"seen_by_peers\": 77.0, \"prefix\": 1}, {\"roa_validity\": \"invalid\", \"seen_by_peers\": 78.0, \"prefix\": 5}, {\"roa_validity\": \"invalid\", \"seen_by_peers\": 79.0, \"prefix\": 2}, {\"roa_validity\": \"invalid\", \"seen_by_peers\": 80.0, \"prefix\": 1}, {\"roa_validity\": \"invalid\", \"seen_by_peers\": 81.0, \"prefix\": 10}, {\"roa_validity\": \"invalid\", \"seen_by_peers\": 82.0, \"prefix\": 9}, {\"roa_validity\": \"invalid\", \"seen_by_peers\": 83.0, \"prefix\": 6}, {\"roa_validity\": \"invalid\", \"seen_by_peers\": 84.0, \"prefix\": 9}, {\"roa_validity\": \"invalid\", \"seen_by_peers\": 85.0, \"prefix\": 14}, {\"roa_validity\": \"invalid\", \"seen_by_peers\": 86.0, \"prefix\": 1}, {\"roa_validity\": \"invalid\", \"seen_by_peers\": 87.0, \"prefix\": 5}, {\"roa_validity\": \"invalid\", \"seen_by_peers\": 88.0, \"prefix\": 2}, {\"roa_validity\": \"invalid\", \"seen_by_peers\": 89.0, \"prefix\": 1}, {\"roa_validity\": \"invalid\", \"seen_by_peers\": 90.0, \"prefix\": 3}, {\"roa_validity\": \"invalid\", \"seen_by_peers\": 91.0, \"prefix\": 13}, {\"roa_validity\": \"invalid\", \"seen_by_peers\": 92.0, \"prefix\": 4}, {\"roa_validity\": \"invalid\", \"seen_by_peers\": 93.0, \"prefix\": 4}, {\"roa_validity\": \"invalid\", \"seen_by_peers\": 94.0, \"prefix\": 1}, {\"roa_validity\": \"invalid\", \"seen_by_peers\": 95.0, \"prefix\": 1}, {\"roa_validity\": \"invalid\", \"seen_by_peers\": 96.0, \"prefix\": 1}, {\"roa_validity\": \"invalid\", \"seen_by_peers\": 98.0, \"prefix\": 4}, {\"roa_validity\": \"invalid\", \"seen_by_peers\": 100.0, \"prefix\": 1}, {\"roa_validity\": \"invalid\", \"seen_by_peers\": 101.0, \"prefix\": 1}, {\"roa_validity\": \"invalid\", \"seen_by_peers\": 102.0, \"prefix\": 3}, {\"roa_validity\": \"invalid\", \"seen_by_peers\": 104.0, \"prefix\": 4}, {\"roa_validity\": \"invalid\", \"seen_by_peers\": 105.0, \"prefix\": 3}, {\"roa_validity\": \"invalid\", \"seen_by_peers\": 106.0, \"prefix\": 2}, {\"roa_validity\": \"invalid\", \"seen_by_peers\": 108.0, \"prefix\": 3}, {\"roa_validity\": \"invalid\", \"seen_by_peers\": 109.0, \"prefix\": 1}, {\"roa_validity\": \"invalid\", \"seen_by_peers\": 110.0, \"prefix\": 2}, {\"roa_validity\": \"invalid\", \"seen_by_peers\": 111.0, \"prefix\": 1}, {\"roa_validity\": \"invalid\", \"seen_by_peers\": 113.0, \"prefix\": 1}, {\"roa_validity\": \"invalid\", \"seen_by_peers\": 119.0, \"prefix\": 1}, {\"roa_validity\": \"invalid\", \"seen_by_peers\": 120.0, \"prefix\": 30}, {\"roa_validity\": \"invalid\", \"seen_by_peers\": 121.0, \"prefix\": 44}, {\"roa_validity\": \"invalid\", \"seen_by_peers\": 122.0, \"prefix\": 21}, {\"roa_validity\": \"invalid\", \"seen_by_peers\": 123.0, \"prefix\": 19}, {\"roa_validity\": \"invalid\", \"seen_by_peers\": 124.0, \"prefix\": 21}, {\"roa_validity\": \"invalid\", \"seen_by_peers\": 125.0, \"prefix\": 6}, {\"roa_validity\": \"invalid\", \"seen_by_peers\": 126.0, \"prefix\": 17}, {\"roa_validity\": \"invalid\", \"seen_by_peers\": 127.0, \"prefix\": 12}, {\"roa_validity\": \"invalid\", \"seen_by_peers\": 128.0, \"prefix\": 12}, {\"roa_validity\": \"invalid\", \"seen_by_peers\": 129.0, \"prefix\": 20}, {\"roa_validity\": \"invalid\", \"seen_by_peers\": 130.0, \"prefix\": 9}, {\"roa_validity\": \"invalid\", \"seen_by_peers\": 131.0, \"prefix\": 9}, {\"roa_validity\": \"invalid\", \"seen_by_peers\": 132.0, \"prefix\": 13}, {\"roa_validity\": \"invalid\", \"seen_by_peers\": 133.0, \"prefix\": 6}, {\"roa_validity\": \"invalid\", \"seen_by_peers\": 134.0, \"prefix\": 5}, {\"roa_validity\": \"invalid\", \"seen_by_peers\": 135.0, \"prefix\": 2}, {\"roa_validity\": \"invalid\", \"seen_by_peers\": 136.0, \"prefix\": 3}, {\"roa_validity\": \"invalid\", \"seen_by_peers\": 137.0, \"prefix\": 2}, {\"roa_validity\": \"invalid\", \"seen_by_peers\": 138.0, \"prefix\": 14}, {\"roa_validity\": \"invalid\", \"seen_by_peers\": 139.0, \"prefix\": 24}, {\"roa_validity\": \"invalid\", \"seen_by_peers\": 140.0, \"prefix\": 18}, {\"roa_validity\": \"invalid\", \"seen_by_peers\": 141.0, \"prefix\": 5}, {\"roa_validity\": \"invalid\", \"seen_by_peers\": 142.0, \"prefix\": 13}, {\"roa_validity\": \"invalid\", \"seen_by_peers\": 143.0, \"prefix\": 43}, {\"roa_validity\": \"invalid\", \"seen_by_peers\": 144.0, \"prefix\": 2}, {\"roa_validity\": \"invalid\", \"seen_by_peers\": 145.0, \"prefix\": 5}, {\"roa_validity\": \"invalid\", \"seen_by_peers\": 146.0, \"prefix\": 8}, {\"roa_validity\": \"invalid\", \"seen_by_peers\": 147.0, \"prefix\": 4}, {\"roa_validity\": \"invalid\", \"seen_by_peers\": 148.0, \"prefix\": 3}, {\"roa_validity\": \"invalid\", \"seen_by_peers\": 149.0, \"prefix\": 2}, {\"roa_validity\": \"invalid\", \"seen_by_peers\": 150.0, \"prefix\": 28}, {\"roa_validity\": \"invalid\", \"seen_by_peers\": 151.0, \"prefix\": 14}, {\"roa_validity\": \"invalid\", \"seen_by_peers\": 152.0, \"prefix\": 16}, {\"roa_validity\": \"invalid\", \"seen_by_peers\": 153.0, \"prefix\": 10}, {\"roa_validity\": \"invalid\", \"seen_by_peers\": 154.0, \"prefix\": 17}, {\"roa_validity\": \"invalid\", \"seen_by_peers\": 155.0, \"prefix\": 19}, {\"roa_validity\": \"invalid\", \"seen_by_peers\": 156.0, \"prefix\": 4}, {\"roa_validity\": \"invalid\", \"seen_by_peers\": 157.0, \"prefix\": 22}, {\"roa_validity\": \"invalid\", \"seen_by_peers\": 158.0, \"prefix\": 6}, {\"roa_validity\": \"invalid\", \"seen_by_peers\": 159.0, \"prefix\": 30}, {\"roa_validity\": \"invalid\", \"seen_by_peers\": 160.0, \"prefix\": 23}, {\"roa_validity\": \"invalid\", \"seen_by_peers\": 161.0, \"prefix\": 25}, {\"roa_validity\": \"invalid\", \"seen_by_peers\": 162.0, \"prefix\": 18}, {\"roa_validity\": \"invalid\", \"seen_by_peers\": 163.0, \"prefix\": 63}, {\"roa_validity\": \"invalid\", \"seen_by_peers\": 164.0, \"prefix\": 43}, {\"roa_validity\": \"invalid\", \"seen_by_peers\": 165.0, \"prefix\": 14}, {\"roa_validity\": \"invalid\", \"seen_by_peers\": 166.0, \"prefix\": 13}, {\"roa_validity\": \"invalid\", \"seen_by_peers\": 167.0, \"prefix\": 10}, {\"roa_validity\": \"invalid\", \"seen_by_peers\": 168.0, \"prefix\": 17}, {\"roa_validity\": \"invalid\", \"seen_by_peers\": 169.0, \"prefix\": 4}, {\"roa_validity\": \"invalid\", \"seen_by_peers\": 170.0, \"prefix\": 31}, {\"roa_validity\": \"invalid\", \"seen_by_peers\": 171.0, \"prefix\": 14}, {\"roa_validity\": \"invalid\", \"seen_by_peers\": 172.0, \"prefix\": 134}, {\"roa_validity\": \"invalid\", \"seen_by_peers\": 173.0, \"prefix\": 159}, {\"roa_validity\": \"invalid\", \"seen_by_peers\": 174.0, \"prefix\": 34}, {\"roa_validity\": \"invalid\", \"seen_by_peers\": 175.0, \"prefix\": 3}, {\"roa_validity\": \"invalid\", \"seen_by_peers\": 176.0, \"prefix\": 8}, {\"roa_validity\": \"invalid\", \"seen_by_peers\": 177.0, \"prefix\": 7}, {\"roa_validity\": \"invalid\", \"seen_by_peers\": 178.0, \"prefix\": 24}, {\"roa_validity\": \"invalid\", \"seen_by_peers\": 179.0, \"prefix\": 9}, {\"roa_validity\": \"invalid\", \"seen_by_peers\": 180.0, \"prefix\": 7}, {\"roa_validity\": \"invalid\", \"seen_by_peers\": 181.0, \"prefix\": 7}, {\"roa_validity\": \"invalid\", \"seen_by_peers\": 182.0, \"prefix\": 8}, {\"roa_validity\": \"invalid\", \"seen_by_peers\": 183.0, \"prefix\": 2}, {\"roa_validity\": \"invalid\", \"seen_by_peers\": 184.0, \"prefix\": 13}, {\"roa_validity\": \"invalid\", \"seen_by_peers\": 185.0, \"prefix\": 7}, {\"roa_validity\": \"invalid\", \"seen_by_peers\": 186.0, \"prefix\": 36}, {\"roa_validity\": \"invalid\", \"seen_by_peers\": 187.0, \"prefix\": 93}, {\"roa_validity\": \"invalid\", \"seen_by_peers\": 188.0, \"prefix\": 160}, {\"roa_validity\": \"invalid\", \"seen_by_peers\": 189.0, \"prefix\": 43}, {\"roa_validity\": \"invalid\", \"seen_by_peers\": 190.0, \"prefix\": 25}, {\"roa_validity\": \"invalid\", \"seen_by_peers\": 191.0, \"prefix\": 18}, {\"roa_validity\": \"invalid\", \"seen_by_peers\": 192.0, \"prefix\": 16}, {\"roa_validity\": \"invalid\", \"seen_by_peers\": 193.0, \"prefix\": 44}, {\"roa_validity\": \"invalid\", \"seen_by_peers\": 194.0, \"prefix\": 11}, {\"roa_validity\": \"invalid\", \"seen_by_peers\": 195.0, \"prefix\": 18}, {\"roa_validity\": \"invalid\", \"seen_by_peers\": 196.0, \"prefix\": 134}, {\"roa_validity\": \"invalid\", \"seen_by_peers\": 197.0, \"prefix\": 48}, {\"roa_validity\": \"invalid\", \"seen_by_peers\": 198.0, \"prefix\": 32}, {\"roa_validity\": \"invalid\", \"seen_by_peers\": 199.0, \"prefix\": 15}, {\"roa_validity\": \"invalid\", \"seen_by_peers\": 200.0, \"prefix\": 7}, {\"roa_validity\": \"invalid\", \"seen_by_peers\": 201.0, \"prefix\": 3}, {\"roa_validity\": \"invalid\", \"seen_by_peers\": 202.0, \"prefix\": 7}, {\"roa_validity\": \"invalid\", \"seen_by_peers\": 203.0, \"prefix\": 9}, {\"roa_validity\": \"invalid\", \"seen_by_peers\": 204.0, \"prefix\": 22}, {\"roa_validity\": \"invalid\", \"seen_by_peers\": 205.0, \"prefix\": 8}, {\"roa_validity\": \"invalid\", \"seen_by_peers\": 206.0, \"prefix\": 60}, {\"roa_validity\": \"invalid\", \"seen_by_peers\": 207.0, \"prefix\": 26}, {\"roa_validity\": \"invalid\", \"seen_by_peers\": 208.0, \"prefix\": 12}, {\"roa_validity\": \"invalid\", \"seen_by_peers\": 209.0, \"prefix\": 11}, {\"roa_validity\": \"invalid\", \"seen_by_peers\": 210.0, \"prefix\": 15}, {\"roa_validity\": \"invalid\", \"seen_by_peers\": 211.0, \"prefix\": 7}, {\"roa_validity\": \"invalid\", \"seen_by_peers\": 212.0, \"prefix\": 14}, {\"roa_validity\": \"invalid\", \"seen_by_peers\": 213.0, \"prefix\": 26}, {\"roa_validity\": \"invalid\", \"seen_by_peers\": 214.0, \"prefix\": 29}, {\"roa_validity\": \"invalid\", \"seen_by_peers\": 215.0, \"prefix\": 79}, {\"roa_validity\": \"invalid\", \"seen_by_peers\": 216.0, \"prefix\": 1}, {\"roa_validity\": \"invalid\", \"seen_by_peers\": 217.0, \"prefix\": 1}, {\"roa_validity\": \"invalid\", \"seen_by_peers\": 218.0, \"prefix\": 13}, {\"roa_validity\": \"invalid\", \"seen_by_peers\": 219.0, \"prefix\": 7}, {\"roa_validity\": \"invalid\", \"seen_by_peers\": 220.0, \"prefix\": 6}, {\"roa_validity\": \"invalid\", \"seen_by_peers\": 221.0, \"prefix\": 14}, {\"roa_validity\": \"invalid\", \"seen_by_peers\": 222.0, \"prefix\": 12}, {\"roa_validity\": \"invalid\", \"seen_by_peers\": 223.0, \"prefix\": 26}, {\"roa_validity\": \"invalid\", \"seen_by_peers\": 224.0, \"prefix\": 9}, {\"roa_validity\": \"invalid\", \"seen_by_peers\": 225.0, \"prefix\": 68}, {\"roa_validity\": \"invalid\", \"seen_by_peers\": 227.0, \"prefix\": 6}, {\"roa_validity\": \"invalid\", \"seen_by_peers\": 228.0, \"prefix\": 2}, {\"roa_validity\": \"invalid\", \"seen_by_peers\": 229.0, \"prefix\": 2}, {\"roa_validity\": \"invalid\", \"seen_by_peers\": 230.0, \"prefix\": 3}, {\"roa_validity\": \"invalid\", \"seen_by_peers\": 231.0, \"prefix\": 1}, {\"roa_validity\": \"invalid\", \"seen_by_peers\": 233.0, \"prefix\": 1}, {\"roa_validity\": \"invalid\", \"seen_by_peers\": 234.0, \"prefix\": 15}, {\"roa_validity\": \"invalid\", \"seen_by_peers\": 235.0, \"prefix\": 3}, {\"roa_validity\": \"invalid\", \"seen_by_peers\": 236.0, \"prefix\": 3}, {\"roa_validity\": \"invalid\", \"seen_by_peers\": 238.0, \"prefix\": 1}, {\"roa_validity\": \"invalid\", \"seen_by_peers\": 240.0, \"prefix\": 1}, {\"roa_validity\": \"invalid\", \"seen_by_peers\": 245.0, \"prefix\": 3}, {\"roa_validity\": \"invalid\", \"seen_by_peers\": 247.0, \"prefix\": 1}, {\"roa_validity\": \"invalid\", \"seen_by_peers\": 261.0, \"prefix\": 1}, {\"roa_validity\": \"invalid\", \"seen_by_peers\": 270.0, \"prefix\": 1}, {\"roa_validity\": \"invalid\", \"seen_by_peers\": 273.0, \"prefix\": 1}, {\"roa_validity\": \"invalid\", \"seen_by_peers\": 274.0, \"prefix\": 2}, {\"roa_validity\": \"invalid\", \"seen_by_peers\": 275.0, \"prefix\": 2}, {\"roa_validity\": \"invalid\", \"seen_by_peers\": 276.0, \"prefix\": 1}, {\"roa_validity\": \"invalid\", \"seen_by_peers\": 282.0, \"prefix\": 1}, {\"roa_validity\": \"invalid\", \"seen_by_peers\": 285.0, \"prefix\": 1}, {\"roa_validity\": \"invalid\", \"seen_by_peers\": 289.0, \"prefix\": 1}, {\"roa_validity\": \"invalid\", \"seen_by_peers\": 292.0, \"prefix\": 1}, {\"roa_validity\": \"invalid\", \"seen_by_peers\": 295.0, \"prefix\": 2}, {\"roa_validity\": \"invalid\", \"seen_by_peers\": 298.0, \"prefix\": 1}, {\"roa_validity\": \"invalid\", \"seen_by_peers\": 299.0, \"prefix\": 1}, {\"roa_validity\": \"invalid\", \"seen_by_peers\": 302.0, \"prefix\": 12}, {\"roa_validity\": \"invalid\", \"seen_by_peers\": 303.0, \"prefix\": 10}, {\"roa_validity\": \"invalid\", \"seen_by_peers\": 304.0, \"prefix\": 5}, {\"roa_validity\": \"invalid\", \"seen_by_peers\": 305.0, \"prefix\": 6}, {\"roa_validity\": \"invalid\", \"seen_by_peers\": 306.0, \"prefix\": 9}, {\"roa_validity\": \"invalid\", \"seen_by_peers\": 311.0, \"prefix\": 1}, {\"roa_validity\": \"invalid\", \"seen_by_peers\": 312.0, \"prefix\": 1}, {\"roa_validity\": \"invalid\", \"seen_by_peers\": 333.0, \"prefix\": 1}, {\"roa_validity\": \"invalid\", \"seen_by_peers\": 335.0, \"prefix\": 4}, {\"roa_validity\": \"invalid\", \"seen_by_peers\": 336.0, \"prefix\": 1}, {\"roa_validity\": \"invalid\", \"seen_by_peers\": 345.0, \"prefix\": 1}, {\"roa_validity\": \"invalid\", \"seen_by_peers\": 354.0, \"prefix\": 1}, {\"roa_validity\": \"unknown\", \"seen_by_peers\": 1.0, \"prefix\": 29401}, {\"roa_validity\": \"unknown\", \"seen_by_peers\": 2.0, \"prefix\": 12666}, {\"roa_validity\": \"unknown\", \"seen_by_peers\": 3.0, \"prefix\": 4659}, {\"roa_validity\": \"unknown\", \"seen_by_peers\": 4.0, \"prefix\": 3140}, {\"roa_validity\": \"unknown\", \"seen_by_peers\": 5.0, \"prefix\": 1401}, {\"roa_validity\": \"unknown\", \"seen_by_peers\": 6.0, \"prefix\": 6436}, {\"roa_validity\": \"unknown\", \"seen_by_peers\": 7.0, \"prefix\": 744}, {\"roa_validity\": \"unknown\", \"seen_by_peers\": 8.0, \"prefix\": 1543}, {\"roa_validity\": \"unknown\", \"seen_by_peers\": 9.0, \"prefix\": 2244}, {\"roa_validity\": \"unknown\", \"seen_by_peers\": 10.0, \"prefix\": 1241}, {\"roa_validity\": \"unknown\", \"seen_by_peers\": 11.0, \"prefix\": 2552}, {\"roa_validity\": \"unknown\", \"seen_by_peers\": 12.0, \"prefix\": 3568}, {\"roa_validity\": \"unknown\", \"seen_by_peers\": 13.0, \"prefix\": 598}, {\"roa_validity\": \"unknown\", \"seen_by_peers\": 14.0, \"prefix\": 878}, {\"roa_validity\": \"unknown\", \"seen_by_peers\": 15.0, \"prefix\": 1031}, {\"roa_validity\": \"unknown\", \"seen_by_peers\": 16.0, \"prefix\": 874}, {\"roa_validity\": \"unknown\", \"seen_by_peers\": 17.0, \"prefix\": 990}, {\"roa_validity\": \"unknown\", \"seen_by_peers\": 18.0, \"prefix\": 1599}, {\"roa_validity\": \"unknown\", \"seen_by_peers\": 19.0, \"prefix\": 1153}, {\"roa_validity\": \"unknown\", \"seen_by_peers\": 20.0, \"prefix\": 1263}, {\"roa_validity\": \"unknown\", \"seen_by_peers\": 21.0, \"prefix\": 2616}, {\"roa_validity\": \"unknown\", \"seen_by_peers\": 22.0, \"prefix\": 1422}, {\"roa_validity\": \"unknown\", \"seen_by_peers\": 23.0, \"prefix\": 817}, {\"roa_validity\": \"unknown\", \"seen_by_peers\": 24.0, \"prefix\": 1103}, {\"roa_validity\": \"unknown\", \"seen_by_peers\": 25.0, \"prefix\": 1682}, {\"roa_validity\": \"unknown\", \"seen_by_peers\": 26.0, \"prefix\": 1247}, {\"roa_validity\": \"unknown\", \"seen_by_peers\": 27.0, \"prefix\": 55}, {\"roa_validity\": \"unknown\", \"seen_by_peers\": 28.0, \"prefix\": 58}, {\"roa_validity\": \"unknown\", \"seen_by_peers\": 29.0, \"prefix\": 44}, {\"roa_validity\": \"unknown\", \"seen_by_peers\": 30.0, \"prefix\": 35}, {\"roa_validity\": \"unknown\", \"seen_by_peers\": 31.0, \"prefix\": 422}, {\"roa_validity\": \"unknown\", \"seen_by_peers\": 32.0, \"prefix\": 90}, {\"roa_validity\": \"unknown\", \"seen_by_peers\": 33.0, \"prefix\": 130}, {\"roa_validity\": \"unknown\", \"seen_by_peers\": 34.0, \"prefix\": 205}, {\"roa_validity\": \"unknown\", \"seen_by_peers\": 35.0, \"prefix\": 405}, {\"roa_validity\": \"unknown\", \"seen_by_peers\": 36.0, \"prefix\": 299}, {\"roa_validity\": \"unknown\", \"seen_by_peers\": 37.0, \"prefix\": 332}, {\"roa_validity\": \"unknown\", \"seen_by_peers\": 38.0, \"prefix\": 126}, {\"roa_validity\": \"unknown\", \"seen_by_peers\": 39.0, \"prefix\": 53}, {\"roa_validity\": \"unknown\", \"seen_by_peers\": 40.0, \"prefix\": 82}, {\"roa_validity\": \"unknown\", \"seen_by_peers\": 41.0, \"prefix\": 60}, {\"roa_validity\": \"unknown\", \"seen_by_peers\": 42.0, \"prefix\": 60}, {\"roa_validity\": \"unknown\", \"seen_by_peers\": 43.0, \"prefix\": 92}, {\"roa_validity\": \"unknown\", \"seen_by_peers\": 44.0, \"prefix\": 251}, {\"roa_validity\": \"unknown\", \"seen_by_peers\": 45.0, \"prefix\": 35}, {\"roa_validity\": \"unknown\", \"seen_by_peers\": 46.0, \"prefix\": 82}, {\"roa_validity\": \"unknown\", \"seen_by_peers\": 47.0, \"prefix\": 39}, {\"roa_validity\": \"unknown\", \"seen_by_peers\": 48.0, \"prefix\": 131}, {\"roa_validity\": \"unknown\", \"seen_by_peers\": 49.0, \"prefix\": 85}, {\"roa_validity\": \"unknown\", \"seen_by_peers\": 50.0, \"prefix\": 117}, {\"roa_validity\": \"unknown\", \"seen_by_peers\": 51.0, \"prefix\": 142}, {\"roa_validity\": \"unknown\", \"seen_by_peers\": 52.0, \"prefix\": 537}, {\"roa_validity\": \"unknown\", \"seen_by_peers\": 53.0, \"prefix\": 656}, {\"roa_validity\": \"unknown\", \"seen_by_peers\": 54.0, \"prefix\": 396}, {\"roa_validity\": \"unknown\", \"seen_by_peers\": 55.0, \"prefix\": 335}, {\"roa_validity\": \"unknown\", \"seen_by_peers\": 56.0, \"prefix\": 534}, {\"roa_validity\": \"unknown\", \"seen_by_peers\": 57.0, \"prefix\": 134}, {\"roa_validity\": \"unknown\", \"seen_by_peers\": 58.0, \"prefix\": 172}, {\"roa_validity\": \"unknown\", \"seen_by_peers\": 59.0, \"prefix\": 123}, {\"roa_validity\": \"unknown\", \"seen_by_peers\": 60.0, \"prefix\": 156}, {\"roa_validity\": \"unknown\", \"seen_by_peers\": 61.0, \"prefix\": 238}, {\"roa_validity\": \"unknown\", \"seen_by_peers\": 62.0, \"prefix\": 97}, {\"roa_validity\": \"unknown\", \"seen_by_peers\": 63.0, \"prefix\": 169}, {\"roa_validity\": \"unknown\", \"seen_by_peers\": 64.0, \"prefix\": 141}, {\"roa_validity\": \"unknown\", \"seen_by_peers\": 65.0, \"prefix\": 158}, {\"roa_validity\": \"unknown\", \"seen_by_peers\": 66.0, \"prefix\": 64}, {\"roa_validity\": \"unknown\", \"seen_by_peers\": 67.0, \"prefix\": 163}, {\"roa_validity\": \"unknown\", \"seen_by_peers\": 68.0, \"prefix\": 156}, {\"roa_validity\": \"unknown\", \"seen_by_peers\": 69.0, \"prefix\": 127}, {\"roa_validity\": \"unknown\", \"seen_by_peers\": 70.0, \"prefix\": 154}, {\"roa_validity\": \"unknown\", \"seen_by_peers\": 71.0, \"prefix\": 247}, {\"roa_validity\": \"unknown\", \"seen_by_peers\": 72.0, \"prefix\": 291}, {\"roa_validity\": \"unknown\", \"seen_by_peers\": 73.0, \"prefix\": 163}, {\"roa_validity\": \"unknown\", \"seen_by_peers\": 74.0, \"prefix\": 293}, {\"roa_validity\": \"unknown\", \"seen_by_peers\": 75.0, \"prefix\": 347}, {\"roa_validity\": \"unknown\", \"seen_by_peers\": 76.0, \"prefix\": 165}, {\"roa_validity\": \"unknown\", \"seen_by_peers\": 77.0, \"prefix\": 106}, {\"roa_validity\": \"unknown\", \"seen_by_peers\": 78.0, \"prefix\": 1547}, {\"roa_validity\": \"unknown\", \"seen_by_peers\": 79.0, \"prefix\": 76}, {\"roa_validity\": \"unknown\", \"seen_by_peers\": 80.0, \"prefix\": 131}, {\"roa_validity\": \"unknown\", \"seen_by_peers\": 81.0, \"prefix\": 281}, {\"roa_validity\": \"unknown\", \"seen_by_peers\": 82.0, \"prefix\": 234}, {\"roa_validity\": \"unknown\", \"seen_by_peers\": 83.0, \"prefix\": 1202}, {\"roa_validity\": \"unknown\", \"seen_by_peers\": 84.0, \"prefix\": 726}, {\"roa_validity\": \"unknown\", \"seen_by_peers\": 85.0, \"prefix\": 1599}, {\"roa_validity\": \"unknown\", \"seen_by_peers\": 86.0, \"prefix\": 1380}, {\"roa_validity\": \"unknown\", \"seen_by_peers\": 87.0, \"prefix\": 596}, {\"roa_validity\": \"unknown\", \"seen_by_peers\": 88.0, \"prefix\": 161}, {\"roa_validity\": \"unknown\", \"seen_by_peers\": 89.0, \"prefix\": 409}, {\"roa_validity\": \"unknown\", \"seen_by_peers\": 90.0, \"prefix\": 347}, {\"roa_validity\": \"unknown\", \"seen_by_peers\": 91.0, \"prefix\": 409}, {\"roa_validity\": \"unknown\", \"seen_by_peers\": 92.0, \"prefix\": 231}, {\"roa_validity\": \"unknown\", \"seen_by_peers\": 93.0, \"prefix\": 225}, {\"roa_validity\": \"unknown\", \"seen_by_peers\": 94.0, \"prefix\": 373}, {\"roa_validity\": \"unknown\", \"seen_by_peers\": 95.0, \"prefix\": 555}, {\"roa_validity\": \"unknown\", \"seen_by_peers\": 96.0, \"prefix\": 80}, {\"roa_validity\": \"unknown\", \"seen_by_peers\": 97.0, \"prefix\": 69}, {\"roa_validity\": \"unknown\", \"seen_by_peers\": 98.0, \"prefix\": 95}, {\"roa_validity\": \"unknown\", \"seen_by_peers\": 99.0, \"prefix\": 81}, {\"roa_validity\": \"unknown\", \"seen_by_peers\": 100.0, \"prefix\": 56}, {\"roa_validity\": \"unknown\", \"seen_by_peers\": 101.0, \"prefix\": 52}, {\"roa_validity\": \"unknown\", \"seen_by_peers\": 102.0, \"prefix\": 31}, {\"roa_validity\": \"unknown\", \"seen_by_peers\": 103.0, \"prefix\": 97}, {\"roa_validity\": \"unknown\", \"seen_by_peers\": 104.0, \"prefix\": 51}, {\"roa_validity\": \"unknown\", \"seen_by_peers\": 105.0, \"prefix\": 18}, {\"roa_validity\": \"unknown\", \"seen_by_peers\": 106.0, \"prefix\": 4}, {\"roa_validity\": \"unknown\", \"seen_by_peers\": 107.0, \"prefix\": 15}, {\"roa_validity\": \"unknown\", \"seen_by_peers\": 108.0, \"prefix\": 18}, {\"roa_validity\": \"unknown\", \"seen_by_peers\": 109.0, \"prefix\": 19}, {\"roa_validity\": \"unknown\", \"seen_by_peers\": 110.0, \"prefix\": 69}, {\"roa_validity\": \"unknown\", \"seen_by_peers\": 111.0, \"prefix\": 29}, {\"roa_validity\": \"unknown\", \"seen_by_peers\": 112.0, \"prefix\": 26}, {\"roa_validity\": \"unknown\", \"seen_by_peers\": 113.0, \"prefix\": 52}, {\"roa_validity\": \"unknown\", \"seen_by_peers\": 114.0, \"prefix\": 67}, {\"roa_validity\": \"unknown\", \"seen_by_peers\": 115.0, \"prefix\": 8}, {\"roa_validity\": \"unknown\", \"seen_by_peers\": 116.0, \"prefix\": 8}, {\"roa_validity\": \"unknown\", \"seen_by_peers\": 117.0, \"prefix\": 20}, {\"roa_validity\": \"unknown\", \"seen_by_peers\": 118.0, \"prefix\": 134}, {\"roa_validity\": \"unknown\", \"seen_by_peers\": 119.0, \"prefix\": 32}, {\"roa_validity\": \"unknown\", \"seen_by_peers\": 120.0, \"prefix\": 34}, {\"roa_validity\": \"unknown\", \"seen_by_peers\": 121.0, \"prefix\": 13}, {\"roa_validity\": \"unknown\", \"seen_by_peers\": 122.0, \"prefix\": 10}, {\"roa_validity\": \"unknown\", \"seen_by_peers\": 123.0, \"prefix\": 27}, {\"roa_validity\": \"unknown\", \"seen_by_peers\": 124.0, \"prefix\": 14}, {\"roa_validity\": \"unknown\", \"seen_by_peers\": 125.0, \"prefix\": 28}, {\"roa_validity\": \"unknown\", \"seen_by_peers\": 126.0, \"prefix\": 39}, {\"roa_validity\": \"unknown\", \"seen_by_peers\": 127.0, \"prefix\": 23}, {\"roa_validity\": \"unknown\", \"seen_by_peers\": 128.0, \"prefix\": 27}, {\"roa_validity\": \"unknown\", \"seen_by_peers\": 129.0, \"prefix\": 28}, {\"roa_validity\": \"unknown\", \"seen_by_peers\": 130.0, \"prefix\": 22}, {\"roa_validity\": \"unknown\", \"seen_by_peers\": 131.0, \"prefix\": 19}, {\"roa_validity\": \"unknown\", \"seen_by_peers\": 132.0, \"prefix\": 17}, {\"roa_validity\": \"unknown\", \"seen_by_peers\": 133.0, \"prefix\": 10}, {\"roa_validity\": \"unknown\", \"seen_by_peers\": 134.0, \"prefix\": 32}, {\"roa_validity\": \"unknown\", \"seen_by_peers\": 135.0, \"prefix\": 9}, {\"roa_validity\": \"unknown\", \"seen_by_peers\": 136.0, \"prefix\": 8}, {\"roa_validity\": \"unknown\", \"seen_by_peers\": 137.0, \"prefix\": 4}, {\"roa_validity\": \"unknown\", \"seen_by_peers\": 138.0, \"prefix\": 12}, {\"roa_validity\": \"unknown\", \"seen_by_peers\": 139.0, \"prefix\": 35}, {\"roa_validity\": \"unknown\", \"seen_by_peers\": 140.0, \"prefix\": 30}, {\"roa_validity\": \"unknown\", \"seen_by_peers\": 141.0, \"prefix\": 38}, {\"roa_validity\": \"unknown\", \"seen_by_peers\": 142.0, \"prefix\": 17}, {\"roa_validity\": \"unknown\", \"seen_by_peers\": 143.0, \"prefix\": 22}, {\"roa_validity\": \"unknown\", \"seen_by_peers\": 144.0, \"prefix\": 22}, {\"roa_validity\": \"unknown\", \"seen_by_peers\": 145.0, \"prefix\": 22}, {\"roa_validity\": \"unknown\", \"seen_by_peers\": 146.0, \"prefix\": 38}, {\"roa_validity\": \"unknown\", \"seen_by_peers\": 147.0, \"prefix\": 41}, {\"roa_validity\": \"unknown\", \"seen_by_peers\": 148.0, \"prefix\": 20}, {\"roa_validity\": \"unknown\", \"seen_by_peers\": 149.0, \"prefix\": 22}, {\"roa_validity\": \"unknown\", \"seen_by_peers\": 150.0, \"prefix\": 26}, {\"roa_validity\": \"unknown\", \"seen_by_peers\": 151.0, \"prefix\": 25}, {\"roa_validity\": \"unknown\", \"seen_by_peers\": 152.0, \"prefix\": 11}, {\"roa_validity\": \"unknown\", \"seen_by_peers\": 153.0, \"prefix\": 16}, {\"roa_validity\": \"unknown\", \"seen_by_peers\": 154.0, \"prefix\": 20}, {\"roa_validity\": \"unknown\", \"seen_by_peers\": 155.0, \"prefix\": 19}, {\"roa_validity\": \"unknown\", \"seen_by_peers\": 156.0, \"prefix\": 28}, {\"roa_validity\": \"unknown\", \"seen_by_peers\": 157.0, \"prefix\": 12}, {\"roa_validity\": \"unknown\", \"seen_by_peers\": 158.0, \"prefix\": 19}, {\"roa_validity\": \"unknown\", \"seen_by_peers\": 159.0, \"prefix\": 25}, {\"roa_validity\": \"unknown\", \"seen_by_peers\": 160.0, \"prefix\": 39}, {\"roa_validity\": \"unknown\", \"seen_by_peers\": 161.0, \"prefix\": 7}, {\"roa_validity\": \"unknown\", \"seen_by_peers\": 162.0, \"prefix\": 12}, {\"roa_validity\": \"unknown\", \"seen_by_peers\": 163.0, \"prefix\": 31}, {\"roa_validity\": \"unknown\", \"seen_by_peers\": 164.0, \"prefix\": 52}, {\"roa_validity\": \"unknown\", \"seen_by_peers\": 165.0, \"prefix\": 21}, {\"roa_validity\": \"unknown\", \"seen_by_peers\": 166.0, \"prefix\": 67}, {\"roa_validity\": \"unknown\", \"seen_by_peers\": 167.0, \"prefix\": 6}, {\"roa_validity\": \"unknown\", \"seen_by_peers\": 168.0, \"prefix\": 6}, {\"roa_validity\": \"unknown\", \"seen_by_peers\": 169.0, \"prefix\": 7}, {\"roa_validity\": \"unknown\", \"seen_by_peers\": 170.0, \"prefix\": 10}, {\"roa_validity\": \"unknown\", \"seen_by_peers\": 171.0, \"prefix\": 32}, {\"roa_validity\": \"unknown\", \"seen_by_peers\": 172.0, \"prefix\": 8}, {\"roa_validity\": \"unknown\", \"seen_by_peers\": 173.0, \"prefix\": 5}, {\"roa_validity\": \"unknown\", \"seen_by_peers\": 174.0, \"prefix\": 33}, {\"roa_validity\": \"unknown\", \"seen_by_peers\": 175.0, \"prefix\": 7}, {\"roa_validity\": \"unknown\", \"seen_by_peers\": 176.0, \"prefix\": 13}, {\"roa_validity\": \"unknown\", \"seen_by_peers\": 177.0, \"prefix\": 5}, {\"roa_validity\": \"unknown\", \"seen_by_peers\": 178.0, \"prefix\": 13}, {\"roa_validity\": \"unknown\", \"seen_by_peers\": 179.0, \"prefix\": 10}, {\"roa_validity\": \"unknown\", \"seen_by_peers\": 180.0, \"prefix\": 5}, {\"roa_validity\": \"unknown\", \"seen_by_peers\": 181.0, \"prefix\": 7}, {\"roa_validity\": \"unknown\", \"seen_by_peers\": 182.0, \"prefix\": 14}, {\"roa_validity\": \"unknown\", \"seen_by_peers\": 183.0, \"prefix\": 40}, {\"roa_validity\": \"unknown\", \"seen_by_peers\": 184.0, \"prefix\": 9}, {\"roa_validity\": \"unknown\", \"seen_by_peers\": 185.0, \"prefix\": 9}, {\"roa_validity\": \"unknown\", \"seen_by_peers\": 186.0, \"prefix\": 14}, {\"roa_validity\": \"unknown\", \"seen_by_peers\": 187.0, \"prefix\": 6}, {\"roa_validity\": \"unknown\", \"seen_by_peers\": 188.0, \"prefix\": 23}, {\"roa_validity\": \"unknown\", \"seen_by_peers\": 189.0, \"prefix\": 28}, {\"roa_validity\": \"unknown\", \"seen_by_peers\": 190.0, \"prefix\": 16}, {\"roa_validity\": \"unknown\", \"seen_by_peers\": 191.0, \"prefix\": 28}, {\"roa_validity\": \"unknown\", \"seen_by_peers\": 192.0, \"prefix\": 29}, {\"roa_validity\": \"unknown\", \"seen_by_peers\": 193.0, \"prefix\": 28}, {\"roa_validity\": \"unknown\", \"seen_by_peers\": 194.0, \"prefix\": 15}, {\"roa_validity\": \"unknown\", \"seen_by_peers\": 195.0, \"prefix\": 7}, {\"roa_validity\": \"unknown\", \"seen_by_peers\": 196.0, \"prefix\": 14}, {\"roa_validity\": \"unknown\", \"seen_by_peers\": 197.0, \"prefix\": 32}, {\"roa_validity\": \"unknown\", \"seen_by_peers\": 198.0, \"prefix\": 21}, {\"roa_validity\": \"unknown\", \"seen_by_peers\": 199.0, \"prefix\": 8}, {\"roa_validity\": \"unknown\", \"seen_by_peers\": 200.0, \"prefix\": 19}, {\"roa_validity\": \"unknown\", \"seen_by_peers\": 201.0, \"prefix\": 14}, {\"roa_validity\": \"unknown\", \"seen_by_peers\": 202.0, \"prefix\": 20}, {\"roa_validity\": \"unknown\", \"seen_by_peers\": 203.0, \"prefix\": 3}, {\"roa_validity\": \"unknown\", \"seen_by_peers\": 204.0, \"prefix\": 10}, {\"roa_validity\": \"unknown\", \"seen_by_peers\": 205.0, \"prefix\": 20}, {\"roa_validity\": \"unknown\", \"seen_by_peers\": 206.0, \"prefix\": 9}, {\"roa_validity\": \"unknown\", \"seen_by_peers\": 207.0, \"prefix\": 9}, {\"roa_validity\": \"unknown\", \"seen_by_peers\": 208.0, \"prefix\": 45}, {\"roa_validity\": \"unknown\", \"seen_by_peers\": 209.0, \"prefix\": 18}, {\"roa_validity\": \"unknown\", \"seen_by_peers\": 210.0, \"prefix\": 6}, {\"roa_validity\": \"unknown\", \"seen_by_peers\": 211.0, \"prefix\": 7}, {\"roa_validity\": \"unknown\", \"seen_by_peers\": 212.0, \"prefix\": 17}, {\"roa_validity\": \"unknown\", \"seen_by_peers\": 213.0, \"prefix\": 5}, {\"roa_validity\": \"unknown\", \"seen_by_peers\": 214.0, \"prefix\": 6}, {\"roa_validity\": \"unknown\", \"seen_by_peers\": 215.0, \"prefix\": 38}, {\"roa_validity\": \"unknown\", \"seen_by_peers\": 216.0, \"prefix\": 100}, {\"roa_validity\": \"unknown\", \"seen_by_peers\": 217.0, \"prefix\": 22}, {\"roa_validity\": \"unknown\", \"seen_by_peers\": 218.0, \"prefix\": 16}, {\"roa_validity\": \"unknown\", \"seen_by_peers\": 219.0, \"prefix\": 10}, {\"roa_validity\": \"unknown\", \"seen_by_peers\": 220.0, \"prefix\": 33}, {\"roa_validity\": \"unknown\", \"seen_by_peers\": 221.0, \"prefix\": 95}, {\"roa_validity\": \"unknown\", \"seen_by_peers\": 222.0, \"prefix\": 8}, {\"roa_validity\": \"unknown\", \"seen_by_peers\": 223.0, \"prefix\": 36}, {\"roa_validity\": \"unknown\", \"seen_by_peers\": 224.0, \"prefix\": 22}, {\"roa_validity\": \"unknown\", \"seen_by_peers\": 225.0, \"prefix\": 37}, {\"roa_validity\": \"unknown\", \"seen_by_peers\": 226.0, \"prefix\": 33}, {\"roa_validity\": \"unknown\", \"seen_by_peers\": 227.0, \"prefix\": 24}, {\"roa_validity\": \"unknown\", \"seen_by_peers\": 228.0, \"prefix\": 5}, {\"roa_validity\": \"unknown\", \"seen_by_peers\": 229.0, \"prefix\": 11}, {\"roa_validity\": \"unknown\", \"seen_by_peers\": 230.0, \"prefix\": 47}, {\"roa_validity\": \"unknown\", \"seen_by_peers\": 231.0, \"prefix\": 32}, {\"roa_validity\": \"unknown\", \"seen_by_peers\": 232.0, \"prefix\": 16}, {\"roa_validity\": \"unknown\", \"seen_by_peers\": 233.0, \"prefix\": 14}, {\"roa_validity\": \"unknown\", \"seen_by_peers\": 234.0, \"prefix\": 12}, {\"roa_validity\": \"unknown\", \"seen_by_peers\": 235.0, \"prefix\": 15}, {\"roa_validity\": \"unknown\", \"seen_by_peers\": 236.0, \"prefix\": 26}, {\"roa_validity\": \"unknown\", \"seen_by_peers\": 237.0, \"prefix\": 11}, {\"roa_validity\": \"unknown\", \"seen_by_peers\": 238.0, \"prefix\": 7}, {\"roa_validity\": \"unknown\", \"seen_by_peers\": 239.0, \"prefix\": 14}, {\"roa_validity\": \"unknown\", \"seen_by_peers\": 240.0, \"prefix\": 44}, {\"roa_validity\": \"unknown\", \"seen_by_peers\": 241.0, \"prefix\": 29}, {\"roa_validity\": \"unknown\", \"seen_by_peers\": 242.0, \"prefix\": 18}, {\"roa_validity\": \"unknown\", \"seen_by_peers\": 243.0, \"prefix\": 59}, {\"roa_validity\": \"unknown\", \"seen_by_peers\": 244.0, \"prefix\": 30}, {\"roa_validity\": \"unknown\", \"seen_by_peers\": 245.0, \"prefix\": 38}, {\"roa_validity\": \"unknown\", \"seen_by_peers\": 246.0, \"prefix\": 17}, {\"roa_validity\": \"unknown\", \"seen_by_peers\": 247.0, \"prefix\": 18}, {\"roa_validity\": \"unknown\", \"seen_by_peers\": 248.0, \"prefix\": 135}, {\"roa_validity\": \"unknown\", \"seen_by_peers\": 249.0, \"prefix\": 36}, {\"roa_validity\": \"unknown\", \"seen_by_peers\": 250.0, \"prefix\": 18}, {\"roa_validity\": \"unknown\", \"seen_by_peers\": 251.0, \"prefix\": 11}, {\"roa_validity\": \"unknown\", \"seen_by_peers\": 252.0, \"prefix\": 11}, {\"roa_validity\": \"unknown\", \"seen_by_peers\": 253.0, \"prefix\": 7}, {\"roa_validity\": \"unknown\", \"seen_by_peers\": 254.0, \"prefix\": 37}, {\"roa_validity\": \"unknown\", \"seen_by_peers\": 255.0, \"prefix\": 5}, {\"roa_validity\": \"unknown\", \"seen_by_peers\": 256.0, \"prefix\": 14}, {\"roa_validity\": \"unknown\", \"seen_by_peers\": 257.0, \"prefix\": 22}, {\"roa_validity\": \"unknown\", \"seen_by_peers\": 258.0, \"prefix\": 25}, {\"roa_validity\": \"unknown\", \"seen_by_peers\": 259.0, \"prefix\": 26}, {\"roa_validity\": \"unknown\", \"seen_by_peers\": 260.0, \"prefix\": 11}, {\"roa_validity\": \"unknown\", \"seen_by_peers\": 261.0, \"prefix\": 16}, {\"roa_validity\": \"unknown\", \"seen_by_peers\": 262.0, \"prefix\": 32}, {\"roa_validity\": \"unknown\", \"seen_by_peers\": 263.0, \"prefix\": 8}, {\"roa_validity\": \"unknown\", \"seen_by_peers\": 264.0, \"prefix\": 24}, {\"roa_validity\": \"unknown\", \"seen_by_peers\": 265.0, \"prefix\": 48}, {\"roa_validity\": \"unknown\", \"seen_by_peers\": 266.0, \"prefix\": 37}, {\"roa_validity\": \"unknown\", \"seen_by_peers\": 267.0, \"prefix\": 59}, {\"roa_validity\": \"unknown\", \"seen_by_peers\": 268.0, \"prefix\": 22}, {\"roa_validity\": \"unknown\", \"seen_by_peers\": 269.0, \"prefix\": 50}, {\"roa_validity\": \"unknown\", \"seen_by_peers\": 270.0, \"prefix\": 48}, {\"roa_validity\": \"unknown\", \"seen_by_peers\": 271.0, \"prefix\": 29}, {\"roa_validity\": \"unknown\", \"seen_by_peers\": 272.0, \"prefix\": 35}, {\"roa_validity\": \"unknown\", \"seen_by_peers\": 273.0, \"prefix\": 49}, {\"roa_validity\": \"unknown\", \"seen_by_peers\": 274.0, \"prefix\": 29}, {\"roa_validity\": \"unknown\", \"seen_by_peers\": 275.0, \"prefix\": 14}, {\"roa_validity\": \"unknown\", \"seen_by_peers\": 276.0, \"prefix\": 63}, {\"roa_validity\": \"unknown\", \"seen_by_peers\": 277.0, \"prefix\": 23}, {\"roa_validity\": \"unknown\", \"seen_by_peers\": 278.0, \"prefix\": 17}, {\"roa_validity\": \"unknown\", \"seen_by_peers\": 279.0, \"prefix\": 27}, {\"roa_validity\": \"unknown\", \"seen_by_peers\": 280.0, \"prefix\": 38}, {\"roa_validity\": \"unknown\", \"seen_by_peers\": 281.0, \"prefix\": 11}, {\"roa_validity\": \"unknown\", \"seen_by_peers\": 282.0, \"prefix\": 29}, {\"roa_validity\": \"unknown\", \"seen_by_peers\": 283.0, \"prefix\": 30}, {\"roa_validity\": \"unknown\", \"seen_by_peers\": 284.0, \"prefix\": 74}, {\"roa_validity\": \"unknown\", \"seen_by_peers\": 285.0, \"prefix\": 36}, {\"roa_validity\": \"unknown\", \"seen_by_peers\": 286.0, \"prefix\": 35}, {\"roa_validity\": \"unknown\", \"seen_by_peers\": 287.0, \"prefix\": 58}, {\"roa_validity\": \"unknown\", \"seen_by_peers\": 288.0, \"prefix\": 16}, {\"roa_validity\": \"unknown\", \"seen_by_peers\": 289.0, \"prefix\": 20}, {\"roa_validity\": \"unknown\", \"seen_by_peers\": 290.0, \"prefix\": 29}, {\"roa_validity\": \"unknown\", \"seen_by_peers\": 291.0, \"prefix\": 31}, {\"roa_validity\": \"unknown\", \"seen_by_peers\": 292.0, \"prefix\": 22}, {\"roa_validity\": \"unknown\", \"seen_by_peers\": 293.0, \"prefix\": 37}, {\"roa_validity\": \"unknown\", \"seen_by_peers\": 294.0, \"prefix\": 39}, {\"roa_validity\": \"unknown\", \"seen_by_peers\": 295.0, \"prefix\": 19}, {\"roa_validity\": \"unknown\", \"seen_by_peers\": 296.0, \"prefix\": 29}, {\"roa_validity\": \"unknown\", \"seen_by_peers\": 297.0, \"prefix\": 13}, {\"roa_validity\": \"unknown\", \"seen_by_peers\": 298.0, \"prefix\": 30}, {\"roa_validity\": \"unknown\", \"seen_by_peers\": 299.0, \"prefix\": 33}, {\"roa_validity\": \"unknown\", \"seen_by_peers\": 300.0, \"prefix\": 18}, {\"roa_validity\": \"unknown\", \"seen_by_peers\": 301.0, \"prefix\": 36}, {\"roa_validity\": \"unknown\", \"seen_by_peers\": 302.0, \"prefix\": 44}, {\"roa_validity\": \"unknown\", \"seen_by_peers\": 303.0, \"prefix\": 25}, {\"roa_validity\": \"unknown\", \"seen_by_peers\": 304.0, \"prefix\": 53}, {\"roa_validity\": \"unknown\", \"seen_by_peers\": 305.0, \"prefix\": 66}, {\"roa_validity\": \"unknown\", \"seen_by_peers\": 306.0, \"prefix\": 29}, {\"roa_validity\": \"unknown\", \"seen_by_peers\": 307.0, \"prefix\": 21}, {\"roa_validity\": \"unknown\", \"seen_by_peers\": 308.0, \"prefix\": 29}, {\"roa_validity\": \"unknown\", \"seen_by_peers\": 309.0, \"prefix\": 36}, {\"roa_validity\": \"unknown\", \"seen_by_peers\": 310.0, \"prefix\": 34}, {\"roa_validity\": \"unknown\", \"seen_by_peers\": 311.0, \"prefix\": 70}, {\"roa_validity\": \"unknown\", \"seen_by_peers\": 312.0, \"prefix\": 44}, {\"roa_validity\": \"unknown\", \"seen_by_peers\": 313.0, \"prefix\": 49}, {\"roa_validity\": \"unknown\", \"seen_by_peers\": 314.0, \"prefix\": 53}, {\"roa_validity\": \"unknown\", \"seen_by_peers\": 315.0, \"prefix\": 69}, {\"roa_validity\": \"unknown\", \"seen_by_peers\": 316.0, \"prefix\": 33}, {\"roa_validity\": \"unknown\", \"seen_by_peers\": 317.0, \"prefix\": 70}, {\"roa_validity\": \"unknown\", \"seen_by_peers\": 318.0, \"prefix\": 56}, {\"roa_validity\": \"unknown\", \"seen_by_peers\": 319.0, \"prefix\": 149}, {\"roa_validity\": \"unknown\", \"seen_by_peers\": 320.0, \"prefix\": 97}, {\"roa_validity\": \"unknown\", \"seen_by_peers\": 321.0, \"prefix\": 57}, {\"roa_validity\": \"unknown\", \"seen_by_peers\": 322.0, \"prefix\": 93}, {\"roa_validity\": \"unknown\", \"seen_by_peers\": 323.0, \"prefix\": 110}, {\"roa_validity\": \"unknown\", \"seen_by_peers\": 324.0, \"prefix\": 117}, {\"roa_validity\": \"unknown\", \"seen_by_peers\": 325.0, \"prefix\": 121}, {\"roa_validity\": \"unknown\", \"seen_by_peers\": 326.0, \"prefix\": 186}, {\"roa_validity\": \"unknown\", \"seen_by_peers\": 327.0, \"prefix\": 152}, {\"roa_validity\": \"unknown\", \"seen_by_peers\": 328.0, \"prefix\": 142}, {\"roa_validity\": \"unknown\", \"seen_by_peers\": 329.0, \"prefix\": 232}, {\"roa_validity\": \"unknown\", \"seen_by_peers\": 330.0, \"prefix\": 249}, {\"roa_validity\": \"unknown\", \"seen_by_peers\": 331.0, \"prefix\": 369}, {\"roa_validity\": \"unknown\", \"seen_by_peers\": 332.0, \"prefix\": 1536}, {\"roa_validity\": \"unknown\", \"seen_by_peers\": 333.0, \"prefix\": 5496}, {\"roa_validity\": \"unknown\", \"seen_by_peers\": 334.0, \"prefix\": 12557}, {\"roa_validity\": \"unknown\", \"seen_by_peers\": 335.0, \"prefix\": 18270}, {\"roa_validity\": \"unknown\", \"seen_by_peers\": 336.0, \"prefix\": 21495}, {\"roa_validity\": \"unknown\", \"seen_by_peers\": 337.0, \"prefix\": 36396}, {\"roa_validity\": \"unknown\", \"seen_by_peers\": 338.0, \"prefix\": 42166}, {\"roa_validity\": \"unknown\", \"seen_by_peers\": 339.0, \"prefix\": 21829}, {\"roa_validity\": \"unknown\", \"seen_by_peers\": 340.0, \"prefix\": 17128}, {\"roa_validity\": \"unknown\", \"seen_by_peers\": 341.0, \"prefix\": 18964}, {\"roa_validity\": \"unknown\", \"seen_by_peers\": 342.0, \"prefix\": 16154}, {\"roa_validity\": \"unknown\", \"seen_by_peers\": 343.0, \"prefix\": 16022}, {\"roa_validity\": \"unknown\", \"seen_by_peers\": 344.0, \"prefix\": 19076}, {\"roa_validity\": \"unknown\", \"seen_by_peers\": 345.0, \"prefix\": 24169}, {\"roa_validity\": \"unknown\", \"seen_by_peers\": 346.0, \"prefix\": 24942}, {\"roa_validity\": \"unknown\", \"seen_by_peers\": 347.0, \"prefix\": 23555}, {\"roa_validity\": \"unknown\", \"seen_by_peers\": 348.0, \"prefix\": 13813}, {\"roa_validity\": \"unknown\", \"seen_by_peers\": 349.0, \"prefix\": 10558}, {\"roa_validity\": \"unknown\", \"seen_by_peers\": 350.0, \"prefix\": 7636}, {\"roa_validity\": \"unknown\", \"seen_by_peers\": 351.0, \"prefix\": 5417}, {\"roa_validity\": \"unknown\", \"seen_by_peers\": 352.0, \"prefix\": 4186}, {\"roa_validity\": \"unknown\", \"seen_by_peers\": 353.0, \"prefix\": 4562}, {\"roa_validity\": \"unknown\", \"seen_by_peers\": 354.0, \"prefix\": 4596}, {\"roa_validity\": \"unknown\", \"seen_by_peers\": 355.0, \"prefix\": 5823}, {\"roa_validity\": \"unknown\", \"seen_by_peers\": 356.0, \"prefix\": 5756}, {\"roa_validity\": \"unknown\", \"seen_by_peers\": 357.0, \"prefix\": 5810}, {\"roa_validity\": \"unknown\", \"seen_by_peers\": 358.0, \"prefix\": 6422}, {\"roa_validity\": \"unknown\", \"seen_by_peers\": 359.0, \"prefix\": 6331}, {\"roa_validity\": \"unknown\", \"seen_by_peers\": 360.0, \"prefix\": 5608}, {\"roa_validity\": \"unknown\", \"seen_by_peers\": 361.0, \"prefix\": 5544}, {\"roa_validity\": \"unknown\", \"seen_by_peers\": 362.0, \"prefix\": 5689}, {\"roa_validity\": \"unknown\", \"seen_by_peers\": 363.0, \"prefix\": 5721}, {\"roa_validity\": \"unknown\", \"seen_by_peers\": 364.0, \"prefix\": 5873}, {\"roa_validity\": \"unknown\", \"seen_by_peers\": 365.0, \"prefix\": 4893}, {\"roa_validity\": \"unknown\", \"seen_by_peers\": 366.0, \"prefix\": 5006}, {\"roa_validity\": \"unknown\", \"seen_by_peers\": 367.0, \"prefix\": 4591}, {\"roa_validity\": \"unknown\", \"seen_by_peers\": 368.0, \"prefix\": 5478}, {\"roa_validity\": \"unknown\", \"seen_by_peers\": 369.0, \"prefix\": 7099}, {\"roa_validity\": \"unknown\", \"seen_by_peers\": 370.0, \"prefix\": 3975}, {\"roa_validity\": \"unknown\", \"seen_by_peers\": 371.0, \"prefix\": 4278}, {\"roa_validity\": \"unknown\", \"seen_by_peers\": 372.0, \"prefix\": 3847}, {\"roa_validity\": \"unknown\", \"seen_by_peers\": 373.0, \"prefix\": 3396}, {\"roa_validity\": \"unknown\", \"seen_by_peers\": 374.0, \"prefix\": 2519}, {\"roa_validity\": \"unknown\", \"seen_by_peers\": 375.0, \"prefix\": 2097}, {\"roa_validity\": \"unknown\", \"seen_by_peers\": 376.0, \"prefix\": 1870}, {\"roa_validity\": \"unknown\", \"seen_by_peers\": 377.0, \"prefix\": 2050}, {\"roa_validity\": \"unknown\", \"seen_by_peers\": 378.0, \"prefix\": 1835}, {\"roa_validity\": \"unknown\", \"seen_by_peers\": 379.0, \"prefix\": 3868}, {\"roa_validity\": \"unknown\", \"seen_by_peers\": 380.0, \"prefix\": 3942}, {\"roa_validity\": \"unknown\", \"seen_by_peers\": 381.0, \"prefix\": 4574}, {\"roa_validity\": \"unknown\", \"seen_by_peers\": 382.0, \"prefix\": 5788}, {\"roa_validity\": \"unknown\", \"seen_by_peers\": 383.0, \"prefix\": 4045}, {\"roa_validity\": \"unknown\", \"seen_by_peers\": 384.0, \"prefix\": 3239}, {\"roa_validity\": \"unknown\", \"seen_by_peers\": 385.0, \"prefix\": 2447}, {\"roa_validity\": \"unknown\", \"seen_by_peers\": 386.0, \"prefix\": 2444}, {\"roa_validity\": \"unknown\", \"seen_by_peers\": 387.0, \"prefix\": 6496}, {\"roa_validity\": \"unknown\", \"seen_by_peers\": 388.0, \"prefix\": 4677}, {\"roa_validity\": \"unknown\", \"seen_by_peers\": 389.0, \"prefix\": 7111}, {\"roa_validity\": \"unknown\", \"seen_by_peers\": 390.0, \"prefix\": 7473}, {\"roa_validity\": \"unknown\", \"seen_by_peers\": 391.0, \"prefix\": 4939}, {\"roa_validity\": \"unknown\", \"seen_by_peers\": 392.0, \"prefix\": 4648}, {\"roa_validity\": \"unknown\", \"seen_by_peers\": 393.0, \"prefix\": 3934}, {\"roa_validity\": \"unknown\", \"seen_by_peers\": 394.0, \"prefix\": 3020}, {\"roa_validity\": \"unknown\", \"seen_by_peers\": 395.0, \"prefix\": 2581}, {\"roa_validity\": \"unknown\", \"seen_by_peers\": 396.0, \"prefix\": 2379}, {\"roa_validity\": \"unknown\", \"seen_by_peers\": 397.0, \"prefix\": 2593}, {\"roa_validity\": \"unknown\", \"seen_by_peers\": 398.0, \"prefix\": 2138}, {\"roa_validity\": \"unknown\", \"seen_by_peers\": 399.0, \"prefix\": 1937}, {\"roa_validity\": \"unknown\", \"seen_by_peers\": 400.0, \"prefix\": 1215}, {\"roa_validity\": \"unknown\", \"seen_by_peers\": 401.0, \"prefix\": 1661}, {\"roa_validity\": \"unknown\", \"seen_by_peers\": 402.0, \"prefix\": 863}, {\"roa_validity\": \"unknown\", \"seen_by_peers\": 403.0, \"prefix\": 610}, {\"roa_validity\": \"unknown\", \"seen_by_peers\": 404.0, \"prefix\": 630}, {\"roa_validity\": \"unknown\", \"seen_by_peers\": 405.0, \"prefix\": 725}, {\"roa_validity\": \"unknown\", \"seen_by_peers\": 406.0, \"prefix\": 466}, {\"roa_validity\": \"unknown\", \"seen_by_peers\": 407.0, \"prefix\": 372}, {\"roa_validity\": \"unknown\", \"seen_by_peers\": 408.0, \"prefix\": 332}, {\"roa_validity\": \"unknown\", \"seen_by_peers\": 409.0, \"prefix\": 52}, {\"roa_validity\": \"unknown\", \"seen_by_peers\": 410.0, \"prefix\": 25}, {\"roa_validity\": \"unknown\", \"seen_by_peers\": 411.0, \"prefix\": 15}, {\"roa_validity\": \"unknown\", \"seen_by_peers\": 412.0, \"prefix\": 7}, {\"roa_validity\": \"unknown\", \"seen_by_peers\": 413.0, \"prefix\": 13}, {\"roa_validity\": \"unknown\", \"seen_by_peers\": 414.0, \"prefix\": 11}, {\"roa_validity\": \"unknown\", \"seen_by_peers\": 415.0, \"prefix\": 1}, {\"roa_validity\": \"unknown\", \"seen_by_peers\": 416.0, \"prefix\": 3}, {\"roa_validity\": \"unknown\", \"seen_by_peers\": 417.0, \"prefix\": 1}, {\"roa_validity\": \"unknown\", \"seen_by_peers\": 418.0, \"prefix\": 6}, {\"roa_validity\": \"unknown\", \"seen_by_peers\": 419.0, \"prefix\": 7}, {\"roa_validity\": \"unknown\", \"seen_by_peers\": 421.0, \"prefix\": 1}, {\"roa_validity\": \"unknown\", \"seen_by_peers\": 425.0, \"prefix\": 1}, {\"roa_validity\": \"unknown\", \"seen_by_peers\": 440.0, \"prefix\": 1}, {\"roa_validity\": \"unknown\", \"seen_by_peers\": 441.0, \"prefix\": 1}, {\"roa_validity\": \"unknown\", \"seen_by_peers\": 448.0, \"prefix\": 1}, {\"roa_validity\": \"valid\", \"seen_by_peers\": 1.0, \"prefix\": 11269}, {\"roa_validity\": \"valid\", \"seen_by_peers\": 2.0, \"prefix\": 895}, {\"roa_validity\": \"valid\", \"seen_by_peers\": 3.0, \"prefix\": 1648}, {\"roa_validity\": \"valid\", \"seen_by_peers\": 4.0, \"prefix\": 305}, {\"roa_validity\": \"valid\", \"seen_by_peers\": 5.0, \"prefix\": 1290}, {\"roa_validity\": \"valid\", \"seen_by_peers\": 6.0, \"prefix\": 220}, {\"roa_validity\": \"valid\", \"seen_by_peers\": 7.0, \"prefix\": 611}, {\"roa_validity\": \"valid\", \"seen_by_peers\": 8.0, \"prefix\": 387}, {\"roa_validity\": \"valid\", \"seen_by_peers\": 9.0, \"prefix\": 477}, {\"roa_validity\": \"valid\", \"seen_by_peers\": 10.0, \"prefix\": 124}, {\"roa_validity\": \"valid\", \"seen_by_peers\": 11.0, \"prefix\": 268}, {\"roa_validity\": \"valid\", \"seen_by_peers\": 12.0, \"prefix\": 270}, {\"roa_validity\": \"valid\", \"seen_by_peers\": 13.0, \"prefix\": 177}, {\"roa_validity\": \"valid\", \"seen_by_peers\": 14.0, \"prefix\": 420}, {\"roa_validity\": \"valid\", \"seen_by_peers\": 15.0, \"prefix\": 154}, {\"roa_validity\": \"valid\", \"seen_by_peers\": 16.0, \"prefix\": 93}, {\"roa_validity\": \"valid\", \"seen_by_peers\": 17.0, \"prefix\": 466}, {\"roa_validity\": \"valid\", \"seen_by_peers\": 18.0, \"prefix\": 1330}, {\"roa_validity\": \"valid\", \"seen_by_peers\": 19.0, \"prefix\": 261}, {\"roa_validity\": \"valid\", \"seen_by_peers\": 20.0, \"prefix\": 1007}, {\"roa_validity\": \"valid\", \"seen_by_peers\": 21.0, \"prefix\": 63}, {\"roa_validity\": \"valid\", \"seen_by_peers\": 22.0, \"prefix\": 23}, {\"roa_validity\": \"valid\", \"seen_by_peers\": 23.0, \"prefix\": 10}, {\"roa_validity\": \"valid\", \"seen_by_peers\": 24.0, \"prefix\": 17}, {\"roa_validity\": \"valid\", \"seen_by_peers\": 25.0, \"prefix\": 12}, {\"roa_validity\": \"valid\", \"seen_by_peers\": 26.0, \"prefix\": 51}, {\"roa_validity\": \"valid\", \"seen_by_peers\": 27.0, \"prefix\": 11}, {\"roa_validity\": \"valid\", \"seen_by_peers\": 28.0, \"prefix\": 37}, {\"roa_validity\": \"valid\", \"seen_by_peers\": 29.0, \"prefix\": 9}, {\"roa_validity\": \"valid\", \"seen_by_peers\": 30.0, \"prefix\": 38}, {\"roa_validity\": \"valid\", \"seen_by_peers\": 31.0, \"prefix\": 21}, {\"roa_validity\": \"valid\", \"seen_by_peers\": 32.0, \"prefix\": 27}, {\"roa_validity\": \"valid\", \"seen_by_peers\": 33.0, \"prefix\": 5}, {\"roa_validity\": \"valid\", \"seen_by_peers\": 34.0, \"prefix\": 28}, {\"roa_validity\": \"valid\", \"seen_by_peers\": 35.0, \"prefix\": 57}, {\"roa_validity\": \"valid\", \"seen_by_peers\": 36.0, \"prefix\": 72}, {\"roa_validity\": \"valid\", \"seen_by_peers\": 37.0, \"prefix\": 61}, {\"roa_validity\": \"valid\", \"seen_by_peers\": 38.0, \"prefix\": 30}, {\"roa_validity\": \"valid\", \"seen_by_peers\": 39.0, \"prefix\": 19}, {\"roa_validity\": \"valid\", \"seen_by_peers\": 40.0, \"prefix\": 27}, {\"roa_validity\": \"valid\", \"seen_by_peers\": 41.0, \"prefix\": 19}, {\"roa_validity\": \"valid\", \"seen_by_peers\": 42.0, \"prefix\": 48}, {\"roa_validity\": \"valid\", \"seen_by_peers\": 43.0, \"prefix\": 26}, {\"roa_validity\": \"valid\", \"seen_by_peers\": 44.0, \"prefix\": 33}, {\"roa_validity\": \"valid\", \"seen_by_peers\": 45.0, \"prefix\": 16}, {\"roa_validity\": \"valid\", \"seen_by_peers\": 46.0, \"prefix\": 4}, {\"roa_validity\": \"valid\", \"seen_by_peers\": 47.0, \"prefix\": 5}, {\"roa_validity\": \"valid\", \"seen_by_peers\": 48.0, \"prefix\": 185}, {\"roa_validity\": \"valid\", \"seen_by_peers\": 49.0, \"prefix\": 22}, {\"roa_validity\": \"valid\", \"seen_by_peers\": 50.0, \"prefix\": 43}, {\"roa_validity\": \"valid\", \"seen_by_peers\": 51.0, \"prefix\": 100}, {\"roa_validity\": \"valid\", \"seen_by_peers\": 52.0, \"prefix\": 309}, {\"roa_validity\": \"valid\", \"seen_by_peers\": 53.0, \"prefix\": 144}, {\"roa_validity\": \"valid\", \"seen_by_peers\": 54.0, \"prefix\": 57}, {\"roa_validity\": \"valid\", \"seen_by_peers\": 55.0, \"prefix\": 62}, {\"roa_validity\": \"valid\", \"seen_by_peers\": 56.0, \"prefix\": 181}, {\"roa_validity\": \"valid\", \"seen_by_peers\": 57.0, \"prefix\": 59}, {\"roa_validity\": \"valid\", \"seen_by_peers\": 58.0, \"prefix\": 95}, {\"roa_validity\": \"valid\", \"seen_by_peers\": 59.0, \"prefix\": 89}, {\"roa_validity\": \"valid\", \"seen_by_peers\": 60.0, \"prefix\": 57}, {\"roa_validity\": \"valid\", \"seen_by_peers\": 61.0, \"prefix\": 70}, {\"roa_validity\": \"valid\", \"seen_by_peers\": 62.0, \"prefix\": 302}, {\"roa_validity\": \"valid\", \"seen_by_peers\": 63.0, \"prefix\": 150}, {\"roa_validity\": \"valid\", \"seen_by_peers\": 64.0, \"prefix\": 156}, {\"roa_validity\": \"valid\", \"seen_by_peers\": 65.0, \"prefix\": 37}, {\"roa_validity\": \"valid\", \"seen_by_peers\": 66.0, \"prefix\": 22}, {\"roa_validity\": \"valid\", \"seen_by_peers\": 67.0, \"prefix\": 27}, {\"roa_validity\": \"valid\", \"seen_by_peers\": 68.0, \"prefix\": 86}, {\"roa_validity\": \"valid\", \"seen_by_peers\": 69.0, \"prefix\": 129}, {\"roa_validity\": \"valid\", \"seen_by_peers\": 70.0, \"prefix\": 102}, {\"roa_validity\": \"valid\", \"seen_by_peers\": 71.0, \"prefix\": 49}, {\"roa_validity\": \"valid\", \"seen_by_peers\": 72.0, \"prefix\": 148}, {\"roa_validity\": \"valid\", \"seen_by_peers\": 73.0, \"prefix\": 220}, {\"roa_validity\": \"valid\", \"seen_by_peers\": 74.0, \"prefix\": 77}, {\"roa_validity\": \"valid\", \"seen_by_peers\": 75.0, \"prefix\": 90}, {\"roa_validity\": \"valid\", \"seen_by_peers\": 76.0, \"prefix\": 167}, {\"roa_validity\": \"valid\", \"seen_by_peers\": 77.0, \"prefix\": 18}, {\"roa_validity\": \"valid\", \"seen_by_peers\": 78.0, \"prefix\": 25}, {\"roa_validity\": \"valid\", \"seen_by_peers\": 79.0, \"prefix\": 48}, {\"roa_validity\": \"valid\", \"seen_by_peers\": 80.0, \"prefix\": 58}, {\"roa_validity\": \"valid\", \"seen_by_peers\": 81.0, \"prefix\": 68}, {\"roa_validity\": \"valid\", \"seen_by_peers\": 82.0, \"prefix\": 110}, {\"roa_validity\": \"valid\", \"seen_by_peers\": 83.0, \"prefix\": 126}, {\"roa_validity\": \"valid\", \"seen_by_peers\": 84.0, \"prefix\": 221}, {\"roa_validity\": \"valid\", \"seen_by_peers\": 85.0, \"prefix\": 358}, {\"roa_validity\": \"valid\", \"seen_by_peers\": 86.0, \"prefix\": 334}, {\"roa_validity\": \"valid\", \"seen_by_peers\": 87.0, \"prefix\": 34}, {\"roa_validity\": \"valid\", \"seen_by_peers\": 88.0, \"prefix\": 36}, {\"roa_validity\": \"valid\", \"seen_by_peers\": 89.0, \"prefix\": 428}, {\"roa_validity\": \"valid\", \"seen_by_peers\": 90.0, \"prefix\": 390}, {\"roa_validity\": \"valid\", \"seen_by_peers\": 91.0, \"prefix\": 364}, {\"roa_validity\": \"valid\", \"seen_by_peers\": 92.0, \"prefix\": 187}, {\"roa_validity\": \"valid\", \"seen_by_peers\": 93.0, \"prefix\": 142}, {\"roa_validity\": \"valid\", \"seen_by_peers\": 94.0, \"prefix\": 39}, {\"roa_validity\": \"valid\", \"seen_by_peers\": 95.0, \"prefix\": 89}, {\"roa_validity\": \"valid\", \"seen_by_peers\": 96.0, \"prefix\": 91}, {\"roa_validity\": \"valid\", \"seen_by_peers\": 97.0, \"prefix\": 46}, {\"roa_validity\": \"valid\", \"seen_by_peers\": 98.0, \"prefix\": 89}, {\"roa_validity\": \"valid\", \"seen_by_peers\": 99.0, \"prefix\": 63}, {\"roa_validity\": \"valid\", \"seen_by_peers\": 100.0, \"prefix\": 991}, {\"roa_validity\": \"valid\", \"seen_by_peers\": 101.0, \"prefix\": 2151}, {\"roa_validity\": \"valid\", \"seen_by_peers\": 102.0, \"prefix\": 687}, {\"roa_validity\": \"valid\", \"seen_by_peers\": 103.0, \"prefix\": 429}, {\"roa_validity\": \"valid\", \"seen_by_peers\": 104.0, \"prefix\": 267}, {\"roa_validity\": \"valid\", \"seen_by_peers\": 105.0, \"prefix\": 982}, {\"roa_validity\": \"valid\", \"seen_by_peers\": 106.0, \"prefix\": 47}, {\"roa_validity\": \"valid\", \"seen_by_peers\": 107.0, \"prefix\": 217}, {\"roa_validity\": \"valid\", \"seen_by_peers\": 108.0, \"prefix\": 89}, {\"roa_validity\": \"valid\", \"seen_by_peers\": 109.0, \"prefix\": 536}, {\"roa_validity\": \"valid\", \"seen_by_peers\": 110.0, \"prefix\": 418}, {\"roa_validity\": \"valid\", \"seen_by_peers\": 111.0, \"prefix\": 565}, {\"roa_validity\": \"valid\", \"seen_by_peers\": 112.0, \"prefix\": 33}, {\"roa_validity\": \"valid\", \"seen_by_peers\": 113.0, \"prefix\": 81}, {\"roa_validity\": \"valid\", \"seen_by_peers\": 114.0, \"prefix\": 8}, {\"roa_validity\": \"valid\", \"seen_by_peers\": 115.0, \"prefix\": 13}, {\"roa_validity\": \"valid\", \"seen_by_peers\": 116.0, \"prefix\": 4}, {\"roa_validity\": \"valid\", \"seen_by_peers\": 117.0, \"prefix\": 6}, {\"roa_validity\": \"valid\", \"seen_by_peers\": 118.0, \"prefix\": 218}, {\"roa_validity\": \"valid\", \"seen_by_peers\": 119.0, \"prefix\": 71}, {\"roa_validity\": \"valid\", \"seen_by_peers\": 120.0, \"prefix\": 15}, {\"roa_validity\": \"valid\", \"seen_by_peers\": 121.0, \"prefix\": 388}, {\"roa_validity\": \"valid\", \"seen_by_peers\": 122.0, \"prefix\": 15}, {\"roa_validity\": \"valid\", \"seen_by_peers\": 123.0, \"prefix\": 12}, {\"roa_validity\": \"valid\", \"seen_by_peers\": 124.0, \"prefix\": 6}, {\"roa_validity\": \"valid\", \"seen_by_peers\": 125.0, \"prefix\": 10}, {\"roa_validity\": \"valid\", \"seen_by_peers\": 126.0, \"prefix\": 19}, {\"roa_validity\": \"valid\", \"seen_by_peers\": 127.0, \"prefix\": 11}, {\"roa_validity\": \"valid\", \"seen_by_peers\": 128.0, \"prefix\": 12}, {\"roa_validity\": \"valid\", \"seen_by_peers\": 129.0, \"prefix\": 152}, {\"roa_validity\": \"valid\", \"seen_by_peers\": 130.0, \"prefix\": 60}, {\"roa_validity\": \"valid\", \"seen_by_peers\": 131.0, \"prefix\": 9}, {\"roa_validity\": \"valid\", \"seen_by_peers\": 132.0, \"prefix\": 22}, {\"roa_validity\": \"valid\", \"seen_by_peers\": 133.0, \"prefix\": 30}, {\"roa_validity\": \"valid\", \"seen_by_peers\": 134.0, \"prefix\": 8}, {\"roa_validity\": \"valid\", \"seen_by_peers\": 135.0, \"prefix\": 82}, {\"roa_validity\": \"valid\", \"seen_by_peers\": 136.0, \"prefix\": 70}, {\"roa_validity\": \"valid\", \"seen_by_peers\": 137.0, \"prefix\": 4}, {\"roa_validity\": \"valid\", \"seen_by_peers\": 138.0, \"prefix\": 55}, {\"roa_validity\": \"valid\", \"seen_by_peers\": 139.0, \"prefix\": 8}, {\"roa_validity\": \"valid\", \"seen_by_peers\": 140.0, \"prefix\": 1}, {\"roa_validity\": \"valid\", \"seen_by_peers\": 141.0, \"prefix\": 22}, {\"roa_validity\": \"valid\", \"seen_by_peers\": 142.0, \"prefix\": 5}, {\"roa_validity\": \"valid\", \"seen_by_peers\": 143.0, \"prefix\": 2}, {\"roa_validity\": \"valid\", \"seen_by_peers\": 144.0, \"prefix\": 10}, {\"roa_validity\": \"valid\", \"seen_by_peers\": 145.0, \"prefix\": 6}, {\"roa_validity\": \"valid\", \"seen_by_peers\": 146.0, \"prefix\": 10}, {\"roa_validity\": \"valid\", \"seen_by_peers\": 147.0, \"prefix\": 3}, {\"roa_validity\": \"valid\", \"seen_by_peers\": 148.0, \"prefix\": 3}, {\"roa_validity\": \"valid\", \"seen_by_peers\": 149.0, \"prefix\": 4}, {\"roa_validity\": \"valid\", \"seen_by_peers\": 150.0, \"prefix\": 12}, {\"roa_validity\": \"valid\", \"seen_by_peers\": 151.0, \"prefix\": 8}, {\"roa_validity\": \"valid\", \"seen_by_peers\": 152.0, \"prefix\": 5}, {\"roa_validity\": \"valid\", \"seen_by_peers\": 153.0, \"prefix\": 3}, {\"roa_validity\": \"valid\", \"seen_by_peers\": 154.0, \"prefix\": 6}, {\"roa_validity\": \"valid\", \"seen_by_peers\": 155.0, \"prefix\": 43}, {\"roa_validity\": \"valid\", \"seen_by_peers\": 156.0, \"prefix\": 3}, {\"roa_validity\": \"valid\", \"seen_by_peers\": 157.0, \"prefix\": 6}, {\"roa_validity\": \"valid\", \"seen_by_peers\": 158.0, \"prefix\": 8}, {\"roa_validity\": \"valid\", \"seen_by_peers\": 159.0, \"prefix\": 3}, {\"roa_validity\": \"valid\", \"seen_by_peers\": 161.0, \"prefix\": 6}, {\"roa_validity\": \"valid\", \"seen_by_peers\": 162.0, \"prefix\": 1}, {\"roa_validity\": \"valid\", \"seen_by_peers\": 164.0, \"prefix\": 11}, {\"roa_validity\": \"valid\", \"seen_by_peers\": 166.0, \"prefix\": 3}, {\"roa_validity\": \"valid\", \"seen_by_peers\": 168.0, \"prefix\": 1}, {\"roa_validity\": \"valid\", \"seen_by_peers\": 169.0, \"prefix\": 5}, {\"roa_validity\": \"valid\", \"seen_by_peers\": 170.0, \"prefix\": 3}, {\"roa_validity\": \"valid\", \"seen_by_peers\": 171.0, \"prefix\": 4}, {\"roa_validity\": \"valid\", \"seen_by_peers\": 172.0, \"prefix\": 3}, {\"roa_validity\": \"valid\", \"seen_by_peers\": 173.0, \"prefix\": 1}, {\"roa_validity\": \"valid\", \"seen_by_peers\": 174.0, \"prefix\": 10}, {\"roa_validity\": \"valid\", \"seen_by_peers\": 175.0, \"prefix\": 15}, {\"roa_validity\": \"valid\", \"seen_by_peers\": 176.0, \"prefix\": 4}, {\"roa_validity\": \"valid\", \"seen_by_peers\": 177.0, \"prefix\": 6}, {\"roa_validity\": \"valid\", \"seen_by_peers\": 178.0, \"prefix\": 4}, {\"roa_validity\": \"valid\", \"seen_by_peers\": 179.0, \"prefix\": 13}, {\"roa_validity\": \"valid\", \"seen_by_peers\": 180.0, \"prefix\": 10}, {\"roa_validity\": \"valid\", \"seen_by_peers\": 181.0, \"prefix\": 5}, {\"roa_validity\": \"valid\", \"seen_by_peers\": 182.0, \"prefix\": 1}, {\"roa_validity\": \"valid\", \"seen_by_peers\": 183.0, \"prefix\": 2}, {\"roa_validity\": \"valid\", \"seen_by_peers\": 184.0, \"prefix\": 6}, {\"roa_validity\": \"valid\", \"seen_by_peers\": 185.0, \"prefix\": 4}, {\"roa_validity\": \"valid\", \"seen_by_peers\": 187.0, \"prefix\": 7}, {\"roa_validity\": \"valid\", \"seen_by_peers\": 188.0, \"prefix\": 10}, {\"roa_validity\": \"valid\", \"seen_by_peers\": 189.0, \"prefix\": 11}, {\"roa_validity\": \"valid\", \"seen_by_peers\": 190.0, \"prefix\": 6}, {\"roa_validity\": \"valid\", \"seen_by_peers\": 191.0, \"prefix\": 7}, {\"roa_validity\": \"valid\", \"seen_by_peers\": 192.0, \"prefix\": 7}, {\"roa_validity\": \"valid\", \"seen_by_peers\": 193.0, \"prefix\": 2}, {\"roa_validity\": \"valid\", \"seen_by_peers\": 194.0, \"prefix\": 4}, {\"roa_validity\": \"valid\", \"seen_by_peers\": 195.0, \"prefix\": 1}, {\"roa_validity\": \"valid\", \"seen_by_peers\": 196.0, \"prefix\": 3}, {\"roa_validity\": \"valid\", \"seen_by_peers\": 197.0, \"prefix\": 9}, {\"roa_validity\": \"valid\", \"seen_by_peers\": 198.0, \"prefix\": 3}, {\"roa_validity\": \"valid\", \"seen_by_peers\": 199.0, \"prefix\": 7}, {\"roa_validity\": \"valid\", \"seen_by_peers\": 200.0, \"prefix\": 9}, {\"roa_validity\": \"valid\", \"seen_by_peers\": 201.0, \"prefix\": 9}, {\"roa_validity\": \"valid\", \"seen_by_peers\": 202.0, \"prefix\": 6}, {\"roa_validity\": \"valid\", \"seen_by_peers\": 203.0, \"prefix\": 2}, {\"roa_validity\": \"valid\", \"seen_by_peers\": 204.0, \"prefix\": 6}, {\"roa_validity\": \"valid\", \"seen_by_peers\": 205.0, \"prefix\": 4}, {\"roa_validity\": \"valid\", \"seen_by_peers\": 206.0, \"prefix\": 10}, {\"roa_validity\": \"valid\", \"seen_by_peers\": 207.0, \"prefix\": 4}, {\"roa_validity\": \"valid\", \"seen_by_peers\": 208.0, \"prefix\": 4}, {\"roa_validity\": \"valid\", \"seen_by_peers\": 209.0, \"prefix\": 5}, {\"roa_validity\": \"valid\", \"seen_by_peers\": 210.0, \"prefix\": 10}, {\"roa_validity\": \"valid\", \"seen_by_peers\": 211.0, \"prefix\": 23}, {\"roa_validity\": \"valid\", \"seen_by_peers\": 212.0, \"prefix\": 12}, {\"roa_validity\": \"valid\", \"seen_by_peers\": 213.0, \"prefix\": 6}, {\"roa_validity\": \"valid\", \"seen_by_peers\": 214.0, \"prefix\": 2}, {\"roa_validity\": \"valid\", \"seen_by_peers\": 215.0, \"prefix\": 1}, {\"roa_validity\": \"valid\", \"seen_by_peers\": 216.0, \"prefix\": 2}, {\"roa_validity\": \"valid\", \"seen_by_peers\": 217.0, \"prefix\": 5}, {\"roa_validity\": \"valid\", \"seen_by_peers\": 218.0, \"prefix\": 7}, {\"roa_validity\": \"valid\", \"seen_by_peers\": 219.0, \"prefix\": 3}, {\"roa_validity\": \"valid\", \"seen_by_peers\": 220.0, \"prefix\": 7}, {\"roa_validity\": \"valid\", \"seen_by_peers\": 221.0, \"prefix\": 7}, {\"roa_validity\": \"valid\", \"seen_by_peers\": 222.0, \"prefix\": 4}, {\"roa_validity\": \"valid\", \"seen_by_peers\": 223.0, \"prefix\": 3}, {\"roa_validity\": \"valid\", \"seen_by_peers\": 224.0, \"prefix\": 6}, {\"roa_validity\": \"valid\", \"seen_by_peers\": 225.0, \"prefix\": 58}, {\"roa_validity\": \"valid\", \"seen_by_peers\": 226.0, \"prefix\": 3}, {\"roa_validity\": \"valid\", \"seen_by_peers\": 227.0, \"prefix\": 4}, {\"roa_validity\": \"valid\", \"seen_by_peers\": 228.0, \"prefix\": 5}, {\"roa_validity\": \"valid\", \"seen_by_peers\": 230.0, \"prefix\": 2}, {\"roa_validity\": \"valid\", \"seen_by_peers\": 231.0, \"prefix\": 9}, {\"roa_validity\": \"valid\", \"seen_by_peers\": 232.0, \"prefix\": 7}, {\"roa_validity\": \"valid\", \"seen_by_peers\": 233.0, \"prefix\": 3}, {\"roa_validity\": \"valid\", \"seen_by_peers\": 234.0, \"prefix\": 5}, {\"roa_validity\": \"valid\", \"seen_by_peers\": 235.0, \"prefix\": 5}, {\"roa_validity\": \"valid\", \"seen_by_peers\": 236.0, \"prefix\": 3}, {\"roa_validity\": \"valid\", \"seen_by_peers\": 237.0, \"prefix\": 7}, {\"roa_validity\": \"valid\", \"seen_by_peers\": 238.0, \"prefix\": 1}, {\"roa_validity\": \"valid\", \"seen_by_peers\": 239.0, \"prefix\": 7}, {\"roa_validity\": \"valid\", \"seen_by_peers\": 240.0, \"prefix\": 8}, {\"roa_validity\": \"valid\", \"seen_by_peers\": 241.0, \"prefix\": 3}, {\"roa_validity\": \"valid\", \"seen_by_peers\": 242.0, \"prefix\": 4}, {\"roa_validity\": \"valid\", \"seen_by_peers\": 243.0, \"prefix\": 3}, {\"roa_validity\": \"valid\", \"seen_by_peers\": 245.0, \"prefix\": 9}, {\"roa_validity\": \"valid\", \"seen_by_peers\": 246.0, \"prefix\": 44}, {\"roa_validity\": \"valid\", \"seen_by_peers\": 247.0, \"prefix\": 7}, {\"roa_validity\": \"valid\", \"seen_by_peers\": 248.0, \"prefix\": 13}, {\"roa_validity\": \"valid\", \"seen_by_peers\": 249.0, \"prefix\": 97}, {\"roa_validity\": \"valid\", \"seen_by_peers\": 250.0, \"prefix\": 42}, {\"roa_validity\": \"valid\", \"seen_by_peers\": 251.0, \"prefix\": 16}, {\"roa_validity\": \"valid\", \"seen_by_peers\": 252.0, \"prefix\": 36}, {\"roa_validity\": \"valid\", \"seen_by_peers\": 253.0, \"prefix\": 35}, {\"roa_validity\": \"valid\", \"seen_by_peers\": 254.0, \"prefix\": 26}, {\"roa_validity\": \"valid\", \"seen_by_peers\": 255.0, \"prefix\": 12}, {\"roa_validity\": \"valid\", \"seen_by_peers\": 256.0, \"prefix\": 8}, {\"roa_validity\": \"valid\", \"seen_by_peers\": 257.0, \"prefix\": 19}, {\"roa_validity\": \"valid\", \"seen_by_peers\": 258.0, \"prefix\": 19}, {\"roa_validity\": \"valid\", \"seen_by_peers\": 259.0, \"prefix\": 22}, {\"roa_validity\": \"valid\", \"seen_by_peers\": 260.0, \"prefix\": 23}, {\"roa_validity\": \"valid\", \"seen_by_peers\": 261.0, \"prefix\": 20}, {\"roa_validity\": \"valid\", \"seen_by_peers\": 262.0, \"prefix\": 9}, {\"roa_validity\": \"valid\", \"seen_by_peers\": 263.0, \"prefix\": 15}, {\"roa_validity\": \"valid\", \"seen_by_peers\": 264.0, \"prefix\": 4}, {\"roa_validity\": \"valid\", \"seen_by_peers\": 265.0, \"prefix\": 4}, {\"roa_validity\": \"valid\", \"seen_by_peers\": 266.0, \"prefix\": 26}, {\"roa_validity\": \"valid\", \"seen_by_peers\": 267.0, \"prefix\": 157}, {\"roa_validity\": \"valid\", \"seen_by_peers\": 268.0, \"prefix\": 3}, {\"roa_validity\": \"valid\", \"seen_by_peers\": 269.0, \"prefix\": 10}, {\"roa_validity\": \"valid\", \"seen_by_peers\": 270.0, \"prefix\": 5}, {\"roa_validity\": \"valid\", \"seen_by_peers\": 271.0, \"prefix\": 8}, {\"roa_validity\": \"valid\", \"seen_by_peers\": 272.0, \"prefix\": 24}, {\"roa_validity\": \"valid\", \"seen_by_peers\": 273.0, \"prefix\": 10}, {\"roa_validity\": \"valid\", \"seen_by_peers\": 274.0, \"prefix\": 2}, {\"roa_validity\": \"valid\", \"seen_by_peers\": 275.0, \"prefix\": 9}, {\"roa_validity\": \"valid\", \"seen_by_peers\": 276.0, \"prefix\": 10}, {\"roa_validity\": \"valid\", \"seen_by_peers\": 277.0, \"prefix\": 6}, {\"roa_validity\": \"valid\", \"seen_by_peers\": 278.0, \"prefix\": 19}, {\"roa_validity\": \"valid\", \"seen_by_peers\": 279.0, \"prefix\": 6}, {\"roa_validity\": \"valid\", \"seen_by_peers\": 280.0, \"prefix\": 6}, {\"roa_validity\": \"valid\", \"seen_by_peers\": 281.0, \"prefix\": 1}, {\"roa_validity\": \"valid\", \"seen_by_peers\": 282.0, \"prefix\": 12}, {\"roa_validity\": \"valid\", \"seen_by_peers\": 283.0, \"prefix\": 23}, {\"roa_validity\": \"valid\", \"seen_by_peers\": 284.0, \"prefix\": 9}, {\"roa_validity\": \"valid\", \"seen_by_peers\": 285.0, \"prefix\": 12}, {\"roa_validity\": \"valid\", \"seen_by_peers\": 286.0, \"prefix\": 4}, {\"roa_validity\": \"valid\", \"seen_by_peers\": 287.0, \"prefix\": 10}, {\"roa_validity\": \"valid\", \"seen_by_peers\": 288.0, \"prefix\": 3}, {\"roa_validity\": \"valid\", \"seen_by_peers\": 289.0, \"prefix\": 8}, {\"roa_validity\": \"valid\", \"seen_by_peers\": 290.0, \"prefix\": 5}, {\"roa_validity\": \"valid\", \"seen_by_peers\": 291.0, \"prefix\": 22}, {\"roa_validity\": \"valid\", \"seen_by_peers\": 292.0, \"prefix\": 171}, {\"roa_validity\": \"valid\", \"seen_by_peers\": 293.0, \"prefix\": 64}, {\"roa_validity\": \"valid\", \"seen_by_peers\": 294.0, \"prefix\": 8}, {\"roa_validity\": \"valid\", \"seen_by_peers\": 295.0, \"prefix\": 23}, {\"roa_validity\": \"valid\", \"seen_by_peers\": 296.0, \"prefix\": 14}, {\"roa_validity\": \"valid\", \"seen_by_peers\": 297.0, \"prefix\": 5}, {\"roa_validity\": \"valid\", \"seen_by_peers\": 298.0, \"prefix\": 7}, {\"roa_validity\": \"valid\", \"seen_by_peers\": 299.0, \"prefix\": 7}, {\"roa_validity\": \"valid\", \"seen_by_peers\": 300.0, \"prefix\": 8}, {\"roa_validity\": \"valid\", \"seen_by_peers\": 301.0, \"prefix\": 183}, {\"roa_validity\": \"valid\", \"seen_by_peers\": 302.0, \"prefix\": 112}, {\"roa_validity\": \"valid\", \"seen_by_peers\": 303.0, \"prefix\": 17}, {\"roa_validity\": \"valid\", \"seen_by_peers\": 304.0, \"prefix\": 18}, {\"roa_validity\": \"valid\", \"seen_by_peers\": 305.0, \"prefix\": 25}, {\"roa_validity\": \"valid\", \"seen_by_peers\": 306.0, \"prefix\": 10}, {\"roa_validity\": \"valid\", \"seen_by_peers\": 307.0, \"prefix\": 4}, {\"roa_validity\": \"valid\", \"seen_by_peers\": 308.0, \"prefix\": 18}, {\"roa_validity\": \"valid\", \"seen_by_peers\": 309.0, \"prefix\": 27}, {\"roa_validity\": \"valid\", \"seen_by_peers\": 310.0, \"prefix\": 36}, {\"roa_validity\": \"valid\", \"seen_by_peers\": 311.0, \"prefix\": 66}, {\"roa_validity\": \"valid\", \"seen_by_peers\": 312.0, \"prefix\": 96}, {\"roa_validity\": \"valid\", \"seen_by_peers\": 313.0, \"prefix\": 38}, {\"roa_validity\": \"valid\", \"seen_by_peers\": 314.0, \"prefix\": 10}, {\"roa_validity\": \"valid\", \"seen_by_peers\": 315.0, \"prefix\": 46}, {\"roa_validity\": \"valid\", \"seen_by_peers\": 316.0, \"prefix\": 10}, {\"roa_validity\": \"valid\", \"seen_by_peers\": 317.0, \"prefix\": 181}, {\"roa_validity\": \"valid\", \"seen_by_peers\": 318.0, \"prefix\": 43}, {\"roa_validity\": \"valid\", \"seen_by_peers\": 319.0, \"prefix\": 34}, {\"roa_validity\": \"valid\", \"seen_by_peers\": 320.0, \"prefix\": 75}, {\"roa_validity\": \"valid\", \"seen_by_peers\": 321.0, \"prefix\": 4}, {\"roa_validity\": \"valid\", \"seen_by_peers\": 322.0, \"prefix\": 11}, {\"roa_validity\": \"valid\", \"seen_by_peers\": 323.0, \"prefix\": 7}, {\"roa_validity\": \"valid\", \"seen_by_peers\": 324.0, \"prefix\": 34}, {\"roa_validity\": \"valid\", \"seen_by_peers\": 325.0, \"prefix\": 70}, {\"roa_validity\": \"valid\", \"seen_by_peers\": 326.0, \"prefix\": 30}, {\"roa_validity\": \"valid\", \"seen_by_peers\": 327.0, \"prefix\": 55}, {\"roa_validity\": \"valid\", \"seen_by_peers\": 328.0, \"prefix\": 157}, {\"roa_validity\": \"valid\", \"seen_by_peers\": 329.0, \"prefix\": 65}, {\"roa_validity\": \"valid\", \"seen_by_peers\": 330.0, \"prefix\": 106}, {\"roa_validity\": \"valid\", \"seen_by_peers\": 331.0, \"prefix\": 158}, {\"roa_validity\": \"valid\", \"seen_by_peers\": 332.0, \"prefix\": 305}, {\"roa_validity\": \"valid\", \"seen_by_peers\": 333.0, \"prefix\": 817}, {\"roa_validity\": \"valid\", \"seen_by_peers\": 334.0, \"prefix\": 2999}, {\"roa_validity\": \"valid\", \"seen_by_peers\": 335.0, \"prefix\": 9517}, {\"roa_validity\": \"valid\", \"seen_by_peers\": 336.0, \"prefix\": 8555}, {\"roa_validity\": \"valid\", \"seen_by_peers\": 337.0, \"prefix\": 9436}, {\"roa_validity\": \"valid\", \"seen_by_peers\": 338.0, \"prefix\": 12552}, {\"roa_validity\": \"valid\", \"seen_by_peers\": 339.0, \"prefix\": 7987}, {\"roa_validity\": \"valid\", \"seen_by_peers\": 340.0, \"prefix\": 5339}, {\"roa_validity\": \"valid\", \"seen_by_peers\": 341.0, \"prefix\": 7138}, {\"roa_validity\": \"valid\", \"seen_by_peers\": 342.0, \"prefix\": 6844}, {\"roa_validity\": \"valid\", \"seen_by_peers\": 343.0, \"prefix\": 6716}, {\"roa_validity\": \"valid\", \"seen_by_peers\": 344.0, \"prefix\": 7184}, {\"roa_validity\": \"valid\", \"seen_by_peers\": 345.0, \"prefix\": 10412}, {\"roa_validity\": \"valid\", \"seen_by_peers\": 346.0, \"prefix\": 8613}, {\"roa_validity\": \"valid\", \"seen_by_peers\": 347.0, \"prefix\": 6463}, {\"roa_validity\": \"valid\", \"seen_by_peers\": 348.0, \"prefix\": 6365}, {\"roa_validity\": \"valid\", \"seen_by_peers\": 349.0, \"prefix\": 6056}, {\"roa_validity\": \"valid\", \"seen_by_peers\": 350.0, \"prefix\": 4360}, {\"roa_validity\": \"valid\", \"seen_by_peers\": 351.0, \"prefix\": 3844}, {\"roa_validity\": \"valid\", \"seen_by_peers\": 352.0, \"prefix\": 3566}, {\"roa_validity\": \"valid\", \"seen_by_peers\": 353.0, \"prefix\": 2809}, {\"roa_validity\": \"valid\", \"seen_by_peers\": 354.0, \"prefix\": 2915}, {\"roa_validity\": \"valid\", \"seen_by_peers\": 355.0, \"prefix\": 2628}, {\"roa_validity\": \"valid\", \"seen_by_peers\": 356.0, \"prefix\": 2723}, {\"roa_validity\": \"valid\", \"seen_by_peers\": 357.0, \"prefix\": 3495}, {\"roa_validity\": \"valid\", \"seen_by_peers\": 358.0, \"prefix\": 4052}, {\"roa_validity\": \"valid\", \"seen_by_peers\": 359.0, \"prefix\": 3159}, {\"roa_validity\": \"valid\", \"seen_by_peers\": 360.0, \"prefix\": 3118}, {\"roa_validity\": \"valid\", \"seen_by_peers\": 361.0, \"prefix\": 3752}, {\"roa_validity\": \"valid\", \"seen_by_peers\": 362.0, \"prefix\": 3824}, {\"roa_validity\": \"valid\", \"seen_by_peers\": 363.0, \"prefix\": 3953}, {\"roa_validity\": \"valid\", \"seen_by_peers\": 364.0, \"prefix\": 3575}, {\"roa_validity\": \"valid\", \"seen_by_peers\": 365.0, \"prefix\": 4486}, {\"roa_validity\": \"valid\", \"seen_by_peers\": 366.0, \"prefix\": 4018}, {\"roa_validity\": \"valid\", \"seen_by_peers\": 367.0, \"prefix\": 4315}, {\"roa_validity\": \"valid\", \"seen_by_peers\": 368.0, \"prefix\": 3342}, {\"roa_validity\": \"valid\", \"seen_by_peers\": 369.0, \"prefix\": 2923}, {\"roa_validity\": \"valid\", \"seen_by_peers\": 370.0, \"prefix\": 2025}, {\"roa_validity\": \"valid\", \"seen_by_peers\": 371.0, \"prefix\": 1692}, {\"roa_validity\": \"valid\", \"seen_by_peers\": 372.0, \"prefix\": 1765}, {\"roa_validity\": \"valid\", \"seen_by_peers\": 373.0, \"prefix\": 2137}, {\"roa_validity\": \"valid\", \"seen_by_peers\": 374.0, \"prefix\": 1845}, {\"roa_validity\": \"valid\", \"seen_by_peers\": 375.0, \"prefix\": 1661}, {\"roa_validity\": \"valid\", \"seen_by_peers\": 376.0, \"prefix\": 1662}, {\"roa_validity\": \"valid\", \"seen_by_peers\": 377.0, \"prefix\": 638}, {\"roa_validity\": \"valid\", \"seen_by_peers\": 378.0, \"prefix\": 943}, {\"roa_validity\": \"valid\", \"seen_by_peers\": 379.0, \"prefix\": 880}, {\"roa_validity\": \"valid\", \"seen_by_peers\": 380.0, \"prefix\": 1084}, {\"roa_validity\": \"valid\", \"seen_by_peers\": 381.0, \"prefix\": 1214}, {\"roa_validity\": \"valid\", \"seen_by_peers\": 382.0, \"prefix\": 1119}, {\"roa_validity\": \"valid\", \"seen_by_peers\": 383.0, \"prefix\": 729}, {\"roa_validity\": \"valid\", \"seen_by_peers\": 384.0, \"prefix\": 1832}, {\"roa_validity\": \"valid\", \"seen_by_peers\": 385.0, \"prefix\": 763}, {\"roa_validity\": \"valid\", \"seen_by_peers\": 386.0, \"prefix\": 1007}, {\"roa_validity\": \"valid\", \"seen_by_peers\": 387.0, \"prefix\": 489}, {\"roa_validity\": \"valid\", \"seen_by_peers\": 388.0, \"prefix\": 872}, {\"roa_validity\": \"valid\", \"seen_by_peers\": 389.0, \"prefix\": 2264}, {\"roa_validity\": \"valid\", \"seen_by_peers\": 390.0, \"prefix\": 3209}, {\"roa_validity\": \"valid\", \"seen_by_peers\": 391.0, \"prefix\": 4180}, {\"roa_validity\": \"valid\", \"seen_by_peers\": 392.0, \"prefix\": 3202}, {\"roa_validity\": \"valid\", \"seen_by_peers\": 393.0, \"prefix\": 2939}, {\"roa_validity\": \"valid\", \"seen_by_peers\": 394.0, \"prefix\": 2805}, {\"roa_validity\": \"valid\", \"seen_by_peers\": 395.0, \"prefix\": 2978}, {\"roa_validity\": \"valid\", \"seen_by_peers\": 396.0, \"prefix\": 2182}, {\"roa_validity\": \"valid\", \"seen_by_peers\": 397.0, \"prefix\": 2065}, {\"roa_validity\": \"valid\", \"seen_by_peers\": 398.0, \"prefix\": 2355}, {\"roa_validity\": \"valid\", \"seen_by_peers\": 399.0, \"prefix\": 2931}, {\"roa_validity\": \"valid\", \"seen_by_peers\": 400.0, \"prefix\": 1420}, {\"roa_validity\": \"valid\", \"seen_by_peers\": 401.0, \"prefix\": 1997}, {\"roa_validity\": \"valid\", \"seen_by_peers\": 402.0, \"prefix\": 821}, {\"roa_validity\": \"valid\", \"seen_by_peers\": 403.0, \"prefix\": 457}, {\"roa_validity\": \"valid\", \"seen_by_peers\": 404.0, \"prefix\": 455}, {\"roa_validity\": \"valid\", \"seen_by_peers\": 405.0, \"prefix\": 421}, {\"roa_validity\": \"valid\", \"seen_by_peers\": 406.0, \"prefix\": 490}, {\"roa_validity\": \"valid\", \"seen_by_peers\": 407.0, \"prefix\": 127}, {\"roa_validity\": \"valid\", \"seen_by_peers\": 408.0, \"prefix\": 31}, {\"roa_validity\": \"valid\", \"seen_by_peers\": 409.0, \"prefix\": 20}, {\"roa_validity\": \"valid\", \"seen_by_peers\": 410.0, \"prefix\": 4}, {\"roa_validity\": \"valid\", \"seen_by_peers\": 411.0, \"prefix\": 2}, {\"roa_validity\": \"valid\", \"seen_by_peers\": 412.0, \"prefix\": 6}, {\"roa_validity\": \"valid\", \"seen_by_peers\": 413.0, \"prefix\": 1}, {\"roa_validity\": \"valid\", \"seen_by_peers\": 414.0, \"prefix\": 1}, {\"roa_validity\": \"valid\", \"seen_by_peers\": 415.0, \"prefix\": 5}, {\"roa_validity\": \"valid\", \"seen_by_peers\": 416.0, \"prefix\": 2}, {\"roa_validity\": \"valid\", \"seen_by_peers\": 417.0, \"prefix\": 3}, {\"roa_validity\": \"valid\", \"seen_by_peers\": 418.0, \"prefix\": 4}, {\"roa_validity\": \"valid\", \"seen_by_peers\": 419.0, \"prefix\": 14}, {\"roa_validity\": \"valid\", \"seen_by_peers\": 421.0, \"prefix\": 2}, {\"roa_validity\": \"valid\", \"seen_by_peers\": 446.0, \"prefix\": 1}]}}, {\"mode\": \"vega-lite\"});\n",
       "</script>"
      ],
      "text/plain": [
       "alt.FacetChart(...)"
      ]
     },
     "metadata": {},
     "output_type": "display_data"
    }
   ],
   "source": [
    "# ris_v4[['roa_validity', 'seen_by_peers']].plot.hist(\n",
    "#     by='seen_by_peers',\n",
    "#     bins=16,\n",
    "#     alpha=0.5\n",
    "# )\n",
    "\n",
    "seen_by_peers_count_by_roa_validity = ris_v4.groupby(['roa_validity', 'seen_by_peers'], as_index=False).agg({'prefix': 'count'})\n",
    "\n",
    "rov_chart = alt.Chart(\n",
    "    seen_by_peers_count_by_roa_validity).mark_bar()\\\n",
    ".encode(\n",
    "    alt.X(\"seen_by_peers:Q\", bin=False),\n",
    "    alt.Color(\"roa_validity:N\"),\n",
    "    y='prefix',\n",
    ").properties(\n",
    "    title='Visibility versus ROV status',\n",
    "    width=300,\n",
    "    height=150,\n",
    ").facet(\n",
    "    column='roa_validity',\n",
    ").resolve_scale(\n",
    "    y='independent'\n",
    ")\n",
    "\n",
    "#rov_chart.save(\"ris_v4_rov_chart.png\")\n",
    "display(rov_chart)"
   ]
  },
  {
   "cell_type": "code",
   "execution_count": null,
   "id": "6b902105-dfe7-4844-ac15-232608e0afed",
   "metadata": {},
   "outputs": [],
   "source": []
  }
 ],
 "metadata": {
  "kernelspec": {
   "display_name": "Python 3 (ipykernel)",
   "language": "python",
   "name": "python3"
  },
  "language_info": {
   "codemirror_mode": {
    "name": "ipython",
    "version": 3
   },
   "file_extension": ".py",
   "mimetype": "text/x-python",
   "name": "python",
   "nbconvert_exporter": "python",
   "pygments_lexer": "ipython3",
   "version": "3.9.4"
  }
 },
 "nbformat": 4,
 "nbformat_minor": 5
}
