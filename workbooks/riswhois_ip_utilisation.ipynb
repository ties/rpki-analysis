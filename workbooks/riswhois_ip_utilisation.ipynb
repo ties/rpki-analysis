{
 "cells": [
  {
   "cell_type": "markdown",
   "id": "72db4c68-2d7b-46d3-ac66-16764dfa4e65",
   "metadata": {},
   "source": [
    "# Evaluate ROV status of visible space\n",
    "\n",
    "This workbook evaluates the ROV status for all riswhois entries.\n"
   ]
  },
  {
   "cell_type": "code",
   "execution_count": 1,
   "id": "derived-chemical",
   "metadata": {},
   "outputs": [],
   "source": [
    "# Add parent dir to path\n",
    "import os,sys\n",
    "\n",
    "sys.path.insert(0,os.environ['PWD'])"
   ]
  },
  {
   "cell_type": "code",
   "execution_count": 2,
   "id": "9d12503d-9e42-4c50-ac00-c9b22602f060",
   "metadata": {},
   "outputs": [],
   "source": [
    "import bz2\n",
    "import json\n",
    "import ipaddress\n",
    "import netaddr\n",
    "\n",
    "import altair as alt\n",
    "import pandas as pd\n",
    "import requests\n",
    "\n",
    "from rpki_analysis.riswhois import RisWhoisLookup, read_ris_dump\n",
    "from rpki_analysis.rov import RouteOriginAuthorizationLookup, rov_validity, rov_validity_verbose"
   ]
  },
  {
   "cell_type": "code",
   "execution_count": 3,
   "id": "legendary-conservation",
   "metadata": {},
   "outputs": [],
   "source": [
    "# https://www.ris.ripe.net/dumps/riswhoisdump.IPv4.gz\n",
    "# https://www.ris.ripe.net/dumps/riswhoisdump.IPv6.gz\n",
    "ris_v4_gz = requests.get(\"https://www.ris.ripe.net/dumps/riswhoisdump.IPv4.gz\").content\n",
    "ris_v6_gz = requests.get(\"https://www.ris.ripe.net/dumps/riswhoisdump.IPv6.gz\").content\n"
   ]
  },
  {
   "cell_type": "code",
   "execution_count": 4,
   "id": "attempted-inspection",
   "metadata": {},
   "outputs": [],
   "source": [
    "# Atlas Probe archive\n",
    "atlas_probes_bz2 = requests.get(\"https://ftp.ripe.net/ripe/atlas/probes/archive/meta-latest\").content\n",
    "atlas_probes = pd.DataFrame(json.loads(bz2.decompress(atlas_probes_bz2))['objects'])"
   ]
  },
  {
   "cell_type": "code",
   "execution_count": 5,
   "id": "protected-royalty",
   "metadata": {},
   "outputs": [
    {
     "name": "stderr",
     "output_type": "stream",
     "text": [
      "RIS dump contains row(s) with AS_SET! These will never be RPKI valid (https://tools.ietf.org/html/rfc6907#section-7.1.8)\n",
      "RIS dump contains row(s) with AS_SET! These will never be RPKI valid (https://tools.ietf.org/html/rfc6907#section-7.1.8)\n"
     ]
    }
   ],
   "source": [
    "ris_v4 = read_ris_dump(\"https://www.ris.ripe.net/dumps/riswhoisdump.IPv4.gz\")\n",
    "ris_v6 = read_ris_dump(\"https://www.ris.ripe.net/dumps/riswhoisdump.IPv6.gz\")"
   ]
  },
  {
   "cell_type": "code",
   "execution_count": 6,
   "id": "aef6a632-809a-4d52-93ee-a43b734f3f94",
   "metadata": {},
   "outputs": [],
   "source": [
    "realistic_announcements_v4 = ris_v4[ris_v4.seen_by_peers > 50].copy()\n",
    "realistic_announcements_v4_set = netaddr.IPSet(realistic_announcements_v4.prefix)"
   ]
  },
  {
   "cell_type": "code",
   "execution_count": 7,
   "id": "ef44ca2d-6ae1-46e7-b189-d41a2c862b1b",
   "metadata": {},
   "outputs": [],
   "source": [
    "def announced_in_prefix(*prefixes: str) -> netaddr.IPSet:\n",
    "    mask = netaddr.IPSet(prefixes)\n",
    "    return realistic_announcements_v4_set & mask"
   ]
  },
  {
   "cell_type": "code",
   "execution_count": 8,
   "id": "72dcc322-445d-4923-b073-116eb90dea63",
   "metadata": {},
   "outputs": [],
   "source": [
    "#announced_frac = pd.DataFrame([{\"prefix\": f\"{x}.0.0.0/8\", \"announced_fraction\": (realistic_announcements_v4_set & netaddr.IPSet([f\"{x}.0.0.0/8\"])).size/2**24} for x in range(256)])"
   ]
  },
  {
   "cell_type": "code",
   "execution_count": 10,
   "id": "33ce7401-6239-45f0-b562-a6a3321d12f8",
   "metadata": {},
   "outputs": [],
   "source": [
    "#announced_frac"
   ]
  },
  {
   "cell_type": "code",
   "execution_count": 11,
   "id": "1acc4c98-f8ce-47ba-a85d-b303ed23551a",
   "metadata": {},
   "outputs": [],
   "source": [
    "#announced_frac.plot.hist(bins=32)"
   ]
  },
  {
   "cell_type": "code",
   "execution_count": null,
   "id": "815de4ad-2b38-40ad-9b17-ebf0d58cae77",
   "metadata": {},
   "outputs": [],
   "source": []
  },
  {
   "cell_type": "code",
   "execution_count": 12,
   "id": "electrical-chess",
   "metadata": {},
   "outputs": [],
   "source": [
    "# Get RPKI valids\n",
    "validated_objects = requests.get(\"https://rpki-validator.ripe.net/json\").json()\n",
    "rpki_roas = pd.DataFrame(validated_objects['roas'])\n",
    "# And add address family\n",
    "rpki_roas['af'] = rpki_roas.prefix.map(lambda p: ipaddress.ip_network(p).version)\n",
    "# And prefix length (to chart later)\n",
    "rpki_roas['prefix_length'] = rpki_roas.prefix.map(lambda p: ipaddress.ip_network(p).prefixlen)\n",
    "\n",
    "rpki_roas_v4 = rpki_roas[rpki_roas.af == 4]\n",
    "rpki_roas_v6 = rpki_roas[rpki_roas.af == 6]\n",
    "\n",
    "# And build patricia tries\n",
    "roa_lookup_v4 = RouteOriginAuthorizationLookup(rpki_roas_v4)\n",
    "roa_lookup_v6 = RouteOriginAuthorizationLookup(rpki_roas_v6)\n"
   ]
  },
  {
   "cell_type": "code",
   "execution_count": 17,
   "id": "0a20788a-d55c-4a79-bd9e-35e0962a47ea",
   "metadata": {},
   "outputs": [],
   "source": [
    "# calculate ROV status\n",
    "realistic_announcements_v4['rov'] = realistic_announcements_v4.apply(lambda x: rov_validity(x, roa_lookup_v4), axis=1)"
   ]
  },
  {
   "cell_type": "code",
   "execution_count": 19,
   "id": "6afd66e9-c3eb-467d-884d-b630798ee830",
   "metadata": {},
   "outputs": [],
   "source": [
    "def rov_status_for_prefix(df: pd.DataFrame) -> pd.DataFrame:\n",
    "    \"\"\"Calculate the 'best' ROV status for a prefix.\"\"\"\n",
    "    for status in [\"valid\", \"unknown\", \"invalid\"]:\n",
    "        cur = df[df.rov == status]\n",
    "        if len(cur) > 0:\n",
    "            return cur.head(1)\n",
    "    return pd.DataFrame()"
   ]
  },
  {
   "cell_type": "code",
   "execution_count": 18,
   "id": "e4f95e94-fcfe-4e0e-8ab9-2ad62b2bccca",
   "metadata": {},
   "outputs": [
    {
     "data": {
      "text/html": [
       "<div>\n",
       "<style scoped>\n",
       "    .dataframe tbody tr th:only-of-type {\n",
       "        vertical-align: middle;\n",
       "    }\n",
       "\n",
       "    .dataframe tbody tr th {\n",
       "        vertical-align: top;\n",
       "    }\n",
       "\n",
       "    .dataframe thead th {\n",
       "        text-align: right;\n",
       "    }\n",
       "</style>\n",
       "<table border=\"1\" class=\"dataframe\">\n",
       "  <thead>\n",
       "    <tr style=\"text-align: right;\">\n",
       "      <th></th>\n",
       "      <th>origin</th>\n",
       "      <th>prefix</th>\n",
       "      <th>seen_by_peers</th>\n",
       "      <th>prefix_length</th>\n",
       "      <th>rov</th>\n",
       "    </tr>\n",
       "  </thead>\n",
       "  <tbody>\n",
       "    <tr>\n",
       "      <th>64</th>\n",
       "      <td>13335</td>\n",
       "      <td>1.0.0.0/24</td>\n",
       "      <td>414.0</td>\n",
       "      <td>24</td>\n",
       "      <td>invalid</td>\n",
       "    </tr>\n",
       "    <tr>\n",
       "      <th>65</th>\n",
       "      <td>38803</td>\n",
       "      <td>1.0.4.0/22</td>\n",
       "      <td>416.0</td>\n",
       "      <td>22</td>\n",
       "      <td>invalid</td>\n",
       "    </tr>\n",
       "    <tr>\n",
       "      <th>66</th>\n",
       "      <td>38803</td>\n",
       "      <td>1.0.5.0/24</td>\n",
       "      <td>413.0</td>\n",
       "      <td>24</td>\n",
       "      <td>invalid</td>\n",
       "    </tr>\n",
       "    <tr>\n",
       "      <th>67</th>\n",
       "      <td>18144</td>\n",
       "      <td>1.0.64.0/18</td>\n",
       "      <td>376.0</td>\n",
       "      <td>18</td>\n",
       "      <td>unknown</td>\n",
       "    </tr>\n",
       "    <tr>\n",
       "      <th>68</th>\n",
       "      <td>23969</td>\n",
       "      <td>1.0.128.0/17</td>\n",
       "      <td>426.0</td>\n",
       "      <td>17</td>\n",
       "      <td>unknown</td>\n",
       "    </tr>\n",
       "    <tr>\n",
       "      <th>...</th>\n",
       "      <td>...</td>\n",
       "      <td>...</td>\n",
       "      <td>...</td>\n",
       "      <td>...</td>\n",
       "      <td>...</td>\n",
       "    </tr>\n",
       "    <tr>\n",
       "      <th>1051113</th>\n",
       "      <td>63199</td>\n",
       "      <td>223.255.250.0/24</td>\n",
       "      <td>366.0</td>\n",
       "      <td>24</td>\n",
       "      <td>unknown</td>\n",
       "    </tr>\n",
       "    <tr>\n",
       "      <th>1051114</th>\n",
       "      <td>63199</td>\n",
       "      <td>223.255.251.0/24</td>\n",
       "      <td>366.0</td>\n",
       "      <td>24</td>\n",
       "      <td>unknown</td>\n",
       "    </tr>\n",
       "    <tr>\n",
       "      <th>1051115</th>\n",
       "      <td>58519</td>\n",
       "      <td>223.255.252.0/24</td>\n",
       "      <td>364.0</td>\n",
       "      <td>24</td>\n",
       "      <td>invalid</td>\n",
       "    </tr>\n",
       "    <tr>\n",
       "      <th>1051116</th>\n",
       "      <td>58519</td>\n",
       "      <td>223.255.253.0/24</td>\n",
       "      <td>364.0</td>\n",
       "      <td>24</td>\n",
       "      <td>invalid</td>\n",
       "    </tr>\n",
       "    <tr>\n",
       "      <th>1051117</th>\n",
       "      <td>55415</td>\n",
       "      <td>223.255.254.0/24</td>\n",
       "      <td>420.0</td>\n",
       "      <td>24</td>\n",
       "      <td>unknown</td>\n",
       "    </tr>\n",
       "  </tbody>\n",
       "</table>\n",
       "<p>927374 rows × 5 columns</p>\n",
       "</div>"
      ],
      "text/plain": [
       "        origin            prefix  seen_by_peers  prefix_length      rov\n",
       "64       13335        1.0.0.0/24          414.0             24  invalid\n",
       "65       38803        1.0.4.0/22          416.0             22  invalid\n",
       "66       38803        1.0.5.0/24          413.0             24  invalid\n",
       "67       18144       1.0.64.0/18          376.0             18  unknown\n",
       "68       23969      1.0.128.0/17          426.0             17  unknown\n",
       "...        ...               ...            ...            ...      ...\n",
       "1051113  63199  223.255.250.0/24          366.0             24  unknown\n",
       "1051114  63199  223.255.251.0/24          366.0             24  unknown\n",
       "1051115  58519  223.255.252.0/24          364.0             24  invalid\n",
       "1051116  58519  223.255.253.0/24          364.0             24  invalid\n",
       "1051117  55415  223.255.254.0/24          420.0             24  unknown\n",
       "\n",
       "[927374 rows x 5 columns]"
      ]
     },
     "execution_count": 18,
     "metadata": {},
     "output_type": "execute_result"
    }
   ],
   "source": [
    "realistic_announcements_v4"
   ]
  },
  {
   "cell_type": "code",
   "execution_count": null,
   "id": "literary-exhibition",
   "metadata": {},
   "outputs": [],
   "source": [
    "announcements_rov_status = realistic_announcements_v4.groupby('prefix').apply(rov_status_for_prefix)"
   ]
  },
  {
   "cell_type": "code",
   "execution_count": null,
   "id": "owned-guest",
   "metadata": {},
   "outputs": [],
   "source": [
    "announcements_rov_status"
   ]
  },
  {
   "cell_type": "code",
   "execution_count": null,
   "id": "surprising-september",
   "metadata": {},
   "outputs": [],
   "source": []
  },
  {
   "cell_type": "code",
   "execution_count": null,
   "id": "sunset-laptop",
   "metadata": {},
   "outputs": [],
   "source": [
    "# seen_by_peers_count_by_roa_validity = ris_v4.groupby(['roa_validity', 'seen_by_peers'], as_index=False).agg({'prefix': 'count'})\n",
    "\n",
    "# rov_chart = alt.Chart(\n",
    "#     seen_by_peers_count_by_roa_validity).mark_bar()\\\n",
    "# .encode(\n",
    "#     alt.X(\"seen_by_peers:Q\", bin=False),\n",
    "#     alt.Color(\"roa_validity:N\"),\n",
    "#     y='prefix',\n",
    "# ).properties(\n",
    "#     title='Visibility versus ROV status',\n",
    "#     width=300,\n",
    "#     height=150,\n",
    "# ).facet(\n",
    "#     column='roa_validity',\n",
    "# ).resolve_scale(\n",
    "#     y='independent'\n",
    "# )\n",
    "\n",
    "# #rov_chart.save(\"ris_v4_rov_chart.png\")\n",
    "# display(rov_chart)"
   ]
  },
  {
   "cell_type": "code",
   "execution_count": null,
   "id": "6b902105-dfe7-4844-ac15-232608e0afed",
   "metadata": {},
   "outputs": [],
   "source": []
  }
 ],
 "metadata": {
  "kernelspec": {
   "display_name": "Python 3 (ipykernel)",
   "language": "python",
   "name": "python3"
  },
  "language_info": {
   "codemirror_mode": {
    "name": "ipython",
    "version": 3
   },
   "file_extension": ".py",
   "mimetype": "text/x-python",
   "name": "python",
   "nbconvert_exporter": "python",
   "pygments_lexer": "ipython3",
   "version": "3.9.13"
  }
 },
 "nbformat": 4,
 "nbformat_minor": 5
}
