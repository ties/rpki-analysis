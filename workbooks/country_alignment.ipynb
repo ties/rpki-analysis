{
 "cells": [
  {
   "cell_type": "code",
   "execution_count": 1,
   "id": "510a7628-cefc-4300-980e-498d827ff9d6",
   "metadata": {},
   "outputs": [],
   "source": [
    "import io\n",
    "\n",
    "import netaddr\n",
    "\n",
    "import pandas as pd\n",
    "\n",
    "import aiohttp\n",
    "\n",
    "from rpki_analysis.delegated_stats import read_delegated_extended_stats"
   ]
  },
  {
   "cell_type": "code",
   "execution_count": null,
   "id": "99bd7ea1-971f-4f66-b269-d2d139d0988d",
   "metadata": {},
   "outputs": [],
   "source": [
    "async with aiohttp.ClientSession() as session:\n",
    "    async with session.get('https://ftp.ripe.net/pub/stats/ripencc/nro-stats/latest/nro-delegated-stats') as resp:\n",
    "        df = read_delegated_extended_stats(io.StringIO(await resp.text()))\n"
   ]
  },
  {
   "cell_type": "code",
   "execution_count": null,
   "id": "789f7805-0aa4-4afc-a583-5ad82c447878",
   "metadata": {},
   "outputs": [],
   "source": [
    "list(df.sample(1).resource)[0]"
   ]
  },
  {
   "cell_type": "code",
   "execution_count": null,
   "id": "9dc9c342-003f-415b-9cd3-5ad591e66213",
   "metadata": {},
   "outputs": [],
   "source": [
    "# Calculate cover of VRPs\n",
    "def join_resources(df: pd.DataFrame) -> pd.DataFrame:\n",
    "    \"\"\"Join the resources of a group\"\"\"\n",
    "    return pd.DataFrame([{\n",
    "        \"resources\": netaddr.IPSet(df[df.afi != \"asn\"].resource),\n",
    "    }])\n"
   ]
  },
  {
   "cell_type": "code",
   "execution_count": null,
   "id": "f3b56e2d-1755-4faa-b1c3-a37aa7356ded",
   "metadata": {},
   "outputs": [],
   "source": [
    "df_resources = df.groupby(['opaque_id', 'country', 'afi', 'rir']).apply(join_resources)"
   ]
  },
  {
   "cell_type": "code",
   "execution_count": null,
   "id": "ca2ab5d0-2b4e-4262-93b9-6fac1686f43b",
   "metadata": {},
   "outputs": [],
   "source": [
    "df_resources['resource_size'] = df_resources.resources.map(lambda x: x.size)"
   ]
  },
  {
   "cell_type": "code",
   "execution_count": null,
   "id": "65b058f7-7b02-42a6-a4b3-3d407a91e2d1",
   "metadata": {},
   "outputs": [],
   "source": [
    "df_resources[['resource_size']].sample(1)\n"
   ]
  },
  {
   "cell_type": "code",
   "execution_count": null,
   "id": "c09e5367-03e0-4668-8981-1cf92a5b037b",
   "metadata": {},
   "outputs": [],
   "source": [
    "def majority_size(df: pd.DataFrame) -> float:\n",
    "    sizes = list(df.resource_size)\n",
    "    sizes.sort(reverse=True)\n",
    "    total_sizes = sum(sizes)\n",
    "    if total_sizes > 0:\n",
    "        return pd.DataFrame([{\"covered_fraction\": sizes[0]/sum(sizes), \"total_resources\": total_sizes }])\n",
    "    return pd.DataFrame([{\"covered_fraction\": 0, \"total_resources\": 0 }])\n",
    "    \n",
    "df_fraction_majority = df_resources[['resource_size']].reset_index().groupby(['opaque_id', 'afi', 'rir']).apply(majority_size)"
   ]
  },
  {
   "cell_type": "code",
   "execution_count": null,
   "id": "8b6db267-77d8-45ab-b41e-66a241ea46c0",
   "metadata": {},
   "outputs": [],
   "source": [
    "df_fraction_majority"
   ]
  },
  {
   "cell_type": "code",
   "execution_count": null,
   "id": "1c0060a6-d2b4-4b1f-853f-c3d2bebad8e5",
   "metadata": {},
   "outputs": [],
   "source": [
    "df_ip = df_fraction_majority.reset_index()[df_fraction_majority.reset_index().afi != \"asn\"]"
   ]
  },
  {
   "cell_type": "code",
   "execution_count": null,
   "id": "69877c64-aac6-45f4-b406-4f1d9ad56079",
   "metadata": {},
   "outputs": [],
   "source": [
    "df_ip[(df_ip.covered_fraction < 1.0) & (df_ip.rir == \"ripencc\")].sort_values([\"total_resources\"])"
   ]
  },
  {
   "cell_type": "code",
   "execution_count": null,
   "id": "50a16dd4-b777-4edc-84a5-8bede87cd05f",
   "metadata": {},
   "outputs": [],
   "source": [
    "df[df.opaque_id == \"b06b370c-da4c-429b-ba92-322c81c9662d\"].country.unique()"
   ]
  },
  {
   "cell_type": "markdown",
   "id": "d64d3774-140e-4043-b611-0cfb2f57c7f7",
   "metadata": {},
   "source": [
    "Check how much of the space in the country is by RIPE NCC"
   ]
  },
  {
   "cell_type": "code",
   "execution_count": null,
   "id": "32d20e05-8bbb-47f9-ba38-8a1acc4c0456",
   "metadata": {},
   "outputs": [],
   "source": [
    "def rir_fraction(df: pd.DataFrame, rir=\"ripencc\") -> float:\n",
    "    rir_total = sum(df[df.rir == rir].resource_size)\n",
    "    total = sum(df.resource_size)\n",
    "    \n",
    "    if total > 0:\n",
    "        return pd.DataFrame([{rir: rir_total/total, f\"{rir}_resources\": rir_total, \"total_resources\": total }])\n",
    "    return pd.DataFrame([{rir: 0, f\"{rir}_resources\": 0, \"total_resources\": 0 }])\n",
    "    \n",
    "df_fraction_majority = df_resources[['resource_size']] \\\n",
    "    .reset_index() \\\n",
    "    .groupby(['afi', 'country']) \\\n",
    "    .apply(rir_fraction) \\\n",
    "    .reset_index()"
   ]
  },
  {
   "cell_type": "code",
   "execution_count": null,
   "id": "fa48dea1-61f7-4a2a-8c8f-058acc77ded0",
   "metadata": {},
   "outputs": [],
   "source": [
    "df_fraction_majority[df_fraction_majority.afi != \"asn\"]"
   ]
  },
  {
   "cell_type": "code",
   "execution_count": null,
   "id": "68bd10c7-3449-4279-ba00-70cfbfbd9eae",
   "metadata": {},
   "outputs": [],
   "source": [
    "import os\n",
    "\n",
    "df_fraction_majority[df_fraction_majority.afi != \"asn\"].to_excel(os.path.expanduser(\"~/Desktop/fraction-non-ripe-ncc-by-afi-country.xlsx\")) "
   ]
  },
  {
   "cell_type": "code",
   "execution_count": null,
   "id": "00fa3a10-ee66-499c-be86-1e7aa29c9b12",
   "metadata": {},
   "outputs": [],
   "source": []
  }
 ],
 "metadata": {
  "kernelspec": {
   "display_name": "Python 3 (ipykernel)",
   "language": "python",
   "name": "python3"
  },
  "language_info": {
   "codemirror_mode": {
    "name": "ipython",
    "version": 3
   },
   "file_extension": ".py",
   "mimetype": "text/x-python",
   "name": "python",
   "nbconvert_exporter": "python",
   "pygments_lexer": "ipython3",
   "version": "3.12.1"
  }
 },
 "nbformat": 4,
 "nbformat_minor": 5
}
