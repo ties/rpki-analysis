{
 "cells": [
  {
   "cell_type": "code",
   "execution_count": 21,
   "id": "9b85e701-2702-4e54-bc0b-c11ee846d8f4",
   "metadata": {},
   "outputs": [],
   "source": [
    "import duckdb\n",
    "import os.path\n",
    "\n",
    "FLUTTER_PARQUET = os.path.expanduser(\"~/src/ripe/rpki/rpki-flutter/data/*.parquet\")"
   ]
  },
  {
   "cell_type": "code",
   "execution_count": 22,
   "id": "38a83429-91f5-42f2-818a-5124edb20e98",
   "metadata": {},
   "outputs": [],
   "source": [
    "tbl = duckdb.read_parquet(FLUTTER_PARQUET)"
   ]
  },
  {
   "cell_type": "code",
   "execution_count": 9,
   "id": "62f931ac-b28e-43fc-8abe-f0577c4c4569",
   "metadata": {},
   "outputs": [
    {
     "data": {
      "text/plain": [
       "<duckdb.duckdb.DuckDBPyConnection at 0x103dd02b0>"
      ]
     },
     "execution_count": 9,
     "metadata": {},
     "output_type": "execute_result"
    }
   ],
   "source": [
    "def prefix_first_to_bytes(inp: str) -> bytes:\n",
    "    range = netaddr.IPNetwork(inp)\n",
    "    buf = ipaddress.ip_address(range.first).packed\n",
    "    to_pad = len(buf) - (128//8)\n",
    "\n",
    "    return b'\\x00' * to_pad + buf\n",
    "\n",
    "def prefix_last_to_bytes(inp: str) -> bytes:\n",
    "    range = netaddr.IPNetwork(inp)\n",
    "    buf = ipaddress.ip_address(range.last).packed\n",
    "    to_pad = len(buf) - (128//8)\n",
    "\n",
    "    return b'\\x00' * to_pad + buf\n",
    "\n",
    "duckdb.create_function(\"prefix_first\", prefix_first_to_bytes)\n",
    "duckdb.create_function(\"prefix_last\", prefix_last_to_bytes)\n"
   ]
  },
  {
   "cell_type": "code",
   "execution_count": 23,
   "id": "7ceed740-378b-4f24-9e50-ed424239c683",
   "metadata": {},
   "outputs": [
    {
     "data": {
      "text/plain": [
       "┌───────────────────┐\n",
       "│ prefix_first(pfx) │\n",
       "│       blob        │\n",
       "├───────────────────┤\n",
       "│ \\x01\\x00\\x00\\x00  │\n",
       "│ \\x01\\x00\\x00\\x00  │\n",
       "│ \\x01\\x00\\x00\\x00  │\n",
       "│ \\x01\\x00\\x00\\x00  │\n",
       "│ \\x01\\x00\\x00\\x00  │\n",
       "│ \\x01\\x00\\x00\\x00  │\n",
       "│ \\x01\\x00\\x00\\x00  │\n",
       "│ \\x01\\x00\\x00\\x00  │\n",
       "│ \\x01\\x00\\x00\\x00  │\n",
       "│ \\x01\\x00\\x00\\x00  │\n",
       "│        ·          │\n",
       "│        ·          │\n",
       "│        ·          │\n",
       "│ \\x01\\x00\\x00\\x00  │\n",
       "│ \\x01\\x00\\x00\\x00  │\n",
       "│ \\x01\\x00\\x00\\x00  │\n",
       "│ \\x01\\x00\\x00\\x00  │\n",
       "│ \\x01\\x00\\x00\\x00  │\n",
       "│ \\x01\\x00\\x00\\x00  │\n",
       "│ \\x01\\x00\\x00\\x00  │\n",
       "│ \\x01\\x00\\x00\\x00  │\n",
       "│ \\x01\\x00\\x00\\x00  │\n",
       "│ \\x01\\x00\\x00\\x00  │\n",
       "├───────────────────┤\n",
       "│     124 rows      │\n",
       "│    (20 shown)     │\n",
       "└───────────────────┘"
      ]
     },
     "execution_count": 23,
     "metadata": {},
     "output_type": "execute_result"
    }
   ],
   "source": [
    "duckdb.query(\"select prefix_first(pfx) from (select * from '\" + FLUTTER_PARQUET + \"' where pfx = '1.0.0.0/24')\")"
   ]
  },
  {
   "cell_type": "code",
   "execution_count": null,
   "id": "fe711fe5-3e5a-42fd-bf9d-72afb8281fbb",
   "metadata": {},
   "outputs": [],
   "source": []
  }
 ],
 "metadata": {
  "kernelspec": {
   "display_name": "Python 3 (ipykernel)",
   "language": "python",
   "name": "python3"
  },
  "language_info": {
   "codemirror_mode": {
    "name": "ipython",
    "version": 3
   },
   "file_extension": ".py",
   "mimetype": "text/x-python",
   "name": "python",
   "nbconvert_exporter": "python",
   "pygments_lexer": "ipython3",
   "version": "3.12.7"
  }
 },
 "nbformat": 4,
 "nbformat_minor": 5
}
