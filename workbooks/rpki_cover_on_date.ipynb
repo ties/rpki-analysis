{
 "cells": [
  {
   "cell_type": "markdown",
   "id": "b8df9ecf-67e7-45cd-99cc-938b64ee3c83",
   "metadata": {
    "tags": []
   },
   "source": [
    "# RPKI statistics\n",
    "\n",
    "https://lirportal.ripe.net/certification/content/static/statistics/ripencc.tal.txt\n",
    "\n",
    "Also available from NRO adoption stats,\n",
    "https://ftp.ripe.net/pub/stats/ripencc/nro-adoption/2023/07/01/rir-adoption.txt"
   ]
  },
  {
   "cell_type": "code",
   "execution_count": 1,
   "id": "c360d658-2b52-4a3f-a0f8-3c76cc8b6315",
   "metadata": {
    "tags": []
   },
   "outputs": [],
   "source": [
    "import netaddr\n",
    "import requests\n",
    "import bz2\n",
    "\n",
    "from io import StringIO\n",
    "\n",
    "import pandas as pd"
   ]
  },
  {
   "cell_type": "code",
   "execution_count": 4,
   "id": "2a7c46d2-3eeb-41a5-8dfb-e72d2f62c3a0",
   "metadata": {
    "tags": []
   },
   "outputs": [
    {
     "name": "stderr",
     "output_type": "stream",
     "text": [
      "<>:14: SyntaxWarning: invalid escape sequence '\\.'\n",
      "<>:17: SyntaxWarning: invalid escape sequence '\\.'\n",
      "<>:14: SyntaxWarning: invalid escape sequence '\\.'\n",
      "<>:17: SyntaxWarning: invalid escape sequence '\\.'\n",
      "/var/folders/m4/qtvb8ff50ng0yw7xyt7t0n9c0000gp/T/ipykernel_38391/2961649739.py:14: SyntaxWarning: invalid escape sequence '\\.'\n",
      "  roa_space_v4 = netaddr.IPSet(prefixes[prefixes.str.contains(\"\\.\")])\n",
      "/var/folders/m4/qtvb8ff50ng0yw7xyt7t0n9c0000gp/T/ipykernel_38391/2961649739.py:17: SyntaxWarning: invalid escape sequence '\\.'\n",
      "  assert prefixes[prefixes.str.contains(\":\")].size + prefixes[prefixes.str.contains(\"\\.\")].size == prefixes.size\n"
     ]
    }
   ],
   "source": [
    "def ipv4_prefix_from_row(row: pd.DataFrame) -> netaddr.IPRange:\n",
    "    start = netaddr.IPAddress(row.prefix)\n",
    "    return netaddr.IPRange(start, start + row.prefix_size)\n",
    "\n",
    "def ipv6_prefix_from_row(row: pd.DataFrame) -> netaddr.IPNetwork:\n",
    "    return f\"{row.prefix}/{row.prefix_size}\"\n",
    "\n",
    "\n",
    "def rpki_cover_stats(date_str: str, roas_csv_url: str, delegated_stats_url: str):\n",
    "    df_roas = pd.read_csv(roas_csv_url)\n",
    "\n",
    "    prefixes = df_roas['IP Prefix']\n",
    "\n",
    "    roa_space_v4 = netaddr.IPSet(prefixes[prefixes.str.contains(\"\\.\")])\n",
    "    roa_space_v6 = netaddr.IPSet(prefixes[prefixes.str.contains(\":\")])\n",
    "\n",
    "    assert prefixes[prefixes.str.contains(\":\")].size + prefixes[prefixes.str.contains(\"\\.\")].size == prefixes.size\n",
    "\n",
    "    raw_delegated_extended = requests.get(delegated_stats_url).content\n",
    "    raw_delegated_extended = StringIO(bz2.decompress(raw_delegated_extended).decode('ascii'))\n",
    "\n",
    "    raw_delegated_extended.seek(0)\n",
    "    df_delegated_extended = pd.read_csv(\n",
    "        raw_delegated_extended,\n",
    "        sep=\"|\",\n",
    "        skiprows=4,\n",
    "        names=['rir', 'country', 'afi', 'prefix', 'prefix_size', 'date', 'status', 'uuid'],\n",
    "        dtype={'rir': 'category', 'country': 'category',  'afi': 'category', 'prefix': str, 'size': int, 'date': str, 'status': 'category', 'uuid': str})\n",
    "\n",
    "    df_delegated_extended.date = pd.to_datetime(df_delegated_extended.date, format='%Y%m%d')\n",
    "    df_ripe_member_space = df_delegated_extended[(df_delegated_extended.status != 'available') & (df_delegated_extended.status != 'reserved')]\n",
    "\n",
    "\n",
    "    df_ripe_member_space = df_delegated_extended[(df_delegated_extended.status != 'available') & (df_delegated_extended.status != 'reserved')]\n",
    "\n",
    "\n",
    "    ipv4 = df_ripe_member_space[df_ripe_member_space.afi == 'ipv4'].apply(ipv4_prefix_from_row, axis=1, result_type='reduce')\n",
    "    ipv6 = [netaddr.IPNetwork(p) for p in df_ripe_member_space[df_ripe_member_space.afi == 'ipv6'].apply(ipv6_prefix_from_row, axis=1)]\n",
    "\n",
    "    ripe_space_v4 = netaddr.IPSet(ipv4)\n",
    "    ripe_space_v6 = netaddr.IPSet(ipv6)\n",
    "    \n",
    "    print(date_str)\n",
    "    print(\"ipv4 covered: {:.2%}\".format((ripe_space_v4 & roa_space_v4).size/ripe_space_v4.size))\n",
    "    print(\"ipv6 covered: {:.2%}\".format((ripe_space_v6 & roa_space_v6).size/ripe_space_v6.size))\n",
    "    \n",
    "    return df_ripe_member_space"
   ]
  },
  {
   "cell_type": "code",
   "execution_count": null,
   "id": "005f83c7-ac9a-4510-8230-e87cc11b6342",
   "metadata": {
    "tags": []
   },
   "outputs": [],
   "source": []
  },
  {
   "cell_type": "code",
   "execution_count": null,
   "id": "f71e39d4-5e4e-4158-a0e6-637330e78dc3",
   "metadata": {
    "tags": []
   },
   "outputs": [],
   "source": []
  },
  {
   "cell_type": "code",
   "execution_count": 5,
   "id": "2887f613-9a1a-4ba8-8b45-dee70777c4f7",
   "metadata": {
    "tags": []
   },
   "outputs": [
    {
     "name": "stdout",
     "output_type": "stream",
     "text": [
      "2023-07-01\n",
      "ipv4 covered: 62.44%\n",
      "ipv6 covered: 37.19%\n"
     ]
    },
    {
     "data": {
      "text/html": [
       "<div>\n",
       "<style scoped>\n",
       "    .dataframe tbody tr th:only-of-type {\n",
       "        vertical-align: middle;\n",
       "    }\n",
       "\n",
       "    .dataframe tbody tr th {\n",
       "        vertical-align: top;\n",
       "    }\n",
       "\n",
       "    .dataframe thead th {\n",
       "        text-align: right;\n",
       "    }\n",
       "</style>\n",
       "<table border=\"1\" class=\"dataframe\">\n",
       "  <thead>\n",
       "    <tr style=\"text-align: right;\">\n",
       "      <th></th>\n",
       "      <th>rir</th>\n",
       "      <th>country</th>\n",
       "      <th>afi</th>\n",
       "      <th>prefix</th>\n",
       "      <th>prefix_size</th>\n",
       "      <th>date</th>\n",
       "      <th>status</th>\n",
       "      <th>uuid</th>\n",
       "    </tr>\n",
       "  </thead>\n",
       "  <tbody>\n",
       "    <tr>\n",
       "      <th>0</th>\n",
       "      <td>ripencc</td>\n",
       "      <td>PS</td>\n",
       "      <td>ipv4</td>\n",
       "      <td>1.178.112.0</td>\n",
       "      <td>4096</td>\n",
       "      <td>2007-11-26</td>\n",
       "      <td>allocated</td>\n",
       "      <td>08a0e97a-1d16-423d-9ed2-95c80e18d882</td>\n",
       "    </tr>\n",
       "    <tr>\n",
       "      <th>1</th>\n",
       "      <td>ripencc</td>\n",
       "      <td>PS</td>\n",
       "      <td>ipv4</td>\n",
       "      <td>1.178.128.0</td>\n",
       "      <td>4096</td>\n",
       "      <td>2007-11-26</td>\n",
       "      <td>allocated</td>\n",
       "      <td>08a0e97a-1d16-423d-9ed2-95c80e18d882</td>\n",
       "    </tr>\n",
       "    <tr>\n",
       "      <th>2</th>\n",
       "      <td>ripencc</td>\n",
       "      <td>PS</td>\n",
       "      <td>ipv4</td>\n",
       "      <td>1.178.208.0</td>\n",
       "      <td>4096</td>\n",
       "      <td>2010-06-25</td>\n",
       "      <td>allocated</td>\n",
       "      <td>08a0e97a-1d16-423d-9ed2-95c80e18d882</td>\n",
       "    </tr>\n",
       "    <tr>\n",
       "      <th>3</th>\n",
       "      <td>ripencc</td>\n",
       "      <td>ES</td>\n",
       "      <td>ipv4</td>\n",
       "      <td>1.178.224.0</td>\n",
       "      <td>8192</td>\n",
       "      <td>2010-06-25</td>\n",
       "      <td>allocated</td>\n",
       "      <td>7bdefdac-8071-46bf-9b36-e39850aca684</td>\n",
       "    </tr>\n",
       "    <tr>\n",
       "      <th>4</th>\n",
       "      <td>ripencc</td>\n",
       "      <td>PS</td>\n",
       "      <td>ipv4</td>\n",
       "      <td>1.179.40.0</td>\n",
       "      <td>2048</td>\n",
       "      <td>2009-05-18</td>\n",
       "      <td>allocated</td>\n",
       "      <td>08a0e97a-1d16-423d-9ed2-95c80e18d882</td>\n",
       "    </tr>\n",
       "    <tr>\n",
       "      <th>...</th>\n",
       "      <td>...</td>\n",
       "      <td>...</td>\n",
       "      <td>...</td>\n",
       "      <td>...</td>\n",
       "      <td>...</td>\n",
       "      <td>...</td>\n",
       "      <td>...</td>\n",
       "      <td>...</td>\n",
       "    </tr>\n",
       "    <tr>\n",
       "      <th>160161</th>\n",
       "      <td>ripencc</td>\n",
       "      <td>AM</td>\n",
       "      <td>ipv6</td>\n",
       "      <td>2001:7f9:8::</td>\n",
       "      <td>48</td>\n",
       "      <td>2016-06-30</td>\n",
       "      <td>assigned</td>\n",
       "      <td>37e73a9f-bdfc-42f4-bec0-71f89d498241</td>\n",
       "    </tr>\n",
       "    <tr>\n",
       "      <th>160162</th>\n",
       "      <td>ripencc</td>\n",
       "      <td>PL</td>\n",
       "      <td>ipv6</td>\n",
       "      <td>2001:7f9:c::</td>\n",
       "      <td>48</td>\n",
       "      <td>2017-01-31</td>\n",
       "      <td>assigned</td>\n",
       "      <td>e95fa156-2556-49c3-a9e6-f1cd669e776e</td>\n",
       "    </tr>\n",
       "    <tr>\n",
       "      <th>160163</th>\n",
       "      <td>ripencc</td>\n",
       "      <td>NL</td>\n",
       "      <td>ipv6</td>\n",
       "      <td>2001:7fb::</td>\n",
       "      <td>32</td>\n",
       "      <td>2007-06-05</td>\n",
       "      <td>assigned</td>\n",
       "      <td>db3b7f71-2600-4112-84bc-5ba6f642e97a</td>\n",
       "    </tr>\n",
       "    <tr>\n",
       "      <th>160164</th>\n",
       "      <td>ripencc</td>\n",
       "      <td>NL</td>\n",
       "      <td>ipv6</td>\n",
       "      <td>2001:7fd::</td>\n",
       "      <td>32</td>\n",
       "      <td>2003-08-29</td>\n",
       "      <td>assigned</td>\n",
       "      <td>db3b7f71-2600-4112-84bc-5ba6f642e97a</td>\n",
       "    </tr>\n",
       "    <tr>\n",
       "      <th>160165</th>\n",
       "      <td>ripencc</td>\n",
       "      <td>SE</td>\n",
       "      <td>ipv6</td>\n",
       "      <td>2001:7fe::</td>\n",
       "      <td>32</td>\n",
       "      <td>2003-09-16</td>\n",
       "      <td>assigned</td>\n",
       "      <td>78813869-9f48-4b5d-8922-328901fa25d4</td>\n",
       "    </tr>\n",
       "  </tbody>\n",
       "</table>\n",
       "<p>156060 rows × 8 columns</p>\n",
       "</div>"
      ],
      "text/plain": [
       "            rir country   afi        prefix  prefix_size       date  \\\n",
       "0       ripencc      PS  ipv4   1.178.112.0         4096 2007-11-26   \n",
       "1       ripencc      PS  ipv4   1.178.128.0         4096 2007-11-26   \n",
       "2       ripencc      PS  ipv4   1.178.208.0         4096 2010-06-25   \n",
       "3       ripencc      ES  ipv4   1.178.224.0         8192 2010-06-25   \n",
       "4       ripencc      PS  ipv4    1.179.40.0         2048 2009-05-18   \n",
       "...         ...     ...   ...           ...          ...        ...   \n",
       "160161  ripencc      AM  ipv6  2001:7f9:8::           48 2016-06-30   \n",
       "160162  ripencc      PL  ipv6  2001:7f9:c::           48 2017-01-31   \n",
       "160163  ripencc      NL  ipv6    2001:7fb::           32 2007-06-05   \n",
       "160164  ripencc      NL  ipv6    2001:7fd::           32 2003-08-29   \n",
       "160165  ripencc      SE  ipv6    2001:7fe::           32 2003-09-16   \n",
       "\n",
       "           status                                  uuid  \n",
       "0       allocated  08a0e97a-1d16-423d-9ed2-95c80e18d882  \n",
       "1       allocated  08a0e97a-1d16-423d-9ed2-95c80e18d882  \n",
       "2       allocated  08a0e97a-1d16-423d-9ed2-95c80e18d882  \n",
       "3       allocated  7bdefdac-8071-46bf-9b36-e39850aca684  \n",
       "4       allocated  08a0e97a-1d16-423d-9ed2-95c80e18d882  \n",
       "...           ...                                   ...  \n",
       "160161   assigned  37e73a9f-bdfc-42f4-bec0-71f89d498241  \n",
       "160162   assigned  e95fa156-2556-49c3-a9e6-f1cd669e776e  \n",
       "160163   assigned  db3b7f71-2600-4112-84bc-5ba6f642e97a  \n",
       "160164   assigned  db3b7f71-2600-4112-84bc-5ba6f642e97a  \n",
       "160165   assigned  78813869-9f48-4b5d-8922-328901fa25d4  \n",
       "\n",
       "[156060 rows x 8 columns]"
      ]
     },
     "execution_count": 5,
     "metadata": {},
     "output_type": "execute_result"
    }
   ],
   "source": [
    "rpki_cover_stats(\n",
    "    \"2023-07-01\",\n",
    "        \"https://ftp.ripe.net/rpki/ripencc.tal/2023/07/01/roas.csv.xz\",\n",
    "    \"https://ftp.ripe.net/pub/stats/ripencc/2023/delegated-ripencc-extended-20230701.bz2\"\n",
    ")"
   ]
  },
  {
   "cell_type": "code",
   "execution_count": null,
   "id": "782d94dd-4a39-4f60-b611-1febfbd4cea0",
   "metadata": {},
   "outputs": [],
   "source": [
    "rpki_cover_stats(\n",
    "    \"2022-07-01\",\n",
    "    \"https://ftp.ripe.net/rpki/ripencc.tal/2022/07/01/roas.csv.xz\",\n",
    "    \"https://ftp.ripe.net/pub/stats/ripencc/2022/delegated-ripencc-extended-20220701.bz2\"\n",
    ")"
   ]
  },
  {
   "cell_type": "code",
   "execution_count": null,
   "id": "b67732f0-556a-4ed9-a5b4-d3bb21b82f52",
   "metadata": {
    "tags": []
   },
   "outputs": [],
   "source": [
    "rpki_cover_stats(\n",
    "    \"2021-07-01\",\n",
    "    \"https://ftp.ripe.net/rpki/ripencc.tal/2021/07/01/roas.csv.xz\",\n",
    "    \"https://ftp.ripe.net/pub/stats/ripencc/2021/delegated-ripencc-extended-20210701.bz2\"\n",
    ")"
   ]
  },
  {
   "cell_type": "code",
   "execution_count": null,
   "id": "b87878d4-09eb-4c86-8a60-3776e4df4fc2",
   "metadata": {
    "tags": []
   },
   "outputs": [],
   "source": [
    "rpki_cover_stats(\n",
    "    \"2020-07-01\",\n",
    "    \"https://ftp.ripe.net/rpki/ripencc.tal/2020/07/01/roas.csv.xz\",\n",
    "    \"https://ftp.ripe.net/pub/stats/ripencc/2020/delegated-ripencc-extended-20200701.bz2\"\n",
    ")"
   ]
  },
  {
   "cell_type": "code",
   "execution_count": null,
   "id": "9372c167-91be-4de5-adec-9e1bb97d009f",
   "metadata": {
    "tags": []
   },
   "outputs": [],
   "source": []
  },
  {
   "cell_type": "code",
   "execution_count": null,
   "id": "95dc94c7-a4a1-4462-aa6c-e6b5086f60fe",
   "metadata": {
    "tags": []
   },
   "outputs": [],
   "source": [
    "df_ripe_member_space = rpki_cover_stats(\n",
    "    \"2023-07-01\",\n",
    "        \"https://ftp.ripe.net/rpki/ripencc.tal/2023/07/01/roas.csv.xz\",\n",
    "    \"https://ftp.ripe.net/pub/stats/ripencc/2023/delegated-ripencc-extended-20230701.bz2\"\n",
    ")"
   ]
  },
  {
   "cell_type": "code",
   "execution_count": null,
   "id": "da48e425-643b-4ad3-9595-f168f838ec69",
   "metadata": {
    "tags": []
   },
   "outputs": [],
   "source": [
    "df_ripe_member_space"
   ]
  },
  {
   "cell_type": "code",
   "execution_count": null,
   "id": "5f0c5d59-7ce5-4468-bc23-05db0bc62762",
   "metadata": {},
   "outputs": [],
   "source": []
  }
 ],
 "metadata": {
  "kernelspec": {
   "display_name": "Python 3 (ipykernel)",
   "language": "python",
   "name": "python3"
  },
  "language_info": {
   "codemirror_mode": {
    "name": "ipython",
    "version": 3
   },
   "file_extension": ".py",
   "mimetype": "text/x-python",
   "name": "python",
   "nbconvert_exporter": "python",
   "pygments_lexer": "ipython3",
   "version": "3.13.0"
  }
 },
 "nbformat": 4,
 "nbformat_minor": 5
}
