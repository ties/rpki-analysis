{
 "cells": [
  {
   "cell_type": "code",
   "execution_count": 1,
   "id": "4c23b288-ec44-408e-b6f9-63f98338e4f2",
   "metadata": {},
   "outputs": [],
   "source": [
    "import io\n",
    "\n",
    "import netaddr\n",
    "import itertools\n",
    "\n",
    "from typing import Set\n",
    "\n",
    "import pandas as pd\n",
    "\n",
    "import aiohttp\n",
    "\n",
    "from rpki_analysis.delegated_stats import read_delegated_extended_stats\n",
    "from rpki_analysis.riswhois import read_ris_dump, RisWhoisLookupMoreLessSpecific, ExpandedRisEntry"
   ]
  },
  {
   "cell_type": "code",
   "execution_count": 2,
   "id": "bc3aa278-2945-4791-93e9-7d652872b8cb",
   "metadata": {},
   "outputs": [
    {
     "name": "stderr",
     "output_type": "stream",
     "text": [
      "RIS dump contains row(s) with AS_SET! These will never be RPKI valid (https://tools.ietf.org/html/rfc6907#section-7.1.8)\n"
     ]
    }
   ],
   "source": [
    "async with aiohttp.ClientSession() as session:\n",
    "    async with session.get('https://ftp.ripe.net/pub/stats/ripencc/nro-stats/latest/nro-delegated-stats') as resp:\n",
    "        df_extended = read_delegated_extended_stats(io.StringIO(await resp.text()))\n",
    "\n",
    "    df_riswhois = read_ris_dump('https://www.ris.ripe.net/dumps/riswhoisdump.IPv4.gz')\n",
    "        "
   ]
  },
  {
   "cell_type": "code",
   "execution_count": 3,
   "id": "ac9f4e44-5e2d-47a0-99d4-dfd4d32efe7f",
   "metadata": {},
   "outputs": [
    {
     "data": {
      "text/html": [
       "<div>\n",
       "<style scoped>\n",
       "    .dataframe tbody tr th:only-of-type {\n",
       "        vertical-align: middle;\n",
       "    }\n",
       "\n",
       "    .dataframe tbody tr th {\n",
       "        vertical-align: top;\n",
       "    }\n",
       "\n",
       "    .dataframe thead th {\n",
       "        text-align: right;\n",
       "    }\n",
       "</style>\n",
       "<table border=\"1\" class=\"dataframe\">\n",
       "  <thead>\n",
       "    <tr style=\"text-align: right;\">\n",
       "      <th></th>\n",
       "      <th>origin</th>\n",
       "      <th>prefix</th>\n",
       "      <th>seen_by_peers</th>\n",
       "      <th>prefix_length</th>\n",
       "    </tr>\n",
       "  </thead>\n",
       "  <tbody>\n",
       "    <tr>\n",
       "      <th>16</th>\n",
       "      <td>216425</td>\n",
       "      <td>0.0.0.0/0</td>\n",
       "      <td>1.0</td>\n",
       "      <td>0</td>\n",
       "    </tr>\n",
       "    <tr>\n",
       "      <th>17</th>\n",
       "      <td>50628</td>\n",
       "      <td>0.0.0.0/0</td>\n",
       "      <td>1.0</td>\n",
       "      <td>0</td>\n",
       "    </tr>\n",
       "    <tr>\n",
       "      <th>18</th>\n",
       "      <td>34927</td>\n",
       "      <td>0.0.0.0/0</td>\n",
       "      <td>2.0</td>\n",
       "      <td>0</td>\n",
       "    </tr>\n",
       "    <tr>\n",
       "      <th>19</th>\n",
       "      <td>35708</td>\n",
       "      <td>0.0.0.0/0</td>\n",
       "      <td>1.0</td>\n",
       "      <td>0</td>\n",
       "    </tr>\n",
       "    <tr>\n",
       "      <th>20</th>\n",
       "      <td>56755</td>\n",
       "      <td>0.0.0.0/0</td>\n",
       "      <td>1.0</td>\n",
       "      <td>0</td>\n",
       "    </tr>\n",
       "    <tr>\n",
       "      <th>...</th>\n",
       "      <td>...</td>\n",
       "      <td>...</td>\n",
       "      <td>...</td>\n",
       "      <td>...</td>\n",
       "    </tr>\n",
       "    <tr>\n",
       "      <th>1171506</th>\n",
       "      <td>63199</td>\n",
       "      <td>223.255.250.0/24</td>\n",
       "      <td>360.0</td>\n",
       "      <td>24</td>\n",
       "    </tr>\n",
       "    <tr>\n",
       "      <th>1171507</th>\n",
       "      <td>63199</td>\n",
       "      <td>223.255.251.0/24</td>\n",
       "      <td>360.0</td>\n",
       "      <td>24</td>\n",
       "    </tr>\n",
       "    <tr>\n",
       "      <th>1171508</th>\n",
       "      <td>58519</td>\n",
       "      <td>223.255.252.0/24</td>\n",
       "      <td>358.0</td>\n",
       "      <td>24</td>\n",
       "    </tr>\n",
       "    <tr>\n",
       "      <th>1171509</th>\n",
       "      <td>58519</td>\n",
       "      <td>223.255.253.0/24</td>\n",
       "      <td>358.0</td>\n",
       "      <td>24</td>\n",
       "    </tr>\n",
       "    <tr>\n",
       "      <th>1171510</th>\n",
       "      <td>55415</td>\n",
       "      <td>223.255.254.0/24</td>\n",
       "      <td>373.0</td>\n",
       "      <td>24</td>\n",
       "    </tr>\n",
       "  </tbody>\n",
       "</table>\n",
       "<p>1171495 rows × 4 columns</p>\n",
       "</div>"
      ],
      "text/plain": [
       "         origin            prefix  seen_by_peers  prefix_length\n",
       "16       216425         0.0.0.0/0            1.0              0\n",
       "17        50628         0.0.0.0/0            1.0              0\n",
       "18        34927         0.0.0.0/0            2.0              0\n",
       "19        35708         0.0.0.0/0            1.0              0\n",
       "20        56755         0.0.0.0/0            1.0              0\n",
       "...         ...               ...            ...            ...\n",
       "1171506   63199  223.255.250.0/24          360.0             24\n",
       "1171507   63199  223.255.251.0/24          360.0             24\n",
       "1171508   58519  223.255.252.0/24          358.0             24\n",
       "1171509   58519  223.255.253.0/24          358.0             24\n",
       "1171510   55415  223.255.254.0/24          373.0             24\n",
       "\n",
       "[1171495 rows x 4 columns]"
      ]
     },
     "execution_count": 3,
     "metadata": {},
     "output_type": "execute_result"
    }
   ],
   "source": [
    "df_riswhois"
   ]
  },
  {
   "cell_type": "code",
   "execution_count": 4,
   "id": "f526c4f3-392d-48ca-bac1-0a7afa7623c9",
   "metadata": {},
   "outputs": [
    {
     "data": {
      "text/plain": [
       "Index(['rir', 'country', 'afi', 'raw_resource', 'length', 'date', 'status',\n",
       "       'opaque_id', 'category', 'resource'],\n",
       "      dtype='object')"
      ]
     },
     "execution_count": 4,
     "metadata": {},
     "output_type": "execute_result"
    }
   ],
   "source": [
    "df_extended.keys()"
   ]
  },
  {
   "cell_type": "code",
   "execution_count": 5,
   "id": "907d061f-9872-43d5-9671-0a52d0a6c82d",
   "metadata": {},
   "outputs": [
    {
     "data": {
      "text/html": [
       "<div>\n",
       "<style scoped>\n",
       "    .dataframe tbody tr th:only-of-type {\n",
       "        vertical-align: middle;\n",
       "    }\n",
       "\n",
       "    .dataframe tbody tr th {\n",
       "        vertical-align: top;\n",
       "    }\n",
       "\n",
       "    .dataframe thead th {\n",
       "        text-align: right;\n",
       "    }\n",
       "</style>\n",
       "<table border=\"1\" class=\"dataframe\">\n",
       "  <thead>\n",
       "    <tr style=\"text-align: right;\">\n",
       "      <th></th>\n",
       "      <th>country</th>\n",
       "      <th>raw_resource</th>\n",
       "      <th>date</th>\n",
       "      <th>status</th>\n",
       "    </tr>\n",
       "  </thead>\n",
       "  <tbody>\n",
       "    <tr>\n",
       "      <th>109354</th>\n",
       "      <td>PS</td>\n",
       "      <td>1.178.112.0</td>\n",
       "      <td>2007-11-26 00:00:00+00:00</td>\n",
       "      <td>assigned</td>\n",
       "    </tr>\n",
       "    <tr>\n",
       "      <th>109355</th>\n",
       "      <td>PS</td>\n",
       "      <td>1.178.128.0</td>\n",
       "      <td>2007-11-26 00:00:00+00:00</td>\n",
       "      <td>assigned</td>\n",
       "    </tr>\n",
       "    <tr>\n",
       "      <th>109359</th>\n",
       "      <td>PS</td>\n",
       "      <td>1.178.208.0</td>\n",
       "      <td>2010-06-25 00:00:00+00:00</td>\n",
       "      <td>assigned</td>\n",
       "    </tr>\n",
       "    <tr>\n",
       "      <th>109360</th>\n",
       "      <td>ES</td>\n",
       "      <td>1.178.224.0</td>\n",
       "      <td>2010-06-25 00:00:00+00:00</td>\n",
       "      <td>assigned</td>\n",
       "    </tr>\n",
       "    <tr>\n",
       "      <th>109363</th>\n",
       "      <td>PS</td>\n",
       "      <td>1.179.40.0</td>\n",
       "      <td>2009-05-18 00:00:00+00:00</td>\n",
       "      <td>assigned</td>\n",
       "    </tr>\n",
       "    <tr>\n",
       "      <th>...</th>\n",
       "      <td>...</td>\n",
       "      <td>...</td>\n",
       "      <td>...</td>\n",
       "      <td>...</td>\n",
       "    </tr>\n",
       "    <tr>\n",
       "      <th>719037</th>\n",
       "      <td>ZZ</td>\n",
       "      <td>2a14:fd00::</td>\n",
       "      <td>2024-12-22 00:00:00+00:00</td>\n",
       "      <td>available</td>\n",
       "    </tr>\n",
       "    <tr>\n",
       "      <th>719038</th>\n",
       "      <td>ZZ</td>\n",
       "      <td>2a14:fe00::</td>\n",
       "      <td>2024-12-22 00:00:00+00:00</td>\n",
       "      <td>available</td>\n",
       "    </tr>\n",
       "    <tr>\n",
       "      <th>719039</th>\n",
       "      <td>ZZ</td>\n",
       "      <td>2a15::</td>\n",
       "      <td>2024-12-22 00:00:00+00:00</td>\n",
       "      <td>available</td>\n",
       "    </tr>\n",
       "    <tr>\n",
       "      <th>719040</th>\n",
       "      <td>ZZ</td>\n",
       "      <td>2a16::</td>\n",
       "      <td>2024-12-22 00:00:00+00:00</td>\n",
       "      <td>available</td>\n",
       "    </tr>\n",
       "    <tr>\n",
       "      <th>719041</th>\n",
       "      <td>ZZ</td>\n",
       "      <td>2a18::</td>\n",
       "      <td>2024-12-22 00:00:00+00:00</td>\n",
       "      <td>available</td>\n",
       "    </tr>\n",
       "  </tbody>\n",
       "</table>\n",
       "<p>205690 rows × 4 columns</p>\n",
       "</div>"
      ],
      "text/plain": [
       "       country raw_resource                      date     status\n",
       "109354      PS  1.178.112.0 2007-11-26 00:00:00+00:00   assigned\n",
       "109355      PS  1.178.128.0 2007-11-26 00:00:00+00:00   assigned\n",
       "109359      PS  1.178.208.0 2010-06-25 00:00:00+00:00   assigned\n",
       "109360      ES  1.178.224.0 2010-06-25 00:00:00+00:00   assigned\n",
       "109363      PS   1.179.40.0 2009-05-18 00:00:00+00:00   assigned\n",
       "...        ...          ...                       ...        ...\n",
       "719037      ZZ  2a14:fd00:: 2024-12-22 00:00:00+00:00  available\n",
       "719038      ZZ  2a14:fe00:: 2024-12-22 00:00:00+00:00  available\n",
       "719039      ZZ       2a15:: 2024-12-22 00:00:00+00:00  available\n",
       "719040      ZZ       2a16:: 2024-12-22 00:00:00+00:00  available\n",
       "719041      ZZ       2a18:: 2024-12-22 00:00:00+00:00  available\n",
       "\n",
       "[205690 rows x 4 columns]"
      ]
     },
     "execution_count": 5,
     "metadata": {},
     "output_type": "execute_result"
    }
   ],
   "source": [
    "df_extended.loc[(df_extended.rir == 'ripencc') & (df_extended.afi != 'asn'), ['country', 'raw_resource', 'date', 'status']]"
   ]
  },
  {
   "cell_type": "code",
   "execution_count": 6,
   "id": "79afe1b3-c745-414e-a575-7cab7ddffc7e",
   "metadata": {},
   "outputs": [
    {
     "data": {
      "text/plain": [
       "(615598, 10)"
      ]
     },
     "execution_count": 6,
     "metadata": {},
     "output_type": "execute_result"
    }
   ],
   "source": [
    "df_extended.loc[(df_extended.afi != 'asn')].shape"
   ]
  },
  {
   "cell_type": "code",
   "execution_count": 7,
   "id": "11f4ae76-ef07-4e33-957b-1b3848974f91",
   "metadata": {},
   "outputs": [
    {
     "data": {
      "text/html": [
       "<div>\n",
       "<style scoped>\n",
       "    .dataframe tbody tr th:only-of-type {\n",
       "        vertical-align: middle;\n",
       "    }\n",
       "\n",
       "    .dataframe tbody tr th {\n",
       "        vertical-align: top;\n",
       "    }\n",
       "\n",
       "    .dataframe thead th {\n",
       "        text-align: right;\n",
       "    }\n",
       "</style>\n",
       "<table border=\"1\" class=\"dataframe\">\n",
       "  <thead>\n",
       "    <tr style=\"text-align: right;\">\n",
       "      <th></th>\n",
       "      <th>country</th>\n",
       "      <th>raw_resource</th>\n",
       "      <th>date</th>\n",
       "      <th>status</th>\n",
       "    </tr>\n",
       "  </thead>\n",
       "  <tbody>\n",
       "    <tr>\n",
       "      <th>109354</th>\n",
       "      <td>PS</td>\n",
       "      <td>1.178.112.0</td>\n",
       "      <td>2007-11-26 00:00:00+00:00</td>\n",
       "      <td>assigned</td>\n",
       "    </tr>\n",
       "    <tr>\n",
       "      <th>109355</th>\n",
       "      <td>PS</td>\n",
       "      <td>1.178.128.0</td>\n",
       "      <td>2007-11-26 00:00:00+00:00</td>\n",
       "      <td>assigned</td>\n",
       "    </tr>\n",
       "    <tr>\n",
       "      <th>109359</th>\n",
       "      <td>PS</td>\n",
       "      <td>1.178.208.0</td>\n",
       "      <td>2010-06-25 00:00:00+00:00</td>\n",
       "      <td>assigned</td>\n",
       "    </tr>\n",
       "    <tr>\n",
       "      <th>109360</th>\n",
       "      <td>ES</td>\n",
       "      <td>1.178.224.0</td>\n",
       "      <td>2010-06-25 00:00:00+00:00</td>\n",
       "      <td>assigned</td>\n",
       "    </tr>\n",
       "    <tr>\n",
       "      <th>109363</th>\n",
       "      <td>PS</td>\n",
       "      <td>1.179.40.0</td>\n",
       "      <td>2009-05-18 00:00:00+00:00</td>\n",
       "      <td>assigned</td>\n",
       "    </tr>\n",
       "    <tr>\n",
       "      <th>...</th>\n",
       "      <td>...</td>\n",
       "      <td>...</td>\n",
       "      <td>...</td>\n",
       "      <td>...</td>\n",
       "    </tr>\n",
       "    <tr>\n",
       "      <th>360912</th>\n",
       "      <td>DE</td>\n",
       "      <td>217.224.0.0</td>\n",
       "      <td>2001-04-04 00:00:00+00:00</td>\n",
       "      <td>assigned</td>\n",
       "    </tr>\n",
       "    <tr>\n",
       "      <th>361391</th>\n",
       "      <td>NL</td>\n",
       "      <td>220.158.196.0</td>\n",
       "      <td>2015-10-07 00:00:00+00:00</td>\n",
       "      <td>assigned</td>\n",
       "    </tr>\n",
       "    <tr>\n",
       "      <th>361794</th>\n",
       "      <td>IQ</td>\n",
       "      <td>223.25.120.0</td>\n",
       "      <td>2011-04-11 00:00:00+00:00</td>\n",
       "      <td>assigned</td>\n",
       "    </tr>\n",
       "    <tr>\n",
       "      <th>361820</th>\n",
       "      <td>NL</td>\n",
       "      <td>223.27.112.0</td>\n",
       "      <td>2010-08-24 00:00:00+00:00</td>\n",
       "      <td>assigned</td>\n",
       "    </tr>\n",
       "    <tr>\n",
       "      <th>361821</th>\n",
       "      <td>NL</td>\n",
       "      <td>223.27.114.0</td>\n",
       "      <td>2010-08-24 00:00:00+00:00</td>\n",
       "      <td>assigned</td>\n",
       "    </tr>\n",
       "  </tbody>\n",
       "</table>\n",
       "<p>95192 rows × 4 columns</p>\n",
       "</div>"
      ],
      "text/plain": [
       "       country   raw_resource                      date    status\n",
       "109354      PS    1.178.112.0 2007-11-26 00:00:00+00:00  assigned\n",
       "109355      PS    1.178.128.0 2007-11-26 00:00:00+00:00  assigned\n",
       "109359      PS    1.178.208.0 2010-06-25 00:00:00+00:00  assigned\n",
       "109360      ES    1.178.224.0 2010-06-25 00:00:00+00:00  assigned\n",
       "109363      PS     1.179.40.0 2009-05-18 00:00:00+00:00  assigned\n",
       "...        ...            ...                       ...       ...\n",
       "360912      DE    217.224.0.0 2001-04-04 00:00:00+00:00  assigned\n",
       "361391      NL  220.158.196.0 2015-10-07 00:00:00+00:00  assigned\n",
       "361794      IQ   223.25.120.0 2011-04-11 00:00:00+00:00  assigned\n",
       "361820      NL   223.27.112.0 2010-08-24 00:00:00+00:00  assigned\n",
       "361821      NL   223.27.114.0 2010-08-24 00:00:00+00:00  assigned\n",
       "\n",
       "[95192 rows x 4 columns]"
      ]
     },
     "execution_count": 7,
     "metadata": {},
     "output_type": "execute_result"
    }
   ],
   "source": [
    "df_extended.loc[(df_extended.rir == 'ripencc') & (df_extended.afi == 'ipv4'), ['country', 'raw_resource', 'date', 'status']]"
   ]
  },
  {
   "cell_type": "code",
   "execution_count": 8,
   "id": "7eb16e62-1b67-411e-8995-4b3b278c46e0",
   "metadata": {},
   "outputs": [],
   "source": [
    "lookup = RisWhoisLookupMoreLessSpecific(df_riswhois, visibility_threshold=15)\n",
    "\n",
    "def lookup_filter(row) -> Set[ExpandedRisEntry]:\n",
    "    return lookup[row['raw_resource']]"
   ]
  },
  {
   "cell_type": "code",
   "execution_count": null,
   "id": "859b895f-9090-4a19-b021-2921655b16c4",
   "metadata": {},
   "outputs": [],
   "source": []
  },
  {
   "cell_type": "code",
   "execution_count": 13,
   "id": "2f5206c7-4e34-4a2b-b939-4957cf68b2b2",
   "metadata": {},
   "outputs": [],
   "source": [
    "announcements = df_extended.loc[(df_extended.rir == 'ripencc') & (df_extended.afi == 'ipv4')].sample(1000).apply(lookup_filter, axis=1)"
   ]
  },
  {
   "cell_type": "code",
   "execution_count": 14,
   "id": "34ca56eb-9ed8-4e4f-8927-c9caf91b7863",
   "metadata": {},
   "outputs": [],
   "source": [
    "announced = set(itertools.chain.from_iterable(announcements.to_list()))"
   ]
  },
  {
   "cell_type": "code",
   "execution_count": 15,
   "id": "7df2077a-bd55-4799-a286-caa0bd8590f9",
   "metadata": {},
   "outputs": [
    {
     "data": {
      "text/plain": [
       "975"
      ]
     },
     "execution_count": 15,
     "metadata": {},
     "output_type": "execute_result"
    }
   ],
   "source": [
    "len(announced)"
   ]
  },
  {
   "cell_type": "code",
   "execution_count": 16,
   "id": "0c20896d-1ec4-4ef1-8d91-437e48a2483a",
   "metadata": {},
   "outputs": [
    {
     "data": {
      "text/plain": [
       "167115                {(57145, 91.226.250.0/24, 396.0, 24)}\n",
       "168398                 {(31727, 91.236.26.0/23, 369.0, 23)}\n",
       "153271                                                   {}\n",
       "302682                {(12741, 195.225.68.0/24, 395.0, 24)}\n",
       "353463    {(44539, 212.66.56.0/24, 406.0, 24), (44539, 2...\n",
       "                                ...                        \n",
       "244819                 {(32806, 185.38.32.0/22, 362.0, 22)}\n",
       "119797                 {(44486, 37.44.215.0/24, 369.0, 24)}\n",
       "155247                  {(31608, 84.205.0.0/19, 398.0, 19)}\n",
       "164355                 {(3209, 91.208.193.0/24, 365.0, 24)}\n",
       "129565                 {(60781, 45.154.56.0/24, 386.0, 24)}\n",
       "Length: 1000, dtype: object"
      ]
     },
     "execution_count": 16,
     "metadata": {},
     "output_type": "execute_result"
    }
   ],
   "source": [
    "announcements"
   ]
  },
  {
   "cell_type": "code",
   "execution_count": null,
   "id": "fbfc0c50-895c-44a4-94bf-03bb8cdbbf09",
   "metadata": {},
   "outputs": [],
   "source": []
  }
 ],
 "metadata": {
  "kernelspec": {
   "display_name": "Python 3 (ipykernel)",
   "language": "python",
   "name": "python3"
  },
  "language_info": {
   "codemirror_mode": {
    "name": "ipython",
    "version": 3
   },
   "file_extension": ".py",
   "mimetype": "text/x-python",
   "name": "python",
   "nbconvert_exporter": "python",
   "pygments_lexer": "ipython3",
   "version": "3.13.0"
  }
 },
 "nbformat": 4,
 "nbformat_minor": 5
}
