{
 "cells": [
  {
   "cell_type": "code",
   "execution_count": 1,
   "id": "85fec9fb-3559-4fb8-8d8d-2f328322121a",
   "metadata": {},
   "outputs": [],
   "source": [
    "import aiohttp\n",
    "\n",
    "# Add parent dir to path\n",
    "import os\n",
    "import sys\n",
    "import io\n",
    "\n",
    "sys.path.insert(0,os.environ['PWD'])\n",
    "\n",
    "import netaddr\n",
    "\n",
    "from rpki_analysis.delegated_stats import read_delegated_extended_stats"
   ]
  },
  {
   "cell_type": "code",
   "execution_count": 2,
   "id": "fcfb6c16-04d6-4035-bbc3-b2d73f727573",
   "metadata": {},
   "outputs": [
    {
     "ename": "ClientPayloadError",
     "evalue": "Response payload is not completed",
     "output_type": "error",
     "traceback": [
      "\u001b[0;31m---------------------------------------------------------------------------\u001b[0m",
      "\u001b[0;31mContentLengthError\u001b[0m                        Traceback (most recent call last)",
      "File \u001b[0;32m~/Library/Caches/pypoetry/virtualenvs/rpki-analysis-eyLydR3P-py3.12/lib/python3.12/site-packages/aiohttp/client_proto.py:83\u001b[0m, in \u001b[0;36mResponseHandler.connection_lost\u001b[0;34m(self, exc)\u001b[0m\n\u001b[1;32m     82\u001b[0m \u001b[38;5;28;01mtry\u001b[39;00m:\n\u001b[0;32m---> 83\u001b[0m     uncompleted \u001b[38;5;241m=\u001b[39m \u001b[38;5;28;43mself\u001b[39;49m\u001b[38;5;241;43m.\u001b[39;49m\u001b[43m_parser\u001b[49m\u001b[38;5;241;43m.\u001b[39;49m\u001b[43mfeed_eof\u001b[49m\u001b[43m(\u001b[49m\u001b[43m)\u001b[49m\n\u001b[1;32m     84\u001b[0m \u001b[38;5;28;01mexcept\u001b[39;00m \u001b[38;5;167;01mException\u001b[39;00m \u001b[38;5;28;01mas\u001b[39;00m e:\n",
      "File \u001b[0;32m~/Library/Caches/pypoetry/virtualenvs/rpki-analysis-eyLydR3P-py3.12/lib/python3.12/site-packages/aiohttp/_http_parser.pyx:510\u001b[0m, in \u001b[0;36maiohttp._http_parser.HttpParser.feed_eof\u001b[0;34m()\u001b[0m\n",
      "\u001b[0;31mContentLengthError\u001b[0m: 400, message:\n  Not enough data for satisfy content length header.",
      "\nThe above exception was the direct cause of the following exception:\n",
      "\u001b[0;31mClientPayloadError\u001b[0m                        Traceback (most recent call last)",
      "Cell \u001b[0;32mIn[2], line 3\u001b[0m\n\u001b[1;32m      1\u001b[0m \u001b[38;5;28;01masync\u001b[39;00m \u001b[38;5;28;01mwith\u001b[39;00m aiohttp\u001b[38;5;241m.\u001b[39mClientSession() \u001b[38;5;28;01mas\u001b[39;00m session:\n\u001b[1;32m      2\u001b[0m     \u001b[38;5;28;01masync\u001b[39;00m \u001b[38;5;28;01mwith\u001b[39;00m session\u001b[38;5;241m.\u001b[39mget(\u001b[38;5;124m'\u001b[39m\u001b[38;5;124mhttps://ftp.ripe.net/pub/stats/ripencc/nro-stats/latest/nro-delegated-stats\u001b[39m\u001b[38;5;124m'\u001b[39m) \u001b[38;5;28;01mas\u001b[39;00m resp:\n\u001b[0;32m----> 3\u001b[0m         data \u001b[38;5;241m=\u001b[39m read_delegated_extended_stats(io\u001b[38;5;241m.\u001b[39mStringIO(\u001b[38;5;28;01mawait\u001b[39;00m resp\u001b[38;5;241m.\u001b[39mtext()))\n",
      "File \u001b[0;32m~/Library/Caches/pypoetry/virtualenvs/rpki-analysis-eyLydR3P-py3.12/lib/python3.12/site-packages/aiohttp/client_reqrep.py:1143\u001b[0m, in \u001b[0;36mClientResponse.text\u001b[0;34m(self, encoding, errors)\u001b[0m\n\u001b[1;32m   1141\u001b[0m \u001b[38;5;250m\u001b[39m\u001b[38;5;124;03m\"\"\"Read response payload and decode.\"\"\"\u001b[39;00m\n\u001b[1;32m   1142\u001b[0m \u001b[38;5;28;01mif\u001b[39;00m \u001b[38;5;28mself\u001b[39m\u001b[38;5;241m.\u001b[39m_body \u001b[38;5;129;01mis\u001b[39;00m \u001b[38;5;28;01mNone\u001b[39;00m:\n\u001b[0;32m-> 1143\u001b[0m     \u001b[38;5;28;01mawait\u001b[39;00m \u001b[38;5;28mself\u001b[39m\u001b[38;5;241m.\u001b[39mread()\n\u001b[1;32m   1145\u001b[0m \u001b[38;5;28;01mif\u001b[39;00m encoding \u001b[38;5;129;01mis\u001b[39;00m \u001b[38;5;28;01mNone\u001b[39;00m:\n\u001b[1;32m   1146\u001b[0m     encoding \u001b[38;5;241m=\u001b[39m \u001b[38;5;28mself\u001b[39m\u001b[38;5;241m.\u001b[39mget_encoding()\n",
      "File \u001b[0;32m~/Library/Caches/pypoetry/virtualenvs/rpki-analysis-eyLydR3P-py3.12/lib/python3.12/site-packages/aiohttp/client_reqrep.py:1101\u001b[0m, in \u001b[0;36mClientResponse.read\u001b[0;34m(self)\u001b[0m\n\u001b[1;32m   1099\u001b[0m \u001b[38;5;28;01mif\u001b[39;00m \u001b[38;5;28mself\u001b[39m\u001b[38;5;241m.\u001b[39m_body \u001b[38;5;129;01mis\u001b[39;00m \u001b[38;5;28;01mNone\u001b[39;00m:\n\u001b[1;32m   1100\u001b[0m     \u001b[38;5;28;01mtry\u001b[39;00m:\n\u001b[0;32m-> 1101\u001b[0m         \u001b[38;5;28mself\u001b[39m\u001b[38;5;241m.\u001b[39m_body \u001b[38;5;241m=\u001b[39m \u001b[38;5;28;01mawait\u001b[39;00m \u001b[38;5;28mself\u001b[39m\u001b[38;5;241m.\u001b[39mcontent\u001b[38;5;241m.\u001b[39mread()\n\u001b[1;32m   1102\u001b[0m         \u001b[38;5;28;01mfor\u001b[39;00m trace \u001b[38;5;129;01min\u001b[39;00m \u001b[38;5;28mself\u001b[39m\u001b[38;5;241m.\u001b[39m_traces:\n\u001b[1;32m   1103\u001b[0m             \u001b[38;5;28;01mawait\u001b[39;00m trace\u001b[38;5;241m.\u001b[39msend_response_chunk_received(\n\u001b[1;32m   1104\u001b[0m                 \u001b[38;5;28mself\u001b[39m\u001b[38;5;241m.\u001b[39mmethod, \u001b[38;5;28mself\u001b[39m\u001b[38;5;241m.\u001b[39murl, \u001b[38;5;28mself\u001b[39m\u001b[38;5;241m.\u001b[39m_body\n\u001b[1;32m   1105\u001b[0m             )\n",
      "File \u001b[0;32m~/Library/Caches/pypoetry/virtualenvs/rpki-analysis-eyLydR3P-py3.12/lib/python3.12/site-packages/aiohttp/streams.py:373\u001b[0m, in \u001b[0;36mStreamReader.read\u001b[0;34m(self, n)\u001b[0m\n\u001b[1;32m    371\u001b[0m blocks \u001b[38;5;241m=\u001b[39m []\n\u001b[1;32m    372\u001b[0m \u001b[38;5;28;01mwhile\u001b[39;00m \u001b[38;5;28;01mTrue\u001b[39;00m:\n\u001b[0;32m--> 373\u001b[0m     block \u001b[38;5;241m=\u001b[39m \u001b[38;5;28;01mawait\u001b[39;00m \u001b[38;5;28mself\u001b[39m\u001b[38;5;241m.\u001b[39mreadany()\n\u001b[1;32m    374\u001b[0m     \u001b[38;5;28;01mif\u001b[39;00m \u001b[38;5;129;01mnot\u001b[39;00m block:\n\u001b[1;32m    375\u001b[0m         \u001b[38;5;28;01mbreak\u001b[39;00m\n",
      "File \u001b[0;32m~/Library/Caches/pypoetry/virtualenvs/rpki-analysis-eyLydR3P-py3.12/lib/python3.12/site-packages/aiohttp/streams.py:395\u001b[0m, in \u001b[0;36mStreamReader.readany\u001b[0;34m(self)\u001b[0m\n\u001b[1;32m    391\u001b[0m \u001b[38;5;66;03m# TODO: should be `if` instead of `while`\u001b[39;00m\n\u001b[1;32m    392\u001b[0m \u001b[38;5;66;03m# because waiter maybe triggered on chunk end,\u001b[39;00m\n\u001b[1;32m    393\u001b[0m \u001b[38;5;66;03m# without feeding any data\u001b[39;00m\n\u001b[1;32m    394\u001b[0m \u001b[38;5;28;01mwhile\u001b[39;00m \u001b[38;5;129;01mnot\u001b[39;00m \u001b[38;5;28mself\u001b[39m\u001b[38;5;241m.\u001b[39m_buffer \u001b[38;5;129;01mand\u001b[39;00m \u001b[38;5;129;01mnot\u001b[39;00m \u001b[38;5;28mself\u001b[39m\u001b[38;5;241m.\u001b[39m_eof:\n\u001b[0;32m--> 395\u001b[0m     \u001b[38;5;28;01mawait\u001b[39;00m \u001b[38;5;28mself\u001b[39m\u001b[38;5;241m.\u001b[39m_wait(\u001b[38;5;124m\"\u001b[39m\u001b[38;5;124mreadany\u001b[39m\u001b[38;5;124m\"\u001b[39m)\n\u001b[1;32m    397\u001b[0m \u001b[38;5;28;01mreturn\u001b[39;00m \u001b[38;5;28mself\u001b[39m\u001b[38;5;241m.\u001b[39m_read_nowait(\u001b[38;5;241m-\u001b[39m\u001b[38;5;241m1\u001b[39m)\n",
      "File \u001b[0;32m~/Library/Caches/pypoetry/virtualenvs/rpki-analysis-eyLydR3P-py3.12/lib/python3.12/site-packages/aiohttp/streams.py:302\u001b[0m, in \u001b[0;36mStreamReader._wait\u001b[0;34m(self, func_name)\u001b[0m\n\u001b[1;32m    300\u001b[0m \u001b[38;5;28;01mtry\u001b[39;00m:\n\u001b[1;32m    301\u001b[0m     \u001b[38;5;28;01mwith\u001b[39;00m \u001b[38;5;28mself\u001b[39m\u001b[38;5;241m.\u001b[39m_timer:\n\u001b[0;32m--> 302\u001b[0m         \u001b[38;5;28;01mawait\u001b[39;00m waiter\n\u001b[1;32m    303\u001b[0m \u001b[38;5;28;01mfinally\u001b[39;00m:\n\u001b[1;32m    304\u001b[0m     \u001b[38;5;28mself\u001b[39m\u001b[38;5;241m.\u001b[39m_waiter \u001b[38;5;241m=\u001b[39m \u001b[38;5;28;01mNone\u001b[39;00m\n",
      "\u001b[0;31mClientPayloadError\u001b[0m: Response payload is not completed"
     ]
    }
   ],
   "source": [
    "async with aiohttp.ClientSession() as session:\n",
    "    async with session.get('https://ftp.ripe.net/pub/stats/ripencc/nro-stats/latest/nro-delegated-stats') as resp:\n",
    "        data = read_delegated_extended_stats(io.StringIO(await resp.text()))\n",
    "        "
   ]
  },
  {
   "cell_type": "code",
   "execution_count": null,
   "id": "ee43faca-c77f-4973-ba3d-a6f6019d4c1c",
   "metadata": {},
   "outputs": [],
   "source": [
    "data.dtypes"
   ]
  },
  {
   "cell_type": "code",
   "execution_count": null,
   "id": "0c998446-97a1-4f10-a9e3-7b85cb744ff1",
   "metadata": {},
   "outputs": [],
   "source": [
    "resources_by_uuid = data.loc[data.afi != 'asn'].groupby(['opaque_id']) \\\n",
    "  .agg({'resource': lambda grp: netaddr.IPSet(grp)})"
   ]
  },
  {
   "cell_type": "code",
   "execution_count": null,
   "id": "8a4e5789-1cfa-44b0-a7e7-b26ebb314a1f",
   "metadata": {},
   "outputs": [],
   "source": [
    "resources_by_uuid.resource.apply(lambda x: list(map(str, x.iter_cidrs())))"
   ]
  },
  {
   "cell_type": "code",
   "execution_count": null,
   "id": "bd897c38-bc0a-493b-b176-e65b9e0446b5",
   "metadata": {},
   "outputs": [],
   "source": [
    "resources_by_uuid['ipv4_count'] = resources_by_uuid.resource.apply(lambda res: sum([cidr.size if cidr.version == 4 else 0 for cidr in res.iter_cidrs()]))"
   ]
  },
  {
   "cell_type": "code",
   "execution_count": null,
   "id": "90975756-7bc7-42b1-9bc5-8656b40fc847",
   "metadata": {},
   "outputs": [],
   "source": [
    "resources_by_uuid['ipv4_count'].reset_index().sort_values(['ipv4_count'])"
   ]
  },
  {
   "cell_type": "code",
   "execution_count": null,
   "id": "c2487442-bd56-4291-bdfb-70b4f3bc2f03",
   "metadata": {},
   "outputs": [],
   "source": []
  }
 ],
 "metadata": {
  "kernelspec": {
   "display_name": "Python 3 (ipykernel)",
   "language": "python",
   "name": "python3"
  },
  "language_info": {
   "codemirror_mode": {
    "name": "ipython",
    "version": 3
   },
   "file_extension": ".py",
   "mimetype": "text/x-python",
   "name": "python",
   "nbconvert_exporter": "python",
   "pygments_lexer": "ipython3",
   "version": "3.12.1"
  }
 },
 "nbformat": 4,
 "nbformat_minor": 5
}
