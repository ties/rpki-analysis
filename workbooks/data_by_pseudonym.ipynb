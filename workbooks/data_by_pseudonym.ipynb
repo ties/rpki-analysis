{
 "cells": [
  {
   "cell_type": "code",
   "execution_count": 1,
   "id": "85fec9fb-3559-4fb8-8d8d-2f328322121a",
   "metadata": {},
   "outputs": [],
   "source": [
    "import aiohttp\n",
    "\n",
    "# Add parent dir to path\n",
    "import os,sys\n",
    "import io\n",
    "\n",
    "sys.path.insert(0,os.environ['PWD'])\n",
    "\n",
    "import netaddr\n",
    "\n",
    "from rpki_analysis.delegated_stats import read_delegated_stats"
   ]
  },
  {
   "cell_type": "code",
   "execution_count": 2,
   "id": "fcfb6c16-04d6-4035-bbc3-b2d73f727573",
   "metadata": {},
   "outputs": [],
   "source": [
    "async with aiohttp.ClientSession() as session:\n",
    "    async with session.get('https://ftp.ripe.net/pub/stats/ripencc/nro-stats/latest/nro-delegated-stats') as resp:\n",
    "        data = read_delegated_stats(io.StringIO(await resp.text()))\n",
    "        "
   ]
  },
  {
   "cell_type": "code",
   "execution_count": 3,
   "id": "ee43faca-c77f-4973-ba3d-a6f6019d4c1c",
   "metadata": {},
   "outputs": [
    {
     "data": {
      "text/plain": [
       "rir                        category\n",
       "country                    category\n",
       "afi                        category\n",
       "raw_resource                 object\n",
       "length                        int64\n",
       "date            datetime64[ns, UTC]\n",
       "status                     category\n",
       "opaque_id                    object\n",
       "category                   category\n",
       "resource                     object\n",
       "dtype: object"
      ]
     },
     "execution_count": 3,
     "metadata": {},
     "output_type": "execute_result"
    }
   ],
   "source": [
    "data.dtypes"
   ]
  },
  {
   "cell_type": "code",
   "execution_count": 4,
   "id": "0c998446-97a1-4f10-a9e3-7b85cb744ff1",
   "metadata": {},
   "outputs": [],
   "source": [
    "resources_by_uuid = data.loc[data.afi != 'asn'].groupby(['opaque_id']) \\\n",
    "  .agg({'resource': lambda grp: netaddr.IPSet(grp)})"
   ]
  },
  {
   "cell_type": "code",
   "execution_count": 5,
   "id": "8a4e5789-1cfa-44b0-a7e7-b26ebb314a1f",
   "metadata": {},
   "outputs": [
    {
     "data": {
      "text/plain": [
       "opaque_id\n",
       "00004a29a9bbf62af6b8e5b91b760abc                                        [192.149.81.0/24]\n",
       "000076699efb0f677b8a77052cacd0eb                                        [204.68.168.0/24]\n",
       "0001f0f8-7af5-4144-8069-8bcb938afb99                                     [83.243.24.0/21]\n",
       "0004cc00-194f-4e6b-83fa-430c6b1e25cc                                 [2001:67c:1034::/48]\n",
       "00057f30-ef27-478d-aa11-1e7d2c8bf67c                    [45.153.144.0/22, 2a0f:3d40::/29]\n",
       "                                                              ...                        \n",
       "ffff0239b0911043080384096bee384b                                         [208.68.80.0/22]\n",
       "iana                                    [160.20.241.0/24, 160.20.245.0/24, 192.47.28.0...\n",
       "ietf                                    [0.0.0.0/8, 10.0.0.0/8, 100.64.0.0/10, 127.0.0...\n",
       "lacnic                                  [45.6.236.0/22, 45.68.33.0/24, 45.68.56.0/21, ...\n",
       "ripencc                                 [45.88.224.0/22, 45.145.36.0/22, 46.255.24.0/2...\n",
       "Name: resource, Length: 109286, dtype: object"
      ]
     },
     "execution_count": 5,
     "metadata": {},
     "output_type": "execute_result"
    }
   ],
   "source": [
    "resources_by_uuid.resource.apply(lambda x: list(map(str, x.iter_cidrs())))"
   ]
  },
  {
   "cell_type": "code",
   "execution_count": 6,
   "id": "bd897c38-bc0a-493b-b176-e65b9e0446b5",
   "metadata": {},
   "outputs": [],
   "source": [
    "resources_by_uuid['ipv4_count'] = resources_by_uuid.resource.apply(lambda res: sum([cidr.size if cidr.version == 4 else 0 for cidr in res.iter_cidrs()]))"
   ]
  },
  {
   "cell_type": "code",
   "execution_count": 7,
   "id": "90975756-7bc7-42b1-9bc5-8656b40fc847",
   "metadata": {},
   "outputs": [
    {
     "data": {
      "text/html": [
       "<div>\n",
       "<style scoped>\n",
       "    .dataframe tbody tr th:only-of-type {\n",
       "        vertical-align: middle;\n",
       "    }\n",
       "\n",
       "    .dataframe tbody tr th {\n",
       "        vertical-align: top;\n",
       "    }\n",
       "\n",
       "    .dataframe thead th {\n",
       "        text-align: right;\n",
       "    }\n",
       "</style>\n",
       "<table border=\"1\" class=\"dataframe\">\n",
       "  <thead>\n",
       "    <tr style=\"text-align: right;\">\n",
       "      <th></th>\n",
       "      <th>opaque_id</th>\n",
       "      <th>ipv4_count</th>\n",
       "    </tr>\n",
       "  </thead>\n",
       "  <tbody>\n",
       "    <tr>\n",
       "      <th>53551</th>\n",
       "      <td>96d71713b022d9b63365ab30f8154c9c</td>\n",
       "      <td>0</td>\n",
       "    </tr>\n",
       "    <tr>\n",
       "      <th>47935</th>\n",
       "      <td>81fae7555e311369b0290c7fe7616bd9</td>\n",
       "      <td>0</td>\n",
       "    </tr>\n",
       "    <tr>\n",
       "      <th>91423</th>\n",
       "      <td>bdf1235f-3296-434a-b2e3-6de246ef7ba8</td>\n",
       "      <td>0</td>\n",
       "    </tr>\n",
       "    <tr>\n",
       "      <th>36098</th>\n",
       "      <td>57722611-75ba-4b70-a31a-38537523fe15</td>\n",
       "      <td>0</td>\n",
       "    </tr>\n",
       "    <tr>\n",
       "      <th>91425</th>\n",
       "      <td>bdf4f5c5-24c9-4340-9045-b1100f4bc712</td>\n",
       "      <td>0</td>\n",
       "    </tr>\n",
       "    <tr>\n",
       "      <th>...</th>\n",
       "      <td>...</td>\n",
       "      <td>...</td>\n",
       "    </tr>\n",
       "    <tr>\n",
       "      <th>27969</th>\n",
       "      <td>3a7b40ab58f6de4849b12c87e5806b7c</td>\n",
       "      <td>70056448</td>\n",
       "    </tr>\n",
       "    <tr>\n",
       "      <th>32400</th>\n",
       "      <td>4a8a91b5b89d3f900098ebf73ca0b118</td>\n",
       "      <td>77101824</td>\n",
       "    </tr>\n",
       "    <tr>\n",
       "      <th>101033</th>\n",
       "      <td>e220ed812a4c17f6a76b9b930dae7f50</td>\n",
       "      <td>80084224</td>\n",
       "    </tr>\n",
       "    <tr>\n",
       "      <th>90717</th>\n",
       "      <td>bb474b75b6f23182ffa56daf1cf9ec23</td>\n",
       "      <td>221958912</td>\n",
       "    </tr>\n",
       "    <tr>\n",
       "      <th>109283</th>\n",
       "      <td>ietf</td>\n",
       "      <td>592709632</td>\n",
       "    </tr>\n",
       "  </tbody>\n",
       "</table>\n",
       "<p>109286 rows × 2 columns</p>\n",
       "</div>"
      ],
      "text/plain": [
       "                                   opaque_id  ipv4_count\n",
       "53551       96d71713b022d9b63365ab30f8154c9c           0\n",
       "47935       81fae7555e311369b0290c7fe7616bd9           0\n",
       "91423   bdf1235f-3296-434a-b2e3-6de246ef7ba8           0\n",
       "36098   57722611-75ba-4b70-a31a-38537523fe15           0\n",
       "91425   bdf4f5c5-24c9-4340-9045-b1100f4bc712           0\n",
       "...                                      ...         ...\n",
       "27969       3a7b40ab58f6de4849b12c87e5806b7c    70056448\n",
       "32400       4a8a91b5b89d3f900098ebf73ca0b118    77101824\n",
       "101033      e220ed812a4c17f6a76b9b930dae7f50    80084224\n",
       "90717       bb474b75b6f23182ffa56daf1cf9ec23   221958912\n",
       "109283                                  ietf   592709632\n",
       "\n",
       "[109286 rows x 2 columns]"
      ]
     },
     "execution_count": 7,
     "metadata": {},
     "output_type": "execute_result"
    }
   ],
   "source": [
    "resources_by_uuid['ipv4_count'].reset_index().sort_values(['ipv4_count'])"
   ]
  },
  {
   "cell_type": "code",
   "execution_count": null,
   "id": "c2487442-bd56-4291-bdfb-70b4f3bc2f03",
   "metadata": {},
   "outputs": [],
   "source": []
  }
 ],
 "metadata": {
  "kernelspec": {
   "display_name": "Python 3 (ipykernel)",
   "language": "python",
   "name": "python3"
  },
  "language_info": {
   "codemirror_mode": {
    "name": "ipython",
    "version": 3
   },
   "file_extension": ".py",
   "mimetype": "text/x-python",
   "name": "python",
   "nbconvert_exporter": "python",
   "pygments_lexer": "ipython3",
   "version": "3.12.1"
  }
 },
 "nbformat": 4,
 "nbformat_minor": 5
}
