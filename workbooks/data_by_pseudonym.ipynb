{
 "cells": [
  {
   "cell_type": "code",
   "execution_count": 2,
   "id": "85fec9fb-3559-4fb8-8d8d-2f328322121a",
   "metadata": {},
   "outputs": [],
   "source": [
    "import aiohttp\n",
    "\n",
    "# Add parent dir to path\n",
    "import os,sys\n",
    "import io\n",
    "\n",
    "sys.path.insert(0,os.environ['PWD'])\n",
    "\n",
    "import netaddr\n",
    "\n",
    "from rpki_analysis.delegated_stats import read_delegated_stats"
   ]
  },
  {
   "cell_type": "code",
   "execution_count": 3,
   "id": "fcfb6c16-04d6-4035-bbc3-b2d73f727573",
   "metadata": {},
   "outputs": [],
   "source": [
    "async with aiohttp.ClientSession() as session:\n",
    "    async with session.get('https://ftp.ripe.net/pub/stats/ripencc/nro-stats/20240109/nro-delegated-stats') as resp:\n",
    "        data = read_delegated_stats(io.StringIO(await resp.text()))\n",
    "        "
   ]
  },
  {
   "cell_type": "code",
   "execution_count": 25,
   "id": "ee43faca-c77f-4973-ba3d-a6f6019d4c1c",
   "metadata": {},
   "outputs": [
    {
     "data": {
      "text/plain": [
       "rir                  category\n",
       "country              category\n",
       "afi                  category\n",
       "prefix                 object\n",
       "prefix_size             int64\n",
       "date           datetime64[ns]\n",
       "status               category\n",
       "uuid                   object\n",
       "category             category\n",
       "resource               object\n",
       "dtype: object"
      ]
     },
     "execution_count": 25,
     "metadata": {},
     "output_type": "execute_result"
    }
   ],
   "source": [
    "data.dtypes"
   ]
  },
  {
   "cell_type": "code",
   "execution_count": 32,
   "id": "0c998446-97a1-4f10-a9e3-7b85cb744ff1",
   "metadata": {},
   "outputs": [],
   "source": [
    "resources_by_uuid = data.loc[data.afi != 'asn'].groupby(['uuid']) \\\n",
    "  .agg({'resource': lambda grp: netaddr.IPSet(grp)})"
   ]
  },
  {
   "cell_type": "code",
   "execution_count": 37,
   "id": "8a4e5789-1cfa-44b0-a7e7-b26ebb314a1f",
   "metadata": {},
   "outputs": [
    {
     "data": {
      "text/plain": [
       "uuid\n",
       "00004a29a9bbf62af6b8e5b91b760abc                                        [192.149.81.0/24]\n",
       "000076699efb0f677b8a77052cacd0eb                                        [204.68.168.0/24]\n",
       "0002bdbb-85df-4f43-a83b-3dfe3879b7dd                   [185.119.204.0/22, 2a06:8c00::/29]\n",
       "0003670b-77cd-4f08-949a-e892c9d63fe2                                   [194.117.228.0/23]\n",
       "00038785-5f1a-490a-8a6d-481377eed99b                                    [194.242.55.0/24]\n",
       "                                                              ...                        \n",
       "ffffb4f7-78b5-4c40-b2e0-3727baa46c82                                   [185.226.136.0/22]\n",
       "iana                                    [160.20.241.0/24, 160.20.245.0/24, 192.47.28.0...\n",
       "ietf                                    [0.0.0.0/8, 10.0.0.0/8, 100.64.0.0/10, 127.0.0...\n",
       "lacnic                                  [45.6.236.0/22, 45.68.33.0/24, 45.68.52.0/22, ...\n",
       "ripencc                                 [5.63.16.0/21, 45.10.36.0/22, 45.15.41.0/24, 4...\n",
       "Name: resource, Length: 109105, dtype: object"
      ]
     },
     "execution_count": 37,
     "metadata": {},
     "output_type": "execute_result"
    }
   ],
   "source": [
    "resources_by_uuid.resource.apply(lambda x: list(map(str, x.iter_cidrs())))"
   ]
  },
  {
   "cell_type": "code",
   "execution_count": 44,
   "id": "bd897c38-bc0a-493b-b176-e65b9e0446b5",
   "metadata": {},
   "outputs": [],
   "source": [
    "resources_by_uuid['ipv4_count'] = resources_by_uuid.resource.apply(lambda res: sum([cidr.size if cidr.version == 4 else 0 for cidr in res.iter_cidrs()]))"
   ]
  },
  {
   "cell_type": "code",
   "execution_count": 49,
   "id": "90975756-7bc7-42b1-9bc5-8656b40fc847",
   "metadata": {},
   "outputs": [
    {
     "data": {
      "text/html": [
       "<div>\n",
       "<style scoped>\n",
       "    .dataframe tbody tr th:only-of-type {\n",
       "        vertical-align: middle;\n",
       "    }\n",
       "\n",
       "    .dataframe tbody tr th {\n",
       "        vertical-align: top;\n",
       "    }\n",
       "\n",
       "    .dataframe thead th {\n",
       "        text-align: right;\n",
       "    }\n",
       "</style>\n",
       "<table border=\"1\" class=\"dataframe\">\n",
       "  <thead>\n",
       "    <tr style=\"text-align: right;\">\n",
       "      <th></th>\n",
       "      <th>uuid</th>\n",
       "      <th>ipv4_count</th>\n",
       "    </tr>\n",
       "  </thead>\n",
       "  <tbody>\n",
       "    <tr>\n",
       "      <th>23045</th>\n",
       "      <td>314288</td>\n",
       "      <td>0</td>\n",
       "    </tr>\n",
       "    <tr>\n",
       "      <th>34352</th>\n",
       "      <td>51b1303c2cece01e6b539e51dbd817b1</td>\n",
       "      <td>0</td>\n",
       "    </tr>\n",
       "    <tr>\n",
       "      <th>52887</th>\n",
       "      <td>94a1cd3f-99bc-4635-8d4a-84a4a6fbbe06</td>\n",
       "      <td>0</td>\n",
       "    </tr>\n",
       "    <tr>\n",
       "      <th>12280</th>\n",
       "      <td>215638</td>\n",
       "      <td>0</td>\n",
       "    </tr>\n",
       "    <tr>\n",
       "      <th>69858</th>\n",
       "      <td>A9248A06</td>\n",
       "      <td>0</td>\n",
       "    </tr>\n",
       "    <tr>\n",
       "      <th>...</th>\n",
       "      <td>...</td>\n",
       "      <td>...</td>\n",
       "    </tr>\n",
       "    <tr>\n",
       "      <th>28010</th>\n",
       "      <td>3a7b40ab58f6de4849b12c87e5806b7c</td>\n",
       "      <td>70056448</td>\n",
       "    </tr>\n",
       "    <tr>\n",
       "      <th>32420</th>\n",
       "      <td>4a8a91b5b89d3f900098ebf73ca0b118</td>\n",
       "      <td>77101824</td>\n",
       "    </tr>\n",
       "    <tr>\n",
       "      <th>100909</th>\n",
       "      <td>e220ed812a4c17f6a76b9b930dae7f50</td>\n",
       "      <td>80084224</td>\n",
       "    </tr>\n",
       "    <tr>\n",
       "      <th>90582</th>\n",
       "      <td>bb474b75b6f23182ffa56daf1cf9ec23</td>\n",
       "      <td>221958912</td>\n",
       "    </tr>\n",
       "    <tr>\n",
       "      <th>109102</th>\n",
       "      <td>ietf</td>\n",
       "      <td>592709632</td>\n",
       "    </tr>\n",
       "  </tbody>\n",
       "</table>\n",
       "<p>109105 rows × 2 columns</p>\n",
       "</div>"
      ],
      "text/plain": [
       "                                        uuid  ipv4_count\n",
       "23045                                 314288           0\n",
       "34352       51b1303c2cece01e6b539e51dbd817b1           0\n",
       "52887   94a1cd3f-99bc-4635-8d4a-84a4a6fbbe06           0\n",
       "12280                                 215638           0\n",
       "69858                               A9248A06           0\n",
       "...                                      ...         ...\n",
       "28010       3a7b40ab58f6de4849b12c87e5806b7c    70056448\n",
       "32420       4a8a91b5b89d3f900098ebf73ca0b118    77101824\n",
       "100909      e220ed812a4c17f6a76b9b930dae7f50    80084224\n",
       "90582       bb474b75b6f23182ffa56daf1cf9ec23   221958912\n",
       "109102                                  ietf   592709632\n",
       "\n",
       "[109105 rows x 2 columns]"
      ]
     },
     "execution_count": 49,
     "metadata": {},
     "output_type": "execute_result"
    }
   ],
   "source": [
    "resources_by_uuid['ipv4_count'].reset_index().sort_values(['ipv4_count'])"
   ]
  },
  {
   "cell_type": "code",
   "execution_count": null,
   "id": "c2487442-bd56-4291-bdfb-70b4f3bc2f03",
   "metadata": {},
   "outputs": [],
   "source": []
  }
 ],
 "metadata": {
  "kernelspec": {
   "display_name": "Python 3 (ipykernel)",
   "language": "python",
   "name": "python3"
  },
  "language_info": {
   "codemirror_mode": {
    "name": "ipython",
    "version": 3
   },
   "file_extension": ".py",
   "mimetype": "text/x-python",
   "name": "python",
   "nbconvert_exporter": "python",
   "pygments_lexer": "ipython3",
   "version": "3.12.1"
  }
 },
 "nbformat": 4,
 "nbformat_minor": 5
}
