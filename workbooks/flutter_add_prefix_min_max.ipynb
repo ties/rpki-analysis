{
 "cells": [
  {
   "cell_type": "code",
   "execution_count": 1,
   "id": "81e0e4d7-536c-49b4-9014-f55215bb835a",
   "metadata": {},
   "outputs": [],
   "source": [
    "import polars as pl\n",
    "\n",
    "import netaddr\n",
    "import ipaddress\n",
    "import functools\n",
    "\n",
    "import os.path\n",
    "\n",
    "FLUTTER_PARQUET = os.path.expanduser(\"~/src/ripe/rpki/rpki-flutter/data/*.parquet\")"
   ]
  },
  {
   "cell_type": "code",
   "execution_count": 2,
   "id": "d14bc64b-d118-4af3-9a54-4dc37ca8d7d2",
   "metadata": {},
   "outputs": [],
   "source": [
    "df = pl.read_parquet(FLUTTER_PARQUET).sort('pfx')"
   ]
  },
  {
   "cell_type": "code",
   "execution_count": 3,
   "id": "b6b3c49b-8740-4b1c-bb94-df37c031a235",
   "metadata": {},
   "outputs": [
    {
     "data": {
      "text/html": [
       "<div><style>\n",
       ".dataframe > thead > tr,\n",
       ".dataframe > tbody > tr {\n",
       "  text-align: right;\n",
       "  white-space: pre-wrap;\n",
       "}\n",
       "</style>\n",
       "<small>shape: (67_450_066, 7)</small><table border=\"1\" class=\"dataframe\"><thead><tr><th>type</th><th>vp</th><th>gen_ts</th><th>capture_ts</th><th>asn</th><th>pfx</th><th>maxlen</th></tr><tr><td>str</td><td>str</td><td>i64</td><td>str</td><td>str</td><td>str</td><td>i64</td></tr></thead><tbody><tr><td>&quot;S&quot;</td><td>&quot;rpki-validator.ripe.net&quot;</td><td>1714521188</td><td>&quot;1714521303&quot;</td><td>&quot;AS13335&quot;</td><td>&quot;1.0.0.0/24&quot;</td><td>24</td></tr><tr><td>&quot;S&quot;</td><td>&quot;routinator.labs.lacnic.net&quot;</td><td>null</td><td>&quot;1714521304&quot;</td><td>&quot;AS13335&quot;</td><td>&quot;1.0.0.0/24&quot;</td><td>24</td></tr><tr><td>&quot;S&quot;</td><td>&quot;rpki.bknix.co.th&quot;</td><td>1714520960</td><td>&quot;1714521308&quot;</td><td>&quot;AS13335&quot;</td><td>&quot;1.0.0.0/24&quot;</td><td>24</td></tr><tr><td>&quot;S&quot;</td><td>&quot;routinator.afrinic.net&quot;</td><td>1714521352</td><td>&quot;1714521443&quot;</td><td>&quot;AS13335&quot;</td><td>&quot;1.0.0.0/24&quot;</td><td>24</td></tr><tr><td>&quot;S&quot;</td><td>&quot;rpki-validator.ripe.net&quot;</td><td>1714607585</td><td>&quot;1714607703&quot;</td><td>&quot;AS13335&quot;</td><td>&quot;1.0.0.0/24&quot;</td><td>24</td></tr><tr><td>&hellip;</td><td>&hellip;</td><td>&hellip;</td><td>&hellip;</td><td>&hellip;</td><td>&hellip;</td><td>&hellip;</td></tr><tr><td>&quot;S&quot;</td><td>&quot;routinator.afrinic.net&quot;</td><td>1717026348</td><td>&quot;1717027047&quot;</td><td>&quot;AS7018&quot;</td><td>&quot;99.96.0.0/13&quot;</td><td>13</td></tr><tr><td>&quot;S&quot;</td><td>&quot;routinator.labs.lacnic.net&quot;</td><td>null</td><td>&quot;1717113305&quot;</td><td>&quot;AS7018&quot;</td><td>&quot;99.96.0.0/13&quot;</td><td>13</td></tr><tr><td>&quot;S&quot;</td><td>&quot;rpki-validator.ripe.net&quot;</td><td>1717113230</td><td>&quot;1717113308&quot;</td><td>&quot;AS7018&quot;</td><td>&quot;99.96.0.0/13&quot;</td><td>13</td></tr><tr><td>&quot;S&quot;</td><td>&quot;rpki.bknix.co.th&quot;</td><td>1717112712</td><td>&quot;1717113311&quot;</td><td>&quot;AS7018&quot;</td><td>&quot;99.96.0.0/13&quot;</td><td>13</td></tr><tr><td>&quot;S&quot;</td><td>&quot;routinator.afrinic.net&quot;</td><td>1717113401</td><td>&quot;1717113441&quot;</td><td>&quot;AS7018&quot;</td><td>&quot;99.96.0.0/13&quot;</td><td>13</td></tr></tbody></table></div>"
      ],
      "text/plain": [
       "shape: (67_450_066, 7)\n",
       "┌──────┬────────────────────────────┬────────────┬────────────┬─────────┬──────────────┬────────┐\n",
       "│ type ┆ vp                         ┆ gen_ts     ┆ capture_ts ┆ asn     ┆ pfx          ┆ maxlen │\n",
       "│ ---  ┆ ---                        ┆ ---        ┆ ---        ┆ ---     ┆ ---          ┆ ---    │\n",
       "│ str  ┆ str                        ┆ i64        ┆ str        ┆ str     ┆ str          ┆ i64    │\n",
       "╞══════╪════════════════════════════╪════════════╪════════════╪═════════╪══════════════╪════════╡\n",
       "│ S    ┆ rpki-validator.ripe.net    ┆ 1714521188 ┆ 1714521303 ┆ AS13335 ┆ 1.0.0.0/24   ┆ 24     │\n",
       "│ S    ┆ routinator.labs.lacnic.net ┆ null       ┆ 1714521304 ┆ AS13335 ┆ 1.0.0.0/24   ┆ 24     │\n",
       "│ S    ┆ rpki.bknix.co.th           ┆ 1714520960 ┆ 1714521308 ┆ AS13335 ┆ 1.0.0.0/24   ┆ 24     │\n",
       "│ S    ┆ routinator.afrinic.net     ┆ 1714521352 ┆ 1714521443 ┆ AS13335 ┆ 1.0.0.0/24   ┆ 24     │\n",
       "│ S    ┆ rpki-validator.ripe.net    ┆ 1714607585 ┆ 1714607703 ┆ AS13335 ┆ 1.0.0.0/24   ┆ 24     │\n",
       "│ …    ┆ …                          ┆ …          ┆ …          ┆ …       ┆ …            ┆ …      │\n",
       "│ S    ┆ routinator.afrinic.net     ┆ 1717026348 ┆ 1717027047 ┆ AS7018  ┆ 99.96.0.0/13 ┆ 13     │\n",
       "│ S    ┆ routinator.labs.lacnic.net ┆ null       ┆ 1717113305 ┆ AS7018  ┆ 99.96.0.0/13 ┆ 13     │\n",
       "│ S    ┆ rpki-validator.ripe.net    ┆ 1717113230 ┆ 1717113308 ┆ AS7018  ┆ 99.96.0.0/13 ┆ 13     │\n",
       "│ S    ┆ rpki.bknix.co.th           ┆ 1717112712 ┆ 1717113311 ┆ AS7018  ┆ 99.96.0.0/13 ┆ 13     │\n",
       "│ S    ┆ routinator.afrinic.net     ┆ 1717113401 ┆ 1717113441 ┆ AS7018  ┆ 99.96.0.0/13 ┆ 13     │\n",
       "└──────┴────────────────────────────┴────────────┴────────────┴─────────┴──────────────┴────────┘"
      ]
     },
     "execution_count": 3,
     "metadata": {},
     "output_type": "execute_result"
    }
   ],
   "source": [
    "df"
   ]
  },
  {
   "cell_type": "code",
   "execution_count": 4,
   "id": "038ec43a-c234-4fa1-bf50-7f46ad7668ff",
   "metadata": {},
   "outputs": [],
   "source": [
    "@functools.lru_cache(32*1024)\n",
    "def prefix_first_to_bytes(inp: str) -> bytes:\n",
    "    range = netaddr.IPNetwork(inp)\n",
    "    buf = ipaddress.ip_address(range.first).packed\n",
    "    to_pad = len(buf) - (128//8)\n",
    "\n",
    "    return b'\\x00' * to_pad + buf\n",
    "\n",
    "@functools.lru_cache(32*1024)\n",
    "def prefix_last_to_bytes(inp: str) -> bytes:\n",
    "    range = netaddr.IPNetwork(inp)\n",
    "    buf = ipaddress.ip_address(range.last).packed\n",
    "    to_pad = len(buf) - (128//8)\n",
    "\n",
    "    return b'\\x00' * to_pad + buf\n"
   ]
  },
  {
   "cell_type": "code",
   "execution_count": 5,
   "id": "a4c8d37e-f2f4-435c-8cba-86b06839dd50",
   "metadata": {},
   "outputs": [],
   "source": [
    "df = df.with_columns(\n",
    "    prefix_first=df['pfx'].map_elements(prefix_first_to_bytes, return_dtype=bytes),\n",
    "    prefix_last=df['pfx'].map_elements(prefix_last_to_bytes, return_dtype=bytes),\n",
    ")"
   ]
  },
  {
   "cell_type": "code",
   "execution_count": 6,
   "id": "1f7f7a83-6d6b-4c96-a137-9790288b7763",
   "metadata": {},
   "outputs": [],
   "source": [
    "df.write_parquet(\"rpki-flutter-boundaries.parquet\")"
   ]
  },
  {
   "cell_type": "code",
   "execution_count": null,
   "id": "dabfda62-12d5-4519-ac43-6437427593fc",
   "metadata": {},
   "outputs": [],
   "source": []
  }
 ],
 "metadata": {
  "kernelspec": {
   "display_name": "Python 3 (ipykernel)",
   "language": "python",
   "name": "python3"
  },
  "language_info": {
   "codemirror_mode": {
    "name": "ipython",
    "version": 3
   },
   "file_extension": ".py",
   "mimetype": "text/x-python",
   "name": "python",
   "nbconvert_exporter": "python",
   "pygments_lexer": "ipython3",
   "version": "3.12.7"
  }
 },
 "nbformat": 4,
 "nbformat_minor": 5
}
